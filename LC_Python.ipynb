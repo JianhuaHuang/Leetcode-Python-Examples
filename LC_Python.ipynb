{
 "cells": [
  {
   "cell_type": "markdown",
   "metadata": {},
   "source": [
    "\n",
    "\n",
    "## Summary"
   ]
  },
  {
   "cell_type": "markdown",
   "metadata": {},
   "source": [
    "### Functions"
   ]
  },
  {
   "cell_type": "markdown",
   "metadata": {},
   "source": [
    "+ **`d[v] = d.get(v, 0) + 1`**\n",
    "    + if v is already in the dictionary **`d`**, add 1 to its value. Otherwise, set d[v] to 1. When used in a for loop, it can be used to calculate the frequencies of different **`v`** values. \n",
    "    + `for v in nums: d[v] = d.get(v, 0) + 1`\n",
    "  \n",
    "\n",
    "+ **`dict.fromkey`**\n",
    "    + generate a dictionary using the given keys, and set the value as default.\n",
    "    + `dict.fromkeys((1, 2, 3), 0)  # {1: 0, 2: 0, 3: 0}`\n",
    "        + synonym: `dict([(i, 0) for i in (1, 2, 3)])`\n",
    "        + Note: when values are appended to a dict generated from keys, they will be added to all keys, because the keys all point to the same location. \n",
    "\n",
    "\n",
    "+ **`len(nums) == len(set(nums))`**\n",
    "    + check whether there is any duplicate in the **`nums`** list\n",
    "    + `len([1, 2, 2]) == len(set([1, 2, 2]))  # False`\n",
    "    \n",
    "\n",
    "+ **`len(n) * (len(n) + 1) / 2 - sum(n)`**\n",
    "    + find the missing number in `range(len(n))`\n",
    "    \n",
    "\n",
    "+ **`map(list, zip(*l))`**\n",
    "    + transpose the given list of lists. \n",
    "        + **`*l`** is used to unpack the list of lists\n",
    "        + **`zip`** is used to take one element from each list, and form a list of tuples.\n",
    "        + **`map`** is used to call the given function **`list`** for each tuple, and convert them into list.\n",
    "    + `tuples = zip(*[[1, 2, 3], [4, 5, 6]])  # [(1, 4), (2, 5), (3, 6)]`\n",
    "    + `map(list, tuples)  # [[1, 4], [2, 5], [3, 6]]`\n",
    "        + synonym: `[list(i) for i in tuples]`\n",
    "\n",
    "\n",
    "+ **`next`**\n",
    "    + Find the next value in the list that match the given condition. If nothing found, return None\n",
    "    + `next((n for n in [1, 10, 5] if n > 5), None)  # 10`\n",
    "    \n",
    "\n",
    "+ **`list[:0] = [1], list.insert(0, 1), [1] + list`**\n",
    "\n",
    "\n",
    "+ **`list[(pr-1 if pr > 0 else None):(pl-1 if pl > 0 else None):-1]`**\n",
    "    + This is used to reverse\n",
    "\n"
   ]
  },
  {
   "cell_type": "code",
   "execution_count": 1,
   "metadata": {
    "collapsed": false
   },
   "outputs": [
    {
     "data": {
      "text/plain": [
       "False"
      ]
     },
     "execution_count": 1,
     "metadata": {},
     "output_type": "execute_result"
    }
   ],
   "source": [
    "nums = [1, 6, 7, 5, 10]\n",
    "next((n for n in nums if n > 5), None)\n",
    "next((n for n in [1, 10, 5] if n > 5), None)\n",
    "map(list, zip(*[[1, 2, 3], [4, 5, 6]]))\n",
    "zip(*[[1, 2, 3], [4, 5, 6]])\n",
    "tuples = zip(*[[1, 2, 3], [4, 5, 6]])\n",
    "map(list, tuples)\n",
    "dict([(i, 0) for i in (1, 2, 3)])\n",
    "[list(i) for i in tuples]\n",
    "ss = 'abdc'\n",
    "\n",
    "len([1, 2, 2]) == len(set([1, 2, 2]))"
   ]
  },
  {
   "cell_type": "markdown",
   "metadata": {},
   "source": [
    "### Algorithms"
   ]
  },
  {
   "cell_type": "markdown",
   "metadata": {},
   "source": [
    "+ **Dictionary**\n",
    "+ **Set Operations**\n",
    "+ **List/String Slicing**\n",
    "+ **Sorted List**\n",
    "+ **Recursion (BST)**\n",
    "+ **Bitwise Operations**\n",
    "+ **Two pointers**\n",
    "+ **Math**\n"
   ]
  },
  {
   "cell_type": "markdown",
   "metadata": {
    "collapsed": true
   },
   "source": [
    "## 1. Two Sum"
   ]
  },
  {
   "cell_type": "markdown",
   "metadata": {},
   "source": [
    "Given an array of integers, return indices of the two numbers such that they add up to a specific target.\n",
    "\n",
    "You may assume that each input would have **exactly** one solution, and you may **not** use the same element twice."
   ]
  },
  {
   "cell_type": "markdown",
   "metadata": {},
   "source": [
    "### Method 1: two for loops "
   ]
  },
  {
   "cell_type": "code",
   "execution_count": 2,
   "metadata": {
    "collapsed": false
   },
   "outputs": [
    {
     "data": {
      "text/plain": [
       "[0, 1]"
      ]
     },
     "execution_count": 2,
     "metadata": {},
     "output_type": "execute_result"
    }
   ],
   "source": [
    "class Solution(object):\n",
    "    def twoSum(self, nums, target):\n",
    "        \"\"\"\n",
    "        :type nums: List[int]\n",
    "        :type target: int\n",
    "        :rtype: List[int]\n",
    "        \"\"\"\n",
    "        N = len(nums)\n",
    "        for n1 in range(N-1):\n",
    "            for n2 in range(n1 + 1, N):\n",
    "                if nums[n1] + nums[n2] == target:\n",
    "                    return [n1, n2]\n",
    "nums = [2, 7, 11, 15, 22, 13, 18, 6, 2, 1]\n",
    "target = 9\n",
    "Solution().twoSum(nums, target)"
   ]
  },
  {
   "cell_type": "markdown",
   "metadata": {},
   "source": [
    "### Method 2: dictionary hashing\n",
    "+ for each `value (v)` in the `nums`, search whether the `target - v` is already visited (saved in the dictionary `d`). \n",
    "+ If the `target - v` is already visited, we can return the indexes for `v` and `target - v`. The index for v is just `i`, and the index for `target - v` is already saved in the dictionary, which is `d[target - v]`. \n",
    "+ If the `target - v` is not found, saved the `i, v` values in the dictionary, so that they can be searched for in the next rounds. \n",
    "\n",
    "This method is fast, because we only have one for loop. "
   ]
  },
  {
   "cell_type": "code",
   "execution_count": 3,
   "metadata": {
    "collapsed": false
   },
   "outputs": [
    {
     "data": {
      "text/plain": [
       "[0, 1]"
      ]
     },
     "execution_count": 3,
     "metadata": {},
     "output_type": "execute_result"
    }
   ],
   "source": [
    "class Solution(object):\n",
    "    def twoSum(self, nums, target):\n",
    "        d = {}\n",
    "        for i, v in enumerate(nums):\n",
    "            if target - v in d:\n",
    "                return [d[target - v], i]\n",
    "            d[v] = i\n",
    "nums = [2, 7, 11, 15, 22, 13, 18, 6, 2, 1]\n",
    "target = 9\n",
    "Solution().twoSum(nums, target)      "
   ]
  },
  {
   "cell_type": "markdown",
   "metadata": {},
   "source": [
    "## 461. Hamming Distance\n"
   ]
  },
  {
   "cell_type": "raw",
   "metadata": {},
   "source": [
    "The Hamming distance between two integers is the number of positions at which the corresponding bits are different. Given two integers x and y, calculate the Hamming distance.\n",
    "\n",
    "Input: x = 1, y = 4\n",
    "\n",
    "Output: 2\n",
    "\n",
    "Explanation:\n",
    "1   (0 0 0 1)\n",
    "4   (0 1 0 0)\n",
    "       ?   ?\n",
    "\n",
    "The above arrows point to positions where the corresponding bits are different."
   ]
  },
  {
   "cell_type": "markdown",
   "metadata": {},
   "source": [
    "### Method 1: divide values by 2\n",
    "+ Keep dividing x by 2, and appending the remainder (x%2) to the list, until x is less than 2, then append x to the list. The same operations can be applied to y.\n",
    "+ The different between these two list can be seprated into two parts -- the part overlaps, and the part doesn't overlap. \n",
    "+ For the part that overlaps, we calculate the different as the absolute different between xlist and ylist pair by pair. \n",
    "+ For the part that doesn't overlap, we simply simply sum up the 1s in the longer list. "
   ]
  },
  {
   "cell_type": "code",
   "execution_count": 4,
   "metadata": {
    "collapsed": false,
    "scrolled": true
   },
   "outputs": [
    {
     "name": "stdout",
     "output_type": "stream",
     "text": [
      "3\n",
      "2\n"
     ]
    }
   ],
   "source": [
    "class Solution(object):\n",
    "    def hammingDistance(self, x, y):\n",
    "        \"\"\"\n",
    "        :type x: int\n",
    "        :type y: int\n",
    "        :rtype: int\n",
    "        \"\"\"\n",
    "        xlist = []\n",
    "        ylist = []\n",
    "        \n",
    "        while x >= 2:\n",
    "            xlist.append(x%2)\n",
    "            x = x/2\n",
    "        xlist.append(x)\n",
    "        \n",
    "        while y >= 2:\n",
    "            ylist.append(y%2)\n",
    "            y = y/2\n",
    "        ylist.append(y)\n",
    "        \n",
    "        xlen = len(xlist)\n",
    "        ylen = len(ylist)\n",
    "        \n",
    "        dif1 = sum([abs(xlist[i] - ylist[i]) for i in range(min(xlen, ylen))])\n",
    "        dif2 = 0\n",
    "        if xlen > ylen:\n",
    "            dif2 = sum(xlist[ylen:xlen])\n",
    "        if ylen > xlen:\n",
    "            dif2 = sum(ylist[xlen:ylen])\n",
    "        dif = dif1 + dif2\n",
    "        return dif\n",
    "print Solution().hammingDistance(0, 7)\n",
    "print Solution().hammingDistance(8, 4)"
   ]
  },
  {
   "cell_type": "markdown",
   "metadata": {},
   "source": [
    "### Method 2: bit operation\n",
    "**x << y**: \n",
    "\n",
    "Returns x with the bits shifted to the left by y places (and new bits on the right-hand-side are zeros). This is the same as multiplying x by 2**y.\n",
    "\n",
    "**x >> y**: \n",
    "\n",
    "Returns x with the bits shifted to the right by y places. This is the same as //'ing x by 2**y.\n",
    "\n",
    "**x & y:** \n",
    "    \n",
    "Does a \"bitwise and\". Each bit of the output is 1 if the corresponding bit of x AND of y is 1, otherwise it's 0.\n",
    "\n",
    "**x | y**: \n",
    "\n",
    "Does a \"bitwise or\". Each bit of the output is 0 if the corresponding bit of x AND of y is 0, otherwise it's 1.\n",
    "\n",
    "**~ x**: \n",
    "    \n",
    "Returns the complement of x - the number you get by switching each 1 for a 0 and each 0 for a 1. This is the same as -x - 1.\n",
    "\n",
    "**x ^ y**: \n",
    "    \n",
    "Does a \"bitwise exclusive or\". Each bit of the output is the same as the corresponding bit in x if that bit in y is 0, and it's the complement of the bit in x if that bit in y is 1. In order words, if and only if there is only one value is TRUE (1), then the bit value is TRUE (1). Otherwise, it is FALSE (0). "
   ]
  },
  {
   "cell_type": "code",
   "execution_count": 5,
   "metadata": {
    "collapsed": false
   },
   "outputs": [],
   "source": [
    "a = 60            # 60 = 0011 1100 \n",
    "b = 13            # 13 = 0000 1101 \n",
    "\n",
    "c = a & b;        # 12 = 0000 1100\n",
    "c = a | b;        # 61 = 0011 1101 \n",
    "c = a ^ b;        # 49 = 0011 0001\n",
    "c = ~a;           # -61 = 1100 0011\n",
    "c = a << 2;       # 240 = 1111 0000\n",
    "c = a >> 2;       # 15 = 0000 1111"
   ]
  },
  {
   "cell_type": "code",
   "execution_count": 6,
   "metadata": {
    "collapsed": false
   },
   "outputs": [
    {
     "name": "stdout",
     "output_type": "stream",
     "text": [
      "3\n",
      "2\n"
     ]
    }
   ],
   "source": [
    "class Solution(object):\n",
    "    def hammingDistance(self, x, y):\n",
    "        x = x^y  # reusing the variable will save some time\n",
    "        y = 0\n",
    "        while x >= 2:\n",
    "            y = y + x%2\n",
    "            x = x/2\n",
    "        return y + x\n",
    "print Solution().hammingDistance(0, 7)\n",
    "print Solution().hammingDistance(8, 4)"
   ]
  },
  {
   "cell_type": "markdown",
   "metadata": {},
   "source": [
    "### Method 3: bit and bin\n",
    "The `bin` function returns the binary representation of an integer or long integer as a string starting with `0b`. "
   ]
  },
  {
   "cell_type": "code",
   "execution_count": 7,
   "metadata": {
    "collapsed": false
   },
   "outputs": [
    {
     "data": {
      "text/plain": [
       "'0b1000'"
      ]
     },
     "execution_count": 7,
     "metadata": {},
     "output_type": "execute_result"
    }
   ],
   "source": [
    "bin(8)"
   ]
  },
  {
   "cell_type": "code",
   "execution_count": 8,
   "metadata": {
    "collapsed": false
   },
   "outputs": [
    {
     "name": "stdout",
     "output_type": "stream",
     "text": [
      "3\n",
      "2\n"
     ]
    }
   ],
   "source": [
    "class Solution(object):\n",
    "    def hammingDistance(self, x, y):\n",
    "        return bin(x^y).count('1')\n",
    "print Solution().hammingDistance(0, 7)\n",
    "print Solution().hammingDistance(8, 4)"
   ]
  },
  {
   "cell_type": "markdown",
   "metadata": {},
   "source": [
    "## 561. Array Partition I"
   ]
  },
  {
   "cell_type": "markdown",
   "metadata": {},
   "source": [
    "In order to maximize the output, the paired numbers within one tuple should be close to each other, so that when we choose the minimum number in the tuple, we can get the maximum values.\n",
    "\n",
    "### Method 1: enumerate()\n",
    "+ sort the `nums` first, so that the paired values are close to each other\n",
    "+ get the minimal value from each pair, which are the values with index as 0, 2, 4, 6, ... (Python indexes starts from 0)"
   ]
  },
  {
   "cell_type": "code",
   "execution_count": 9,
   "metadata": {
    "collapsed": false
   },
   "outputs": [
    {
     "data": {
      "text/plain": [
       "4"
      ]
     },
     "execution_count": 9,
     "metadata": {},
     "output_type": "execute_result"
    }
   ],
   "source": [
    "class Solution(object):\n",
    "    def arrayPairSum(self, nums):\n",
    "        \"\"\"\n",
    "        :type nums: List[int]\n",
    "        :rtype: int\n",
    "        \"\"\"\n",
    "        nums.sort()  # It will change the nums directly, but return nothing\n",
    "        return sum([v for i, v in enumerate(nums) if i%2==0])\n",
    "nums = [1, 4, 3, 2]\n",
    "Solution().arrayPairSum(nums)"
   ]
  },
  {
   "cell_type": "markdown",
   "metadata": {},
   "source": [
    "\n",
    "### Method 2: Built-in indexing function (::2)\n",
    "The logic is the same as Method 1, but using the built in index function to extract the every other values in a list\n",
    "\n",
    "\n"
   ]
  },
  {
   "cell_type": "code",
   "execution_count": 10,
   "metadata": {
    "collapsed": false
   },
   "outputs": [
    {
     "data": {
      "text/plain": [
       "4"
      ]
     },
     "execution_count": 10,
     "metadata": {},
     "output_type": "execute_result"
    }
   ],
   "source": [
    "class Solution(object):\n",
    "    def arrayPairSum(self, nums):\n",
    "        return sum(sorted(nums)[::2])  # This function will not change nums, but return a sorted list\n",
    "Solution().arrayPairSum(nums)"
   ]
  },
  {
   "cell_type": "markdown",
   "metadata": {},
   "source": [
    "### Note\n",
    "+ nums.sort() will change the `nums` directly, but it will not return anything. So we can't use the `nums.sort()` in the next step. Instead, we need to use `nums`, because it is already update.\n",
    "+ sorted(nums) will not change the `nums`. Instead, it will return a sorted list, which can be used in the next step directly. "
   ]
  },
  {
   "cell_type": "markdown",
   "metadata": {},
   "source": [
    "## 476. Number Complement"
   ]
  },
  {
   "cell_type": "raw",
   "metadata": {},
   "source": [
    "Given a positive integer, output its complement number. The complement strategy is to flip the bits of its binary representation.\n",
    "\n",
    "Note:\n",
    "The given integer is guaranteed to fit within the range of a 32-bit signed integer.\n",
    "You could assume no leading zero bit in the integer’s binary representation.\n",
    "\n",
    "Example 1:\n",
    "Input: 5\n",
    "Output: 2\n",
    "Explanation: The binary representation of 5 is 101 (no leading zero bits), and its complement is 010. So you need to output 2.\n",
    "\n",
    "Example 2:\n",
    "Input: 1\n",
    "Output: 0\n",
    "Explanation: The binary representation of 1 is 1 (no leading zero bits), and its complement is 0. So you need to output 0."
   ]
  },
  {
   "cell_type": "markdown",
   "metadata": {},
   "source": [
    "### Method 1: swap 0/1\n",
    "The idea is to swap 0 and 1 after removing the leading `0b`"
   ]
  },
  {
   "cell_type": "code",
   "execution_count": 11,
   "metadata": {
    "collapsed": false
   },
   "outputs": [
    {
     "name": "stdout",
     "output_type": "stream",
     "text": [
      "2\n",
      "0\n"
     ]
    }
   ],
   "source": [
    "class Solution(object):\n",
    "    def findComplement(self, num):\n",
    "        \"\"\"\n",
    "        :type num: int\n",
    "        :rtype: int\n",
    "        \"\"\"\n",
    "        return int(bin(num).replace('0b', '').replace('0', '9').replace('1', '0').replace('9', '1'), 2)\n",
    "print Solution().findComplement(5)\n",
    "print Solution().findComplement(1)"
   ]
  },
  {
   "cell_type": "markdown",
   "metadata": {},
   "source": [
    "### Method 2: bitwise xor operation\n",
    "The idea is to construct a number `x` with 1s, the length of which is the same as the given `num`. Then use the bitwise xor operation to get the output. For example:\n",
    "+ `num = 5 (101)`\n",
    "+ `x = 7 (111)`\n",
    "+ `num ^ x = 2 (10)`"
   ]
  },
  {
   "cell_type": "code",
   "execution_count": 12,
   "metadata": {
    "collapsed": false
   },
   "outputs": [
    {
     "name": "stdout",
     "output_type": "stream",
     "text": [
      "2\n",
      "0\n"
     ]
    }
   ],
   "source": [
    "class Solution(object):\n",
    "    def findComplement(self, num):\n",
    "        return num^int('1' * (len(bin(num)) - 2), 2)  # -2 is to exclude 0b\n",
    "print Solution().findComplement(5)\n",
    "print Solution().findComplement(1)"
   ]
  },
  {
   "cell_type": "markdown",
   "metadata": {
    "collapsed": true
   },
   "source": [
    "## 500. Keyboard Row"
   ]
  },
  {
   "cell_type": "raw",
   "metadata": {
    "collapsed": true
   },
   "source": [
    "Given a List of words, return the words that can be typed using letters of alphabet on only one row's of American keyboard like the image below.\n",
    "\n",
    "Example 1:\n",
    "Input: [\"Hello\", \"Alaska\", \"Dad\", \"Peace\"]\n",
    "Output: [\"Alaska\", \"Dad\"]\n",
    "\n",
    "Note:\n",
    "You may use one character in the keyboard more than once.\n",
    "You may assume the input string will only contain letters of alphabet."
   ]
  },
  {
   "cell_type": "markdown",
   "metadata": {
    "collapsed": true
   },
   "source": [
    "### Method 1: append\n",
    "Keep appending qualified words to a new list"
   ]
  },
  {
   "cell_type": "code",
   "execution_count": 13,
   "metadata": {
    "collapsed": false
   },
   "outputs": [
    {
     "name": "stdout",
     "output_type": "stream",
     "text": [
      "['a']\n",
      "['Alaska', 'Dad']\n"
     ]
    }
   ],
   "source": [
    "class Solution(object):\n",
    "    def findWords(self, words):\n",
    "        \"\"\"\n",
    "        :type words: List[str]\n",
    "        :rtype: List[str]\n",
    "        \"\"\"\n",
    "        r1 = set('qwertyuiop')\n",
    "        r2 = set('asdfghjkl')\n",
    "        r3 = set('zxcvbnm')\n",
    "        output = []\n",
    "        for word in words:\n",
    "            chars = set(word.lower())\n",
    "            if not all([chars - r1, chars - r2, chars - r3]):\n",
    "                output.append(word)\n",
    "        return output\n",
    "words = [\"abdfs\",\"cccd\",\"a\",\"qwwewm\"]\n",
    "print Solution().findWords(words)\n",
    "words = [\"Hello\", \"Alaska\", \"Dad\", \"Peace\"]\n",
    "print Solution().findWords(words)"
   ]
  },
  {
   "cell_type": "markdown",
   "metadata": {
    "collapsed": true
   },
   "source": [
    "### Method 2: remove\n",
    "Keep removing unqualified words from the list with all words. "
   ]
  },
  {
   "cell_type": "code",
   "execution_count": 14,
   "metadata": {
    "collapsed": false
   },
   "outputs": [
    {
     "name": "stdout",
     "output_type": "stream",
     "text": [
      "['a']\n",
      "['Alaska', 'Dad']\n"
     ]
    }
   ],
   "source": [
    "class Solution(object):\n",
    "    def findWords(self, words):\n",
    "        r1 = set('qwertyuiop')\n",
    "        r2 = set('asdfghjkl')\n",
    "        r3 = set('zxcvbnm')\n",
    "        words2 = words[:]\n",
    "        for word in words:\n",
    "            chars = set(word.lower())\n",
    "            if all([chars - r1, chars - r2, chars - r3]):\n",
    "                words2.remove(word)\n",
    "        return words2\n",
    "words = [\"abdfs\",\"cccd\",\"a\",\"qwwewm\"]\n",
    "print Solution().findWords(words)\n",
    "words = [\"Hello\", \"Alaska\", \"Dad\", \"Peace\"]\n",
    "print Solution().findWords(words)"
   ]
  },
  {
   "cell_type": "markdown",
   "metadata": {},
   "source": [
    "### Note\n",
    "**It is very dangerous to operate (e.g., append/remove) on the iterated variable (words) directly**, because the variable will be updated, which results in unexpected behavior. For example, the following code will kill your computer directly, becuase new elements are appended to words continuously. The for loop will never end:"
   ]
  },
  {
   "cell_type": "raw",
   "metadata": {},
   "source": [
    "words = [\"abdfs\",\"cccd\",\"a\",\"qwwewm\"]\n",
    "for word in words:\n",
    "    words.append(word + 'aa')"
   ]
  },
  {
   "cell_type": "markdown",
   "metadata": {},
   "source": [
    "In this example, if we remove elements from words directly, we may skip some of the words"
   ]
  },
  {
   "cell_type": "code",
   "execution_count": 15,
   "metadata": {
    "collapsed": false
   },
   "outputs": [
    {
     "name": "stdout",
     "output_type": "stream",
     "text": [
      "\n",
      "word:  abdfs\n",
      "left words:  ['cccd', 'a', 'qwwewm']\n",
      "\n",
      "word:  a\n",
      "left words:  ['cccd', 'a', 'qwwewm']\n",
      "\n",
      "word:  qwwewm\n",
      "left words:  ['cccd', 'a']\n"
     ]
    }
   ],
   "source": [
    "class Solution(object):\n",
    "    def findWords(self, words):\n",
    "        r1 = set('qwertyuiop')\n",
    "        r2 = set('asdfghjkl')\n",
    "        r3 = set('zxcvbnm')\n",
    "        for word in words:\n",
    "            chars = set(word.lower())\n",
    "            print '\\nword: ', word\n",
    "            if all([chars - r1, chars - r2, chars - r3]):\n",
    "                words.remove(word)\n",
    "            print 'left words: ', words\n",
    "words = [\"abdfs\",\"cccd\",\"a\",\"qwwewm\"]\n",
    "Solution().findWords(words)"
   ]
  },
  {
   "cell_type": "markdown",
   "metadata": {},
   "source": [
    "In the for loop, the program goes over all indexes one by one. After executing on index 0 (\"abdfs\"), it moves to index 1. Because \"abdfs\" is removed, all words will move one position to the left. Thus, the index 1 points to \"a\". As a result, the word 'cccd' is skipped."
   ]
  },
  {
   "cell_type": "markdown",
   "metadata": {},
   "source": [
    "## 557. Reverse Words in a String III"
   ]
  },
  {
   "cell_type": "raw",
   "metadata": {},
   "source": [
    "Given a string, you need to reverse the order of characters in each word within a sentence while still preserving whitespace and initial word order.\n",
    "\n",
    "Example 1:\n",
    "Input: \"Let's take LeetCode contest\"\n",
    "Output: \"s'teL ekat edoCteeL tsetnoc\"\n",
    "\n",
    "Note: In the string, each word is separated by single space and there will not be any extra space in the string."
   ]
  },
  {
   "cell_type": "markdown",
   "metadata": {},
   "source": [
    "### Method 1: for loop\n",
    "This method reuses the words variable. Thus it can be a little faster than appending to a new list."
   ]
  },
  {
   "cell_type": "code",
   "execution_count": 16,
   "metadata": {
    "collapsed": false
   },
   "outputs": [
    {
     "data": {
      "text/plain": [
       "\"s'teL ekat edoCteeL tsetnoc\""
      ]
     },
     "execution_count": 16,
     "metadata": {},
     "output_type": "execute_result"
    }
   ],
   "source": [
    "class Solution(object):\n",
    "    def reverseWords(self, s):\n",
    "        \"\"\"\n",
    "        :type s: str\n",
    "        :rtype: str\n",
    "        \"\"\"\n",
    "        words = s.split()\n",
    "        for i, v in enumerate(words):\n",
    "            words[i] = v[::-1]\n",
    "        return ' '.join(words)\n",
    "s = \"Let's take LeetCode contest\"\n",
    "Solution().reverseWords(s)"
   ]
  },
  {
   "cell_type": "markdown",
   "metadata": {},
   "source": [
    "We can also simplify the for loop in a pythonic way"
   ]
  },
  {
   "cell_type": "code",
   "execution_count": 17,
   "metadata": {
    "collapsed": false
   },
   "outputs": [
    {
     "data": {
      "text/plain": [
       "\"s'teL ekat edoCteeL tsetnoc\""
      ]
     },
     "execution_count": 17,
     "metadata": {},
     "output_type": "execute_result"
    }
   ],
   "source": [
    "class Solution(object):\n",
    "    def reverseWords(self, s):\n",
    "        return ' '.join([v[::-1] for v in s.split()])\n",
    "s = \"Let's take LeetCode contest\"\n",
    "Solution().reverseWords(s)"
   ]
  },
  {
   "cell_type": "markdown",
   "metadata": {},
   "source": [
    "### Method 2: two reverses\n",
    "This method is smart by using two reverses to avoid the for loop. Thus it is even faster. There are also two ways to combine the two reverses:\n",
    "\n",
    "**Solution 1**:\n",
    "+ split the string (s) into words\n",
    "+ reverse the words\n",
    "+ combine the words into another string s2\n",
    "+ reverse s2\n",
    "\n",
    "**Solution 2**:\n",
    "+ reverse the string (s) into s2\n",
    "+ split s2 into words\n",
    "+ reverse the words\n",
    "+ combine words into a string\n"
   ]
  },
  {
   "cell_type": "code",
   "execution_count": 18,
   "metadata": {
    "collapsed": false
   },
   "outputs": [
    {
     "data": {
      "text/plain": [
       "\"s'teL ekat edoCteeL tsetnoc\""
      ]
     },
     "execution_count": 18,
     "metadata": {},
     "output_type": "execute_result"
    }
   ],
   "source": [
    "class Solution(object):\n",
    "    def reverseWords(self, s):\n",
    "        return ' '.join(s.split()[::-1])[::-1]  # solution 1\n",
    "        # return ' '.join(s[::-1].split()[::-1])  # solution 2\n",
    "\n",
    "s = \"Let's take LeetCode contest\"\n",
    "Solution().reverseWords(s)"
   ]
  },
  {
   "cell_type": "markdown",
   "metadata": {},
   "source": [
    "## 575. Distribute Candies\n"
   ]
  },
  {
   "cell_type": "raw",
   "metadata": {},
   "source": [
    "Given an integer array with even length, where different numbers in this array represent different kinds of candies. Each number means one candy of the corresponding kind. You need to distribute these candies equally in number to brother and sister. Return the maximum number of kinds of candies the sister could gain.\n",
    "\n",
    "Example 1:\n",
    "Input: candies = [1,1,2,2,3,3]\n",
    "Output: 3\n",
    "Explanation:\n",
    "There are three different kinds of candies (1, 2 and 3), and two candies for each kind.\n",
    "Optimal distribution: The sister has candies [1,2,3] and the brother has candies [1,2,3], too. \n",
    "The sister has three different kinds of candies. \n",
    "\n",
    "Example 2:\n",
    "Input: candies = [1,1,2,3]\n",
    "Output: 2\n",
    "Explanation: For example, the sister has candies [2,3] and the brother has candies [1,1]. \n",
    "The sister has two different kinds of candies, the brother has only one kind of candies.\n",
    "\n",
    "Note:\n",
    "The length of the given array is in range [2, 10,000], and will be even.\n",
    "The number in given array is in range [-100,000, 100,000]."
   ]
  },
  {
   "cell_type": "markdown",
   "metadata": {},
   "source": [
    "### Method 1: len of list and set\n",
    "This problem is pretty simple. a kid can get at most half of the candies, thus the maximum kinds of candies should be less than `len(candies)/2`. The kinds of candies a kid can get is also limited by kinds of candies available, which is `set(candies)`. "
   ]
  },
  {
   "cell_type": "code",
   "execution_count": 19,
   "metadata": {
    "collapsed": false
   },
   "outputs": [
    {
     "name": "stdout",
     "output_type": "stream",
     "text": [
      "3\n",
      "2\n"
     ]
    }
   ],
   "source": [
    "class Solution(object):\n",
    "    def distributeCandies(self, candies):\n",
    "        \"\"\"\n",
    "        :type candies: List[int]\n",
    "        :rtype: int\n",
    "        \"\"\"\n",
    "        return min(len(candies) / 2, len(set(candies)))\n",
    "candies = [1,1,2,2,3,3]\n",
    "print Solution().distributeCandies(candies)\n",
    "candies = [1,1,2,3]\n",
    "print Solution().distributeCandies(candies)"
   ]
  },
  {
   "cell_type": "markdown",
   "metadata": {
    "collapsed": true
   },
   "source": [
    "## 344. Reverse String"
   ]
  },
  {
   "cell_type": "raw",
   "metadata": {},
   "source": [
    "Write a function that takes a string as input and returns the string reversed.\n",
    "\n",
    "Example:\n",
    "Given s = \"hello\", return \"olleh\"."
   ]
  },
  {
   "cell_type": "markdown",
   "metadata": {},
   "source": [
    "### Method 1\n",
    "This problem is very simple, just use the [::-1] method"
   ]
  },
  {
   "cell_type": "code",
   "execution_count": 20,
   "metadata": {
    "collapsed": false
   },
   "outputs": [
    {
     "data": {
      "text/plain": [
       "'olleh'"
      ]
     },
     "execution_count": 20,
     "metadata": {},
     "output_type": "execute_result"
    }
   ],
   "source": [
    "class Solution(object):\n",
    "    def reverseString(self, s):\n",
    "        \"\"\"\n",
    "        :type s: str\n",
    "        :rtype: str\n",
    "        \"\"\"\n",
    "        return s[::-1]\n",
    "s = 'hello'\n",
    "Solution().reverseString(s)"
   ]
  },
  {
   "cell_type": "markdown",
   "metadata": {},
   "source": [
    "## 412. Fizz Buzz"
   ]
  },
  {
   "cell_type": "markdown",
   "metadata": {},
   "source": [
    "### Method 1: conditional replacement\n",
    "Just find the numbers that are divisible by 15, 3, and 5, and replace them with 'FizzBuzz', 'Fizz', and 'Buzz' respectively. For other numbers, change them to string. It is important to replace the numbers that are divisible by 15 first. Otherwise, they will be replaced by 'Fizz' or 'Buzz', because any number that are divisible by 15 is also divisible by 3 and 5. "
   ]
  },
  {
   "cell_type": "raw",
   "metadata": {},
   "source": [
    "Write a program that outputs the string representation of numbers from 1 to n.\n",
    "\n",
    "But for multiples of three it should output “Fizz” instead of the number and for the multiples of five output “Buzz”. For numbers which are multiples of both three and five output “FizzBuzz”.\n",
    "\n",
    "Example:\n",
    "\n",
    "n = 15,\n",
    "\n",
    "Return:\n",
    "[\n",
    "    \"1\",\n",
    "    \"2\",\n",
    "    \"Fizz\",\n",
    "    \"4\",\n",
    "    \"Buzz\",\n",
    "    \"Fizz\",\n",
    "    \"7\",\n",
    "    \"8\",\n",
    "    \"Fizz\",\n",
    "    \"Buzz\",\n",
    "    \"11\",\n",
    "    \"Fizz\",\n",
    "    \"13\",\n",
    "    \"14\",\n",
    "    \"FizzBuzz\"\n",
    "]"
   ]
  },
  {
   "cell_type": "code",
   "execution_count": 21,
   "metadata": {
    "collapsed": false
   },
   "outputs": [
    {
     "data": {
      "text/plain": [
       "['1',\n",
       " '2',\n",
       " 'Fizz',\n",
       " '4',\n",
       " 'Buzz',\n",
       " 'Fizz',\n",
       " '7',\n",
       " '8',\n",
       " 'Fizz',\n",
       " 'Buzz',\n",
       " '11',\n",
       " 'Fizz',\n",
       " '13',\n",
       " '14',\n",
       " 'FizzBuzz']"
      ]
     },
     "execution_count": 21,
     "metadata": {},
     "output_type": "execute_result"
    }
   ],
   "source": [
    "class Solution(object):\n",
    "    def fizzBuzz(self, n):\n",
    "        \"\"\"\n",
    "        :type n: int\n",
    "        :rtype: List[str]\n",
    "        \"\"\"\n",
    "        n = list(range(1, n+1))\n",
    "        for i in n:\n",
    "            if i%15 == 0:\n",
    "                n[i-1] = 'FizzBuzz'\n",
    "            elif i%3 == 0:\n",
    "                n[i-1] = 'Fizz'\n",
    "            elif i%5 == 0:\n",
    "                n[i-1] = 'Buzz'\n",
    "            else:\n",
    "                n[i-1] = str(i)\n",
    "        return n\n",
    "Solution().fizzBuzz(15)"
   ]
  },
  {
   "cell_type": "markdown",
   "metadata": {},
   "source": [
    "### Method 2: arithmetic operation of string\n",
    "This method is very smart by using the arithmetic operation of strings. \n",
    "+ If the number is divisiable by 3, multiply 'Fizz' with 1 (output 'Fizz'). Otherwise, multiply it with 0 (output '')\n",
    "+ If the number is divisiable by 5, multiply 'Buzz' with 1 (output 'Buzz'). Otherwise, multiply it with 0 (output '')\n",
    "+ If the number is divisiable by 15, plus 'Fizz' with 'Buzz' (output 'FizzBuzz').\n",
    "+ if none of the above is true, return `'' or str(i)`, which will output `str(i)`. This is a very interesting use of the `or` function. \n",
    "\n",
    "In Python, any object can be tested for truth value. The following values are considered false:\n",
    "+ None\n",
    "+ False\n",
    "+ zero of any numeric type, for example, 0, 0L, 0.0, 0j.\n",
    "+ any empty sequence, for example, '', (), [].\n",
    "+ any empty mapping, for example, {}.\n",
    "+ instances of user-defined classes, if the class defines a \\__nonzero_\\_() or \\__len_\\_() method, when that method returns the integer zero or bool value False.\n",
    "\n",
    "All other values are considered true -- so objects of many types are always true.\n"
   ]
  },
  {
   "cell_type": "code",
   "execution_count": 22,
   "metadata": {
    "collapsed": false
   },
   "outputs": [
    {
     "name": "stdout",
     "output_type": "stream",
     "text": [
      "string\n",
      "1\n",
      "[1]\n",
      "(1,)\n",
      "set([1])\n",
      "{'1': 1}\n"
     ]
    }
   ],
   "source": [
    "# The following statements will return the first True value\n",
    "print '' or 'string'\n",
    "print 0 or 1 or 2\n",
    "print [] or [1]\n",
    "print () or (1, )\n",
    "print {} or {1}\n",
    "print {} or {'1':1}"
   ]
  },
  {
   "cell_type": "code",
   "execution_count": 23,
   "metadata": {
    "collapsed": false
   },
   "outputs": [
    {
     "data": {
      "text/plain": [
       "['1',\n",
       " '2',\n",
       " 'Fizz',\n",
       " '4',\n",
       " 'Buzz',\n",
       " 'Fizz',\n",
       " '7',\n",
       " '8',\n",
       " 'Fizz',\n",
       " 'Buzz',\n",
       " '11',\n",
       " 'Fizz',\n",
       " '13',\n",
       " '14',\n",
       " 'FizzBuzz']"
      ]
     },
     "execution_count": 23,
     "metadata": {},
     "output_type": "execute_result"
    }
   ],
   "source": [
    "# reference: https://discuss.leetcode.com/topic/63876/python-golf\n",
    "class Solution(object):\n",
    "    def fizzBuzz(self, n):\n",
    "        return ['Fizz' * (not i % 3) + 'Buzz' * (not i % 5) or str(i) for i in range(1, n+1)]\n",
    "Solution().fizzBuzz(15)\n"
   ]
  },
  {
   "cell_type": "markdown",
   "metadata": {},
   "source": [
    "## 463. Island Perimeter"
   ]
  },
  {
   "cell_type": "raw",
   "metadata": {},
   "source": [
    "You are given a map in form of a two-dimensional integer grid where 1 represents land and 0 represents water. Grid cells are connected horizontally/vertically (not diagonally). The grid is completely surrounded by water, and there is exactly one island (i.e., one or more connected land cells). The island doesn't have \"lakes\" (water inside that isn't connected to the water around the island). One cell is a square with side length 1. The grid is rectangular, width and height don't exceed 100. Determine the perimeter of the island.\n",
    "\n",
    "Example:\n",
    "\n",
    "[[0,1,0,0],\n",
    " [1,1,1,0],\n",
    " [0,1,0,0],\n",
    " [1,1,0,0]]\n",
    "\n",
    "Answer: 16\n",
    "Explanation: The perimeter is the 16 yellow stripes in the image below:\n",
    "https://leetcode.com/static/images/problemset/island.png\n"
   ]
  },
  {
   "cell_type": "markdown",
   "metadata": {},
   "source": [
    "### Method 1: two for loops to exclude shared edges\n",
    "This method is straight forward, but time consuming. Here is the logic about it:\n",
    "\n",
    "+ find out the two dimensional indexes for all land grids (value marked as 1)\n",
    "+ each land grid should have 4 edges, thus there are totally 4 * n edges, where n is the number of land grids\n",
    "+ exclude the edges within the island, to get the perimeter of the island. The edges within islands are the shared edges between two land grids. So, we can just deduct two edges, for each pair of neighboring land grids. We can use the indexes to determine whether two grids are neighbours. For example, the grid (1, 1) has four neighbors -- (0, 1), (2, 1), (1, 0), and (1, 2). The distance between any grid and its neighbors is alwasys 1, which can be represented using the following rule: "
   ]
  },
  {
   "cell_type": "code",
   "execution_count": 24,
   "metadata": {
    "collapsed": false
   },
   "outputs": [
    {
     "name": "stdout",
     "output_type": "stream",
     "text": [
      "1030\n",
      "Time Consumption for Method 1:  8.18184111914\n"
     ]
    }
   ],
   "source": [
    "import time\n",
    "m1 = [[0,1,0,0],\n",
    " [1,1,1,0],\n",
    " [0,1,0,0],\n",
    " [1,1,0,0]]\n",
    "\n",
    "m2 = [[0,0,0,0,0,0,0,0,0,0,0,0,0,0,0,0,0,0,0,0,0,0,0,0,0,0,0,0,0,0,0,0,0,0,0,0,0,0,0,0,0,0,0,0,0,0,0,0,0,0,0,0,0,0,0,0,0,0,0,0,0,0,0,0,0,0,0,0,0,0,0,0,0,0,0,0,0,0,0,0,0,0,0,0,0,0,0,0,0,0,0,0,0,0,0,0,0,0,0,0],[0,0,0,0,0,0,0,0,0,0,0,0,0,0,0,0,0,0,0,0,0,0,0,0,0,0,0,0,0,0,0,0,0,0,0,0,0,0,0,0,0,0,0,0,0,0,0,0,0,0,0,0,0,0,0,0,0,0,0,0,0,0,0,0,0,0,0,0,0,0,0,0,0,0,0,0,0,0,0,0,0,0,0,0,0,0,0,0,0,0,0,0,0,0,0,0,0,0,0,0],[0,0,0,0,0,0,0,0,0,0,0,0,0,0,0,0,0,0,0,0,0,0,0,0,0,0,0,0,0,0,0,0,0,0,0,0,0,0,0,0,0,0,0,0,0,0,0,0,0,0,0,0,0,0,0,0,0,0,0,0,0,0,0,0,0,0,0,0,0,0,0,0,0,0,0,0,0,0,0,0,0,0,0,0,0,0,0,0,0,0,0,0,0,0,0,0,0,0,0,0],[0,0,0,0,0,0,0,0,0,0,0,0,0,0,0,0,0,0,0,0,0,0,0,0,0,0,0,0,0,0,0,0,0,0,0,0,0,0,0,0,0,0,0,0,0,0,0,0,0,0,0,0,0,0,0,0,0,0,0,0,0,0,0,0,0,0,0,0,0,0,0,0,0,0,0,0,0,0,0,0,0,0,0,0,0,0,0,0,0,0,0,0,0,0,0,0,0,0,0,0],[0,0,0,0,0,0,0,0,0,0,0,0,0,0,0,0,0,0,0,0,0,0,0,0,0,0,0,0,0,0,0,0,0,0,0,0,0,0,0,0,0,0,0,0,0,0,0,0,0,0,0,0,0,0,0,0,0,0,0,0,0,0,0,0,0,0,0,0,0,0,0,0,0,0,0,0,0,0,0,0,0,0,0,0,0,0,0,0,0,0,0,0,0,0,0,0,0,0,0,0],[0,0,0,0,0,0,0,0,0,0,0,0,0,0,0,0,0,0,0,0,0,0,0,0,0,0,0,0,0,0,0,0,0,0,0,0,0,0,0,1,0,0,0,0,0,0,0,0,0,0,0,0,0,0,0,0,0,0,0,0,0,0,0,0,0,1,1,0,0,0,0,0,0,0,0,0,0,0,0,0,0,0,0,0,0,0,0,0,0,0,0,0,0,0,0,0,0,0,0,0],[0,0,0,0,0,0,0,0,0,0,0,0,0,0,0,0,0,0,0,0,0,0,0,0,0,0,0,0,0,0,0,0,0,0,1,0,0,0,0,1,1,1,1,1,0,0,0,0,0,0,0,0,0,0,0,0,0,0,0,0,0,0,0,0,1,1,0,0,0,1,0,0,0,0,0,0,0,0,0,0,0,0,0,0,0,0,0,0,0,0,0,0,0,0,0,0,0,0,0,0],[0,0,0,0,0,0,0,0,0,0,0,0,0,0,0,0,0,0,0,0,0,0,0,0,0,0,0,0,0,0,0,0,0,1,1,0,0,0,0,0,0,1,1,0,0,0,0,0,0,0,0,0,0,0,0,0,0,0,0,0,0,0,0,1,1,1,1,1,1,1,0,1,0,1,0,0,0,0,0,0,0,0,0,0,0,0,0,0,0,0,0,0,0,0,0,0,0,0,0,0],[0,0,0,0,0,0,0,0,0,0,0,0,0,0,0,0,0,0,0,0,0,0,0,0,0,0,0,0,0,0,0,1,1,1,1,0,0,0,0,0,0,1,0,0,0,0,0,0,0,0,0,0,0,0,0,1,1,0,0,0,0,1,1,1,1,1,1,1,1,1,0,1,1,1,1,1,1,0,0,0,0,0,0,0,0,0,0,0,0,0,0,0,0,0,0,0,0,0,0,0],[0,0,0,0,0,0,0,0,0,0,0,0,0,0,0,0,0,0,0,0,0,0,0,0,0,0,0,0,0,0,0,1,1,1,1,0,0,0,0,1,1,1,1,1,1,0,1,0,0,0,0,0,0,0,1,1,1,0,0,0,0,0,1,1,1,1,1,1,1,1,1,1,0,0,1,0,0,0,0,0,0,0,0,0,0,0,0,0,0,0,0,0,0,0,0,0,0,0,0,0],[0,0,0,0,0,0,0,0,0,0,0,0,0,0,0,0,0,0,0,0,0,0,0,0,0,0,0,0,0,0,0,1,1,1,1,0,0,0,0,0,1,1,1,1,1,1,1,0,0,0,0,0,0,1,1,1,1,0,1,1,0,1,1,1,1,1,1,1,1,1,1,1,1,0,1,0,0,0,0,0,0,0,0,0,0,0,0,0,0,0,0,0,0,0,0,0,0,0,0,0],[0,0,0,0,0,0,0,0,0,0,0,0,0,0,0,0,0,0,0,0,0,0,0,0,0,0,0,0,0,0,1,1,1,1,1,1,0,0,0,0,0,1,1,1,1,1,0,0,0,0,0,0,0,0,1,1,1,1,1,1,1,1,1,1,1,1,1,1,1,1,1,1,0,0,1,0,0,0,1,1,0,0,1,0,0,0,0,0,0,0,0,0,0,0,0,0,0,0,0,0],[0,0,0,0,0,0,0,0,0,0,0,0,0,0,0,0,0,0,0,0,0,0,0,0,0,0,1,1,1,1,1,1,1,1,1,1,0,0,0,0,0,1,1,1,1,1,1,1,0,1,0,0,0,1,1,1,1,1,1,1,1,1,1,1,1,1,1,1,1,1,1,1,1,0,0,0,0,1,1,1,1,1,1,1,0,0,0,0,0,0,0,0,0,0,0,0,0,0,0,0],[0,0,0,0,0,0,0,0,0,0,0,0,0,0,0,0,0,0,0,0,0,0,0,0,0,0,0,1,1,1,1,1,1,1,1,1,0,0,0,1,0,1,1,1,1,1,1,1,1,1,0,1,1,1,1,1,1,1,1,1,1,1,1,1,1,1,1,1,1,1,1,1,1,0,1,0,0,0,1,1,0,0,0,0,0,0,0,0,0,0,0,0,0,0,0,0,0,0,0,0],[0,0,0,0,0,0,0,0,0,0,0,0,0,0,0,0,0,0,0,0,0,0,0,0,0,0,0,0,1,1,1,1,1,1,1,1,0,0,1,1,1,1,1,1,1,1,1,1,1,1,0,1,1,1,1,1,1,1,1,1,1,1,1,1,1,1,1,1,1,1,1,1,1,1,1,1,0,1,1,0,0,0,0,0,0,0,0,0,0,0,0,0,0,0,0,0,0,0,0,0],[0,0,0,0,0,0,0,0,0,0,0,0,0,0,0,0,0,0,0,0,0,0,0,0,0,0,0,0,0,0,1,1,1,1,1,1,1,1,1,1,1,1,1,1,1,1,1,1,1,1,0,1,1,1,1,1,1,1,1,1,1,1,1,1,1,1,1,1,1,1,1,1,1,1,1,1,1,1,1,0,0,0,0,0,0,0,0,0,0,0,0,0,0,0,0,0,0,0,0,0],[0,0,0,0,0,0,0,0,0,0,0,0,0,0,0,0,0,0,0,0,0,0,0,0,0,1,1,0,0,1,1,1,1,1,1,1,1,1,1,1,1,1,1,1,1,1,1,1,1,1,1,1,1,1,1,1,1,1,1,1,1,1,1,1,1,1,1,1,1,1,1,1,1,1,1,1,1,1,1,0,0,0,0,0,0,0,0,0,0,0,0,0,0,0,0,0,0,0,0,0],[0,0,0,0,0,0,0,0,0,0,0,0,0,0,0,0,0,0,0,0,0,1,1,0,0,1,0,0,1,1,1,1,1,1,1,1,1,1,1,1,1,1,1,1,1,1,1,1,1,1,1,1,1,1,1,1,1,1,1,1,1,1,1,1,1,1,1,1,1,1,1,1,1,1,1,1,1,1,1,1,0,0,0,0,0,0,0,0,0,0,0,0,0,0,0,0,0,0,0,0],[0,0,0,0,0,0,0,0,0,0,0,0,0,0,0,0,0,0,0,0,0,1,1,0,1,1,1,1,1,1,1,1,1,1,1,1,1,1,1,1,1,1,1,1,1,1,1,1,1,1,1,1,1,1,1,1,1,1,1,1,1,1,1,1,1,1,1,1,1,1,1,1,1,1,1,1,1,1,1,1,1,0,0,0,0,0,0,0,0,0,0,0,0,0,0,0,0,0,0,0],[0,0,0,0,0,0,0,0,0,0,0,0,0,0,0,0,0,0,0,0,0,1,1,1,1,1,1,1,1,1,1,1,1,1,1,1,1,1,1,1,1,1,1,1,1,1,1,1,1,1,1,1,1,1,1,1,1,1,1,1,1,1,1,1,1,1,1,1,1,1,1,1,1,1,0,1,1,1,1,0,0,0,0,1,0,0,0,0,0,0,0,0,0,0,0,0,0,0,0,0],[0,0,0,0,0,0,0,0,0,0,0,0,0,1,0,0,0,0,0,0,0,1,1,1,1,1,1,1,1,1,1,1,1,1,1,1,1,1,1,1,1,1,1,1,1,1,1,1,1,1,1,1,1,1,1,1,1,1,1,1,1,1,1,1,1,1,1,1,1,1,1,1,1,0,0,0,0,0,0,0,0,0,1,1,0,0,0,0,0,0,0,0,0,0,0,0,0,0,0,0],[0,0,0,0,0,0,0,0,0,0,0,0,1,1,1,0,0,0,0,0,1,1,1,1,1,1,1,1,1,1,1,1,1,1,1,1,1,1,1,1,1,1,1,1,1,1,1,1,1,1,1,1,1,1,1,1,1,1,1,1,1,1,1,1,1,1,1,1,1,1,1,1,1,0,0,0,1,1,1,0,1,1,1,1,1,1,1,0,0,0,0,0,0,0,0,0,0,0,0,0],[0,0,0,0,0,0,0,0,0,0,0,1,1,1,0,0,0,0,0,1,1,1,1,1,1,1,1,1,1,1,1,1,1,1,1,1,1,1,1,1,1,1,1,1,1,1,1,1,1,1,1,1,1,1,1,1,1,1,1,1,1,1,1,1,1,1,1,1,1,1,1,1,1,0,0,1,1,1,0,0,1,1,1,1,1,1,1,1,1,1,0,0,0,0,0,0,0,0,0,0],[0,0,0,0,0,0,0,0,0,0,0,0,1,1,0,0,0,0,0,0,0,1,1,1,1,1,1,1,1,1,1,1,1,1,1,1,1,1,1,1,1,1,1,1,1,1,1,1,1,1,1,1,1,1,1,1,1,1,1,1,1,1,1,1,1,1,1,1,1,1,1,1,1,1,1,1,1,1,1,0,1,1,1,1,1,1,1,1,0,1,0,0,0,0,0,0,0,0,0,0],[0,0,0,0,0,0,0,0,0,0,0,0,0,1,1,0,0,0,0,1,1,1,1,1,1,1,1,1,1,1,1,1,1,1,1,1,1,1,1,1,1,1,1,1,1,1,1,1,1,1,1,1,1,1,1,1,1,1,1,1,1,1,1,1,1,1,1,1,1,1,1,1,1,1,1,1,1,1,1,1,1,1,1,1,1,1,1,1,0,0,0,0,0,0,0,0,0,0,0,0],[0,0,0,0,0,0,0,0,0,0,0,0,0,1,1,0,0,0,1,1,1,1,1,1,1,1,1,1,1,1,1,1,1,1,1,1,1,1,1,1,1,1,1,1,1,1,1,1,1,1,1,1,1,1,1,1,1,1,1,1,1,1,1,1,1,1,1,1,1,1,1,1,1,1,1,1,1,1,1,1,1,1,1,1,1,1,1,1,1,0,0,0,0,0,0,0,0,0,0,0],[0,0,0,0,0,0,0,0,0,0,0,0,0,1,0,0,0,0,1,1,1,1,1,1,1,1,1,1,1,1,1,1,1,1,1,1,1,1,1,1,1,1,1,1,1,1,1,1,1,1,1,1,1,1,1,1,1,1,1,1,1,1,1,1,1,1,1,1,1,1,1,1,1,1,1,1,1,1,1,1,1,1,1,1,1,1,1,1,1,0,0,0,1,0,0,0,0,0,0,0],[0,0,0,0,0,0,0,0,0,0,0,0,0,1,1,0,0,1,1,1,1,1,1,1,1,1,1,1,1,1,1,1,1,1,1,1,1,1,1,1,1,1,1,1,1,1,1,1,1,1,1,1,1,1,1,1,1,1,1,1,1,1,1,1,1,1,1,1,1,1,1,1,1,1,1,1,1,1,1,1,1,1,1,1,1,1,1,1,1,0,0,1,1,1,0,0,0,0,0,0],[0,0,0,0,0,0,0,0,0,0,0,0,0,1,1,1,0,1,1,1,1,1,1,1,1,1,1,1,1,1,1,1,1,1,1,1,1,1,1,1,1,1,1,1,1,1,1,1,1,1,1,1,1,1,1,1,1,1,1,1,1,1,1,1,1,1,1,1,1,1,1,1,1,1,1,1,1,1,1,1,1,1,1,1,1,1,1,1,1,1,1,1,0,0,0,0,0,0,0,0],[0,0,0,0,0,0,0,0,0,0,1,1,1,1,1,1,1,1,1,1,1,1,1,1,1,1,1,1,1,1,1,1,1,1,1,1,1,1,1,1,1,1,1,1,1,1,1,1,1,1,1,1,1,1,1,1,1,1,1,1,1,1,1,1,1,1,1,1,1,1,1,1,1,1,1,1,1,1,1,1,1,1,1,1,1,1,1,1,1,1,1,1,1,0,0,0,0,0,0,0],[0,0,0,0,0,0,0,0,0,1,1,1,1,1,1,1,1,1,1,1,1,1,1,1,1,1,1,1,1,1,1,1,1,1,1,1,1,1,1,1,1,1,1,1,1,1,1,1,1,1,1,1,1,1,1,1,1,1,1,1,1,1,1,1,1,1,1,1,1,1,1,1,1,1,1,1,1,1,1,1,1,1,1,1,1,1,1,1,1,1,1,1,1,1,0,0,0,0,0,0],[0,0,0,0,0,0,0,0,1,1,1,1,1,1,1,1,1,1,1,1,1,1,1,1,1,1,1,1,1,1,1,1,1,1,1,1,1,1,1,1,1,1,1,1,1,1,1,1,1,1,1,1,1,1,1,1,1,1,1,1,1,1,1,1,1,1,1,1,1,1,1,1,1,1,1,1,1,1,1,1,1,1,1,1,1,1,1,1,1,1,1,1,1,1,0,0,0,0,0,0],[0,0,0,0,0,0,0,1,1,1,1,1,1,1,1,1,1,1,1,1,1,1,1,1,1,1,1,1,1,1,1,1,1,1,1,1,1,1,1,1,1,1,1,1,1,1,1,1,1,1,1,1,1,1,1,1,1,1,1,1,1,1,1,1,1,1,1,1,1,1,1,1,1,1,1,1,1,1,1,1,1,1,1,1,1,1,1,1,1,1,1,1,1,0,0,0,0,0,0,0],[0,0,0,0,0,0,0,0,1,1,1,1,1,1,1,1,1,1,1,1,1,1,1,1,1,1,1,1,1,1,1,1,1,1,1,1,1,1,1,1,1,1,1,1,1,1,1,1,1,1,1,1,1,1,1,1,1,1,1,1,1,1,1,1,1,1,1,1,1,1,1,1,1,1,1,1,1,1,1,1,1,1,1,1,1,1,1,1,1,1,1,1,1,0,0,0,0,0,0,0],[0,0,0,0,0,0,0,0,0,0,0,0,0,1,1,1,1,1,1,1,1,1,1,1,1,1,1,1,1,1,1,1,1,1,1,1,1,1,1,1,1,1,1,1,1,1,1,1,1,1,1,1,1,1,1,1,1,1,1,1,1,1,1,1,1,1,1,1,1,1,1,1,1,1,1,1,1,1,1,1,1,1,1,1,1,1,1,1,1,1,1,1,1,1,1,1,1,0,0,0],[0,0,0,0,0,0,0,0,0,0,0,0,0,1,1,1,1,1,1,1,1,1,1,1,1,1,1,1,1,1,1,1,1,1,1,1,1,1,1,1,1,1,1,1,1,1,1,1,1,1,1,1,1,1,1,1,1,1,1,1,1,1,1,1,1,1,1,1,1,1,1,1,1,1,1,1,1,1,1,1,1,1,1,1,1,1,1,1,1,1,1,1,1,1,0,1,1,0,0,0],[0,0,0,0,0,0,0,0,0,0,0,0,0,1,1,1,1,1,1,1,1,1,1,1,1,1,1,1,1,1,1,1,1,1,1,1,1,1,1,1,1,1,1,1,1,1,1,1,1,1,1,1,1,1,1,1,1,1,1,1,1,1,1,1,1,1,1,1,1,1,1,1,1,1,1,1,1,1,1,1,1,1,1,1,1,1,1,1,1,1,1,1,1,1,0,0,0,0,0,0],[0,0,0,0,0,0,0,0,0,0,0,0,1,1,1,1,1,1,1,1,1,1,1,1,1,1,1,1,1,1,1,1,1,1,1,1,1,1,1,1,1,1,1,1,1,1,1,1,1,1,1,1,1,1,1,1,1,1,1,1,1,1,1,1,1,1,1,1,1,1,1,1,1,1,1,1,1,1,1,1,1,1,1,1,1,1,1,1,1,1,1,1,1,1,1,0,1,0,0,0],[0,0,0,0,0,0,0,0,0,0,0,1,1,1,1,1,1,1,1,1,1,1,1,1,1,1,1,1,1,1,1,1,1,1,1,1,1,1,1,1,1,1,1,1,1,1,1,1,1,1,1,1,1,1,1,1,1,1,1,1,1,1,1,1,1,1,1,1,1,1,1,1,1,1,1,1,1,1,1,1,1,1,1,1,1,0,1,1,0,1,0,0,0,0,1,1,1,1,0,0],[0,0,0,0,0,0,0,0,0,0,1,1,1,1,1,1,1,1,1,1,1,1,1,1,1,1,1,1,1,1,1,1,1,1,1,1,1,1,1,1,1,1,1,1,1,1,1,1,1,1,1,1,1,1,1,1,1,1,1,1,1,1,1,1,1,1,1,1,1,1,1,1,1,1,1,1,1,1,1,1,1,1,1,1,1,0,0,0,0,0,0,0,0,0,0,1,0,0,0,0],[0,0,0,0,0,0,0,0,0,1,1,1,1,1,1,1,1,1,1,1,1,1,1,1,1,1,1,1,1,1,1,1,1,1,1,1,1,1,1,1,1,1,1,1,1,1,1,1,1,1,1,1,1,1,1,1,1,1,1,1,1,1,1,1,1,1,1,1,1,1,1,1,1,1,1,1,1,1,1,1,1,1,1,1,1,1,1,0,1,0,1,0,0,0,0,0,0,0,0,0],[0,0,0,0,0,0,0,0,0,0,0,1,1,1,1,1,1,1,1,1,1,1,1,1,1,1,1,1,1,1,1,1,1,1,1,1,1,1,1,1,1,1,1,1,1,1,1,1,1,1,1,1,1,1,1,1,1,1,1,1,1,1,1,1,1,1,1,1,1,1,1,1,1,1,1,1,1,1,1,1,1,1,1,1,1,1,1,1,1,1,1,1,1,0,0,0,0,0,0,0],[0,0,0,0,0,0,0,0,0,0,1,1,1,1,1,1,1,1,1,1,1,1,1,1,1,1,1,1,1,1,1,1,1,1,1,1,1,1,1,1,1,1,1,1,1,1,1,1,1,1,1,1,1,1,1,1,1,1,1,1,1,1,1,1,1,1,1,1,1,1,1,1,1,1,1,1,1,1,1,1,1,1,1,1,1,1,1,1,1,1,1,0,0,0,0,0,0,0,0,0],[0,0,0,0,0,0,0,0,1,0,0,1,1,1,1,1,1,1,1,1,1,1,1,1,1,1,1,1,1,1,1,1,1,1,1,1,1,1,1,1,1,1,1,1,1,1,1,1,1,1,1,1,1,1,1,1,1,1,1,1,1,1,1,1,1,1,1,1,1,1,1,1,1,1,1,1,1,1,1,1,1,1,1,1,1,1,1,1,1,1,1,1,0,0,0,0,0,0,0,0],[0,0,0,0,0,0,0,0,1,1,1,1,1,1,1,1,1,1,1,1,1,1,1,1,1,1,1,1,1,1,1,1,1,1,1,1,1,1,1,1,1,1,1,1,1,1,1,1,1,1,1,1,1,1,1,1,1,1,1,1,1,1,1,1,1,1,1,1,1,1,1,1,1,1,1,1,1,1,1,1,1,1,1,1,1,1,1,1,1,1,1,1,0,0,0,0,0,0,0,0],[0,0,0,0,0,0,0,0,0,1,1,1,1,1,1,1,1,1,1,1,1,1,1,1,1,1,1,1,1,1,1,1,1,1,1,1,1,1,1,1,1,1,1,1,1,1,1,1,1,1,1,1,1,1,1,1,1,1,1,1,1,1,1,1,1,1,1,1,1,1,1,1,1,1,1,1,1,1,1,1,1,1,1,1,1,1,1,1,1,1,1,0,0,0,0,0,0,0,0,0],[0,0,0,0,0,0,0,0,1,1,1,1,1,1,1,1,1,1,1,1,1,1,1,1,1,1,1,1,1,1,1,1,1,1,1,1,1,1,1,1,1,1,1,1,1,1,1,1,1,1,1,1,1,1,1,1,1,1,1,1,1,1,1,1,1,1,1,1,1,1,1,1,1,1,1,1,1,1,1,1,1,1,1,1,1,1,1,1,1,1,0,0,0,0,0,0,0,0,0,0],[0,0,0,0,0,0,0,0,1,1,1,1,1,1,1,1,1,1,1,1,1,1,1,1,1,1,1,1,1,1,1,1,1,1,1,1,1,1,1,1,1,1,1,1,1,1,1,1,1,1,1,1,1,1,1,1,1,1,1,1,1,1,1,1,1,1,1,1,1,1,1,1,1,1,1,1,1,1,1,1,1,1,1,1,1,1,1,1,1,0,0,0,0,0,0,0,0,0,0,0],[0,0,0,0,0,0,0,0,1,1,1,1,1,1,1,1,1,1,1,1,1,1,1,1,1,1,1,1,1,1,1,1,1,1,1,1,1,1,1,1,1,1,1,1,1,1,1,1,1,1,1,1,1,1,1,1,1,1,1,1,1,1,1,1,1,1,1,1,1,1,1,1,1,1,1,1,1,1,1,1,1,1,1,1,1,1,1,1,1,0,0,0,0,0,0,0,0,0,0,0],[0,0,1,0,0,1,0,0,0,0,1,1,1,1,1,1,1,1,1,1,1,1,1,1,1,1,1,1,1,1,1,1,1,1,1,1,1,1,1,1,1,1,1,1,1,1,1,1,1,1,1,1,1,1,1,1,1,1,1,1,1,1,1,1,1,1,1,1,1,1,1,1,1,1,1,1,1,1,1,1,1,1,1,1,1,1,1,1,1,1,0,0,0,0,0,0,0,0,0,0],[0,0,1,1,1,1,0,0,0,0,0,1,1,1,1,1,1,1,1,1,1,1,1,1,1,1,1,1,1,1,1,1,1,1,1,1,1,1,1,1,1,1,1,1,1,1,1,1,1,1,1,1,1,1,1,1,1,1,1,1,1,1,1,1,1,1,1,1,1,1,1,1,1,1,1,1,1,1,1,1,1,1,1,1,1,1,1,1,1,0,0,0,0,0,0,0,0,0,0,0],[0,1,1,1,1,1,1,0,0,0,1,1,1,1,1,1,1,1,1,1,1,1,1,1,1,1,1,1,1,1,1,1,1,1,1,1,1,1,1,1,1,1,1,1,1,1,1,1,1,1,1,1,1,1,1,1,1,1,1,1,1,1,1,1,1,1,1,1,1,1,1,1,1,1,1,1,1,1,1,1,1,1,1,1,1,1,1,1,0,0,0,0,0,0,0,0,0,0,0,0],[0,1,1,1,1,1,1,0,0,1,1,1,1,1,1,1,1,1,1,1,1,1,1,1,1,1,1,1,1,1,1,1,1,1,1,1,1,1,1,1,1,1,1,1,1,1,1,1,1,1,1,1,1,1,1,1,1,1,1,1,1,1,1,1,1,1,1,1,1,1,1,1,1,1,1,1,1,1,1,1,1,1,1,1,1,1,1,1,0,0,0,0,0,0,0,0,0,0,0,0],[0,0,0,1,1,1,0,0,0,0,1,1,1,1,1,1,1,1,1,1,1,1,1,1,1,1,1,1,1,1,1,1,1,1,1,1,1,1,1,1,1,1,1,1,1,1,1,1,1,1,1,1,1,1,1,1,1,1,1,1,1,1,1,1,1,1,1,1,1,1,1,1,1,1,1,1,1,1,1,1,1,1,1,1,1,1,1,0,0,0,0,0,0,0,0,0,0,0,0,0],[0,1,1,1,1,1,1,0,0,1,1,1,1,1,1,1,1,1,1,1,1,1,1,1,1,1,1,1,1,1,1,1,1,1,1,1,1,1,1,1,1,1,1,1,1,1,1,1,1,1,1,1,1,1,1,1,1,1,1,1,1,1,1,1,1,1,1,1,1,1,1,1,1,1,1,1,1,1,1,1,1,1,1,1,1,1,0,0,0,0,0,0,0,0,0,0,0,0,0,0],[0,1,1,1,1,1,1,1,1,1,1,1,1,1,1,1,1,1,1,1,1,1,1,1,1,1,1,1,1,1,1,1,1,1,1,1,1,1,1,1,1,1,1,1,1,1,1,1,1,1,1,1,1,1,1,1,1,1,1,1,1,1,1,1,1,1,1,1,1,1,1,1,1,1,1,1,1,1,1,1,1,1,1,1,1,1,1,0,0,0,0,0,0,0,0,0,0,0,0,0],[0,0,0,0,0,1,1,1,1,1,1,1,1,1,1,1,1,1,1,1,1,1,1,1,1,1,1,1,1,1,1,1,1,1,1,1,1,1,1,1,1,1,1,1,1,1,1,1,1,1,1,1,1,1,1,1,1,1,1,1,1,1,1,1,1,1,1,1,1,1,1,1,1,1,1,1,1,1,1,1,1,1,1,1,1,1,1,0,0,1,0,0,0,0,0,0,0,0,0,0],[0,0,0,0,0,0,0,1,0,1,1,1,1,1,1,1,1,1,1,1,1,1,1,1,1,1,1,1,1,1,1,1,1,1,1,1,1,1,1,1,1,1,1,1,1,1,1,1,1,1,1,1,1,1,1,1,1,1,1,1,1,1,1,1,1,1,1,1,1,1,1,1,1,1,1,1,1,1,1,1,1,1,1,1,1,1,1,1,1,1,1,0,0,0,0,0,0,0,0,0],[0,0,0,0,0,0,1,1,0,1,1,1,1,1,1,1,1,1,1,1,1,1,1,1,1,1,1,1,1,1,1,1,1,1,1,1,1,1,1,1,1,1,1,1,1,1,1,1,1,1,1,1,1,1,1,1,1,1,1,1,1,1,1,1,1,1,1,1,1,1,1,1,1,1,1,1,1,1,1,1,1,1,1,1,1,1,1,1,0,0,0,0,0,0,0,0,0,0,0,0],[0,0,0,1,1,1,1,0,0,1,1,1,1,1,1,1,1,1,1,1,1,1,1,1,1,1,1,1,1,1,1,1,1,1,1,1,1,1,1,1,1,1,1,1,1,1,1,1,1,1,1,1,1,1,1,1,1,1,1,1,1,1,1,1,1,1,1,1,1,1,1,1,1,1,1,1,1,1,1,1,1,1,1,1,1,1,1,0,0,0,0,0,0,0,0,0,0,0,0,0],[1,0,0,0,1,1,1,0,0,0,1,1,0,1,1,1,1,1,1,1,1,1,1,1,1,1,1,1,1,1,1,1,1,1,1,1,1,1,1,1,1,1,1,1,1,1,1,1,1,1,1,1,1,1,1,1,1,1,1,1,1,1,1,1,1,1,1,1,1,1,1,1,1,1,1,1,1,1,1,1,1,1,1,1,1,1,0,0,0,0,0,0,0,0,0,0,0,0,0,0],[1,1,1,1,1,1,0,0,0,0,0,1,0,0,1,1,1,1,1,1,1,1,1,1,1,1,1,1,1,1,1,1,1,1,1,1,1,1,1,1,1,1,1,1,1,1,1,1,1,1,1,1,1,1,1,1,1,1,1,1,1,1,1,1,1,1,1,1,1,1,1,1,1,1,1,1,1,1,1,1,1,1,1,1,1,1,1,0,0,0,0,0,0,0,0,0,0,0,0,0],[0,1,0,0,0,0,0,0,0,0,0,0,0,1,1,1,1,1,1,1,1,1,1,1,1,1,1,1,1,1,1,1,1,1,1,1,1,1,1,1,1,1,1,1,1,1,1,1,1,1,1,1,1,1,1,1,1,1,1,1,1,1,1,1,1,1,1,1,1,1,1,1,1,1,1,1,1,1,1,1,1,1,1,1,1,1,1,1,0,0,0,0,0,0,0,0,0,0,0,0],[0,1,1,0,0,0,0,0,0,0,0,1,0,1,1,1,1,1,1,1,1,1,1,1,1,1,1,1,1,1,1,1,1,1,1,1,1,1,1,1,1,1,1,1,1,1,1,1,1,1,1,1,1,1,1,1,1,1,1,1,1,1,1,1,1,1,1,1,1,1,1,1,1,1,1,1,1,1,1,1,1,1,1,1,1,1,1,0,0,0,0,0,0,0,0,0,0,0,0,0],[0,0,1,1,1,0,0,0,0,0,1,1,1,1,1,1,1,1,1,1,1,1,1,1,1,1,1,1,1,1,1,1,1,1,1,1,1,1,1,1,1,1,1,1,1,1,1,1,1,1,1,1,1,1,1,1,1,1,1,1,1,1,1,1,1,1,1,1,1,1,1,1,1,1,1,1,1,1,1,1,1,1,1,1,1,1,1,1,1,0,0,0,0,0,0,0,0,0,0,0],[0,0,1,1,0,0,0,0,0,0,0,1,1,1,1,1,1,1,1,1,1,1,1,1,1,1,1,1,1,1,1,1,1,1,1,1,1,1,1,1,1,1,1,1,1,1,1,1,1,1,1,1,1,1,1,1,1,1,1,1,1,1,1,1,1,1,1,1,1,1,1,1,1,1,1,1,1,1,1,1,1,1,1,1,1,1,1,1,1,1,1,1,0,0,0,0,0,0,0,0],[0,0,0,0,0,0,0,0,0,0,1,1,1,1,1,1,1,1,1,1,1,1,1,1,1,1,1,1,1,1,1,1,1,1,1,1,1,1,1,1,1,1,1,1,1,1,1,1,1,1,1,1,1,1,1,1,1,1,1,1,1,1,1,1,1,1,1,1,1,1,1,1,1,1,1,1,1,1,1,1,1,1,1,1,1,1,1,1,1,1,1,0,0,0,0,0,0,0,0,0],[0,0,0,0,0,0,0,0,0,1,1,1,1,1,1,1,1,1,1,1,1,1,1,1,1,1,1,1,1,1,1,1,1,1,1,1,1,1,1,1,1,1,1,1,1,1,1,1,1,1,1,1,1,1,1,1,1,1,1,1,1,1,1,1,1,1,1,1,1,1,1,1,1,1,1,1,1,1,1,1,1,1,1,1,1,1,1,0,1,0,0,0,0,0,0,0,0,0,0,0],[0,0,0,0,0,0,0,0,1,1,1,1,1,1,1,1,1,1,1,1,1,1,1,1,1,1,1,1,1,1,1,1,1,1,1,1,1,1,1,1,1,1,1,1,1,1,1,1,1,1,1,1,1,1,1,1,1,1,1,1,1,1,1,1,1,1,1,1,1,1,1,1,1,1,1,1,1,1,1,1,1,1,1,1,1,0,0,0,0,0,0,0,0,0,0,0,0,0,0,0],[0,0,0,0,0,0,0,0,0,0,1,1,1,0,1,1,1,1,1,1,1,1,1,1,1,1,1,1,1,1,1,1,1,1,1,1,1,1,1,1,1,1,1,1,1,1,1,1,1,1,1,1,1,1,1,1,1,1,1,1,1,1,1,1,1,1,1,1,1,1,1,1,1,1,1,1,1,1,1,1,1,1,1,1,1,1,1,1,1,1,1,1,0,0,0,0,0,0,0,0],[0,0,0,0,0,0,0,0,0,0,1,0,0,0,1,1,1,1,1,1,1,1,1,1,1,1,1,1,1,1,1,1,1,1,1,1,1,1,1,1,1,1,1,1,1,1,1,1,1,1,1,1,1,1,1,1,1,1,1,1,1,1,1,1,1,1,1,1,1,1,1,1,1,1,1,1,1,1,1,1,1,1,1,1,1,1,1,0,1,0,1,0,0,0,0,0,0,0,0,0],[0,0,0,0,0,0,0,0,0,0,1,0,0,0,0,1,1,1,1,1,1,1,1,1,1,1,1,1,1,1,1,1,1,1,1,1,1,1,1,1,1,1,1,1,1,1,1,1,1,1,1,1,1,1,1,1,1,1,1,1,1,1,1,1,1,1,1,1,1,1,1,1,1,1,1,1,1,1,1,1,1,1,1,1,1,1,1,0,1,0,0,0,0,0,0,0,0,0,0,0],[0,0,0,0,0,0,0,0,1,1,1,0,1,1,1,1,1,1,1,1,1,1,1,1,1,1,1,1,1,1,1,1,1,1,1,1,1,1,1,1,1,1,1,1,1,1,1,1,1,1,1,1,1,1,1,1,1,1,1,1,1,1,1,1,1,1,1,1,1,1,1,1,1,1,1,1,1,1,1,1,1,1,1,0,1,1,1,0,1,1,1,0,0,0,0,0,0,0,0,0],[0,0,0,0,0,0,0,0,0,1,0,0,1,1,1,1,1,1,1,1,1,1,0,1,1,1,1,1,1,1,1,1,1,1,1,1,1,1,1,1,1,1,1,1,1,1,1,1,1,1,1,1,1,1,1,1,1,1,1,1,1,1,1,1,1,1,1,1,1,1,1,1,1,1,1,1,1,1,1,1,1,1,0,0,0,0,1,0,1,1,0,0,0,0,0,0,0,0,0,0],[0,0,0,0,0,0,0,0,0,0,0,0,1,1,1,1,1,1,1,1,0,0,0,1,1,1,1,1,1,1,1,1,1,1,1,1,1,1,1,1,1,1,1,1,1,1,1,1,1,1,1,1,1,1,1,1,1,1,1,1,1,1,1,1,1,1,1,1,1,1,1,1,1,1,1,1,1,1,1,1,1,1,1,0,0,0,0,0,0,0,0,0,0,0,0,0,0,0,0,0],[0,0,0,0,0,0,0,0,0,0,1,0,0,1,1,1,0,0,1,1,0,0,1,1,1,1,1,1,1,1,1,1,1,1,1,1,1,1,1,1,1,1,1,1,1,1,1,1,1,1,1,1,1,1,1,1,1,1,1,1,1,1,1,1,1,1,1,1,1,1,1,1,1,1,1,1,1,1,1,1,1,1,0,0,0,0,0,0,0,0,0,0,0,0,0,0,0,0,0,0],[0,0,0,0,0,0,0,0,0,0,1,1,1,1,1,1,0,0,0,0,0,0,0,1,1,1,1,1,1,1,1,1,1,1,1,1,1,1,1,1,1,1,1,1,1,1,1,1,1,1,1,1,1,1,1,1,1,1,1,1,1,1,1,1,1,1,1,1,1,1,1,1,1,1,1,1,1,1,1,0,1,0,0,0,0,0,0,0,0,0,0,0,0,0,0,0,0,0,0,0],[0,0,0,0,0,0,0,0,0,0,0,1,0,1,1,0,0,0,0,0,0,0,0,0,1,1,1,1,1,1,1,1,1,1,1,1,1,1,1,1,1,1,1,1,1,1,1,1,1,1,1,1,1,1,1,1,1,1,1,1,1,1,1,1,1,1,1,1,1,1,1,1,1,1,1,1,1,1,0,0,0,0,0,0,0,0,0,0,0,0,0,0,0,0,0,0,0,0,0,0],[0,0,0,0,0,0,0,0,0,0,0,0,0,0,1,1,1,0,0,0,0,0,0,1,1,1,1,1,1,1,1,1,1,1,1,1,1,1,1,1,1,1,1,1,1,1,1,1,1,1,1,1,1,1,1,1,1,1,1,1,1,1,1,1,1,1,1,1,1,1,1,1,1,1,1,1,1,1,1,0,0,0,0,0,0,0,0,0,0,0,0,0,0,0,0,0,0,0,0,0],[0,0,0,0,0,0,0,0,0,1,1,0,0,1,1,1,1,0,0,0,0,0,1,1,1,1,1,1,1,1,1,1,1,1,1,1,1,1,1,1,1,1,1,1,1,1,1,1,1,1,1,1,1,1,1,1,1,1,1,1,1,1,1,1,1,1,1,1,1,1,1,1,1,1,1,1,1,1,1,1,0,0,0,0,0,0,0,0,0,0,0,0,0,0,0,0,0,0,0,0],[0,0,0,0,0,0,0,0,0,0,1,1,1,1,0,0,1,0,0,0,1,1,1,1,1,1,1,1,1,1,1,1,1,1,1,1,1,1,1,1,1,1,1,1,1,1,1,1,1,1,1,1,1,1,1,1,1,1,1,1,1,1,1,1,1,1,1,1,1,1,1,1,1,1,1,1,1,1,1,1,0,0,0,0,0,0,0,0,0,0,0,0,0,0,0,0,0,0,0,0],[0,0,0,0,0,0,0,0,0,0,0,1,1,0,0,0,0,0,0,0,0,1,1,0,1,1,1,1,1,1,1,1,1,1,1,1,1,1,1,1,1,1,1,1,1,1,1,1,1,1,1,1,1,1,1,1,1,1,1,1,1,1,1,1,1,1,1,1,1,1,1,1,1,1,1,1,1,1,0,0,0,0,0,0,0,0,0,0,0,0,0,0,0,0,0,0,0,0,0,0],[0,0,0,0,0,0,0,0,0,0,0,0,0,0,0,0,0,0,0,0,0,0,0,0,1,0,1,1,1,1,1,1,1,1,1,1,1,1,1,1,1,1,1,1,1,1,1,1,1,1,1,1,1,1,1,1,1,1,1,1,1,1,1,1,1,1,1,1,1,1,1,1,1,1,1,1,1,0,0,0,0,0,0,0,0,0,0,0,0,0,0,0,0,0,0,0,0,0,0,0],[0,0,0,0,0,0,0,0,0,0,0,0,0,0,0,0,0,0,0,0,0,0,0,0,0,0,0,1,1,1,1,1,1,1,1,1,1,1,1,1,1,1,1,1,1,1,1,1,1,1,1,1,1,1,1,1,1,1,1,1,1,1,1,1,1,1,1,1,1,1,1,1,1,1,1,0,1,1,1,0,0,0,0,0,0,0,0,0,0,0,0,0,0,0,0,0,0,0,0,0],[0,0,0,0,0,0,0,0,0,0,0,0,0,0,0,0,0,0,0,0,0,0,0,0,0,0,1,1,1,1,1,1,1,1,1,1,1,1,1,1,1,1,1,1,1,1,1,1,1,1,1,1,1,1,1,1,1,1,1,1,1,1,1,1,1,1,1,1,1,1,1,1,1,1,1,0,0,0,1,0,0,0,0,0,0,0,0,0,0,0,0,0,0,0,0,0,0,0,0,0],[0,0,0,0,0,0,0,0,0,0,0,0,0,0,0,0,0,0,0,0,0,0,0,0,0,1,1,1,1,1,1,1,1,1,1,1,1,1,1,1,1,1,1,1,1,1,1,1,1,1,1,1,1,1,1,1,1,1,1,1,1,1,1,1,1,1,1,1,1,1,1,1,1,1,0,0,0,0,0,0,0,0,0,0,0,0,0,0,0,0,0,0,0,0,0,0,0,0,0,0],[0,0,0,0,0,0,0,0,0,0,0,0,0,0,0,0,0,0,0,0,0,0,0,0,0,1,1,1,1,0,1,0,1,1,1,1,1,1,1,1,1,1,1,1,1,1,1,1,1,1,1,1,1,1,1,1,1,1,1,1,0,0,1,1,1,1,1,1,1,1,1,1,1,1,1,1,0,0,0,0,0,0,0,0,0,0,0,0,0,0,0,0,0,0,0,0,0,0,0,0],[0,0,0,0,0,0,0,0,0,0,0,0,0,0,0,0,0,0,0,0,0,0,0,0,0,0,1,1,1,0,0,0,1,0,1,1,1,1,1,1,1,1,1,1,1,1,1,1,1,1,1,1,1,1,1,1,1,1,1,1,0,0,1,1,1,1,1,1,1,1,1,1,1,1,1,1,0,0,0,0,0,0,0,0,0,0,0,0,0,0,0,0,0,0,0,0,0,0,0,0],[0,0,0,0,0,0,0,0,0,0,0,0,0,0,0,0,0,0,0,0,0,0,0,0,0,0,1,0,0,0,0,0,0,0,0,1,1,0,1,1,1,1,1,1,1,1,1,1,1,1,1,1,1,1,1,1,1,1,1,0,0,1,1,1,1,1,1,1,1,1,1,1,1,1,1,1,1,1,0,0,0,0,0,0,0,0,0,0,0,0,0,0,0,0,0,0,0,0,0,0],[0,0,0,0,0,0,0,0,0,0,0,0,0,0,0,0,0,0,0,0,0,0,0,0,0,0,0,0,0,0,0,0,0,0,0,0,0,0,1,1,1,1,1,1,1,1,1,1,1,1,1,1,1,1,1,1,1,0,0,0,0,0,1,1,1,1,1,1,1,1,1,1,1,1,1,1,1,0,0,0,0,0,0,0,0,0,0,0,0,0,0,0,0,0,0,0,0,0,0,0],[0,0,0,0,0,0,0,0,0,0,0,0,0,0,0,0,0,0,0,0,0,0,0,0,0,0,0,0,0,0,0,0,0,0,0,0,0,0,0,1,1,1,1,1,1,1,1,1,1,1,1,1,1,1,1,1,1,1,1,0,0,1,1,1,1,1,0,0,1,1,1,1,1,1,1,0,0,0,0,0,0,0,0,0,0,0,0,0,0,0,0,0,0,0,0,0,0,0,0,0],[0,0,0,0,0,0,0,0,0,0,0,0,0,0,0,0,0,0,0,0,0,0,0,0,0,0,0,0,0,0,0,0,0,0,0,0,0,0,0,1,0,1,1,1,1,1,1,1,1,1,1,1,1,1,1,1,1,1,0,0,0,0,1,0,0,0,0,0,1,1,1,1,1,1,1,0,0,0,0,0,0,0,0,0,0,0,0,0,0,0,0,0,0,0,0,0,0,0,0,0],[0,0,0,0,0,0,0,0,0,0,0,0,0,0,0,0,0,0,0,0,0,0,0,0,0,0,0,0,0,0,0,0,0,0,0,0,0,0,0,0,0,0,0,1,1,1,1,1,1,1,0,0,0,0,1,1,1,1,0,0,0,0,1,0,0,1,1,1,1,1,1,1,1,1,1,0,0,0,0,0,0,0,0,0,0,0,0,0,0,0,0,0,0,0,0,0,0,0,0,0],[0,0,0,0,0,0,0,0,0,0,0,0,0,0,0,0,0,0,0,0,0,0,0,0,0,0,0,0,0,0,0,0,0,0,0,0,0,0,0,0,0,0,0,0,0,1,1,1,1,1,0,0,0,1,1,1,0,0,0,0,0,0,0,0,1,1,1,1,1,1,1,0,0,1,1,0,0,0,0,0,0,0,0,0,0,0,0,0,0,0,0,0,0,0,0,0,0,0,0,0],[0,0,0,0,0,0,0,0,0,0,0,0,0,0,0,0,0,0,0,0,0,0,0,0,0,0,0,0,0,0,0,0,0,0,0,0,0,0,0,0,0,0,0,0,0,0,1,1,1,0,0,0,0,0,0,0,0,0,0,0,0,0,1,1,1,1,1,1,1,0,0,0,0,0,0,0,0,0,0,0,0,0,0,0,0,0,0,0,0,0,0,0,0,0,0,0,0,0,0,0],[0,0,0,0,0,0,0,0,0,0,0,0,0,0,0,0,0,0,0,0,0,0,0,0,0,0,0,0,0,0,0,0,0,0,0,0,0,0,0,0,0,1,0,0,0,0,1,1,0,0,0,0,0,0,0,0,0,0,0,0,0,0,0,1,1,0,1,1,1,1,0,0,0,0,0,0,0,0,0,0,0,0,0,0,0,0,0,0,0,0,0,0,0,0,0,0,0,0,0,0],[0,0,0,0,0,0,0,0,0,0,0,0,0,0,0,0,0,0,0,0,0,0,0,0,0,0,0,0,0,0,0,0,0,0,0,0,0,0,0,1,1,1,1,1,1,1,1,0,0,0,0,0,0,0,0,0,0,0,0,0,0,0,0,0,0,0,0,0,1,0,0,0,0,0,0,0,0,0,0,0,0,0,0,0,0,0,0,0,0,0,0,0,0,0,0,0,0,0,0,0],[0,0,0,0,0,0,0,0,0,0,0,0,0,0,0,0,0,0,0,0,0,0,0,0,0,0,0,0,0,0,0,0,0,0,0,0,0,0,0,0,0,0,1,1,1,1,0,0,0,0,0,0,0,0,0,0,0,0,0,0,0,0,0,0,0,0,0,0,0,0,0,0,0,0,0,0,0,0,0,0,0,0,0,0,0,0,0,0,0,0,0,0,0,0,0,0,0,0,0,0],[0,0,0,0,0,0,0,0,0,0,0,0,0,0,0,0,0,0,0,0,0,0,0,0,0,0,0,0,0,0,0,0,0,0,0,0,0,0,0,0,1,1,1,1,0,1,1,0,0,0,0,0,0,0,0,0,0,0,0,0,0,0,0,0,0,0,0,0,0,0,0,0,0,0,0,0,0,0,0,0,0,0,0,0,0,0,0,0,0,0,0,0,0,0,0,0,0,0,0,0],[0,0,0,0,0,0,0,0,0,0,0,0,0,0,0,0,0,0,0,0,0,0,0,0,0,0,0,0,0,0,0,0,0,0,0,0,0,0,0,0,0,0,1,0,0,1,0,0,0,0,0,0,0,0,0,0,0,0,0,0,0,0,0,0,0,0,0,0,0,0,0,0,0,0,0,0,0,0,0,0,0,0,0,0,0,0,0,0,0,0,0,0,0,0,0,0,0,0,0,0]]\n",
    "\n",
    "class Solution(object):\n",
    "    def islandPerimeter(self, grid):\n",
    "        \"\"\"\n",
    "        :type grid: List[List[int]]\n",
    "        :rtype: int\n",
    "        \"\"\"\n",
    "        rows = len(grid)\n",
    "        cols = len(grid[0])\n",
    "        idx = [(r, c) for r in range(rows) for c in range(cols) if grid[r][c] == 1]\n",
    "        l = 4 * len(idx)\n",
    "\n",
    "        for i in range(len(idx)-1):\n",
    "            for j in range(i+1, len(idx)):\n",
    "                if abs(idx[i][0] - idx[j][0]) + abs(idx[i][1] - idx[j][1]) == 1:\n",
    "                    l = l -2\n",
    "        return l\n",
    "t1 = time.clock()\n",
    "print Solution().islandPerimeter(m2)\n",
    "print 'Time Consumption for Method 1: ', time.clock() - t1"
   ]
  },
  {
   "cell_type": "markdown",
   "metadata": {},
   "source": [
    "### Method 2: one for loop using set difference\n",
    "The method used to find indexes is the same as method 1. However, the two for loops used to calculate perimeter is reduced to one for loop using the set method. The basic idea is that:\n",
    "+ For each land grid (i, j), construct its four neighboring points as **`set([(i-1, j), (i+1, j), (i, j-1), (i, j+1)])`**.\n",
    "+ Compare the neighbor sets with the land grids set (**`idx_set`**), using the set difference (**`set([(i-1, j), (i+1, j), (i, j-1), (i, j+1)]) - idx_set`**). The difference represents the number of edges that are not shared with other land grids. \n",
    "+ Sum up these differences, we can get the perimeter for the whole island\n",
    "\n",
    "Similar to the set difference method, we can also use the **`idx_set.intersection([(i-1, j), (i+1, j), (i, j-1), (i, j+1)])`** to calculate the intersected edges, and then deduct them from the total edges. The `intersection` built-in method is a little faster than the set difference method"
   ]
  },
  {
   "cell_type": "code",
   "execution_count": 25,
   "metadata": {
    "collapsed": false
   },
   "outputs": [
    {
     "name": "stdout",
     "output_type": "stream",
     "text": [
      "1030\n",
      "Time Consumption for Method 2:  0.0158672106822\n"
     ]
    }
   ],
   "source": [
    "class Solution(object):\n",
    "    def islandPerimeter(self, grid):\n",
    "        rows = len(grid)\n",
    "        cols = len(grid[0])\n",
    "        idx = [(r, c) for r in range(rows) for c in range(cols) if grid[r][c] == 1]\n",
    "        l = 0\n",
    "        idx_set = set(idx)  # It is very important to define the idx_set varialbe, so that we don't need to repeat calculating set(idx) in each iteration. \n",
    "        # return sum([len(set([(i-1, j), (i+1, j), (i, j-1), (i, j+1)]) - idx_set) for i, j in idx])  # set difference\n",
    "        return 4 * len(idx) - sum([len(idx_set.intersection([(i-1, j), (i+1, j), (i, j-1), (i, j+1)])) for i, j in idx])  # set intersection\n",
    "t1 = time.clock()\n",
    "print Solution().islandPerimeter(m2)\n",
    "print 'Time Consumption for Method 2: ', time.clock() - t1"
   ]
  },
  {
   "cell_type": "markdown",
   "metadata": {},
   "source": [
    "### Method 3: list comprehension\n",
    "This method combine the searching for land grids, together with finding the edges, using the list comprehension method. The idea is that:\n",
    "+ Search for the land grid (value == 1). \n",
    "+ If a grid (r, c) is land, extract its four neighbors. \n",
    "+ If a neighbor is boarder or water, add one to the perimeter. In order to judge whether the four neighbors is boarder or water, the following code is used:\n",
    "\n",
    "**`sum([(r==0) or (grid[r-1][c] == 0), (r == rows-1) or (grid[r+1][c] == 0), (c == 0) or (grid[r][c-1] == 0), (c == cols - 1) or (grid[r][c+1] == 0)])`**\n",
    "\n",
    "For each neighbor, we have two comparisons connected by **`or`**. The first comparison is used to detect whether a neighbor is on the boarder, and the second comparison is used to detect whether the neighbor is water. The order of the two comparisons are very important. If we put the comparison of water first, we will run into error when the indexes is out of bound. So, we must put the comparison of boarder first. If the neighbor is on the board, it will return 1 and quit the second comparison. Thus, it can avoid the out-of-bound error. "
   ]
  },
  {
   "cell_type": "code",
   "execution_count": 26,
   "metadata": {
    "collapsed": false
   },
   "outputs": [
    {
     "name": "stdout",
     "output_type": "stream",
     "text": [
      "1030\n",
      "Time Consumption for Method 3:  0.00812941312319\n"
     ]
    }
   ],
   "source": [
    "class Solution(object):\n",
    "    def islandPerimeter(self, grid):\n",
    "        \"\"\"\n",
    "        :type grid: List[List[int]]\n",
    "        :rtype: int\n",
    "        \"\"\"\n",
    "        rows = len(grid)\n",
    "        cols = len(grid[0])\n",
    "        return sum([sum([(r==0) or (grid[r-1][c] == 0), (r == rows-1) or (grid[r+1][c] == 0), (c == 0) or (grid[r][c-1] == 0), (c == cols - 1) or (grid[r][c+1] == 0)]) for r in range(rows) for c in range(cols) if grid[r][c] == 1])\n",
    "\n",
    "t1 = time.clock()\n",
    "print Solution().islandPerimeter(m2)\n",
    "print 'Time Consumption for Method 3: ', time.clock() - t1"
   ]
  },
  {
   "cell_type": "markdown",
   "metadata": {},
   "source": [
    "Based on this method, we can further optimize the computation by adding a water layer to surround the whole grid, so that we don't need to detect the boarder any more. It is also important to note that using **`+`** multiple times is faster than using the **`sum`** function. This optimized solution reduce the computation time by 50%. "
   ]
  },
  {
   "cell_type": "code",
   "execution_count": 27,
   "metadata": {
    "collapsed": false
   },
   "outputs": [
    {
     "name": "stdout",
     "output_type": "stream",
     "text": [
      "1030\n",
      "Time Consumption for Method 3:  0.00533427244362\n"
     ]
    }
   ],
   "source": [
    "class Solution(object):\n",
    "    def islandPerimeter(self, grid):\n",
    "        rows, cols = len(grid), len(grid[0])\n",
    "        grid = [[0] * (cols + 2)] + [[0] + l + [0] for l in grid] + [[0] * (cols + 2)]  # add water layer\n",
    "        return sum([4 - (grid[r-1][c] + grid[r+1][c] + grid[r][c-1] + grid[r][c+1]) for r in range(1, rows + 1) for c in range(1, cols + 1) if grid[r][c] == 1])\n",
    "t1 = time.clock()\n",
    "print Solution().islandPerimeter(m2)\n",
    "print 'Time Consumption for Method 3: ', time.clock() - t1"
   ]
  },
  {
   "cell_type": "markdown",
   "metadata": {},
   "source": [
    "## 496. Next Greater Element I\n"
   ]
  },
  {
   "cell_type": "raw",
   "metadata": {},
   "source": [
    "You are given two arrays (without duplicates) nums1 and nums2 where nums1’s elements are subset of nums2. Find all the next greater numbers for nums1's elements in the corresponding places of nums2.\n",
    "\n",
    "The Next Greater Number of a number x in nums1 is the first greater number to its right in nums2. If it does not exist, output -1 for this number.\n",
    "\n",
    "Example 1:\n",
    "Input: nums1 = [4,1,2], nums2 = [1,3,4,2].\n",
    "Output: [-1,3,-1]\n",
    "Explanation:\n",
    "    For number 4 in the first array, you cannot find the next greater number for it in the second array, so output -1.\n",
    "    For number 1 in the first array, the next greater number for it in the second array is 3.\n",
    "    For number 2 in the first array, there is no next greater number for it in the second array, so output -1.\n",
    "    \n",
    "Example 2:\n",
    "Input: nums1 = [2,4], nums2 = [1,2,3,4].\n",
    "Output: [3,-1]\n",
    "Explanation:\n",
    "    For number 2 in the first array, the next greater number for it in the second array is 3.\n",
    "    For number 4 in the first array, there is no next greater number for it in the second array, so output -1.\n",
    "    \n",
    "Note:\n",
    "All elements in nums1 and nums2 are unique.\n",
    "The length of both nums1 and nums2 would not exceed 1000."
   ]
  },
  {
   "cell_type": "markdown",
   "metadata": {},
   "source": [
    "### Method 1: for...if...else\n",
    "The key of this problem is to find out the position of the given value **`v`** from the **`findNums`** list, in the **`nums`** list. Two method can be used to find out the position  of a value. \n",
    "\n",
    "+ use the built-in **`list.index(v)`** function\n",
    "+ build a dictionary containing all values and their positions\n",
    "\n",
    "In this problem, we use the second method, which is faster because we build the dictionary before hand, so that we don't need to call the **`list.index`** function in the for loop every time. \n",
    "\n",
    "Here is the logic behind method 1:\n",
    "\n",
    "+ build the dictionary (**`d`**) using value as key, and position as value for the **`nums`** list.\n",
    "+ for each number **`n`** in the **`findNums`** list, if **`n`** is the last number in the **`nums`**, return -1. Otherwise, find the value in the **`nums`** list from the position where **`n`** located. Since we already built the dictionary containing the values and position of the **`nums`** list, we can extract the position for **`n`** directly using **`d[n]`**.\n",
    "+ If we find the value **`m`** larger than **`n`**, add it to the result. Otherwise, if we reach the end of the **`nums`** list, add -1 to the result. "
   ]
  },
  {
   "cell_type": "code",
   "execution_count": 28,
   "metadata": {
    "collapsed": false
   },
   "outputs": [
    {
     "name": "stdout",
     "output_type": "stream",
     "text": [
      "[]\n",
      "[-1, 3, -1]\n"
     ]
    }
   ],
   "source": [
    "class Solution(object):\n",
    "    def nextGreaterElement(self, findNums, nums):\n",
    "        \"\"\"\n",
    "        :type findNums: List[int]\n",
    "        :type nums: List[int]\n",
    "        :rtype: List[int]\n",
    "        \"\"\"\n",
    "        # we can also use the nums.index(n) to find out the starting position, \n",
    "        # without building the dictionary before hand. But it is slower. \n",
    "        res = []\n",
    "        # d = dict(zip(nums, range(len(nums))))\n",
    "        d = dict([(v, i) for i, v in enumerate(nums)])  # This method is a little faster than zip\n",
    "        for n in findNums:\n",
    "            if n == nums[-1]:\n",
    "                res.append(-1)\n",
    "            else: \n",
    "                for m in nums[(1+d[n]):]:\n",
    "                    if m > n:\n",
    "                        res.append(m)\n",
    "                        break\n",
    "                    if m == nums[-1]: \n",
    "                        res.append(-1)\n",
    "        return res\n",
    "    \n",
    "nums1 = [4,1,2]\n",
    "nums2 = [1,3,4,2]\n",
    "print Solution().nextGreaterElement([], [])\n",
    "print Solution().nextGreaterElement(nums1, nums2)"
   ]
  },
  {
   "cell_type": "markdown",
   "metadata": {},
   "source": [
    "we can improve the above method, using a small trick -- adding a -1 to the end of the **`nums`** list, so that we can add m to the result directly, once it reach the end (which is -1). Using this trickwe can avoid the two **`if n == nums[-1]`** statements. "
   ]
  },
  {
   "cell_type": "code",
   "execution_count": 29,
   "metadata": {
    "collapsed": false
   },
   "outputs": [
    {
     "name": "stdout",
     "output_type": "stream",
     "text": [
      "[]\n",
      "[-1, 3, -1]\n"
     ]
    }
   ],
   "source": [
    "class Solution(object):\n",
    "    def nextGreaterElement(self, findNums, nums):\n",
    "        res = []\n",
    "        d = dict([(v, i) for i, v in enumerate(nums)])\n",
    "        nums.append(-1)\n",
    "        for n in findNums:\n",
    "            for m in nums[(1+d[n]):]:\n",
    "                if m > n or m == -1:\n",
    "                    res.append(m)\n",
    "                    break\n",
    "        return res\n",
    "nums1 = [4,1,2]\n",
    "nums2 = [1,3,4,2]\n",
    "print Solution().nextGreaterElement([], [])\n",
    "print Solution().nextGreaterElement(nums1, nums2)"
   ]
  },
  {
   "cell_type": "markdown",
   "metadata": {},
   "source": [
    "### Method 2: next + list comprehension\n",
    "In the first method, the second for loop in fact can be replaced with the **`next`** function, which is to find the next value that match the given condition. What is more, the first for loop can be written in a more pythonic way -- list comprehension."
   ]
  },
  {
   "cell_type": "code",
   "execution_count": 30,
   "metadata": {
    "collapsed": false
   },
   "outputs": [
    {
     "name": "stdout",
     "output_type": "stream",
     "text": [
      "[]\n",
      "[-1, 3, -1]\n"
     ]
    }
   ],
   "source": [
    "class Solution(object):\n",
    "    def nextGreaterElement(self, findNums, nums):\n",
    "        def get_next(n):\n",
    "            return next((m for m in nums[(1+d[n]):] if m > n), -1)\n",
    "        d = dict([(v, i) for i, v in enumerate(nums)])\n",
    "        return [get_next(n) for n in findNums]\n",
    "    \n",
    "nums1 = [4,1,2]\n",
    "nums2 = [1,3,4,2]\n",
    "print Solution().nextGreaterElement([], [])\n",
    "print Solution().nextGreaterElement(nums1, nums2)"
   ]
  },
  {
   "cell_type": "markdown",
   "metadata": {},
   "source": [
    "The above solution can be further simplified by combining **`next`** and list comprehension. What is more, if we use the **`nums.index`** function to find the index, instead of building dictionary before hand, we can turn the solution into a one-liner. This one-liner solution is short and cool. However, it is not necessary more readable and efficient."
   ]
  },
  {
   "cell_type": "code",
   "execution_count": 31,
   "metadata": {
    "collapsed": false
   },
   "outputs": [
    {
     "name": "stdout",
     "output_type": "stream",
     "text": [
      "[]\n",
      "[-1, 3, -1]\n"
     ]
    }
   ],
   "source": [
    "class Solution(object):\n",
    "    def nextGreaterElement(self, findNums, nums):\n",
    "        return [next((m for m in nums[(1+nums.index(n)):] if m > n), -1) for n in findNums]\n",
    "    \n",
    "nums1 = [4,1,2]\n",
    "nums2 = [1,3,4,2]\n",
    "print Solution().nextGreaterElement([], [])\n",
    "print Solution().nextGreaterElement(nums1, nums2)"
   ]
  },
  {
   "cell_type": "markdown",
   "metadata": {},
   "source": [
    "## 292. Nim Game"
   ]
  },
  {
   "cell_type": "raw",
   "metadata": {},
   "source": [
    "You are playing the following Nim Game with your friend: There is a heap of stones on the table, each time one of you take turns to remove 1 to 3 stones. The one who removes the last stone will be the winner. You will take the first turn to remove the stones.\n",
    "\n",
    "Both of you are very clever and have optimal strategies for the game. Write a function to determine whether you can win the game given the number of stones in the heap.\n",
    "\n",
    "For example, if there are 4 stones in the heap, then you will never win the game: no matter 1, 2, or 3 stones you remove, the last stone will always be removed by your friend."
   ]
  },
  {
   "cell_type": "markdown",
   "metadata": {},
   "source": [
    "### Method 1\n",
    "\n",
    "I would consider this task a brain teaser question, rather than an algorithm problem, since the coding part is really simple. Let's start from some simple numbers here:\n",
    "\n",
    "+ n = 1/2/3: you can always win, because you will take the first turn\n",
    "+ n = 4: you will always lose, because no matter you take 1/2/3, your friend can always take 3/2/1 to remove the last stone. \n",
    "+ n = 5/6/7: you will always win, since you can take 1/2/3 stones, leaving 4 stones to your friend (from the above example, we can see the one who starts with 4 stones will always lose)\n",
    "+ n = 8: you will always lose. Because no matter 1/2/3 stones you take, your friend can always leave you with 4 stones. \n",
    "\n",
    "From the above iteration, we can see you will lose if n is divisiable by 4, while you will win if n is not divisible by 4. "
   ]
  },
  {
   "cell_type": "code",
   "execution_count": 32,
   "metadata": {
    "collapsed": false
   },
   "outputs": [
    {
     "name": "stdout",
     "output_type": "stream",
     "text": [
      "False\n",
      "True\n"
     ]
    }
   ],
   "source": [
    "class Solution(object):\n",
    "    def canWinNim(self, n):\n",
    "        \"\"\"\n",
    "        :type n: int\n",
    "        :rtype: bool\n",
    "        \"\"\"\n",
    "        # return True if n%4 else False\n",
    "        return n%4 != 0\n",
    "\n",
    "print Solution().canWinNim(4)\n",
    "print Solution().canWinNim(10)"
   ]
  },
  {
   "cell_type": "markdown",
   "metadata": {},
   "source": [
    "## 521. Longest Uncommon Subsequence I\n"
   ]
  },
  {
   "cell_type": "raw",
   "metadata": {},
   "source": [
    "Given a group of two strings, you need to find the longest uncommon subsequence of this group of two strings. The longest uncommon subsequence is defined as the longest subsequence of one of these strings and this subsequence should not be any subsequence of the other strings.\n",
    "\n",
    "A subsequence is a sequence that can be derived from one sequence by deleting some characters without changing the order of the remaining elements. Trivially, any string is a subsequence of itself and an empty string is a subsequence of any string.\n",
    "\n",
    "The input will be two strings, and the output needs to be the length of the longest uncommon subsequence. If the longest uncommon subsequence doesn't exist, return -1.\n",
    "\n",
    "Example 1:\n",
    "Input: \"aba\", \"cdc\"\n",
    "Output: 3\n",
    "Explanation: The longest uncommon subsequence is \"aba\" (or \"cdc\"), \n",
    "because \"aba\" is a subsequence of \"aba\", \n",
    "but not a subsequence of any other strings in the group of two strings. \n",
    "\n",
    "Note:\n",
    "Both strings' lengths will not exceed 100.\n",
    "Only letters from a ~ z will appear in input strings.\n"
   ]
  },
  {
   "cell_type": "markdown",
   "metadata": {},
   "source": [
    "### Method 1\n",
    "This problem looks long, but it fact what it requires is very simple -- if two strings are different, return length of the longer one. Otherwise, return -1."
   ]
  },
  {
   "cell_type": "code",
   "execution_count": 33,
   "metadata": {
    "collapsed": false
   },
   "outputs": [
    {
     "name": "stdout",
     "output_type": "stream",
     "text": [
      "4\n",
      "-1\n"
     ]
    }
   ],
   "source": [
    "class Solution(object):\n",
    "    def findLUSlength(self, a, b):\n",
    "        \"\"\"\n",
    "        :type a: str\n",
    "        :type b: str\n",
    "        :rtype: int\n",
    "        \"\"\"\n",
    "        return -1 if a==b else max(len(a), len(b))\n",
    "    \n",
    "print Solution().findLUSlength('aba', 'cdcd')\n",
    "print Solution().findLUSlength('', '')"
   ]
  },
  {
   "cell_type": "markdown",
   "metadata": {},
   "source": [
    "## 136. Single Number\n"
   ]
  },
  {
   "cell_type": "raw",
   "metadata": {},
   "source": [
    "Given an array of integers, every element appears twice except for one. Find that single one.\n",
    "\n",
    "Note:\n",
    "Your algorithm should have a linear runtime complexity. Could you implement it without using extra memory?"
   ]
  },
  {
   "cell_type": "markdown",
   "metadata": {
    "collapsed": false
   },
   "source": [
    "### Method 1: append + remove\n",
    "This method is very straight forward: \n",
    "\n",
    "+ build an empty list to contain the numbers\n",
    "+ for each number **`n`** in **`nums`**, try to remove it from the list. If it fail (which means that **`n`** is not in the list), append it to the list. \n",
    "+ As a result, all paired numbers will be added, and then removed. Finally, only the single number will remian in the list. "
   ]
  },
  {
   "cell_type": "code",
   "execution_count": 34,
   "metadata": {
    "collapsed": false
   },
   "outputs": [
    {
     "name": "stdout",
     "output_type": "stream",
     "text": [
      "15888\n"
     ]
    },
    {
     "data": {
      "text/plain": [
       "1.5129806382470736"
      ]
     },
     "execution_count": 34,
     "metadata": {},
     "output_type": "execute_result"
    }
   ],
   "source": [
    "class Solution(object):\n",
    "    def singleNumber(self, nums):\n",
    "        \"\"\"\n",
    "        :type nums: List[int]\n",
    "        :rtype: int\n",
    "        \"\"\"\n",
    "        # The try...except part can be replaced witht the if...else one-liner:\n",
    "        # [l.remove(n) if n in l else l.append(n) for n in nums]\n",
    "        # Howerver, the computation time will increase\n",
    "        # since it need to just whether n is in l every time. \n",
    "        l = []\n",
    "        for n in nums:\n",
    "            try:\n",
    "                l.remove(n)\n",
    "            except: \n",
    "                l.append(n)\n",
    "        return l[0]\n",
    "\n",
    "nums_1 = [16806,9374,12354,11422,17798,8856,17862,1310,1674,1380,16430,11998,15828,11336,8416,16288,16278,5804,566,19108,1762,3388,10550,17616,12744,7182,10186,18620,4284,1934,15856,8834,16744,17732,15624,13342,10850,9838,7948,11716,15126,5110,7270,5174,10368,3780,12216,9384,9138,8132,450,3980,7804,6584,4442,17530,1796,11872,8310,5760,13462,9344,16306,3018,19720,5762,13328,2400,11912,3276,16938,17954,18482,17052,8746,4164,7210,10258,2288,960,3634,14890,15930,7674,10680,4504,17902,16500,5058,3790,5958,7944,3084,16292,1226,2310,4972,17646,2416,10818,9800,5194,5666,18268,16704,18382,14578,4280,13678,4066,7998,14586,6752,13192,6126,4052,19722,8942,17214,7002,19740,2900,1244,13488,16490,12968,8582,17004,13278,17854,262,17720,7082,15168,19370,12346,13366,9998,14876,8532,1990,12246,15044,4346,5728,10530,15280,13114,13886,11358,8272,17380,1918,2414,3538,19948,11516,2434,18986,6564,8442,12598,13140,3422,19046,16724,1934,15970,8830,9710,586,17030,18438,18002,7296,5214,1414,15908,11210,15016,14164,17846,9028,11584,13326,18064,13512,17376,17678,19144,14674,8508,13398,7628,700,17324,6186,13362,8388,3110,644,6460,8170,7188,6480,16150,4232,13738,72,8930,11772,1922,19884,10810,19706,10766,7664,16408,15902,14612,454,18868,6370,1616,16270,4488,17360,4582,2456,16228,1752,14102,9438,2642,3140,1348,18290,14456,15972,10038,7920,1326,14326,13502,16054,7032,6212,8008,3400,9066,14094,11734,13504,11790,5752,264,8850,670,17154,4164,7398,8274,17202,9302,14776,9842,14406,13340,1300,15356,9306,8464,7336,15066,8560,4696,11556,19376,13828,17424,16416,7884,10098,9266,12076,16030,6138,15116,16466,17018,11578,6546,12644,16514,14804,12322,19020,11782,11776,18442,19152,13906,8214,5848,16216,14984,10094,2526,9576,11570,10854,7868,6284,12082,5560,82,18852,13908,7250,3230,12898,1622,11788,538,9524,18012,4226,9270,6726,13432,6388,14554,5992,6038,16336,9454,5926,9636,4706,16112,14680,17400,11202,17002,6074,13172,16948,12930,13406,15490,2412,1096,9432,9606,11590,4972,4492,1858,16636,2532,18122,16336,15848,11350,774,3856,1038,7638,7714,11228,16722,17534,8176,336,4318,13084,9990,8874,14300,6978,1612,12372,14950,15378,494,14640,17472,6840,2804,2844,3472,14500,13818,11810,17832,17168,18688,19888,15238,17328,748,17628,17482,17558,14834,16668,7938,918,15272,8722,13900,120,4608,2988,15304,6028,9566,14812,8690,19048,19244,726,9308,14690,16584,19810,1070,16014,17896,2674,10760,16634,12260,13742,16872,18444,15800,8864,17106,17908,15532,2318,4452,10614,19160,8580,1832,2708,18232,12254,10490,17800,15082,882,14162,8694,6216,15876,10980,18898,11066,11308,5318,3240,14046,1072,5782,6776,12770,18322,11640,9224,11116,15810,19446,848,1620,19250,6928,3600,18198,14382,13106,7614,5076,19624,10620,11952,16296,15176,11088,1308,12500,2808,9684,1342,1800,17714,10794,17032,13810,13026,6410,15890,4448,17060,9492,752,9612,5682,18328,3920,7386,15070,9958,14232,6314,4188,16010,19788,15514,528,4340,776,8782,8840,18004,6904,14136,14494,11072,12348,1584,18380,2842,6030,3606,356,7868,17408,18520,3188,12292,9866,10536,1772,16318,5858,5412,19370,3666,5168,14948,8226,12542,2560,7282,17010,5844,9030,5450,1272,17866,13188,1354,14868,3684,14986,3918,9170,6188,2164,2764,11132,18198,19128,7730,6952,12824,1036,14780,15382,18320,508,2008,660,14934,6562,6844,6792,2636,15442,8548,6130,14886,6922,1918,554,12280,9368,19846,5900,19438,8750,15468,2664,78,15834,9156,12592,5688,2950,2056,862,6220,13556,13910,2362,10684,2574,11296,13274,18682,1404,15070,15662,9968,3392,12450,7636,13812,1980,2092,11166,16590,11176,11218,932,16962,3916,7780,19646,19310,10114,18418,7138,13646,16606,3516,9602,10128,17864,19858,10180,12226,14000,17472,9070,16826,6028,13722,1714,5000,19724,3566,2436,18530,19372,16440,11272,7856,8338,11126,1712,12524,19772,3618,19176,9354,8712,6702,3256,15460,19350,17834,17006,19244,6608,4762,18746,5144,11078,19892,2310,16422,17046,9784,2510,1808,18944,18352,8784,12366,2132,6894,1104,18484,13722,11530,1146,6412,8204,12486,13270,9208,2650,14590,8620,3066,8678,1870,6268,9678,18706,17294,6846,6846,18938,6900,14820,1946,13024,6008,3170,1478,1908,6360,5316,13890,18918,10410,3878,18574,546,12126,13612,14760,15640,3292,12634,4940,4294,18370,15984,2032,10514,5408,19378,6762,13678,4932,19118,18666,6446,6778,2692,7150,2608,13450,166,15076,14964,6236,8888,9436,5562,4718,12998,8178,11622,6768,1806,3726,14574,13542,2430,13728,9130,7558,7646,17964,13644,824,12954,6656,6134,6528,5634,17628,5982,19702,15432,16236,18744,10988,10374,15114,2354,14822,478,726,14284,17250,15768,14752,5164,11554,1552,17302,7312,13876,16922,1166,19086,7466,13542,19540,8236,18928,6790,16240,792,3240,3754,3064,4560,10208,9482,3606,16472,15518,15322,4708,3356,5906,11454,17974,5972,12656,15056,13988,14724,7320,8332,19208,13904,1340,8674,12082,19768,4550,6956,16116,11110,10660,8236,16394,15138,10928,4450,12536,2720,15762,8806,12142,3412,17072,7776,19940,18504,7370,2384,15186,17016,12744,15198,14368,14958,11214,9236,4980,182,16142,10846,2456,430,2322,7124,19888,5772,19578,6874,18224,18396,808,15352,12680,14878,5878,1842,12952,18674,12432,2798,16520,16992,12648,13198,18092,13496,19498,9996,14946,10388,11740,682,4660,18076,6096,16954,9986,3200,8312,5242,18876,14588,4570,13248,15114,5788,18062,19042,7540,7374,10582,15578,14192,2758,2156,476,76,16072,19842,14608,8776,5302,5136,17170,13324,2220,16760,18422,13496,16904,15500,19374,8468,6378,15738,16676,18500,8650,13246,13986,13314,5388,7974,18410,15372,3716,3636,5368,10524,1322,14444,13628,6306,2820,9526,4612,14138,19262,5122,10798,3888,15658,10320,13526,18118,924,9320,9662,10622,14706,13576,18854,5304,15660,16122,13614,19052,7096,14184,13864,18394,16426,11462,1274,10546,16734,3220,6648,7604,5162,2132,716,11386,12952,2130,3660,17354,11338,7478,18820,15178,1880,7186,5390,14216,5964,4960,2558,2924,3794,1640,2598,9728,12666,15646,94,1710,5342,6692,12080,880,6716,11698,1042,11662,946,3568,3208,19026,19102,11684,10188,4050,414,19430,16082,6612,14758,1964,8424,14796,13210,15640,2260,7810,14036,5398,7242,10360,10834,11816,14024,11622,8218,3498,1642,16482,13674,416,2002,5204,15158,5358,15814,10886,5224,3292,11656,5648,17372,3986,13626,1406,626,17512,13030,10570,6156,16608,9010,6836,12506,11242,16168,10008,17676,228,13264,18596,9960,8730,10802,6218,9982,8000,14308,872,232,15590,10096,298,18222,1974,16846,2080,3628,11574,18160,16530,4426,13410,7560,15032,528,2320,9942,6084,7932,10246,2498,18810,12728,15318,7612,11210,15382,9852,14100,656,19220,16990,11892,1132,11866,12108,3216,3062,16054,14450,7498,11734,4858,1516,1724,2450,746,5370,9548,8706,5758,14088,10470,9668,10748,2294,17114,2226,6964,16208,6482,192,17592,16570,17922,3774,966,8476,10052,9036,13802,3598,17442,14600,8408,4160,7240,9644,19280,2224,6836,19456,4776,7822,630,17372,5480,818,18056,19280,10392,10460,3478,6916,58,3076,14886,5930,5516,17032,3132,16970,11600,10288,16530,19928,2862,17670,12036,14470,17144,17198,14366,16610,8908,3810,1872,558,17852,4074,17610,17554,6522,17728,5438,14862,4316,5198,5172,16984,5104,15232,3090,6600,16066,6552,17260,10058,19204,3642,16170,5754,5216,17502,2402,3072,6168,1360,13414,13300,5082,15922,6162,2622,11238,18990,9038,6922,1118,10438,12684,1430,3008,16214,8574,7546,16812,316,16526,18136,14614,9670,4420,5614,12384,3372,18190,3840,19456,19420,11128,6682,6914,13122,19676,18640,19508,14278,15260,3700,4940,9942,15236,13240,18370,8106,106,6414,18128,18204,18038,10318,7392,17414,8740,12340,3938,13354,16066,1678,10370,10942,15636,4078,3620,11264,17124,3484,15044,1774,11626,15612,262,14502,10554,1282,19356,5944,5886,19178,18780,12116,19980,3558,1862,18518,7646,4748,8778,18144,1490,5158,14488,15394,4446,2116,5976,4274,360,4190,17180,5008,5224,12368,4864,6470,9244,19326,15456,18104,12992,12254,14454,9414,12180,2564,4874,17320,5928,9196,12120,4512,14186,7200,1376,14058,6968,15778,15742,5324,16964,19044,2388,2148,18510,2580,7208,11422,19404,9760,16230,5692,18046,7830,12832,19406,13054,14360,14974,18404,11304,14112,16042,2664,686,16740,16430,4946,4112,6106,8224,19908,11928,14730,3572,13446,1900,774,12328,16832,7928,9050,18338,11448,9248,4142,3594,242,18582,17522,17020,16932,19452,12526,2688,19912,2298,17932,18030,15744,16976,10954,1124,18258,4416,14024,4820,68,14392,17710,11040,11936,5034,7464,6430,19268,14286,9048,18540,18698,11330,13924,13664,10034,8328,7750,17258,6980,19104,9158,18940,16964,8466,6956,5304,12678,8126,17680,10890,19138,13166,10068,9180,11614,8196,2450,8846,18810,6884,5586,10708,17938,1474,15854,8442,8682,1294,13560,18186,1846,10916,17080,5434,10202,7252,12766,10222,14692,6946,12468,17268,14422,17256,13730,17428,13036,7950,12166,12540,18128,8534,15168,14498,12054,6760,1366,14854,19388,6728,15028,3646,8082,16630,9298,14636,16564,15418,7292,17024,3070,15710,19818,5244,9834,7066,18824,19166,8562,2810,6340,18778,11536,12418,17500,19472,7540,12740,5690,276,14838,9190,17662,12924,17952,17240,18372,7234,9102,8628,4886,6292,12834,13064,16502,66,3942,17378,5584,17810,11188,12146,17212,12628,3642,9976,16452,3688,634,798,5128,12650,4994,2334,12670,19420,6960,5156,16956,220,298,3874,8998,3852,10994,16348,8808,11458,1902,11452,16448,14666,18676,5778,15244,15214,16006,19416,13508,3184,16104,2414,12174,19700,5570,19186,11510,1492,4906,17316,3062,5604,52,8246,17540,10208,19320,18042,6426,4506,1004,5912,4094,8778,3756,14308,8502,19444,3778,17002,7764,12796,19672,2074,16094,7858,3948,16978,17734,13384,4894,18204,3634,19214,10130,10108,5494,5300,2714,18142,18780,12856,12350,17150,12480,12780,5900,19132,5338,9404,9966,17492,9142,7886,8910,16046,8786,14256,18264,7352,10722,6702,2608,5136,8404,13298,4968,17690,7020,17760,9292,7420,15632,8024,19750,5316,15362,14194,15228,19542,242,15170,11500,15558,5004,11322,9972,9826,9478,11248,19902,12424,10548,6142,2036,4558,9060,18952,518,10338,15794,13724,7784,19106,3840,19836,19864,18142,14468,12538,18802,2246,6020,12448,14174,16498,30,10966,6714,3944,14298,6094,15714,13734,5070,12494,12904,17028,13032,2490,16790,2140,6724,13608,3034,2342,13202,2708,16070,9570,10106,2506,18412,9136,9818,18830,16346,11612,10146,5456,17916,5234,3178,2538,5232,9154,7474,64,12358,16596,9588,4680,11934,14602,12282,4610,4824,14476,11506,4228,14782,19216,1736,10492,11198,17410,11556,5412,1598,3156,13020,11034,19298,5322,8552,6350,12944,11900,16574,6002,16630,14304,10994,6554,3454,5088,562,15160,13532,11976,11964,1230,17458,14746,13816,8068,8786,4838,14160,1744,5718,1812,13208,5822,11830,15492,9886,1296,12942,9918,16012,12488,15466,13616,17956,3148,1324,6650,5702,7674,15262,14052,18754,888,16604,16232,11926,10094,12420,10030,4206,3022,3020,582,13430,4912,16396,9730,3134,14218,9542,5710,4438,4302,12126,1698,6496,6316,4992,740,19382,3572,530,2180,18334,8616,12156,15748,2246,5498,15042,17840,12922,14190,5100,16794,3114,13752,15592,6784,17584,1414,12984,768,8994,9016,6366,7394,10480,14320,3296,6010,13226,19514,13732,9812,14476,11670,7622,11932,13230,2176,7712,5376,12124,14906,3988,4060,2090,17726,14972,5230,7514,10952,13436,6976,7132,9050,88,3058,13126,6910,10936,11044,4508,758,18422,14988,270,12160,9520,1416,10266,116,1912,9706,5642,19396,110,8358,26,15974,12776,19436,480,14242,5162,9672,18170,12100,8418,17048,11314,18738,4740,12460,16732,12290,8892,10162,11204,3738,10158,9388,15376,4960,4346,3530,16128,19966,14202,18398,10084,1840,264,8644,2232,2902,12664,18282,928,6646,8906,19568,13516,14880,6224,11752,8946,7298,9364,16650,10704,14228,16828,9058,2606,4034,18384,17670,13090,5350,19756,18484,392,4102,5856,8062,11692,12316,1624,17452,9958,12566,15388,17188,7508,6892,18112,3834,11068,10496,8096,12158,832,2588,10342,1648,9586,9462,17696,16506,516,11760,5454,5796,9858,5056,5756,4648,11386,3710,5734,13350,9066,11524,19316,6196,3592,17408,18558,18164,12360,10642,17582,7086,1718,8046,13622,18800,8040,9450,5404,300,10166,9196,12884,5520,6690,6536,18114,13820,19396,10128,9438,9286,2072,10006,14592,7900,10344,12462,4924,5570,9626,19426,10176,7980,14272,2262,12026,16806,1646,10686,8528,8276,6902,8250,16888,2468,6276,14850,8958,3616,15506,12556,558,18182,11634,3462,2390,6472,1728,5554,15666,3528,4588,16714,9216,5632,5492,9654,2672,6930,7804,15982,10896,4334,8872,5704,16062,8826,16704,12706,6492,1314,19894,12380,14896,19006,4096,10610,5268,2358,6712,222,5810,16244,12444,6686,4820,8120,10238,522,15430,2666,7222,966,1276,8744,18298,16400,10156,4986,11142,18784,14930,17842,13958,18226,2938,19608,3350,10494,15598,16974,17700,5956,3234,3704,5090,7244,16640,18502,15602,3254,2072,6454,7652,15286,4222,5676,10126,15882,8878,4070,9220,13854,2694,1484,18808,3248,12522,10804,8154,17804,19886,6982,1906,4616,11178,9506,11666,6920,1034,5602,15282,13638,13296,4580,17104,18740,1582,4712,12204,2658,16702,8232,1436,14072,7872,3026,19850,10650,6812,14654,17674,18942,16906,2150,14806,2228,17868,6032,18384,16954,6392,18768,7442,9486,19038,7120,16126,9056,9384,178,9012,15128,6030,14496,3680,12060,15862,5828,15450,4560,6460,10778,3398,736,8748,14976,14822,19878,19458,13550,1912,17940,7266,15892,11802,1126,7766,10768,17834,10178,14110,10230,10950,18870,13460,11200,13886,7872,8976,8384,8232,7566,4788,15780,19470,156,2050,8036,12734,8896,3616,10972,10004,3074,656,2322,5424,18742,5448,13458,11122,4120,19790,12234,7342,11032,15030,2012,7276,13138,10740,19782,6826,19460,13482,13822,13382,12056,8744,8742,14908,1092,1708,11544,12440,9808,18026,1920,4448,8546,13280,14036,10882,13520,7036,15816,3880,18966,18968,5924,3432,14712,8768,14550,16588,15118,7878,10522,6088,1312,7904,5234,6438,13302,19200,15982,16320,7334,716,5320,7418,3624,18436,4490,5476,6070,86,7172,7818,188,16444,5052,9744,6680,8340,6290,4408,17912,13824,13808,11624,19068,908,7088,16470,11152,14440,6352,13076,16942,884,660,9776,6084,3438,19696,17734,12282,15964,1162,14180,13776,17080,16302,16684,12756,11124,10494,11652,12516,13146,13246,10970,16086,14052,17314,16838,9476,3912,13518,9996,7676,2478,11378,5260,8470,18544,5790,17596,12378,9082,2902,9070,19052,2750,19752,18446,6638,12466,13368,18718,12804,8600,6756,442,16688,2802,1370,12300,15638,12868,2458,2742,6432,5176,16510,9536,6248,8966,6064,15954,11678,16252,8608,11390,10374,3382,15960,15884,9092,15928,574,2348,15998,13358,4562,16996,19732,15572,1498,254,19050,3252,14928,9752,5552,5440,11366,19540,5996,4278,11280,4372,9376,14858,8152,17884,15302,15424,4018,988,3420,7608,13802,1756,17366,1062,18562,3426,10056,19168,10826,14888,16286,5708,1368,1868,17026,15896,598,18460,10314,728,6788,3986,5860,2938,7468,15520,9112,13978,3912,8896,6444,11206,3982,16312,18512,5708,9110,3226,15204,9080,16076,17700,13764,19686,19536,2974,19048,15512,11190,14018,5586,9256,1604,536,7632,502,15936,2432,18958,600,19108,7734,14626,5396,10188,13836,17878,12900,1190,1324,19776,6032,19538,19338,17466,15408,4306,8150,19402,16798,6532,768,60,17684,16676,17014,11150,5838,1904,7390,16234,7000,4028,18666,3486,17550,4758,11270,3194,7882,8912,8480,620,3926,19590,7194,1158,15020,7272,14176,15606,5784,13046,4366,9606,216,19304,7752,13438,13538,14400,10918,19580,13876,12024,12446,11208,14534,16850,19410,4314,2326,2700,15656,14654,10722,9042,15792,19504,19366,2930,15380,15258,8416,10140,17142,1966,11284,4966,9586,9112,2014,11152,7562,3394,18406,7746,6850,4762,19848,15144,5312,96,16960,10910,10756,3770,304,3562,17438,14282,15102,8394,552,14016,14458,1896,11722,4674,7988,18080,14762,12870,13190,14026,12248,5452,2566,8128,17746,18786,16554,3918,9004,1850,15046,12752,8168,12326,10452,9570,4076,762,1558,3846,15478,7594,7098,2178,11282,9006,5660,5830,17102,6244,19628,5246,3036,13704,18202,9676,10690,17708,17144,5366,7590,13870,16488,8924,10122,12274,11864,13706,19286,7558,5258,5588,7078,7224,12386,11478,10772,17110,11074,17402,10326,12780,8734,11310,18836,18776,3728,14884,6340,2248,3432,3056,834,5114,11236,1952,10604,8164,16646,8736,2792,18710,11352,15110,19840,4822,3282,2914,7446,7178,16258,5068,14734,13592,4732,11574,12006,12886,15826,1434,3984,9534,164,2818,5642,13446,3968,140,11086,4692,9190,17824,84,15264,4922,15908,4480,10880,6456,10206,14144,18684,10508,7946,7672,3206,17696,11668,14378,18906,3744,5502,9094,13546,18752,4196,4398,15902,18340,5592,7130,7498,7056,16118,9558,1804,212,17970,5338,10628,14186,3266,13774,15610,5204,3336,8652,18910,17708,6814,9182,7346,7582,11022,14374,19430,11440,19476,2096,2660,8474,4294,5256,2760,1554,10054,19742,12760,6182,19796,14122,18942,14628,15366,7348,12174,766,3306,1330,5732,10842,8044,10164,1218,15934,13482,5912,4010,8178,11668,1710,13526,10718,1946,9758,18192,4710,9740,12584,13332,14874,10160,1314,4886,18440,19720,2920,18342,17280,6920,1760,13364,474,10082,4050,4676,7642,7970,1006,5460,17718,17784,18096,2406,1692,4178,10720,19640,8268,4344,2394,6474,11726,11370,2546,8666,7534,19274,11880,13290,14428,11362,12466,15920,15844,5794,4404,15292,19764,19082,14336,16504,7986,18018,17126,3066,8524,9688,4486,18898,2022,13058,16878,7468,10730,13588,13404,3044,370,18694,12012,11656,18838,1096,11170,6208,7976,10246,6398,5716,8434,19924,10174,4692,19800,11708,19840,17850,1712,16140,7388,13684,9860,7230,10302,19196,6640,13868,10540,11144,10466,16566,19882,8000,14200,15874,12008,2822,12646,16442,2722,17934,7466,9836,13328,10428,13456,14184,14406,6942,16312,4974,9694,14262,2442,9620,15820,14882,11710,11172,5446,16458,1936,1494,16280,14548,18766,19874,14926,11756,19174,7530,3002,11730,11378,18454,17948,11930,9700,11432,128,5884,11148,17566,2418,20,4916,356,19204,15078,9786,8880,14892,2848,13418,9922,14910,9502,15290,14342,17272,15944,14220,1656,4482,14372,11978,13094,18,11082,5378,17566,2314,14556,2898,16768,16612,12594,8136,16636,9254,14604,2406,15174,17786,7008,3808,2044,3084,6678,17204,7902,5332,9064,9888,13596,18900,2052,12436,2904,15162,10294,19502,3070,7298,10806,13830,14456,550,17636,1360,7368,5550,19278,12722,14078,11940,9306,4444,5726,17202,14070,6812,8240,4252,14338,3246,9546,2156,13970,7048,7704,11084,8516,7648,4384,9740,18958,1906,17362,13234,8576,2328,15196,19656,17050,7110,13264,8630,2828,778,5894,10444,9600,12532,12170,6506,10562,10812,6550,11862,1368,13926,12532,8626,12638,4082,1728,14614,16264,9964,4248,3028,11130,3576,4092,9148,5512,11498,14848,6324,3458,578,16908,19520,1594,3298,2544,2614,11686,3800,3698,10226,3746,12770,3224,5030,1356,19314,1504,14840,7252,12820,19844,9900,10054,12534,13330,4870,5082,3014,11616,8514,13424,17442,19984,16404,13344,12846,8752,4282,10288,12572,10888,6076,14696,14700,4010,5550,4790,3992,13514,19218,3602,16718,17344,6026,9560,16274,108,2646,8168,11298,7062,15552,7254,11674,12998,16398,634,6226,13778,13028,11490,7094,9602,11158,7740,5096,5950,4044,9020,11102,2486,4080,11180,15316,1438,962,6004,6708,7656,3476,12338,938,10852,13648,13388,11374,10038,17308,4730,18460,5784,8612,15034,19184,8554,4024,5168,14504,18726,7964,2428,5872,18828,13544,9160,3876,18842,18130,13842,11704,6388,2602,16666,1636,11346,15952,7592,17940,118,5538,14646,11918,2990,4968,11582,638,6616,19812,8902,10482,2748,4816,5842,662,12038,794,8244,19796,2154,6902,16868,15990,1834,2650,3752,16600,2258,17468,17380,9032,10224,12676,14900,16460,11122,1976,15312,7340,1690,10364,9700,14502,3000,15346,2252,6722,13032,16100,13748,7936,7736,3736,5780,10032,2626,16930,128,1996,9914,17432,6864,17848,14962,10184,4246,17216,14970,19542,292,13464,8252,13038,6448,11010,2042,3590,1496,10790,9796,788,14812,6560,19106,2358,14836,14342,6008,17842,3706,5948,1802,4664,2824,3862,16998,9472,704,4026,1556,18904,15328,4016,15826,2966,12890,12146,18670,11380,8414,14808,13784,2290,2168,15338,478,18538,3688,4326,4970,19228,18118,6052,8820,17982,9278,1992,13186,16194,9168,3310,3946,14762,13472,5078,11076,3300,874,636,4590,16594,824,15668,3052,2968,5466,18446,16358,8648,5226,1944,13214,7154,13290,10166,5750,7316,3214,15822,1256,4300,8250,4664,16892,1306,17456,17404,7678,1396,8484,17286,12336,17914,12926,14596,2282,1426,8934,8916,7968,2758,9620,7164,18606,11792,548,19176,3882,1338,3558,1266,17450,19920,10262,534,19558,11296,210,10948,7658,2328,7620,1032,522,18660,13012,8216,11242,16782,8846,16424,4796,6940,4464,11160,12382,7728,18632,17672,17258,15172,6500,7642,5952,13794,17092,13462,16968,16020,6896,3396,11502,19828,3846,10820,18286,2266,7808,15122,2510,2152,19938,15268,17432,1448,7416,7436,8610,4446,14582,12972,6856,790,4626,458,7552,10490,2638,13144,11522,18894,6050,2854,18278,4380,4388,14816,666,1470,8696,16908,8886,6158,9736,4518,9480,7284,7724,11114,5094,4848,8,5766,14266,15594,254,12936,17206,2240,6706,9826,4376,12032,18148,4002,8592,7064,18214,3110,2374,4088,14548,5814,4436,6104,9674,17520,8792,19398,13688,6934,11446,8666,18548,5994,14804,16340,19014,1182,11868,2376,19146,12682,10870,14324,8256,9792,18476,10072,13664,14234,13848,17888,14620,10024,6164,12394,14328,15504,4984,14040,1300,10074,118,9762,15928,4760,10116,17494,12240,11704,734,2944,19760,10884,15506,5626,7630,15410,2150,12248,15910,6160,4118,5254,12926,7706,15212,11598,13018,10606,5776,1610,4492,6814,15732,11724,10134,18412,1022,4716,1770,18240,2472,12448,19096,16988,18630,14176,16664,6464,12836,526,2856,7080,17618,3782,8018,6198,7454,2524,2128,5138,4204,12490,2474,10142,4946,18972,8406,5818,7262,5456,15012,10264,4532,15064,216,9156,19802,16174,15466,19620,10258,504,14248,9788,2166,17322,11782,5676,19206,5820,8550,11156,17084,190,4760,11694,16278,6834,12074,10334,2200,4460,15194,9872,10470,1660,5898,7142,14536,17264,6224,2784,8494,3958,11916,17982,11234,10254,16276,7388,12310,16938,1240,8688,2186,1746,12724,8702,8894,1238,16986,18024,3560,15384,286,8352,9934,5052,8452,5390,15906,1718,11232,5420,10046,3398,1076,18364,17732,14230,306,18020,2002,13086,302,14224,6232,6138,16842,19010,18598,11204,16456,1926,10236,17554,18242,3322,4686,6166,5712,17284,864,4234,2324,8238,3380,9732,5076,7270,3676,13034,17482,8314,18962,5970,1910,1954,19654,338,19938,2488,4816,8494,3212,17310,7100,11758,14690,11978,13852,2846,3466,19484,14610,2008,18864,2774,8926,180,19634,12162,17116,10604,7754,5268,14058,16794,4614,10372,19816,4982,11414,19360,8302,14224,5918,3884,10022,5238,12102,17184,4218,7682,16428,1932,2640,12290,15536,4536,1682,18430,10252,6486,7826,9862,17348,7430,18600,5036,4222,3424,14536,14430,18774,5266,19792,86,930,1130,2460,3872,1608,7106,8712,10454,1458,19672,17156,11566,5034,426,10308,11134,2224,9680,3422,2492,792,12586,2840,10912,15428,5150,7122,16598,2660,18470,11680,1852,8700,9116,1400,17248,4842,17396,17044,14256,5824,16046,13238,18934,4390,3002,4880,13902,3168,1532,10292,14546,8516,15512,10986,14054,11672,16226,6862,5102,19892,14212,19076,17000,9280,13660,4214,12058,19556,2830,12638,9226,6828,7880,15136,346,1248,14310,13216,10628,1628,14538,7174,4108,8864,13602,672,16376,16372,1702,10332,17270,18592,13322,6768,10656,7670,10714,12378,12252,12738,9482,17186,16068,11104,3016,17370,12320,8156,18614,1994,4600,8566,14720,17820,10082,3792,10704,15962,11274,18284,12010,8104,8772,18550,6658,1438,4238,18678,196,17160,8774,2800,8180,11318,18408,878,11064,4104,2898,15446,15092,11416,10940,18124,10524,10380,14716,4328,4256,5492,14320,3520,8270,8974,330,8928,6954,3802,15786,2724,17280,5448,17106,4844,9184,9800,2384,17478,12716,4046,15298,7638,15654,17298,14460,13412,7814,18358,4462,13424,15438,13494,256,11294,8330,8228,11076,19000,18084,16016,14252,2678,2138,13892,12184,18608,10508,4062,5694,5944,12314,19286,5342,14532,6960,18572,11096,11878,11562,12084,10516,12950,11516,10742,2814,19566,5910,9440,7518,12020,632,10468,96,12748,19654,12636,15734,10758,9818,8558,6194,17874,19814,3474,12608,4038,56,4830,6714,18850,1138,8642,1842,4514,15972,6190,3126,6088,16658,8884,4260,19912,18772,6824,10908,15010,17176,18662,11344,16516,12458,16482,14756,8906,19946,11248,6750,17012,11594,8200,14026,14076,17572,8670,15562,2878,11250,14552,5266,7052,9262,6962,1068,6160,11588,13536,1206,5432,5730,3972,70,10806,406,5352,1556,17558,16056,18724,2934,4484,472,2280,18474,3264,14746,6234,11020,3182,17972,18930,5406,16134,8914,4578,17910,11430,6006,3594,19458,8686,3252,2444,9488,6438,9274,1120,16824,12888,4756,19588,6596,17382,4638,9290,9514,13174,800,12412,14060,1158,5610,10930,1886,18992,5158,14096,8426,14412,3298,19056,12470,10040,7802,15676,14710,8720,6192,2714,17208,24,1168,6986,6788,1566,288,8990,12872,1458,5012,17130,7488,5974,2556,2596,3610,12150,110,5558,18502,5538,13532,2934,19466,12214,3784,18462,3396,4646,6674,17660,9132,12528,5646,4778,14196,16812,2702,13404,6866,16450,2276,6690,9554,5458,12300,5786,19442,19642,6540,4338,14652,18978,17044,7628,7582,13050,9360,9282,1386,16028,2612,984,9946,8010,11696,2644,2452,2110,19776,18348,16486,16306,10092,14274,14588,12702,8146,1818,14686,18764,2680,10654,10844,2990,3394,15210,12730,17514,10230,13252,9230,5942,14600,16558,18634,10878,7016,9424,5966,12460,3272,16120,5720,3888,17582,2822,16116,4016,274,8014,1506,18702,2060,12708,9994,17450,3690,17998,662,11742,12928,12880,1312,9898,16642,7864,11588,18662,2614,3784,2274,7914,6820,11020,10660,18710,6584,14080,2396,11398,5666,9932,3266,12764,6576,3922,344,10796,19426,3242,14678,7326,14448,1814,3932,8124,4410,1592,4430,9878,18914,5656,14794,4748,12972,14790,19066,3120,2784,9228,11138,4332,14698,2724,12304,2484,1836,1950,10136,754,18218,366,18794,14118,16998,13206,7068,5552,312,19538,9170,14360,2316,18028,11476,2194,5426,10832,16538,310,15424,13068,14748,17552,4782,1874,19588,14954,9146,19752,6060,7842,18166,8052,11344,9978,1342,17402,16374,5916,7560,3434,2114,6774,3804,10632,10922,1574,19120,11774,10290,658,7688,8632,6874,1224,15808,7350,19332,11646,11490,19194,7006,10950,18876,10056,9132,10636,6022,8548,13566,3984,816,18494,112,4,18390,3792,6984,16174,16542,16208,17256,8890,5880,4154,1820,10058,6156,12324,2550,13302,1086,8734,12124,7514,1798,1588,6384,17286,13856,17470,368,13170,14096,9264,6804,16038,4006,10590,7378,11440,1454,14542,6934,12106,14292,14042,13104,1454,748,19636,5760,10564,6390,1444,12928,10400,16844,10502,13456,14334,19496,8596,1948,8318,76,876,6738,14928,8012,13578,19232,7878,8892,17236,8162,6574,5546,1396,18588,14022,6566,1618,2980,1724,7248,18508,11970,2048,5636,11828,17926,16064,11848,12558,17070,6946,412,9270,7834,5388,7550,11966,17412,13710,17930,10248,11206,8826,10466,5768,15416,17580,17806,9218,3406,374,7716,14640,4930,7064,1266,5364,1460,11828,12250,10532,852,4556,1962,1650,18504,442,2922,3192,3212,9420,14974,9268,4116,8160,18130,12578,3994,13042,3424,12960,18772,4358,19970,12474,12196,4860,15576,12632,7088,6076,15420,13688,3152,1392,11870,9970,16710,158,3162,358,8918,18050,18642,16832,16204,19590,7866,18146,12188,16024,1200,17232,2922,352,372,6866,12604,1782,16878,17958,15280,4904,17980,1502,14236,15532,7192,3518,1682,15824,11096,16936,730,9568,5220,13074,12956,6592,5246,5826,17928,642,18556,10646,9616,1998,2036,5716,8770,15194,4144,11780,19256,4498,11406,18880,19798,15498,1606,222,14316,13148,19298,15008,15000,15992,2222,2388,16544,14606,11762,2678,17576,19312,618,18704,10978,13690,6730,13896,9652,7626,6332,18978,15472,12224,2948,13896,18924,2436,16730,15146,12704,7584,3376,890,1830,740,17390,11482,3456,374,4642,10402,8300,7290,16700,17312,17222,4440,8538,9400,446,15758,10474,364,17244,13416,3112,17730,2390,3892,14658,2424,13224,18548,7618,622,12932,8984,9090,1020,14414,1822,116,7696,6742,19384,7084,2558,5998,844,7230,332,4258,17350,13468,12406,3210,13926,3692,8852,19618,7038,18028,18646,1060,2170,5202,15614,17066,17096,1844,17290,9398,766,5418,6798,494,15672,6278,8406,14670,922,16162,3534,17966,10518,8780,9418,36,8534,17480,1476,16774,17836,12782,16148,15914,2982,9634,4666,6202,11368,5566,4834,13490,10588,12826,15174,10306,7684,838,12396,19880,9508,14442,5436,10280,13962,750,14764,13374,16074,17876,13200,8466,14364,15426,12238,5700,14106,2816,12134,5618,9848,15944,8368,1948,11130,10260,252,18968,4826,18750,8062,15058,4102,4138,19562,2896,10422,17930,6932,490,18550,16132,3086,15410,7774,5002,2136,16140,6694,2732,11898,2910,10546,7456,16262,2312,6252,3236,19572,11250,19900,5172,12778,16072,4354,10586,13364,13812,5594,17082,12560,2270,9896,8274,12794,10216,10316,14792,14610,9260,1484,19190,2812,4864,12018,8674,16594,4758,11536,7838,16508,6400,8542,15784,100,13158,9954,13222,3076,17196,4728,4404,18496,4916,922,19414,5536,2016,13726,16000,16198,17220,19630,1436,17602,46,1808,11718,8314,4832,16548,3370,4502,3560,1570,8368,14828,16164,4014,8328,8764,10462,11418,784,3010,17990,3408,5634,12048,9176,15430,9718,8134,5766,1498,5752,3830,15752,12544,9444,16846,236,13180,11682,5230,12144,11558,18770,2134,17870,6054,4314,2596,9192,3592,1050,9886,16950,9350,12550,9528,12234,6478,19148,19064,16344,19224,15544,9768,11244,9418,14418,15202,1508,3884,11758,13360,12934,13762,9152,17250,15976,3578,1572,11760,1596,6672,2586,18598,2230,7580,12718,8382,8152,15904,19074,9840,18284,19692,16940,12052,16910,15324,6720,9386,13434,12908,14862,14980,9808,1826,11086,8374,13868,14912,19422,17342,6072,276,11998,3088,3548,7462,12994,7338,18192,2160,394,16432,11994,654,9328,17196,520,8728,7236,11986,9246,17100,15032,12268,11940,4330,11136,19234,16860,13866,16420,4640,4126,15546,3068,14580,14424,16360,8324,16830,9232,18566,936,11858,9734,6626,194,4996,8258,7586,562,19130,17274,17266,12452,19418,16696,14534,3094,17536,15918,14918,10408,1270,6636,2734,7848,12498,13014,15916,8540,706,12704,13558,1666,4432,12974,11326,15332,10442,5962,15196,4936,13770,3332,962,7382,5398,18676,2206,18320,19136,6736,17896,1684,1292,3508,10756,1440,14344,7568,3612,10852,5624,16008,14732,4250,3192,10382,1462,1382,5416,8650,10676,4804,2742,12136,180,6770,6616,3282,14652,212,19062,3358,15690,6482,18122,15330,16156,4990,1880,15878,19262,18308,6176,5548,5632,3090,5926,4370,11520,1986,6512,1280,4608,2716,2716,11618,10244,19560,12034,5678,6786,3468,3630,2682,8380,13878,15156,9966,2644,3990,18704,1168,14400,9280,2480,18212,18994,5714,2054,17756,12630,11746,13862,15224,18182,5502,5142,11938,7616,2862,7112,2760,942,12948,10816,16258,10600,1154,16382,19982,8002,16644,11426,4508,7030,12890,9848,6180,17476,11680,13930,11766,10346,3496,13592,9726,4372,7386,474,16124,8322,15464,7880,10818,18886,5352,14454,17790,140,11252,5018,11500,8918,4534,10938,1664,2894,8446,18728,16800,1524,4910,18112,15816,11882,472,15234,5228,17018,3258,10868,15128,9974,17610,7924,8766,16154,16190,10118,2240,19674,17560,5598,10144,14702,1568,10358,7920,14264,5000,6004,9674,16914,2972,12792,19910,14382,3596,3332,13522,16572,12524,18678,16020,8094,12554,8410,13914,844,4402,18304,5786,4056,7070,17548,5990,13604,592,5240,18990,19246,4074,18468,4572,14724,17820,17050,2890,5682,670,4580,1730,9634,13040,12140,7422,7748,8126,9544,14168,15352,3886,11762,1670,4764,6894,11798,7862,2222,17438,11054,18004,1772,16688,3580,7098,3328,2438,8208,12814,7130,4540,4896,2412,19660,538,16344,4470,994,5690,584,19264,6170,5616,11624,628,5536,6392,15642,6342,5180,13558,8336,16220,18034,14598,16946,12624,14474,3106,15130,11944,7330,14042,15950,16412,15604,15018,1480,15474,3408,11018,17174,11402,18300,4286,14154,592,7800,12726,12032,13858,11300,1520,5700,4890,13852,1204,2006,3892,18456,4606,18656,16784,4188,6090,18330,17612,12190,1564,15836,2588,6916,2928,6948,9768,16294,12504,12596,14394,11786,11112,18248,17108,13888,18162,3228,4550,19450,13408,10828,3966,4704,7274,18312,19310,7940,17752,11090,1334,466,19794,17292,9708,8594,2892,6794,4558,15680,8838,6412,10388,14682,10792,4274,1174,4374,7830,16644,12882,3900,8288,16532,8456,16562,10664,14062,500,10218,16292,3010,14696,12756,7894,18714,4466,13666,2502,19698,9980,7116,19856,2250,17870,8066,18328,16310,342,19178,13366,18300,12342,10114,17666,15608,22,18276,8446,896,11432,3476,14056,7946,7930,5340,11162,6134,4502,14638,11676,6588,14312,3822,14698,13390,19830,7522,2616,1144,6652,18374,1752,2404,958,10630,1282,14962,794,18266,7912,10338,10808,10820,18190,4200,14240,11032,6148,8028,10528,18024,5434,10000,2028,13310,10854,3336,13016,6502,772,14020,16436,17230,2836,19798,15412,12192,11472,1708,11740,11008,18652,2368,6574,19718,8992,1052,2408,7994,2506,14538,5922,9490,18998,7598,19116,7724,9376,6792,7890,16408,900,14210,1886,13112,734,8344,16510,15264,9030,14438,10504,2092,146,19910,6598,2236,8678,1940,2212,344,15246,1402,2734,17142,16206,14132,10622,9074,7280,9946,11246,17210,17070,14188,5430,11266,9020,17666,19852,15780,5320,18658,11434,6948,3428,8400,12296,9354,13992,652,8348,7106,1668,11460,17056,8478,18296,10736,13998,11750,14192,3316,610,6046,15846,12914,18398,2344,19730,370,11630,14786,7660,992,10156,17530,13640,12230,782,6688,920,12116,3452,7136,17484,15216,15654,12198,7040,17460,2494,10234,18466,8780,3812,14162,17598,9682,17054,7102,6294,3428,17282,3582,1118,15050,5802,4268,18768,12042,6310,2952,5152,11894,12036,17504,7046,17698,11068,3512,10552,11512,12586,4072,3128,3214,6098,18072,7594,17626,2964,2152,18896,5588,12094,6508,9660,3074,3728,18268,4416,11898,15564,11942,12680,9078,17614,8112,14172,6560,12314,12906,2928,14994,12022,18820,1398,8604,15448,7962,16324,15488,2512,7092,8006,874,12188,13874,5292,1828,510,8386,9240,1928,8058,7426,2770,9704,5468,2030,54,9284,3280,7346,9200,5098,11964,5668,5008,13466,13524,8676,7692,15392,13610,16654,9134,6924,6564,1538,10444,6164,990,19670,4882,5250,278,4652,18430,14082,16754,6572,5776,16154,11460,11836,19790,4556,5366,11818,12552,13662,306,16552,1000,1560,11288,1792,14618,12648,2344,14786,13144,10800,15278,11638,16778,14286,15030,13370,4132,15966,652,4350,1164,1632,3718,17040,7620,3100,1012,6708,6556,1112,3862,4888,9994,19246,1586,7162,14288,16218,9698,38,1024,12676,8060,6282,16332,11952,17512,16400,17358,3712,10100,9008,7740,722,16604,19136,12232,7916,14750,3794,290,18748,258,14068,13948,14374,15788,4596,14226,19930,1958,17158,9326,3702,14388,19144,16160,4764,9368,2186,12822,5652,11398,11654,9556,13232,1790,19364,5848,3564,9084,12574,15716,19348,6110,18066,12292,3410,11596,8664,17364,15312,11778,2000,11008,5282,6092,5924,14056,6024,5040,9514,17600,4406,6050,14164,8818,8266,2306,2992,8638,16582,6534,16826,12306,16088,9562,17262,12066,14800,11864,14134,9024,14182,18094,6194,18310,1152,10458,7772,166,16692,3584,13672,15968,6200,12288,998,2494,13648,11936,15402,9104,12784,3040,18672,9456,782,7358,434,3270,6410,8514,574,10600,14526,590,5310,12816,18176,11154,10946,7428,16212,6136,13744,9498,5394,15126,17682,18134,12100,6228,11412,9276,10232,3586,11128,17102,4632,11118,5934,1148,14864,14890,7154,19554,11956,5902,14444,10438,2086,17656,814,12446,12092,11484,8384,19394,11450,11222,13606,19290,5344,12092,3546,13458,12028,18736,17900,14740,10162,4632,13394,11768,18288,11786,14632,18848,4168,17154,4160,16740,3378,11324,7666,1094,3726,11808,1658,8088,17518,13072,18776,12086,16052,7968,9040,9150,1600,2912,16840,15786,224,4792,11954,8088,6450,210,4836,5788,10020,11992,16352,4738,11280,18730,10824,11910,18920,17602,14480,8242,266,9108,7634,17330,3968,5474,10584,4122,4134,19044,18874,2200,19512,3146,13474,15968,18108,18060,10534,4516,2594,18216,9920,18864,696,11476,17190,15304,14834,5982,12404,19786,11014,9772,4958,218,1746,10976,16334,11328,19592,3262,10010,19980,7272,17066,2860,19806,18870,7376,11918,8720,14638,18722,15708,15254,5328,15938,7502,1308,9088,4554,19978,12608,9686,5184,9884,6992,4724,3318,3304,4884,18960,7260,17878,14844,9790,16058,1094,11584,4414,12354,16646,1122,17124,6458,6470,15906,3934,10150,1926,172,2126,18064,5098,10278,12362,1160,7760,1288,7516,10272,4802,19358,6756,16856,15130,19738,3086,8662,16094,5726,5506,1648,18396,2164,19132,13220,4974,1900,17654,8690,19532,28,17658,10500,3148,18482,1662,13788,12064,2682,7966,12034,16616,2918,2840,10764,7222,10268,62,18572,2048,13766,17574,570,14364,15004,15526,11564,1306,13568,19228,10682,9908,44,2858,5142,16222,3696,18314,6628,13356,18696,7692,17072,13226,2320,3108,10454,9304,6098,6324,708,14988,15570,13284,8376,9970,10322,2960,4994,15788,12058,11038,18248,9284,7876,10356,17816,9160,19510,9256,11056,12716,16246,7524,2004,4650,4604,3716,7974,4118,11244,2926,5192,4998,1146,11396,10380,4024,18444,2960,4674,3550,8130,2370,6670,8512,6284,17572,13760,19112,7052,13392,5684,10666,16494,15952,2238,13892,3114,17434,9580,14540,3964,10214,19908,13562,4436,2512,9408,2726,1734,6334,7494,2484,5968,5678,6604,15494,15842,11700,15192,8582,3690,1258,7960,7074,12118,1652,1522,6406,11532,12302,4728,10386,19504,19894,12876,2018,15822,10280,9688,78,3014,17590,18016,11312,14116,16380,6476,5810,3860,14958,10636,10170,7624,3540,10366,11586,2244,2718,9068,1212,12228,17366,13266,12198,13706,16898,15708,3588,11340,1942,19962,16550,12426,18332,5830,17344,970,15278,14516,1156,18302,16224,4592,13782,13992,18872,5954,4742,17996,3480,6018,6308,10920,14560,19068,5030,16542,8360,15766,12360,8316,18282,7826,18492,9950,16660,1928,13296,11722,13142,12750,9972,3870,12294,6350,2954,3160,14362,2382,760,17604,17498,1058,17800,1972,15940,12850,9806,6998,224,3068,6538,12838,6414,17764,13338,18322,16130,3346,16522,7242,3526,8264,9940,2824,4182,4668,8116,13820,17864,7756,8818,18054,5606,7444,7792,14554,8772,13286,11726,15408,7838,8816,17912,9092,13454,10186,3524,8810,9726,12422,18648,6982,10754,15024,10824,15200,280,11986,498,44,16614,4140,8296,868,7006,5024,15100,19992,16214,2034,16204,15314,3438,19778,7136,7208,466,8872,12246,14350,16136,16480,9642,7660,860,7848,3940,11254,10668,16438,5054,12012,17748,5564,17166,5270,14688,5160,4880,12598,8554,12176,11042,2804,1668,2242,7564,8940,15598,17038,18552,15980,7128,4100,9756,2076,7770,16124,6266,4738,676,16380,4856,6578,13786,15224,18136,7248,3596,3354,16528,3226,8860,13102,19744,14232,15632,3216,15650,19978,18166,16858,18344,13522,6218,0,8640,19674,19080,19932,17086,18762,9868,14628,6802,17910,7526,714,10998,16628,9186,19090,9252,13320,1056,9240,13192,10278,11002,2780,19698,6024,3924,1434,15958,14952,17160,5202,8262,4496,7512,9976,15358,7406,10418,6918,19708,19046,16300,1788,2372,1628,1106,12518,15024,17314,12526,9952,4130,16370,4618,7616,6478,18938,7046,8068,17316,14702,4672,4976,9202,1076,3098,6490,12480,9392,19662,3430,15838,12208,11968,19012,13738,18814,8842,10016,11980,3706,8824,1102,6012,7082,18316,12946,4958,4008,13646,8660,12318,10014,17346,14664,2162,8452,9278,13970,9316,5272,10436,15164,17368,11870,16,11156,14000,10464,14518,7022,856,19180,3798,7544,9728,17546,2330,17880,12122,9642,9396,4920,10700,10460,9794,16064,7532,2600,4092,9822,8656,13702,7168,18010,10354,13700,6048,8118,7796,17736,17272,3974,9804,2712,3092,6424,9840,16414,17766,13360,3844,19282,1002,18126,13002,8506,19846,13968,5770,10612,17858,3666,18488,6644,13426,11424,5250,18618,10784,6950,15370,10068,2946,5850,8814,756,1380,4766,19864,16002,3970,19020,13510,10106,6316,8108,1442,3168,19424,13538,17592,9936,12250,15582,10542,10610,16268,17962,2034,15332,14774,4516,4212,582,13974,5182,1358,14386,12958,130,2168,13574,596,15374,14402,19358,19250,10898,5744,7076,10534,3612,200,8546,16192,6364,15518,10694,9754,518,10506,14824,16158,1152,9206,150,2576,5180,13014,1228,2850,19334,8684,16726,14470,16454,2952,7886,13444,920,4636,17170,15458,10048,2462,4672,11060,12620,9420,15550,9464,986,4040,8656,1830,17754,15866,18932,9456,18724,7042,18534,14992,17128,10964,8026,18684,9660,3632,6996,19748,7854,15942,18356,5192,18680,8888,19688,15442,13982,4298,2818,16034,6984,8074,1466,17588,13084,17904,7542,13486,3444,1412,8432,16618,12650,1706,11354,16518,7152,12662,13504,10772,1704,896,11778,9402,4566,13218,5978,8794,8830,7024,18008,19740,5196,15556,14474,3556,19534,17054,7722,5846,5836,870,9986,2106,12078,18148,4196,4594,12404,6606,6944,1054,19274,19658,11832,3732,11360,3130,18362,9646,14842,10296,9144,1202,1720,18880,7610,9904,7750,4084,1428,18100,11486,4036,11590,12396,10706,10088,13164,8624,5410,18098,1954,15862,14514,5976,1494,1180,7002,15092,15206,618,15720,2234,16514,7060,7266,3588,11608,6452,10614,10032,17826,10484,9962,1680,11414,8252,10510,19584,13432,3316,19272,4570,11362,18800,12806,6380,11630,14154,7854,15296,18774,2756,3126,1650,4086,3346,5166,4106,5658,10472,4546,8356,15820,19386,14326,4990,11944,9938,15630,4602,10804,12564,14648,11990,15422,3238,3508,10542,15612,13138,5334,13900,4276,9924,3736,16434,15308,16002,15222,13282,17618,14380,14684,802,10112,1422,3120,5298,8782,12456,15334,4422,15334,17856,3756,2628,1740,7882,9812,18860,14932,17742,13998,10922,4032,19948,16476,3980,18362,18156,2112,2204,17750,9584,638,1316,17596,13954,3188,17334,1352,8956,18906,1864,13494,8870,15176,16100,1318,15008,15326,19434,4224,13056,5650,5400,11720,1602,3730,18238,19140,11840,594,14902,3504,12498,19560,15538,18066,2604,10778,19474,16764,12464,6604,16364,438,10182,4312,102,856,16674,6544,18570,7738,19124,70,11160,18604,14102,12062,2262,13918,5568,13650,14034,3976,6152,19312,12616,7546,13154,6554,17440,18476,7438,11134,19390,12894,9014,7080,15320,34,9294,11506,7518,14404,8530,13352,16768,13390,19712,9752,10872,2544,2364,3042,4012,18580,8954,14830,7406,14848,13024,4564,15594,4726,14048,17656,15738,19780,98,7840,15868,6700,3644,18158,15098,4988,13736,396,8986,17410,1406,6544,15774,8486,11800,15572,9802,7716,10744,13040,2852,2252,13964,3776,14514,5742,13262,16528,2700,16128,9452,5840,18708,15360,4588,11958,17888,10572,17396,9118,9188,15722,7452,13342,9144,11106,11290,6568,17524,3682,14296,17920,134,13480,1730,13066,5662,9766,18324,11802,13838,13726,18042,15484,4970,2420,3500,11026,3038,8190,6248,6114,1346,4458,11770,1040,19440,15610,3514,11222,4744,3538,5578,12040,7308,14282,1654,1972,12492,18374,11126,16236,13220,9436,3904,12068,932,3006,15124,4166,7768,4942,9856,16980,18514,14876,8740,4270,4022,19436,4708,11330,13938,14510,6514,18434,14410,1528,18400,14302,5878,4878,10886,5014,19612,10742,9710,10678,536,14726,7824,17660,18100,5392,7808,8922,16494,13050,18798,8696,17422,2430,2912,4308,8424,14088,3632,202,8948,19066,17750,16748,9692,5314,11518,10586,3838,18408,6674,19716,4364,11436,2590,14064,208,3506,10066,11606,4522,13376,6036,18376,10894,10354,8710,7414,8552,9322,2904,16706,9320,18916,16026,6272,18574,9172,9860,3868,588,15080,19408,9076,952,9736,2838,17136,2766,15016,9522,1614,16286,13808,2020,5376,8758,18826,13632,4454,9302,8200,5410,3694,10116,4390,3270,5654,1878,18400,1472,16984,198,14322,10112,3186,15230,7634,10658,17284,2948,18844,34,18132,19680,2880,14190,11170,9582,18576,13928,16874,9238,17488,13478,8196,916,15498,6184,19810,9250,11498,9876,4962,15728,15342,11212,628,9250,10594,19060,10624,2106,10648,2104,5658,15926,2746,18814,7978,10154,15812,16018,16464,11264,4432,9032,5244,15206,6000,564,6540,13096,19578,13770,300,9716,11816,14004,8074,15014,10582,7260,1564,10270,17594,1340,14108,11820,6400,14520,9102,6776,7156,9792,9008,19972,5106,3334,14894,8020,18508,910,19266,14432,13224,9312,2540,9686,1766,17444,1582,14428,18304,17276,13810,15762,17948,12222,4628,9916,9588,2982,8576,12912,17744,9446,1420,7118,17918,16922,8320,1590,13118,5212,13754,12942,7220,1844,14092,19482,5074,14902,7844,3054,19852,7552,14522,16078,17630,14188,10668,7374,1082,16040,17688,11100,5176,7530,9882,934,17638,7930,8564,12210,7656,15956,16734,3570,18972,9612,4866,1942,506,4162,7576,12270,16554,19314,1676,4878,10064,2710,12492,4128,7034,5882,8800,940,15804,12662,17226,6668,10426,13766,19156,14722,2030,14004,6632,3780,17764,3416,3568,17444,11626,6304,9028,15296,3664,6510,17464,3434,226,184,16914,12152,9430,6850,14606,8214,17818,1008,7790,3936,13196,12182,2024,6472,19392,11566,7264,1032,684,7820,18058,16280,18964,18318,19772,14012,9882,200,2956,8854,8980,2640,3812,17264,18564,10710,15790,7572,15966,3656,9342,3064,9884,6732,10728,8402,13586,6122,17294,94,2230,1352,19392,6108,13402,6652,5920,10782,8226,4586,780,4408,7358,7778,17040,9318,6892,5972,18908,16014,6220,14008,5818,7180,2816,5864,7394,1700,6662,18124,15020,7184,13856,10308,2888,16874,14568,2632,4192,446,9258,1868,1026,18414,18294,7940,9330,13814,7766,12344,2832,13996,13718,15258,8954,19680,5348,4058,18808,1364,4542,18466,5862,1376,15362,10984,8520,12312,320,1292,9442,12786,2100,5862,4034,8798,16442,15878,9012,7992,11052,16686,3348,16974,10834,12414,11212,18862,17254,12518,12194,11150,11956,9404,16036,274,9894,5236,804,3196,2598,6044,16254,4514,10758,9056,7274,7012,12974,14608,9422,11568,12398,11058,12686,7644,17146,14118,10154,7268,10696,4798,16200,6406,13518,19162,12090,1982,5826,8092,9078,730,15374,19882,3380,12758,5948,14258,7322,10088,3962,8984,8440,7050,16778,4070,15628,4328,19128,10310,8848,11592,18688,13350,15692,6208,17194,13228,19058,11796,13694,16148,10848,284,12258,19512,11142,19990,17290,832,14098,16656,13000,3718,1874,8436,5532,17828,9662,1924,16798,2906,18146,4500,18840,10096,19690,17772,18366,19438,16490,15072,13116,2854,1502,8358,10976,13922,18532,10738,8310,2356,18624,7890,12868,18208,9992,3820,19970,5186,5384,18272,15314,4358,18696,3770,13950,13396,15552,4914,17306,9546,17484,11856,13952,1952,11320,15324,14670,11316,6326,18126,1850,15090,12596,7600,4910,382,8496,12112,7058,9512,3750,8230,664,9552,17098,1894,6594,10572,5084,6496,4698,9076,8572,18568,5544,2582,12070,15832,5806,3096,17244,14798,8206,14528,7278,14396,1170,14774,11452,8668,5382,5484,14616,12654,10130,11066,1144,12364,14194,14552,5894,8286,13008,5816,8968,16104,8704,6868,12610,11464,17346,14884,9880,12842,658,13130,3196,14658,1982,10862,4930,19866,12656,12210,9288,19806,4780,13070,10190,3788,7862,152,16696,10064,18510,2848,8100,18624,8174,390,11746,5886,9750,5242,1420,14512,4810,18070,18230,16370,13882,17508,15462,7764,1462,11468,204,18200,8904,1452,15674,4356,13150,9194,17906,18326,11050,902,16132,1344,12496,12278,9554,3828,1698,5064,3752,16760,11818,13292,14066,902,13490,688,3674,16970,6488,18564,14478,3206,12512,9842,2894,17182,16916,14156,9830,18278,6336,13336,7328,8504,14314,10394,1008,17456,19874,18134,13846,1866,9072,2968,1328,16860,3182,13242,11930,1194,1174,1198,15478,9134,820,4216,16078,17042,4042,9730,3708,6244,15154,1596,13352,15448,182,4398,124,13252,13382,616,19444,4352,5746,916,2102,17844,17622,18848,12144,7588,14630,448,14968,5796,8354,2324,2616,2984,1794,1858,4440,1754,842,3496,15710,4208,6506,5596,12110,3078,7206,6676,9598,3414,8502,15926,470,9206,15306,9086,6256,7216,9188,2770,11620,15750,18270,8492,5686,15634,16032,3774,10198,13450,1236,10862,3302,1938,12712,19412,18946,19754,6638,17928,3662,8672,5462,18480,19252,9246,12604,4030,7852,7556,4772,17950,9458,10486,15894,17544,7096,6994,1390,3974,1696,2572,11374,15530,18486,12288,7286,17938,12376,3516,18752,7258,19220,13758,8634,14488,4530,16162,3762,12406,5530,10598,18372,18432,11524,17332,17140,6348,5800,12320,15434,10814,5868,18660,12392,1758,5200,3322,8836,14560,6718,11528,13692,13440,16820,2464,10780,668,12336,4794,3996,15226,13778,16928,18036,15798,18558,8580,14168,19316,16474,15088,13314,4096,6624,18792,19626,10046,18488,4246,964,11214,17698,15340,4236,13080,11792,12444,4696,16578,16016,9454,12976,13156,14544,19756,7218,2554,15722,16048,17636,17090,14712,15852,6870,13402,7734,10716,3468,4226,19330,4124,7410,11454,8316,15388,8698,9874,14980,7884,15112,19074,6784,5750,13680,3222,16804,18252,12810,15548,16736,6532,19712,7918,16038,1890,19848,16096,15688,2160,19424,14012,3818,11178,142,4476,15860,6152,14920,6362,4426,19702,3602,15596,6210,2872,16936,6746,3746,8012,19958,18578,8348,18052,52,7686,14924,6688,6036,7810,19890,17308,14110,18262,13546,812,636,12964,17648,16926,18386,13850,12798,10796,19042,2834,1634,12916,9690,17634,9574,8408,4124,1114,13026,5984,1920,11320,10592,3952,17204,5664,15076,17542,13472,6170,19084,10432,19464,8672,42,12140,3402,9344,5834,5264,16462,11486,13666,16460,7118,11876,15652,11774,12256,4312,3860,162,17570,15354,18200,15454,7440,2,6556,18646,8838,19686,14436,9466,9340,17942,14124,2802,9002,7960,19726,11080,6862,6142,14238,10792,10884,4186,1854,18276,1572,5524,9362,12592,9000,19002,15746,19860,15812,17874,5426,2774,14216,15740,15740,16700,3740,12334,8596,19506,11380,17586,13440,8536,18324,1474,650,16268,12746,4228,11294,14018,7980,19012,19500,8950,11430,1298,18770,18794,16520,680,2740,14174,6696,4006,12186,5060,9648,4402,10136,1714,13530,18988,12086,7020,8172,15860,10970,2786,17246,8860,4506,11322,15814,2940,4866,17218,1894,6780,18554,14368,136,14766,10286,2354,18750,468,12618,4782,17924,4934,18694,7486,8160,8266,15384,13680,19808,8096,12308,15166,2528,492,18860,6174,13260,19532,3942,18708,13260,19442,7922,1374,14680,240,18888,5908,8962,9804,15476,16708,9300,16242,14142,5880,11508,17722,15584,19918,2610,1128,18604,9308,11168,6904,16638,6126,5842,17826,5540,11120,8754,1988,19158,938,9146,15534,18088,12414,4854,206,17112,14466,7228,12042,4680,1806,7434,16856,1280,12156,11088,8014,11696,16748,14436,16388,9276,6428,394,11896,2834,12226,12590,19024,8280,16106,6130,14484,9084,8364,15504,17806,12010,664,16076,19490,18680,14904,18576,7844,9714,9104,5946,4800,972,16406,13376,12088,18106,15418,2970,14800,12324,5080,13620,5778,6488,16678,12622,11996,12652,12760,10918,19992,1644,12886,14694,6598,7472,6500,2926,16804,2360,432,19550,19118,9778,816,12774,19500,8762,18590,3550,17178,7964,762,3244,18542,12104,15470,13410,8002,3374,15776,1154,8824,16882,1018,13118,354,7538,11854,14530,19008,17352,16654,17332,4136,8410,13772,788,16092,842,13566,1974,15002,10802,14594,4586,14122,19616,8204,16534,8076,7614,18090,7416,17562,2022,4486,17560,3872,9090,1112,17374,9180,6416,10992,3440,17804,4078,12754,19210,3384,11508,8626,8974,6320,1560,8450,4054,13548,10874,17462,13198,5858,4944,7070,18078,15576,5754,3664,11184,1922,7302,7956,8412,3482,2392,12040,514,2142,2728,8212,13270,3902,17808,11094,18650,12384,13552,6312,5470,13714,12576,16788,12262,18386,8396,17078,10616,10710,9732,18104,15072,9406,18434,6854,11336,6258,18516,16264,6906,5606,12588,2398,11666,5578,9496,13052,15486,19544,8186,10846,16316,1810,1870,2946,14214,692,678,9352,508,14104,7860,18260,2576,11766,10782,15288,11598,814,1488,4794,10420,3622,14788,14964,15976,438,15042,7276,12546,19890,18090,1378,15542,10726,6562,1124,6334,8958,17516,6212,11718,5940,104,5544,6654,12462,15588,3426,3844,954,16260,4114,18008,19920,17974,8482,14956,19120,15316,19094,7536,8900,132,7888,15308,1014,18922,8370,9556,3482,1626,19646,12348,676,13654,15502,11082,2516,7896,12990,5798,7060,14904,11690,13732,6888,17172,6444,16538,7476,7866,3816,10384,9500,10574,252,4542,1240,10900,10340,9618,9164,580,14126,4038,4192,208,2272,906,13396,15150,19574,13572,5048,19614,14880,5236,4536,15276,10602,3046,15262,7934,12954,17738,14630,12028,6794,2794,18786,2088,68,15058,11580,15198,9608,11232,5436,3304,18866,16904,1456,1536,6972,10382,19996,4624,19404,15718,3842,12148,9536,10378,12408,1558,9708,6700,4480,18448,13600,6374,9814,1316,4386,120,9698,18778,16378,1286,15798,1902,3464,16322,994,8898,3452,968,5892,12872,15106,13020,8700,5872,612,18664,18868,13056,4194,80,12458,190,10394,6998,16900,17392,11972,14976,14338,7984,8702,10304,6852,942,11942,13982,13470,12516,3536,13074,5672,4090,12966,18344,7458,5428,13090,15136,6260,12714,1072,4824,19004,11108,6876,14244,9016,9704,15132,9468,7562,16584,18796,1512,13582,2444,14148,3092,19928,15398,5746,5378,15934,6026,7166,11360,5210,19296,15252,10070,8854,18954,204,11496,19876,7380,17532,11826,4240,10584,3338,6380,12788,5028,7238,9670,16330,12846,2786,15514,19584,19092,15894,2978,18062,16114,1738,4966,17872,10214,10092,10492,4472,512,15068,17276,10284,13474,18178,13436,12888,16702,17140,8766,6926,15600,2064,16716,10702,10698,7034,13630,3672,15510,2486,11738,12218,7564,6712,7970,10732,9210,258,12412,12076,718,8334,6804,9204,7362,16042,2188,12694,1394,19862,18832,10900,7832,4138,1784,8676,6684,17616,11120,13700,10222,11712,19508,3958,8996,15500,3470,13838,9036,15550,3246,16240,568,4478,2634,14754,18392,14744,17350,19642,16602,16500,18782,13616,1820,19270,14352,3048,4394,4510,7182,17146,15770,1632,18478,6062,144,1822,2612,7058,3260,15854,5618,9616,13960,19440,3260,1460,16924,19570,13958,304,3498,17868,11620,13338,17246,13386,18534,18486,12570,12284,9298,2572,13544,8880,8526,15102,12274,8342,4220,2736,17114,7368,10018,12184,17426,12014,11712,3964,10602,18956,7344,15310,15474,11132,2174,14738,3622,15652,10098,16592,1084,5282,10212,6040,13284,15970,18140,9054,9182,19714,13668,13178,10084,15372,4528,12002,17684,5794,15836,16238,13590,14682,9542,3404,11660,3654,10266,19606,10414,13528,3028,8730,13696,1574,1856,2886,5080,1066,4828,17416,11564,14808,8522,10142,15988,15608,8844,10442,4928,8240,15124,19632,2438,3128,4238,4818,18790,12614,5688,400,8636,10066,17676,2556,10368,4688,1780,13210,13916,15220,17326,2686,1978,10406,16206,6262,858,19328,4548,790,16898,17924,3494,9762,4512,1014,5372,5374,10352,2272,5528,2706,11502,10562,6590,12284,10966,8614,19172,18314,6200,40,7212,15712,11970,13894,380,13448,14352,16956,7366,12470,10594,4716,10774,1592,9388,14,19492,9116,1136,10618,15508,6,13156,6418,17988,13312,5742,7860,15510,19484,9896,15074,9310,17096,16436,19574,16792,5086,2370,1196,4520,408,1804,422,7548,1258,14440,9652,8338,13148,14128,12924,3160,6664,11664,4544,11376,19300,11172,12742,4690,18536,12522,17960,6310,11046,11850,2656,13632,11750,15472,5106,64,1178,16282,4576,6864,1362,8856,584,14228,16452,16886,12896,3218,1722,12172,17036,9696,7408,19366,10138,4652,8302,5102,8658,10734,2040,2082,3340,2892,6116,3326,9550,8722,10224,17026,16274,11468,2656,6230,14384,2966,8756,15882,16376,15712,14678,2084,13942,15290,2634,3138,4122,15154,10400,9944,8736,15400,12830,6880,7100,13936,11958,13806,13534,13320,10050,15348,13094,17776,16620,15284,16488,10408,14564,12668,8994,6710,6988,18700,11904,8184,1552,14344,12538,9176,14524,12496,19202,10838,17134,18784,18602,10392,12970,5170,384,11340,16080,4924,15094,3446,7732,9006,13010,15984,19868,1944,19946,13860,2242,7978,9980,2950,18866,11820,7090,12730,712,17414,17860,7428,16110,6750,1388,17148,13120,12122,5498,2580,4270,4754,6906,2872,2336,2216,10914,18092,11904,13788,12840,18514,12976,4566,10768,13956,3624,764,18824,9744,8030,9720,4054,14908,2102,12962,1898,18492,514,4242,1736,14028,13150,6666,1562,10848,12102,5522,18706,6234,400,13914,8210,7418,12874,6822,9566,4112,2460,11528,3198,11604,84,158,15170,8876,16836,10644,18500,7238,3660,2508,18288,9484,6860,17252,11228,890,18538,18012,16836,19186,18692,6872,10132,12026,8162,15870,19860,10906,4942,3960,8242,10102,3914,9150,4694,4850,7044,348,12204,5806,5540,7188,6830,10712,11194,13660,3484,3300,15606,9492,3134,18546,19836,4094,19488,18668,13096,10750,5146,16184,5542,278,16668,9770,19040,6228,12374,1998,5182,8594,14146,18338,17232,17168,1374,19248,14996,15078,16626,5312,14114,12120,7508,1916,3578,7166,16050,16446,14452,11400,2044,8932,11224,18280,4552,9538,8530,11810,13888,18138,4090,4544,202,12778,7722,17794,14480,610,16532,17448,7504,12642,8500,10402,14404,19586,1624,454,8982,2226,17158,1044,8304,13110,14684,2248,6268,7186,3720,4984,1330,10554,4022,4568,18498,15962,5010,18478,8992,4530,4572,330,8592,13160,1836,19764,340,13756,11358,13112,13938,11272,16120,1148,19820,3306,2574,3284,1764,16026,7072,13158,7998,19212,19488,10678,3824,8812,14854,10030,16560,12552,8706,738,10910,4002,16550,1114,9964,9086,4110,17052,17568,3234,12016,8902,9584,10544,19468,19198,17510,3748,9850,15486,17758,18074,7708,4628,6174,2522,16034,6578,2190,16780,15754,10692,16190,16350,18924,17224,2000,17234,10326,11090,1936,6660,15086,11292,4912,14798,3012,14340,8776,7986,18366,11166,1418,18930,3658,17632,15694,4786,19292,7598,19802,16248,19746,17672,8172,5636,17338,15546,19022,9004,13182,11002,6726,7114,2184,3570,10526,404,18618,6394,13712,13406,19768,6328,15918,11270,12340,13528,4554,990,16894,19188,17148,18418,296,10512,8180,5190,13324,2994,11736,16446,4424,9548,5640,5558,9932,10702,11728,15830,12106,9324,1468,12388,15986,19258,18840,16188,9366,13516,10736,11034,2442,8590,15774,5360,13394,17598,6498,448,17614,16402,1686,866,2944,19708,8628,1522,13762,19284,15724,4020,348,10730,850,3288,3410,5480,19100,19828,2832,8334,16866,1470,17318,19982,9646,8752,12510,2870,18378,5590,14686,3638,6358,8260,6454,6272,6136,4178,12244,6592,8090,14274,10008,2302,12004,3714,6958,11348,2148,17020,3940,2806,3996,4948,18560,16744,10044,17198,19034,6280,12316,17802,12332,534,14332,3012,5896,2584,7644,7926,1896,3878,1318,720,7794,9798,718,2852,13716,8632,10856,10086,19478,14296,3460,17416,3948,7996,894,17014,13862,914,13620,10674,1296,9772,12788,12922,2410,4296,12916,9904,17304,12200,3510,19170,18448,16178,430,16562,1122,8086,10754,5288,3600,654,13798,3030,2874,12272,10180,10856,8202,5602,9164,3204,4594,16934,17546,10024,108,318,3758,16426,16686,14740,4918,988,6108,12276,15924,1626,12674,19164,1598,14518,8528,3922,926,18490,5284,54,16182,6796,1468,14978,100,17352,11364,7768,12866,17278,15254,372,11694,12854,3584,8748,5464,1140,8362,10152,19184,9402,17498,15014,6466,9236,12602,7164,18302,19804,18622,6602,13740,6820,16086,18306,16272,3190,13172,15400,7828,19498,17390,19994,5998,8584,7478,10022,6058,19254,830,14718,6856,16944,12902,9936,10664,16742,14742,836,5580,7320,1408,6976,19214,10836,3544,3454,5178,13708,19282,12474,10314,17704,19934,956,16776,7758,12660,1672,9714,334,9264,8644,4174,14894,3136,16246,11924,4296,18048,8680,11844,6140,18818,16588,14998,16872,10256,18640,16800,17110,5138,13796,7744,14704,17632,17648,19096,15162,3314,6128,6936,3926,14462,6458,15490,12232,19140,17068,14922,18416,13464,17882,19260,12940,11632,3008,482,470,10018,9878,6342,15148,2146,15840,11544,19568,1794,14734,1840,13168,19448,12220,7800,10618,10740,15380,12370,14248,14386,12852,19172,604,170,9348,1176,1220,7526,12160,3668,18904,19694,11144,328,4750,14660,1110,11462,3436,1686,4528,5510,12344,5980,6382,6424,13176,17480,2696,854,18620,16308,2378,4258,5718,16666,2488,13258,12298,16354,6338,6736,11434,19742,1602,11804,452,3130,14818,11450,4702,15998,9810,3510,15396,13078,14596,250,3874,8532,3202,1588,10026,13698,4780,16238,914,28,5248,10252,9282,7102,770,18936,14140,12046,15858,16300,14732,14656,18378,4846,7144,12808,8972,15054,13570,10426,8704,14270,4434,6796,462,14178,16756,1872,5252,13134,15896,8898,17022,3826,18424,2690,9564,2652,17998,8388,3750,2078,480,13238,1702,9724,3614,15626,5608,6190,8440,9128,14082,14318,3366,18414,7192,2542,11836,11860,3340,4592,12096,5528,9864,17242,19870,10982,2264,9338,8936,13716,1642,5802,3786,11394,7896,9968,3668,366,13086,6624,11724,19862,13242,9072,2012,12242,704,19834,18496,12346,7850,9504,18312,13484,3930,15436,2930,8286,4284,12806,7584,420,1860,3564,10456,9852,4424,14198,13830,17436,2196,17504,4420,7152,7134,8684,7788,18160,6144,17122,9166,8944,12342,5598,5800,14650,8922,5890,8400,17190,18766,16694,7718,14910,6576,4894,18032,13092,13642,2610,456,10504,12572,16444,5100,13686,8844,16022,7376,19974,11874,16252,1394,1986,14100,14234,9288,17934,16032,13552,12878,10012,1932,1892,18120,11806,18144,6552,434,13598,6172,16144,8294,11416,6466,4216,18524,12000,12988,9506,9742,2998,8076,16876,11642,5702,15428,14572,5770,5116,8278,19738,10328,4062,3532,1224,3036,15212,1662,19018,5840,12436,5058,18998,15060,9358,8396,11850,9816,19110,10518,12130,19412,17398,9380,13044,1760,5462,11824,1578,5990,17496,14246,6890,9956,11176,4526,8698,6056,8512,9742,8110,2308,14060,5534,282,2752,12430,1750,16182,11480,2536,12158,6180,9352,11200,15760,19496,5856,9738,436,16564,18804,12558,16714,1618,13556,13818,11240,7044,11028,11108,2144,9906,13628,5444,7672,9178,12400,6970,16854,8848,15470,674,5336,18722,6614,19940,16480,7664,18788,5032,666,17650,15300,2662,3590,10578,12848,11310,19652,594,14794,1638,16082,16304,15300,6586,2696,11444,14420,4806,15686,3686,13098,9234,18886,14350,2676,5668,6376,12822,18698,8268,12456,9952,5594,19932,13956,12180,6346,15370,11186,5482,12266,9172,9168,9272,4598,11826,11124,9334,13294,16612,2290,12484,17970,4732,13884,3978,8808,10120,19054,10998,10718,7736,12278,2386,10002,3712,9960,14412,7484,14852,8142,6318,13234,98,11878,12242,6882,1162,16766,5086,16186,4162,14132,7348,11072,18542,4350,11794,11154,13652,2942,17770,10860,368,8956,15644,19648,9400,13318,4170,972,4496,5614,7144,15402,4028,9750,8822,15734,4254,9918,5866,2642,16298,7014,7536,18260,7076,4634,15468,6940,3448,7700,12138,10568,12118,13420,4190,9892,10652,6270,3094,19292,9504,1206,15622,13256,14124,13272,1530,6832,19662,16648,17742,8150,12214,15804,1542,5768,5296,17370,6524,9434,5946,3348,15394,13564,9868,174,10390,19188,2886,18368,9846,3992,5654,3106,3006,3236,14468,6332,6550,17488,13508,15904,19576,8904,9622,18326,4158,9026,5408,13310,5044,16084,4184,7068,14772,14030,12668,7314,8800,9044,2128,3610,15562,9632,1512,19340,13426,2060,4750,1192,510,13946,5062,19824,3238,14672,7776,17898,10404,16004,16816,15036,13448,19530,10904,10968,2466,3864,3650,1104,11754,6800,1510,18224,11410,3850,7786,18018,12050,7942,2686,11812,7496,11706,17012,12258,3174,708,12038,6122,9712,7702,18754,14366,6722,13066,14244,11568,11030,3116,4494,7290,17448,18638,10012,5724,3290,15554,19072,9064,18228,16346,2364,11114,6966,17268,18584,226,12844,272,7066,18960,18450,6296,13286,8968,8202,12206,2336,11418,19734,15346,10196,6502,18110,6162,3998,6782,6748,4468,19208,5596,1756,5464,15006,7654,18474,12978,16074,7246,15600,848,3748,9720,13740,10028,18046,13008,12006,15150,18234,1810,6698,13098,6428,6014,11438,648,15650,2500,6132,5232,19984,17302,17270,8790,18150,17704,12044,944,13062,642,16422,4852,12674,1212,19822,11646,8686,13236,19630,10070,4524,11110,16466,422,12176,5264,7306,10638,2790,4000,9614,126,19398,12600,112,4152,1214,3218,4176,17292,6020,15452,4522,17224,16994,8980,2050,10538,8938,396,10350,894,390,19308,2882,5962,156,10412,7706,1732,19700,852,10042,5422,15298,12178,13080,11278,19368,1864,2670,7490,3902,4400,8028,15200,3414,15890,452,13966,3576,15990,8764,130,7726,13070,13826,3024,15900,17766,516,3686,14046,15770,16328,13400,17164,17564,8486,7932,14072,19102,144,14736,4808,17908,7752,15286,7026,6106,15872,19792,16720,170,8934,16834,4282,10274,6468,2118,6706,13950,1048,3354,1834,14484,1654,7404,13952,8774,15202,18428,5038,19290,18554,6566,17824,6718,19994,4950,15218,9650,16356,3376,14960,7710,16502,15978,7704,13152,16508,17288,7834,1284,10558,7366,12464,17220,8370,19462,11472,7364,11026,17634,2198,13584,6504,5356,13608,1544,14688,15988,12900,17894,4488,10874,14204,12420,15838,17712,16384,9318,8620,1996,5914,14572,8710,4510,2330,1390,13658,16210,14358,16576,13816,16736,8220,17780,6374,9794,7372,3290,9186,5988,18612,19762,7640,18040,19638,14112,19236,2662,4686,13936,7840,8658,16946,16256,11888,3694,6786,6974,18658,8464,7314,1042,9562,2994,11910,7602,6898,5156,6062,3072,1150,702,18000,16552,5198,19154,808,7450,7792,4156,3280,5932,16314,12500,460,7332,6188,10336,5386,16902,1326,11794,18210,11438,8034,17382,15492,10074,9460,15766,2538,8386,18742,11636,5644,6476,11570,17088,12910,14212,13128,11742,11770,10450,18020,1688,9900,5474,12170,3582,4902,2584,17590,11542,14584,2622,3048,2980,7894,9370,90,10840,5712,5252,496,18872,4832,10752,17996,6120,18358,16326,10680,13832,10930,16758,19580,13768,2332,18108,7578,8,10962,14866,16334,10648,6634,14144,7010,15700,5094,18764,10076,8372,9328,9296,10764,520,3204,12690,18596,19650,1232,550,19152,2382,1450,19302,5518,5656,16932,11496,9232,14844,16682,7338,17172,4650,828,14768,6214,17756,14978,11688,10456,4012,1424,9122,1492,16108,5348,15232,3248,10190,8122,19606,11744,5942,11602,19774,17856,3856,13898,17186,22,11410,7158,5016,10626,14982,13454,17036,1542,13594,1020,2732,11946,5416,3124,4952,13500,8602,15620,9892,3162,1884,10762,196,18420,820,9426,9218,2718,1232,3870,11044,4106,14592,16728,2236,3760,324,2174,1302,6516,15152,17962,5920,2038,3504,15458,1486,18806,17942,172,19446,14238,13674,17326,532,15950,7050,14872,4474,18914,8082,16592,18498,8156,7492,15376,12700,19490,19006,11098,15294,11852,17164,11036,2550,15662,9814,12162,2502,11260,5514,7774,12230,1778,388,12854,17162,18238,9948,10320,15866,5562,4098,15338,9820,18902,3418,414,18702,6872,12892,19222,2274,6282,3272,7086,17814,6582,19126,12104,16920,18068,2340,4146,18368,13594,1606,10240,8950,16504,10406,8284,2142,14260,5546,11748,16396,6594,1876,6238,1198,5824,13684,1790,1726,11546,9654,11186,15052,2472,600,6222,15242,10620,8798,8100,8770,13124,9114,10334,10,4180,11654,15026,10336,8036,15110,2206,3024,16294,18006,16198,2448,18540,10254,5178,13250,6440,18274,1060,17876,126,376,14336,18220,11350,13714,17216,17650,282,10892,1762,15698,18462,6678,1586,10000,11678,1634,248,13988,15050,5992,6740,314,362,1004,622,14832,8308,15614,2326,11674,10122,15188,10654,5380,3082,7310,14594,11582,11874,17418,2376,14498,26,7250,11858,17188,1610,3442,11470,1172,11960,9372,2876,15230,11714,6258,16918,2996,13356,15620,14008,11190,7652,13750,14728,10482,9340,6742,17624,10696,15434,10644,15270,2908,5850,12286,10794,4902,15706,19380,9478,3676,7682,16366,2864,16176,10640,3430,14726,6810,18280,11306,11492,16250,19604,6692,13584,14388,12862,12202,3458,6034,11180,14478,12154,2352,2286,19786,14750,10366,12066,4862,10596,9096,7454,14760,1268,1228,13178,12298,18882,4584,13844,5574,2162,7856,13250,17642,18948,10298,6492,3040,14384,18822,16972,6100,1580,1254,18236,2400,4202,18526,3018,836,17400,6286,17108,15676,4890,13696,8426,3796,13854,9428,4934,16328,10616,8366,16298,11982,19324,14246,15912,7690,5056,9822,10984,17130,7730,10428,13890,5064,8858,3772,19688,14304,8448,18878,16044,19826,958,2086,5046,14860,19678,19954,8910,19804,3500,11384,18858,4630,13078,378,19880,1242,6232,12616,5868,4184,440,350,14150,10464,13520,11800,3766,13278,2658,15390,3900,19168,13166,12688,3910,9062,19356,6854,6288,18590,602,14048,18648,8962,10964,17422,4858,3142,3670,11148,8814,12398,11640,13624,17986,12216,15540,3758,14080,12664,2578,9408,4670,7496,14340,17132,18616,5336,3764,16434,8726,18032,16448,9832,17958,12422,6914,16850,15526,4840,3700,1888,13798,1482,19348,18196,8282,19944,19710,9558,4684,802,13358,15222,4654,9058,19762,10484,1086,12236,7684,18632,11968,10842,8600,3768,17034,19692,11140,1262,5118,5530,14764,19216,7816,16112,14778,6852,1742,14674,6748,10080,12192,1350,8084,4300,6198,6972,17446,5278,11006,1780,19668,1612,1058,9222,7384,5128,14676,18394,9336,8654,17976,2828,10268,18194,6236,8006,4614,10958,17010,17116,7284,17218,10100,3172,2918,13884,18966,7108,6286,336,9854,19964,1098,15794,8026,17462,19972,12546,10714,488,10850,7178,46,4682,18292,13782,5206,6516,3312,9638,7836,12332,15580,9622,18494,18690,15184,8584,3058,13996,10724,2958,10926,17722,9696,796,5950,7042,9992,5280,12968,9430,744,2630,11276,4288,17604,3506,410,4848,13216,11702,5722,16982,2636,9446,3836,4244,5298,2876,8480,15548,4892,4836,3350,8276,11064,3026,8234,7686,1180,3096,2890,13160,15160,15776,1962,14838,16610,5762,12646,14730,13860,15570,2476,2996,6760,17726,5740,10548,1170,4670,15924,11404,1000,15750,9222,9458,12152,14448,6600,11308,2094,17138,1738,316,13262,7318,3184,6440,18254,18350,682,2672,13638,14532,3858,13418,8718,13466,4186,15796,4644,14846,9722,13834,1994,6798,3854,16474,19212,11642,7160,9136,13670,1334,8306,14416,1418,17104,9122,9828,11040,1382,9926,4676,4906,14954,3140,7142,11900,19028,12772,11208,8136,14152,15692,15672,8346,6418,15182,14010,8640,2814,1310,16986,19036,16044,846,11426,18526,2830,18080,11390,10902,8566,15294,7600,2182,5626,12016,19644,11790,8928,14900,13562,4500,8144,14642,6816,4048,5620,7162,5346,13000,9844,3562,1302,15186,2754,11444,10882,4538,11306,3916,398,10198,7092,2542,2068,14006,2670,16728,2350,13904,16390,18856,11518,9488,2090,8468,11862,10468,3772,4790,2424,16536,5054,840,6746,10890,1098,11606,5706,296,4476,19082,15568,292,15140,18910,10932,18258,19094,82,10892,2256,14398,11974,15336,11780,10028,6404,5732,6154,5956,10434,8964,11700,3286,9370,16262,10776,188,2380,8290,9552,12212,13974,12114,5270,17492,8694,6072,6938,10880,4362,15100,13196,16152,12634,18720,15580,13898,15758,5120,18336,18758,6252,954,11236,4822,18682,3080,10746,124,17586,15582,16406,13136,9230,17510,18644,2392,1504,14718,14624,944,16320,6630,3080,8688,246,4658,7696,560,3202,12618,4684,3098,19856,3574,2366,5970,13308,9802,13840,10292,4252,15158,4602,12178,92,6184,15682,18230,11356,12640,7794,12164,18250,13122,16718,17182,16796,15756,11876,8930,11012,2410,6988,8042,2936,5952,7842,13744,12240,14078,14038,12352,7680,926,11844,13718,14720,2554,13348,2594,6368,13334,13416,14030,9198,10876,12936,18058,5622,19534,6372,13734,12724,1466,12364,6010,18152,13626,6204,17748,7204,12308,12190,16626,12416,2470,8218,4174,13586,770,11332,15880,1202,6060,19780,5062,14486,4852,10248,2188,3618,13790,19070,1294,4348,5500,5560,8998,1446,8822,15986,8194,7462,9690,8130,16784,2794,3364,3314,2842,13104,14002,15354,15084,5838,11992,18546,19110,19022,1134,16620,14508,5500,17446,12802,12914,2232,1930,17794,17388,15824,15688,6056,10800,18094,19148,7876,286,4458,19850,10662,9998,19384,7114,8960,7328,8432,14394,5932,11376,18950,17822,3580,11822,2978,4086,5418,5832,2496,17964,12014,5374,19492,15188,4248,7574,9550,2018,9912,17178,13480,7580,19592,1890,15038,11660,16618,1186,15244,16134,6068,12520,9902,3932,10238,15664,8966,5710,9184,18916,1672,2868,14802,4950,680,4720,4394,4,1692,14490,8488,3060,19530,18760,1230,2910,1398,674,18912,8346,11366,4598,8248,4770,1674,4040,3308,13184,13560,10558,13442,4044,230,4130,2110,6754,10946,15322,15622,268,764,18172,15840,19376,2570,17802,17340,5122,4776,3518,2908,14744,7370,14372,18426,19142,1884,13174,9342,5430,9856,17230,1720,5600,13702,3330,12870,2984,10110,18240,13694,7010,3470,4914,3456,5072,10870,18974,9416,4474,16962,8322,1800,14496,6958,5748,974,15850,16080,3312,8360,3360,12818,3894,11298,17954,4418,8254,8058,15266,3734,5026,10472,5484,8212,6944,16792,150,15422,1284,17328,11054,10324,13932,4856,16772,7520,16090,1520,2208,13022,10062,974,6176,17394,3000,7908,8336,8086,1052,12938,11948,14270,4908,6168,10744,17814,17816,6990,2514,9576,16606,18556,1646,15616,3042,17986,18956,1802,17678,7738,4788,6858,10760,11894,9234,2398,7024,17296,1412,2458,4636,12472,10752,4370,15842,3158,17494,13978,4938,12142,3698,284,1666,1160,10212,15872,1732,19122,12272,17092,1940,11016,15328,9780,4720,16332,14620,18578,238,544,19344,1264,7952,13880,8484,5764,13146,2870,6308,12502,8134,9292,4360,5032,19968,3814,1120,16540,3052,17866,3220,2258,976,16770,9630,886,15764,3640,8490,6302,2956,342,5394,11890,5490,5854,8140,9394,11084,16622,11118,10430,4468,14486,18432,11658,18856,9096,10774,3608,18468,6518,12816,11752,5908,9494,7312,5734,16972,8320,14148,17688,6980,16888,9204,18582,1130,5146,4264,18836,1956,11832,16882,10528,4766,16590,6648,15726,11772,380,2704,10926,6402,10962,9534,18850,14778,13378,14662,17454,19564,14752,5876,9598,17784,10150,3722,1734,11056,4412,7448,10016,7322,1838,16158,13920,6656,3480,2710,17206,4784,936,17300,14544,15870,244,19342,5084,15450,13038,4804,7668,6364,11552,14704,712,13870,722,14260,15868,8606,4250,2826,1866,6772,15218,19018,5382,2254,5148,2524,8070,4454,10296,8986,3832,19418,5278,1496,14816,6992,1748,16720,9500,14512,14142,7898,16754,16672,2992,1528,11838,19998,14810,3524,13282,3364,5396,8866,234,13866,9748,15454,1500,11730,13202,3554,640,3032,8802,4616,18730,4210,5368,13670,12920,18006,10986,12860,9332,18626,18602,13794,17810,3818,6242,18982,2924,5468,15978,11650,724,17692,14604,12514,4338,11908,40,17562,19782,14210,9564,14758,14830,4884,1392,892,19904,614,7528,3826,6884,3866,15250,19614,4868,4144,17718,18376,8470,402,15138,11268,11928,9854,14202,5870,960,15648,17612,5276,8680,13222,3790,9010,6974,16512,18360,16742,8188,5326,10256,3488,2504,15536,6510,19832,17956,19524,8138,10712,18030,5218,9198,15336,11652,3896,11924,10506,17200,15344,2778,16854,15992,11004,13800,11534,11796,826,15180,17528,15178,11798,2366,16926,14716,12582,9518,11028,11572,850,11478,4180,12710,12718,4828,14826,2374,17518,5928,14330,17606,12166,16534,6672,15556,18912,9024,4214,12238,16142,2568,6912,12736,4698,11456,1750,10690,12720,14310,12530,7132,15792,11698,10632,15108,7728,1128,16568,14300,8458,17626,17646,3654,14936,14662,114,19340,7858,16994,19480,11962,19924,4396,11246,16282,8588,12970,8254,14280,16234,8476,8146,8050,4622,15164,8010,14264,10762,5582,7720,18072,6066,570,7994,7176,8016,4132,3020,2416,6498,9390,5070,12764,17702,19914,13254,10488,17084,13618,7798,7782,15728,14152,2020,8350,4310,6420,17668,13972,524,19090,10318,7512,4630,15002,5386,12826,7654,17608,11470,17538,16884,6970,6370,14870,5860,9000,2548,14376,18450,6294,12134,12940,9310,12208,1028,12090,10158,9846,2210,13764,10630,19716,4726,17706,352,16770,8660,15704,4900,10780,2666,12908,1054,7506,4612,8098,3890,11610,19572,7698,17516,174,576,12528,12708,17058,8828,6878,7702,2172,15412,7510,10138,13640,13228,11318,6806,9922,17812,11946,5120,16708,2026,12720,19638,12508,9108,7014,4610,14182,418,5938,6480,5404,6276,6772,5816,11024,11050,16892,8810,8828,11550,12410,8290,11902,14584,2680,5974,14290,13218,440,9348,4746,12652,15746,4052,2582,7942,10260,18902,16670,6818,13848,16418,1356,8570,12136,11554,8862,19346,8840,11412,858,17796,16586,19034,16146,3296,19482,16290,12694,13044,18074,4302,5914,4198,4058,12838,15152,5508,1226,7378,2900,5604,10996,15690,16108,9380,10488,10640,7212,6404,14996,15404,19670,9864,16890,13208,19916,14856,16006,15274,8652,18882,13918,15528,19838,5370,4498,6774,19180,11070,12630,3144,17850,11284,14442,16966,18442,7404,854,8444,15026,13944,19952,10440,6824,15638,5210,11872,15846,402,9722,3174,2454,12858,2176,16224,8612,13304,10978,16876,13882,7612,18984,6744,8850,7030,18106,6762,9200,3164,7232,8044,15048,12858,2986,3742,18010,11254,17222,18954,2170,568,6848,17772,3242,17118,7360,4654,5226,14828,7048,18218,15350,15516,1262,1706,4524,10580,4308,17112,2334,18818,218,358,16472,11174,4520,6082,18050,1402,9382,3854,17430,15046,16350,2116,10686,17906,7824,11514,6132,3402,18168,6124,16126,9530,14410,900,8978,706,5276,11560,9836,15796,6256,15000,9930,7268,11164,2130,9628,17486,13332,18472,1354,3144,424,6758,10516,16952,13244,17300,10416,13676,14522,6000,10898,1090,2286,12330,7648,3200,19922,17128,12798,1178,4316,10938,10352,9472,3100,2380,6588,19114,15096,16632,7004,12790,4678,9596,4200,15616,11856,2052,66,4218,9516,13110,17322,12690,9120,17526,5130,15082,18948,13194,17100,19078,15942,12350,10908,80,6042,4706,16202,6654,3258,5362,16040,13624,4954,10598,15830,7446,2514,16288,13088,13750,15236,1252,5262,18908,6504,13510,7596,360,13380,1508,786,14668,13878,18392,18332,3906,15348,760,16524,5400,11392,14322,2552,10924,16284,19264,16060,19294,19728,13774,4126,13452,9356,7234,9162,15426,13344,7778,924,14872,5724,17944,102,36,4700,11042,10312,19434,9544,1286,3692,952,13644,6900,4172,4926,5696,1336,13610,6064,19016,19320,7124,19988,12582,4154,12484,2866,12482,11532,14846,4014,3962,13944,18970,19016,12836,14914,16242,5526,4076,2112,19598,16352,5196,17528,13910,8306,796,608,3896,9060,5930,17468,2394,14706,2740,3494,7112,13790,14226,12454,4072,7482,10304,11594,6114,11846,19382,17778,10974,7382,13408,7196,14330,10958,18664,18120,1770,13334,16226,1514,5310,5296,6608,5736,1970,3138,15250,668,14540,11466,15444,15808,1332,18976,12322,12268,10174,17460,10436,4362,4862,13512,10300,12600,12980,8364,3830,9906,13256,5714,17770,1252,7780,4244,19918,9242,4128,4576,8836,5292,9600,9594,7246,6306,13272,13602,14840,17476,17654,3876,17936,16106,10404,16354,13016,14158,2266,17608,15596,15106,4714,1540,13354,11600,362,6408,12512,11188,11442,8478,15922,18210,18528,6828,18308,178,6378,13088,778,19602,2748,13966,7936,15086,1848,160,15276,2306,7746,1854,12804,15060,10176,4082,3652,17378,7304,2880,19198,9774,12722,19854,18242,0,19114,12370,17984,5454,16586,2202,8308,2624,12802,8166,6464,12110,13312,6102,17060,4278,1914,3636,13046,1040,19824,2648,1828,970,12310,8940,10624,3842,7480,19682,19072,11754,9880,9048,154,4882,978,2688,8024,14708,5646,19684,3108,5916,1908,3352,17320,14930,1432,18928,3760,220,11672,12828,7522,12380,8008,10538,13578,18996,5496,16276,11576,60,19950,10878,6642,5662,11884,5014,4710,11808,354,3274,2300,7544,9944,19160,16180,5616,19750,17254,13880,19518,15288,18416,14126,6016,17242,19582,3164,8976,15666,10578,15996,16746,11100,16496,9098,268,7184,16808,17760,6242,12628,15756,19028,7018,13422,15356,19064,10906,672,8558,13010,1304,13654,10192,16098,7140,19142,7590,18406,12762,12424,3910,8604,10204,14378,16950,9440,2548,14092,15022,14354,19942,16102,5112,11756,2958,2238,12490,10608,4712,12576,1640,17464,5154,18888,10410,950,11686,19166,6832,5288,16114,10048,5318,19522,18116,8414,14006,17358,236,17404,4064,4410,4134,5782,7950,14424,17514,17016,4406,1472,13200,3950,17716,1782,13828,700,10916,15406,13824,14634,16722,1448,1594,10954,16192,8038,13316,3326,2208,1526,8402,7902,4318,9746,15266,19014,590,7710,13136,4030,8434,12530,17994,16750,15714,1064,16802,13858,11382,5980,18528,5820,16656,10988,10322,8544,2254,3502,6230,14472,3352,3528,15310,15932,14426,3898,18246,5466,5248,10590,10750,11274,16944,7316,10312,9046,7934,240,8510,14170,12966,16980,7892,16358,12,12786,12848,13478,5572,8708,5888,11484,3362,16580,450,19252,1534,17918,4182,15682,3158,19562,6710,8602,606,5566,8536,4290,13720,19706,8832,19002,15742,576,8158,18002,16058,6732,17152,14136,2772,3386,14938,16652,10262,15744,17822,11404,4230,9042,5444,11290,8868,9610,7548,12200,6664,10272,15006,4344,17892,19406,1304,4456,5592,15578,7996,16338,18878,772,10052,18920,6148,13470,7694,8616,13656,10346,6040,9034,4208,6754,6838,13018,162,10168,19242,6886,4814,4662,16570,13986,4080,8042,9776,7538,2800,8870,7326,13152,11682,9950,332,13598,3838,8272,2198,3118,2284,17008,4926,7516,12794,3416,19612,19936,872,5046,16200,16168,6344,6158,16752,9128,13842,9448,16830,4240,16318,3952,18196,3268,1062,13932,16572,1268,16602,10836,11702,13976,5324,556,17548,16062,19872,6810,18644,8378,15806,7918,19224,8048,11720,14258,8132,11534,17252,4644,15284,14936,8794,6670,9692,16372,3672,19432,13756,14490,4640,10050,14432,2294,10220,4032,530,8120,14968,8230,7784,18352,19784,1852,7214,19620,19238,17576,7410,10134,19774,4234,19070,14434,13476,17176,14506,5354,14676,9984,8330,1892,9412,5630,6300,13636,16324,4690,4412,11240,17920,18330,19528,14546,1446,9568,5384,1110,4996,5044,18114,9650,16934,18438,1818,4156,5556,4382,18184,18962,870,12544,4688,5488,7426,6080,9044,5152,15040,16958,11488,4264,14324,7484,18178,15528,17120,10838,5022,13596,6250,15630,8622,13428,16136,12098,10700,15850,15886,12206,14104,8876,3852,15802,4202,10830,1432,1176,16464,3278,19506,17860,8862,17440,10608,3388,19878,16384,3122,16870,1788,7336,3696,1190,12554,2676,13724,18950,13154,13580,11226,12834,18184,8054,1766,17652,16342,5038,11834,15522,17848,2350,8634,5328,19600,10770,7146,2426,9774,16726,10858,7870,13642,1740,6890,2476,8804,15524,7432,12222,16990,1516,7714,1562,19544,4876,2772,14090,14770,2202,17024,644,5744,17420,14460,14022,2866,11494,270,2032,3848,19546,14568,10672,15634,17478,18164,5452,3988,18812,15208,1992,5730,9758,6430,14346,11996,19032,6394,3740,19346,17006,15670,542,4814,10004,7262,502,13954,19730,17038,16628,16360,8004,12096,15184,12098,192,4046,8022,1970,5262,6302,9194,19138,1546,8390,11004,1388,5638,3708,484,14108,16968,4964,15494,13346,7256,18168,12426,12710,428,11052,15686,15004,16024,14462,13484,17680,13368,15522,13962,9314,104,2426,18842,13990,4792,18244,3262,17068,462,10520,11886,19652,9460,18078,15022,3680,1550,18862,6494,11512,2038,6534,19976,9702,14084,11962,12376,532,10786,9778,12818,12636,18670,15696,14306,14770,4490,4590,7476,8760,15858,16478,17952,4266,8458,1234,8046,9764,16640,444,5132,3492,8080,15544,6570,7288,4392,10196,6738,7126,10536,9872,9914,10902,3542,4956,6066,18426,10510,2454,14348,7982,4100,2256,1026,2338,18792,3308,17420,1074,826,9002,8578,7340,14940,2076,10276,18350,7524,14646,6456,12438,4740,13186,10588,5184,4444,10378,17968,5798,14272,18176,3166,11382,15618,8936,12624,8198,8270,8118,19024,11728,13940,11364,18296,608,16392,4428,14278,14710,18826,15436,4744,3998,9940,32,15256,11648,7350,9578,8398,7574,18522,834,11886,2646,16330,4742,19596,11706,19062,16650,10242,16844,9782,6166,9210,6372,1142,5322,16738,14934,10144,8912,18420,12568,13758,19826,1210,3342,13536,4212,12962,16750,2564,17336,7134,18102,5510,1990,14242,8518,6634,8492,6682,13378,14284,13826,9290,3944,9596,7698,5804,13042,6304,4868,14450,18026,9532,6882,3950,5010,18606,16796,9022,6434,14040,13650,17838,19604,5736,9760,3540,12918,3344,8550,19956,13572,8034,11342,12944,13076,7576,2782,11628,5042,7168,18506,19098,15564,15818,15644,17354,17384,19758,5476,62,2856,7632,2340,2276,3050,3604,8964,11612,8960,1846,10358,4718,15818,14850,6354,6022,4980,15802,4292,13834,1630,8746,15530,5692,42,1546,4452,11074,5294,7744,5164,1862,18292,19080,16774,7402,18600,1832,714,16102,15718,15482,7982,4268,17686,12714,8170,10090,9052,5722,6462,16176,7790,6870,6848,18410,5542,7914,10570,11922,14982,5904,5612,10,482,4262,14268,4342,4430,4756,2352,1882,7962,6602,13946,15064,17724,10566,16172,10452,1006,13236,16576,12932,3868,14998,7972,8692,10152,11530,17682,1848,6606,8438,4798,14530,4662,7806,4624,5490,586,5672,18638,320,11106,6526,11538,12128,16166,1288,11062,12622,9140,6512,11388,13280,3288,16522,3044,934,1366,6358,6450,8648,11060,17152,13908,11592,11332,32,6558,13912,7658,11648,9592,15534,7354,14700,19596,14870,17490,3310,8568,18226,11442,19200,9636,11036,9624,5340,420,14576,10810,7630,12294,7510,15414,1452,18262,16920,10434,10652,12960,5290,18206,1116,4142,15142,8738,10500,2194,2298,2528,4352,2942,16988,694,10108,8562,5882,7708,2146,1364,3546,13170,9672,5006,2422,17762,756,4736,13864,18788,14946,14254,12078,17090,3210,18348,18222,288,12442,10812,13068,5704,19634,1656,6728,8104,346,13614,9578,12892,386,12114,6196,13162,12064,136,11560,17466,324,12306,2526,11300,3472,19156,11830,8784,14120,1678,7488,17452,9212,19390,10430,7218,10952,9502,7396,6068,160,13554,5088,6336,11230,19232,12252,624,17434,14420,2520,16196,13872,5814,12832,6150,806,2042,3078,9898,12732,6580,19770,7910,2874,14986,9238,15226,10228,16924,7754,14632,19338,12390,2466,1568,8380,12768,1218,10788,7500,384,14178,552,4324,14434,11784,3244,15910,17430,9954,9910,6806,19626,12008,12784,15326,18036,10560,2726,956,8124,9038,14492,10480,10040,19362,17578,6580,3866,7264,9580,19400,17384,12366,8208,19522,11482,10638,19566,12382,19900,7900,392,2474,2986,11230,16166,3088,334,11326,11806,3522,2674,548,1016,1816,5174,19278,8188,8084,18634,17652,2434,15386,3474,2878,3626,11266,14014,14558,4120,10520,8246,18900,4700,5402,1220,15880,14020,16450,2552,18762,14566,10120,4320,18932,9114,14656,18162,12352,7452,8122,8352,16220,4136,5346,11788,5758,1080,19360,7138,10866,19690,17162,8726,9338,88,14028,15040,1422,1608,11982,9540,5112,8732,13188,9496,18806,8222,16848,15856,9934,8462,6860,4026,10530,8326,1510,14362,13054,11922,8220,14664,11984,17968,10080,1068,10716,17818,19294,15592,5018,11356,11030,6752,12452,4840,19842,9216,11334,14034,9518,3828,9138,3194,8114,5302,11286,432,17884,12472,3334,16578,16516,12808,1664,11748,10102,15540,2028,3542,17324,8030,3662,5866,4428,13036,18402,10552,2530,3714,17792,16254,14250,13540,19380,14868,3890,3166,14268,9572,428,5402,18802,3956,14250,168,11014,9126,3486,2704,5126,3478,1744,15260,15140,2500,8194,15892,13292,19236,6880,6368,13004,2010,16518,12946,14768,5738,10826,17960,19460,17210,3440,19986,14390,13692,16194,3702,9754,15234,18594,11406,5124,8116,4388,1346,12186,18342,6222,16772,7288,10412,11920,17830,15520,12362,3294,10928,8174,3628,16776,11328,13530,19898,5334,72,16180,2916,17886,3744,9248,11182,11428,16816,4220,12494,10416,12612,17792,7542,13106,6826,15760,4260,14158,19898,16368,14044,7732,17150,9858,9956,9242,5808,10148,504,16864,18382,11260,6144,14742,10370,16424,8874,16010,7786,13176,8422,7470,14014,9540,19748,16662,17992,5674,8816,7718,732,8498,19822,9796,2346,9364,12994,9724,18274,2120,14542,11218,11914,13780,2562,134,10172,13268,5354,13168,16672,6264,14206,5214,3450,11976,11286,6514,14708,10148,7292,16092,7720,5954,10062,50,19308,14952,13760,2134,18076,11078,1196,564,15446,18,376,18170,4752,15648,8444,14076,16256,9312,8260,838,10972,2600,4336,16410,7464,18712,1108,148,9174,16608,17458,2480,6110,17658,16152,5170,17550,10502,12746,5134,15590,17048,7158,16886,7668,2694,1156,10330,13162,14916,3800,15120,1620,18892,13476,882,10844,9734,14240,9080,12264,10642,6078,2844,3460,11220,7342,13704,2754,15398,1826,17008,3180,5574,16670,10934,4366,3552,17388,19182,17356,3724,5414,6886,16864,19576,5126,632,5986,326,19364,8662,19394,8518,964,15488,12050,328,7852,16852,18084,1776,2532,8924,6330,6744,19896,19342,17976,3400,12842,5108,4104,2420,10350,13630,19098,7022,9962,122,4646,8332,9026,11102,5748,17706,15476,10328,2762,6938,16582,13872,17740,9780,4920,10216,16418,15784,6858,11010,7906,13116,3652,7758,19732,3208,16228,11966,866,888,308,5836,8738,3646,6780,18984,5254,13506,4354,13100,9928,10170,3608,5256,5864,5372,19254,486,14944,2088,8504,7554,19728,12894,17980,19134,2604,16896,19162,3552,10160,18154,15554,9810,8878,8506,14912,19664,6896,9294,13930,17712,17716,6642,15754,2070,17720,5986,868,8078,2432,2126,410,11708,9640,7360,9110,18758,12228,17914,1126,694,2736,19916,15116,17702,18830,8056,15318,1876,6620,17838,19922,6622,2010,8374,18380,11732,19260,19676,13634,7310,7206,7650,828,16394,11616,10934,11456,3914,11258,14050,2482,12434,15642,2974,16642,16196,3858,19668,5274,6720,19256,8682,12030,16454,5096,2498,8428,10974,698,19400,2408,7680,12428,7592,7490,14918,16902,5622,10316,13698,9434,8298,2396,6354,9428,2332,11288,19866,10140,18158,5414,6770,13128,1046,976,4204,16906,12614,13506,8598,4304,15898,8004,2752,2690,14464,10026,3822,14416,19950,12018,17238,13786,10872,1442,7504,8048,14966,4088,3928,1184,19056,8430,16386,8362,10822,18334,5582,6978,3412,17690,4658,4518,784,11226,6376,12814,10206,4606,11846,5258,2746,15602,12400,2120,7578,10284,6246,5186,19520,176,11466,6348,1464,5118,13934,17374,1450,7748,5738,9202,8942,11146,13244,16146,2280,11408,10474,16470,16680,8556,1966,18988,3122,15958,266,6954,19302,19714,232,4904,6842,13498,6704,4724,132,19192,10244,18628,18544,2064,620,11282,500,12004,7506,9522,6274,16150,14590,14276,8324,14054,18652,14482,12812,7836,3908,18454,18616,14002,2970,16290,13720,8248,7240,14198,3368,7356,2448,4546,2522,16338,9382,18470,7436,6146,17932,7146,1018,8882,8500,17778,1482,5060,1680,4786,19666,9366,18232,1090,4562,13388,2098,148,10894,11474,15406,18748,16884,6322,12684,17640,7210,9416,17926,8344,11388,13294,2260,13194,3112,14644,5130,7898,16788,15392,7782,416,752,12056,17844,7958,386,9862,12670,1348,15320,10560,11420,10532,12244,18346,13276,2312,10990,6442,3368,7500,7874,18744,10204,4340,3880,11860,4368,14354,18068,13022,19060,3766,4172,2054,14938,8946,9068,16698,11542,2540,10798,5706,18456,3954,12070,17192,13006,16492,5020,3832,4320,7494,7062,9626,2654,10706,18202,19622,15680,15670,6048,19414,16658,4988,17412,15034,984,1210,10110,2826,1486,12782,13100,14508,12990,9316,9746,7354,2316,2046,15292,696,640,18402,10634,6782,17062,9374,17064,3620,6622,9214,11192,15864,9656,9396,9252,8108,968,14852,7390,8920,14956,1604,8560,14130,3754,650,928,980,12318,17500,12626,8768,1792,10672,7604,4150,8022,17544,2006,9226,1716,6994,9894,11384,16030,3186,16202,14644,15864,2884,1534,17418,10662,3384,9574,10920,2988,12130,7442,2292,13132,13984,19658,5904,1320,6210,2496,11216,11342,1636,19964,19154,2776,314,11714,19784,12074,18570,12442,6668,4734,5272,3356,8916,8052,3256,7492,7094,5140,5638,19226,12882,3324,8732,5792,10968,1338,9638,12392,9262,3978,5092,18892,14882,16414,14380,4618,6684,18336,15678,9874,13204,19996,3850,7554,15036,18132,13498,12172,3704,7432,12068,18044,7596,2882,7972,15220,15496,17752,7908,10398,9790,10666,18934,4230,1030,1786,4922,10566,106,5624,8032,15084,9766,5674,15048,17526,5024,17736,5280,7870,16834,6888,4730,16894,3824,2338,8474,6266,10724,17832,16310,14736,4384,17136,7762,11016,1988,9806,12224,13266,12742,19146,4596,14582,14950,2066,8054,16356,1010,13836,4648,4168,4622,4064,17580,4642,10646,13372,7662,9296,18340,4896,16250,17386,13840,7180,14920,14626,17568,19464,4810,16746,8456,10234,19276,6636,7028,14196,11558,17852,15484,18720,17522,18716,8754,15386,10944,19150,8428,11216,18834,16996,14994,14396,3522,2820,10568,4242,4288,5844,4874,17694,19800,16138,11038,12356,15946,12758,8184,7214,184,19710,3556,16918,19078,4956,7624,6912,2504,10626,8708,4870,17724,13212,1238,8524,10904,15216,13912,3038,4772,13182,3370,17118,9018,16512,11408,19564,6044,9100,16008,5222,13232,1204,17360,3908,7828,10896,14090,9120,18692,12482,1506,19428,14916,15460,6542,10694,14860,918,10090,7700,7190,948,5104,14806,4378,16392,4298,11814,10784,12428,19934,840,10514,7384,7304,2004,9424,16456,5576,4004,6524,2638,736,13258,17262,6740,15144,3154,13550,12358,9490,10310,4060,11784,11938,6730,9982,1080,4334,2492,10556,15508,7976,13276,8970,14010,4158,11448,15980,19570,16712,1074,12128,1960,8598,5350,19552,14578,13330,2228,8496,17474,6360,14672,19448,13746,13894,7300,2810,18874,9442,4986,19480,17340,3224,17228,8056,18216,17074,18844,16764,16682,11540,3060,1038,11688,18480,16978,8436,4834,15912,4364,9644,5940,7056,18040,10574,692,6214,15118,12052,12022,16410,10992,4262,1028,7676,8216,11000,260,8586,8094,3276,8422,4534,6838,10036,15242,14874,7116,2428,1812,12732,16526,19516,2468,11372,8586,17174,1776,8890,8590,19724,7958,6206,5140,19844,10164,2192,12088,2684,2180,15456,14864,16222,12478,16940,18440,8988,12726,4734,13672,1024,4800,11994,13658,10960,9648,5938,2378,19664,1044,6734,9830,2796,16624,14970,5332,13386,12454,6292,9510,8750,5812,1956,17122,12540,19226,2860,5206,690,19230,7306,16060,8064,17248,9118,4422,698,12964,3732,3284,15122,11926,9844,13030,10424,2756,15772,3190,11174,11692,13372,10250,6436,18982,11256,4774,7832,2464,9124,16,3054,11094,14558,17738,2108,11522,18318,16546,11262,10386,11990,7120,822,1570,4152,2440,8090,8164,10996,16412,8064,18346,7330,19974,10348,3104,9074,19258,5040,16122,19050,2560,2182,12048,19336,9666,4018,18690,138,7232,5650,1638,19976,16820,904,12880,9474,13428,310,12986,7922,19618,12902,12044,12686,14306,18536,15134,5446,14586,1526,17886,1184,17532,4008,10448,2864,12590,18180,5680,4450,12606,19222,3362,19354,12084,15876,19808,14772,3450,7670,7528,5834,2566,10840,9476,1544,15516,16992,9838,17236,19678,15626,17728,12982,10356,11164,7520,19550,13092,11354,9480,13814,14504,12468,1082,4396,8618,3390,14032,12046,10734,5996,19558,7770,2806,17062,9890,10044,18532,3648,14294,16880,12182,19528,19248,17296,8972,12030,19368,15172,15768,16648,912,14408,5526,15018,2144,18890,5870,18236,18214,15898,7434,16000,12548,19760,12800,5150,6288,18636,1234,19958,406,2292,17506,13792,15404,9350,10376,18992,4838,7486,1138,18250,11526,2730,738,2270,11492,15948,6296,16544,14302,2518,18890,6610,10738,8670,19322,10732,10814,7850,10692,19486,15678,18110,5890,6842,10550,12562,910,6264,9658,1694,16536,19306,1700,6422,10790,12564,12568,12286,1332,15330,11974,18612,1530,12606,3648,7474,948,11514,4812,1274,14524,9414,13656,15104,4682,6778,9592,15900,2850,6918,14332,10496,6446,8420,13082,7690,11950,810,3994,11256,2744,16912,2782,19510,8728,1362,6298,11658,9394,11550,15120,19306,9152,2976,14926,17538,14942,4568,10060,15852,3614,19926,1182,5772,8718,6320,12394,19086,1298,11504,16690,6570,18674,6950,12220,19906,11136,19336,19318,3776,2698,16402,2218,1100,6724,5036,1930,7460,5116,17282,4056,15936,18270,5564,9212,9126,2196,3598,15778,15444,18388,4962,684,11372,4900,10674,9406,6128,18952,7954,9694,14222,908,9590,19486,4722,14932,5684,19726,9594,5508,17990,15964,18712,14398,11618,8544,4000,7712,4176,6432,9684,19666,9824,5148,6530,9828,15396,14156,15726,15730,74,11488,12578,7190,8568,4666,560,2964,1950,9254,14134,19326,1824,14098,3056,14622,9630,6536,4932,9362,3804,13060,10540,9890,10576,10688,12682,3156,996,138,10658,16660,16164,18626,6484,18656,14784,16172,17846,4872,996,5628,15668,10924,11890,750,6686,18716,11396,606,7104,15282,14550,2712,3720,16216,17056,16050,6716,14666,5670,1046,7016,9358,468,214,408,17894,18592,418,14114,14570,4342,3724,10228,1092,17470,18714,5506,11394,16732,14166,11224,12982,15344,5922,17638,11304,14856,11428,9668,17288,2706,6926,260,17584,2114,2618,6278,8900,11352,13800,13780,14166,17916,476,12386,13132,19858,15074,19304,18738,804,19058,7302,17310,10526,6590,15558,5432,18016,13254,17226,7602,8304,15462,602,14528,4770,8450,15248,194,146,19362,18970,10126,18264,2536,6612,16818,14390,3938,19038,16160,1768,12610,710,12434,1272,16210,18298,1056,6318,2372,15772,5968,5290,2302,6520,8952,12790,14150,1838,6092,19004,9286,2404,19350,8914,7814,2082,7224,2368,4808,9866,724,2630,7324,7532,7438,18228,16758,4418,2278,8154,4806,5042,11092,17086,8618,8066,10332,8198,3864,19134,3154,16304,19594,2632,3730,7460,16090,2936,3972,19586,7356,8796,9014,7874,16486,13960,13492,8920,11194,1194,18560,17502,11636,15214,1704,4620,12132,12508,6046,11220,19914,18354,12390,4936,17022,19896,16880,16458,18054,4638,9326,6452,14896,15342,3768,5068,10104,542,8342,18000,5240,10360,17782,9498,572,12626,7032,5512,2154,3670,7788,2362,19354,5074,16838,18894,11046,13548,4292,1002,19150,12296,12910,7254,4148,13142,10232,17228,13972,5022,19116,19632,15724,10576,5360,1134,15156,16710,12212,5846,2422,16476,12260,8210,14408,8340,398,6830,776,12706,5876,12640,19450,7018,10822,14790,9088,10596,11258,1192,9166,8664,10250,2808,12588,10078,6346,2768,13126,1910,4842,10290,16600,8258,19548,4170,15210,1034,18654,7944,15240,17994,13682,8392,19886,13806,4778,4378,1048,1172,8716,16316,864,3906,5958,17620,18846,3678,998,3928,11446,4704,18946,18822,8806,14466,19030,12980,2932,16398,5208,14044,2972,9526,1244,4020,9470,18404,2158,12202,16314,15104,7990,2452,11988,14294,19030,2172,11238,19812,8564,2084,8356,19868,14086,11980,9046,9334,11628,8570,14376,1938,4722,18980,9718,15566,16478,4656,9266,7126,14788,15440,8884,13934,2906,16862,5994,244,3982,1688,2040,58,9640,13618,1290,9988,4978,5934,9528,8944,7170,378,19190,14084,11276,17334,11080,5442,17796,1116,8102,206,16110,3946,3448,12920,7556,5522,4952,16870,17620,14992,2482,19554,8908,15364,16730,7772,18610,19454,9614,17192,598,17710,3102,5764,6658,11916,12632,15874,12876,13588,5608,4668,6070,14252,20,18858,5090,16382,122,12388,6112,12642,18156,2214,16858,16496,11140,4286,18208,12020,6952,5918,13184,14990,11162,758,2282,458,3796,15764,1320,8996,5308,15360,2620,9386,14452,524,17758,7352,9220,14208,9988,13622,12812,754,4332,16068,13492,14290,10948,19684,5568,24,3032,12164,4368,13274,16284,800,9656,2212,19660,2284,3102,1536,9590,12820,4548,16540,12692,17266,554,5470,228,5424,19816,484,3436,17644,11302,11368,17588,19552,17808,12612,7928,12334,19054,16622,10448,19682,9392,13240,2440,6898,5504,6698,19966,1898,3286,7924,8158,1524,17640,14062,6632,18816,1016,4330,19744,11324,2618,1742,6338,14990,744,14526,19838,8418,6962,9474,4898,7424,10476,15888,9444,1614,15914,1200,4254,7396,9398,13002,7296,7000,7570,9510,18138,19734,16440,11346,6352,7412,688,12792,4392,7606,2122,18424,4714,13468,11548,9604,5988,9532,3820,18524,16716,490,10766,6990,8796,16568,4702,12488,8128,11578,9040,17542,14254,11348,256,6436,16942,5554,5020,15302,10944,16420,12810,18804,10210,6586,12830,7202,8032,7156,15694,16390,18172,18562,17156,5050,880,7796,2888,9300,18884,17424,9094,9378,8460,6280,14566,8148,13524,5274,1188,4140,16866,19206,9582,19238,1964,19270,14120,1548,6090,19196,13772,17042,13346,13600,8292,10220,6328,8646,19452,3836,18014,7422,6528,8412,6582,17540,14130,15268,5438,7294,13796,2916,3420,2698,13804,8350,2750,10650,6254,5380,6240,13048,14016,5572,3324,15190,2884,5664,17630,1378,5012,1250,13752,9738,19754,4386,16028,2578,4048,5166,9304,15790,1548,3650,3034,1344,10670,8106,4746,12912,15656,15938,1984,8788,16212,2250,13980,13710,5392,16912,294,2074,8858,5314,13606,2788,15932,2068,2744,8326,13804,1538,18290,6758,10398,17238,13942,16232,12072,14714,4678,2418,11610,7236,8866,12000,3170,186,19474,9748,9664,11062,1716,9816,7280,11504,12256,10006,10478,18082,17536,5144,16492,18580,1350,6054,5048,18756,14966,12896,7244,12478,13306,5440,11804,9372,15604,16484,17574,10770,5828,1208,11552,8588,8692,16404,11058,3904,18926,13994,9770,19600,18490,15974,1904,10592,6344,3778,18734,5004,16364,9260,9324,19884,1108,15306,6058,12948,9530,19746,14392,10010,16556,16144,3180,19942,8292,15574,19954,19332,14520,18174,5228,16130,8724,6650,1476,15090,8264,5556,7626,13190,13058,19454,18686,3566,4464,5358,18566,1968,12196,15364,1214,15684,13922,11988,15166,18070,18452,15204,10688,3176,17644,18964,15660,13452,878,16326,11912,15828,14602,11182,11738,9452,15146,14942,1960,19830,10294,11644,19032,2796,14878,1768,16786,4928,13444,14482,8114,7742,12762,14170,9512,13846,18306,19516,982,17094,3924,1384,10788,10808,4266,4854,2546,1416,7258,1464,12878,4552,13298,3808,17520,19960,5648,18056,5906,17098,3960,16218,15618,9990,10372,6618,1576,14714,6018,3966,16814,3104,2124,1260,7226,19936,7502,12938,13730,2300,13380,13108,5612,6618,10286,11480,2218,10478,5960,1514,12702,2268,18552,11842,1410,728,19656,10146,17368,5630,2210,7028,13844,3372,11196,4356,5308,15028,12692,9142,9124,11744,13214,14562,16560,3548,13398,9876,4146,15994,5652,6140,580,6100,3604,6816,3254,6818,7430,1856,3030,2508,16762,2730,6172,13348,11092,7666,12,3462,6764,10858,11586,10420,6928,17768,7864,9706,8556,9524,5496,11650,6396,9784,7362,7726,12750,15252,4236,18654,7912,5190,2778,4846,5576,626,13414,12368,1050,15142,17132,17406,17386,16484,176,10200,10362,8578,7344,3544,9062,5644,5472,4540,5790,6298,2348,6330,7798,5584,6254,17966,13206,7172,8224,19230,4232,7424,12698,2304,17686,17392,14824,7818,5028,13486,6356,11580,17836,4656,14782,18518,7286,12796,238,6408,5936,11834,3382,5774,17076,8472,3176,16438,6808,19952,16822,7294,18608,12476,18718,3378,2962,9782,16652,17200,16580,7846,17486,15052,6270,18186,986,12658,13048,1278,18088,2308,7678,12338,7334,11022,14616,10932,5756,4818,16342,17898,1696,6402,7380,10720,19000,7300,14516,14814,9572,10956,17594,14180,8498,15094,17936,16952,10726,19902,10440,3640,16930,8102,4574,8448,7938,18464,18796,16814,17304,8278,2166,17854,13976,1070,7004,17194,4108,14906,16096,6240,19998,142,10194,950,90,2520,16694,14776,846,11402,8978,3022,7040,16468,6558,9974,18452,7084,14562,17260,5902,18174,6822,11464,17950,2776,6734,9716,3116,3574,15192,14612,17828,444,14116,3886,1216,10020,17356,12620,8454,11370,2534,15096,4998,12430,946,3150,5936,8296,1410,1260,19416,19234,9390,8140,7610,13984,6640,15056,15270,14206,17506,6002,10940,12958,7458,18896,12168,18220,17662,16680,17882,1102,6260,16156,2220,14312,822,12644,15886,15088,17426,18458,16674,2234,14328,19104,2478,17312,2140,1036,8606,8288,5486,12678,15560,9360,12696,8404,15066,18568,12072,8206,5134,3466,5984,15480,17028,186,5892,15884,18756,17362,3146,464,19010,6120,11116,464,11848,8390,13784,13920,18520,12570,7108,16184,1532,8454,3404,9330,152,7036,13438,6150,8354,12698,18154,12262,11420,15416,16664,1386,6246,11112,17348,4888,11902,11540,12672,6694,6942,9158,10300,17394,17034,18252,12536,12236,19990,6274,13300,16546,11334,14106,7954,6206,7408,18816,2268,17692,13968,1694,8300,14074,17298,14754,7694,8490,5194,18594,6572,6386,17240,1106,322,1590,2096,3358,19904,1358,15038,11884,13564,19610,6522,10242,13318,2058,6426,8182,12194,14642,6118,14924,5286,6790,2264,382,6096,7256,8540,19696,15624,6012,11604,11538,17880,17306,9948,12520,19536,14140,486,19122,18798,18740,5344,9978,14820,14318,9422,18636,6124,6104,19518,10786,572,2360,230,18472,4036,1278,862,546,11314,1658,2138,16052,1622,3442,3656,6382,17212,1216,11776,6078,1150,14564,3250,7846,3798,11852,13662,2766,8462,10172,16348,18294,8538,10330,16752,16548,1328,10132,2626,16556,7480,9798,3124,19598,17782,17872,17776,15782,5124,4982,588,15568,16596,16022,1652,2346,7170,18272,19008,10414,1540,7756,14418,14074,8294,980,1798,10344,3810,4964,13340,10178,2080,19636,17812,6644,13442,11138,17622,250,9604,6094,16632,460,10708,17624,6396,16266,364,12138,15452,16340,8608,13114,18044,14094,14370,6112,17978,13742,3294,6546,17744,15684,1630,11842,9680,14810,14650,1758,9034,9224,10486,17890,5740,13204,2158,13906,19704,7398,2024,19494,6876,19718,4324,10076,15586,13034,1186,8724,13500,1980,18628,8372,19374,9908,19968,1580,3004,13124,1088,12898,2858,5066,2244,18732,18586,12402,17578,13316,14146,16808,12330,5670,6808,2790,14944,12800,19648,16802,15368,10282,11012,5590,19546,14792,5132,2104,566,1270,19944,16170,18102,18316,1022,10580,11638,3930,1408,3956,18206,14370,16900,9410,7534,1968,3198,2668,6178,556,19112,18974,1136,2046,18428,12734,12864,7470,13590,16842,5114,10866,4150,14128,4360,10606,2278,3644,3970,16810,11934,12904,16056,10864,9916,19402,8182,15350,4978,4438,426,16574,14492,15340,2190,326,2192,17786,17138,2108,12918,18728,8714,12666,4382,16780,14748,19628,13570,9336,13230,8812,5486,930,14858,11950,11710,7090,16662,19410,15054,15700,11196,19704,11510,8614,4310,19650,5960,15190,15956,18022,5200,18986,4098,11824,15646,978,7278,3898,4976,154,13430,3512,14266,8038,1670,742,4494,912,18246,17454,16566,6416,11520,18464,8820,1372,7074,14214,12602,8378,5694,12510,830,3392,12594,7194,604,7026,9628,7916,5460,11920,7812,8842,7586,6016,9494,2590,14218,18522,11018,19834,18194,17120,16948,4114,9106,8804,13052,7566,12542,13582,9022,4482,12696,6422,8142,15806,8138,6434,17274,11670,8488,6442,9486,5154,16366,3834,4068,3554,10302,19328,4336,12768,17074,10086,5330,6924,8714,3638,5160,8020,1222,15586,9824,17094,19694,12654,11292,14086,11302,9682,9346,9174,4326,8166,388,18244,16302,5518,19322,15464,2296,7198,17508,578,338,16468,10446,13248,6034,17000,1078,10274,5050,2920,10656,18852,9834,12372,312,6366,12934,10072,10458,19736,9148,12584,678,7372,12984,15664,7640,7200,10276,1250,12108,14892,15560,18994,17944,14888,12080,7662,6362,19026,9610,19988,13940,14292,15698,8072,10282,9664,19610,17088,3320,14796,6086,16614,17336,940,5514,11576,11168,13374,12660,8756,11048,17166,272,16598,17902,646,2788,3526,9130,12154,2914,3274,12776,18364,11634,12504,2836,2962,19422,9244,19174,7568,5854,19240,10014,19130,5774,8420,3230,18082,9870,10556,1660,1978,9850,18254,3894,17922,30,6908,2592,5548,4774,302,14032,14780,4272,4626,13212,10544,5696,14898,9712,18586,15240,12502,4198,4892,1554,7482,3406,16818,8508,2446,10830,10390,17534,15730,5108,7412,7226,16890,15062,14070,2940,6484,6494,10832,10912,10498,10980,10432,5238,6118,18530,1400,4694,12700,2214,14634,19266,17496,4414,10342,12562,6666,18734,10396,17436,3344,3268,5284,7128,19962,10396,3016,246,16910,13120,18846,6628,9786,19202,16692,7906,14262,18976,15098,1684,6192,10450,4400,6326,11954,16790,19088,15800,13028,6074,8868,16270,2868,13370,1888,18854,12148,7160,19344,2764,11932,8716,5188,5628,19428,1030,18060,15810,16378,3228,4876,3742,6542,14138,4574,7806,9208,5326,780,5016,9018,14618,3446,14334,5110,14066,10698,18610,3046,9984,14200,1444,8234,12062,14446,10634,18098,15068,3488,1140,15010,9820,5660,14458,11632,18096,2648,16272,16374,17428,1372,2094,16048,2014,3082,10042,12476,19526,7812,8394,4954,19870,16724,3338,12824,15502,7588,13422,14236,10192,7072,14314,6696,1958,13990,10376,3532,6548,7202,7220,18390,5698,6996,8668,7308,7054,886,4466,15496,5208,15414,17030,13612,12850,1578,16840,18726,3954,5002,10876,9410,13392,18256,1764,17788,6014,2720,14940,14802,2692,7174,6116,12440,2124,280,19084,7148,13268,8952,16762,10060,646,16266,8318,15994,4166,8630,19268,8762,18980,1370,14050,13682,16098,5212,1188,318,19296,2624,11494,424,8430,8040,19318,5458,5884,10682,16012,13540,19514,12574,16634,19088,1748,6614,7608,11024,17892,7622,16848,11424,12218,14068,10226,2738,14038,17556,12486,1276,6468,4908,7038,15832,92,4004,2026,8072,544,17184,19182,1814,1816,1754,12270,12534,10776,16862,4526,3330,686,1066,1600,6186,17552,12754,16706,19192,11676,7572,3050,1256,15390,19468,1676,12766,1088,436,10298,6834,18152,17330,19300,4322,19432,8366,17564,8382,15538,8298,9412,1404,17674,2954,1010,17768,18614,2062,8078,18944,3586,10476,612,1440,16308,17234,8110,1012,15272,18360,15112,13636,12054,6930,13306,6,19158,9764,11262,3990,8312,6300,7984,17984,6038,9432,8948,7444,11316,12356,11474,56,12672,5356,2342,6082,3626,11948,9314,6474,4538,6764,1132,16416,6910,11458,340,7550,14984,4830,18022,6538,710,1824,3328,3004,11664,5222,12844,8526,5260,7364,10306,11202,6596,5698,4944,9788,18436,12408,1584,13902,9608,15716,5852,9938,1500,2702,7324,6202,12866,7400,7318,11392,18884,19100,11546,12302,3764,14,2446,19766,14814,16868,11268,290,4918,7822,5680,6250,2562,6086,596,14784,12874,8542,14464,876,3882,14430,9618,14842,512,1518,14208,10104,3232,4306,5494,15940,3418,19556,5520,3264,6226,198,3786,7402,15920,10200,9520,15696,4992,7078,10942,12266,18736,8262,10816,806,5888,18516,13634,12002,3132,17318,12860,11158,13652,1566,19388,11684,7414,19276,9516,14832,9624,19736,15736,5300,11104,10124,1644,11896,15542,9832,10362,13832,19408,4620,8092,12996,14580,4472,10512,19386,6766,13460,11868,4224,6568,7392,10860,10422,8982,1236,3684,12862,13686,12996,17058,3502,16738,13916,8244,13554,15658,5812,6508,17126,6800,11984,2738,812,5966,10194,9870,12986,630,13514,412,4194,3530,3444,13060,17338,3318,9924,12580,10888,5220,15208,19466,6868,5330,14280,19602,2812,492,16084,7122,48,6676,15482,10424,5188,18940,6530,19986,15706,5442,11690,18668,6154,18038,8852,4348,5686,6704,4600,14064,6966,8622,4634,12728,11252,14348,9154,11436,2606,13336,898,9052,15080,13102,15704,248,8932,10914,19930,13322,4564,18458,4948,11572,5216,18732,9928,15916,12374,13728,3520,6932,16248,9930,14756,15702,17664,13776,5488,16976,13082,1490,9666,1878,14438,14472,12094,15930,15702,17046,6936,8144,15440,4872,16462,2998,13736,19372,16004,5406,13502,13488,6844,8376,17740,2356,3848,11732,6146,1518,18014,4374,690,308,17606,14556,404,9678,5422,14356,5524,7570,11814,5420,16822,6620,488,11596,12906,4276,12112,18266,10340,322,4752,16386,6968,168,4462,8654,12658,15378,14222,19818,14160,12950,7440,11562,5910,17642,6662,18256,10182,14960,2204,4898,1424,5218,18034,14622,12852,19324,8080,12276,810,17180,11198,7140,14358,18700,19334,3806,16178,2668,12024,9378,13822,14510,18686,5620,14766,8070,13064,1914,7204,8886,164,12992,48,13164,5066,15238,7008,3232,15438,13062,2100,648,10612,15834,11234,4478,4304,8520,1778,9462,19124,17004,7448,4850,16616,1164,14220,11000,9910,8222,7110,10748,3152,14636,1100,3464,13288,8280,9426,2462,1726,9926,13434,2216,1488,8636,16362,16828,10348,9272,19526,7926,5092,8192,8228,1248,17398,18212,38,540,12548,17730,15012,14728,4256,7760,15960,10418,7198,10036,6878,7150,14914,13004,4582,19330,18746,2976,6238,7636,15736,6006,4148,2516,3734,1924,11768,9920,860,6312,7904,6322,8112,624,15480,18812,9346,10270,2062,15420,3178,6462,17524,14826,19170,3678,12884,8282,8016,2118,13180,18588,5580,17946,17364,7956,12688,818,19352,4860,720,14694,9274,7332,8256,11400,19582,11548,496,12988,16260,3222,10034,16138,2628,5294,2058,14738,16966,7816,14422,5306,11338,6518,18782,13072,4768,3658,3788,8760,11602,2896,19272,9356,2722,13326,18672,19876,14660,2684,12772,15752,526,17490,11278,17788,5964,12556,3534,5072,7196,19076,9228,5428,15366,3806,2586,2932,4066,10446,14570,11906,8624,13576,8832,906,18936,4290,9258,8638,8938,10728,2768,4736,13304,3320,17474,9140,2098,11526,13792,1774,19616,3250,6766,3816,798,19640,15782,1916,1428,13134,7400,2318,7176,15358,1796,13676,5006,8510,17862,4442,16698,2652,17988,17780,9192,10218,5792,6080,1882,14204,11764,3514,1254,4938,746,19832,11838,4768,12304,5362,13580,2016,5610,7910,19240,7450,11914,18354,8392,11880,2136,12856,4754,9178,11840,7892,15588,15256,16432,4802,6486,15674,898,6520,1984,15246,8610,14692,10236,10828,18310,9100,10364,5978,14818,12280,17746,13768,6448,10684,17208,19548,732,12740,18622,18150,13140,350,5808,3782,19926,9332,4584,9450,7802,2602,15134,13964,4532,114,15584,17376,11184,3682,11882,18832,16982,12828,4578,6630,11736,1084,15274,12432,11854,12132,8438,14576,5478,9268,15432,8926,8742,9756,6290,1976,7618,17694,15720,11908,6548,15574,18234,11312,6178,8472,6840,14230,18828,11972,16678,12506,4376,4484,1616,9322,1246,15748,5898,19814,10240,19820,14298,14276,10676,14288,14668,18052,17134,16428,10078,12840,8790,9508,8284,18838,12550,1480,15132,13384,14866,4844,13006,3342,11716,10118,12774,5516,15062,904,12312,17078,6390,17664,13948,9106,18388,19778,1430,9902,13994,2838,6042,8990,15628,18188,12514,6660,8642,13362,5532,16690,16388,14506,16070,7012,19854,5822,15996,13690,14402,10564,18584,2386,6052,7888,8970,12738,13748,10202,14356,9484,17278,4826,8098,19766,16018,13708,1322,17762,4460,1478,7688,9676,12712,4280,5896,19284,1142,16244,12168,18140,742,982,2070,19624,3722,7472,14922,15182,14494,17064,7282,10936,16786,11764,6490,4322,19378,10264,17082,8834,19476,15954,2568,11662,3490,4812,15566,14574,7148,5078,8460,11070,2570,1336,12930,5852,3302,18180,2792,16506,12864,5306,614,17830,6314,1576,5728,3490,18356,4084,2402,1550,19242,13928,17076,2846,5832,6386,18996,2,19036,19218,12748,13568,4110,15636,884,3710,19644,11822,9470,18086,16852,6420,9214,12736,19872,2178,3934,13746,5482,19462,6610,11892,2288,6802,17978,9054,5780,8646,6908,18048,7990,18086,10002,3142,3738,50,14972,16684,2620,12438,1722,6646,16824,15248,1690,1784,16322,17774,294,1246,3536,13574,14836,8522,14500,2296,10324,6216,19478,10384,12328,10746,12560,18918,9464,3762,12580,3386,2078,7606,1078,14446,18926,8060,7952,11906,15732,5478,1384,19472,10210,17668,11006,8792,18630,8572,3390,19956,17798,5472,992,5720,3920,6204,16624,11192,2518,5286,19594,786,2592,16362,9888,14172,18760,1208,234,5874,3674,11644,8482,6964,3366,19210,16498,3976,19524,9632,17556,8018,7104,13288,1222,19194,8398,3814,14414,11866,1456,15948,15148,10522,2066,12956,10868,6384,7650,18506,4068,13924,498,18834,16296,5874,19288,3118,3936,5600,16810,8758,2314,13012,9468,12264,13874,13412,8894,19470,2798,2780,16088,12450,17972,16118,19722,19494,9098,16188,16230,15108,2654,7948,19352,11608,12150,10184,8882,13754,16368,18922,16756,17904,8186,9448,3374,9560,17214,456,7762,4456,19906,5504,7054,7456,1290,14948,12410,17858,10462,15228,12326,14426,17600,19794,11888,18790,10960,10956,10990,540,8176,19622,13534,14316,74,10982,15180,2534,19040,12566,7228,7820,8788,7216,18642,4380,16916,5534,16638,2762,9082,4604,6356,17790,8190,18286,9702,4206,3136,15524,2122,15946,8988,3150,13604,15844,13400,2056,5640,18188,6182,5364,13130,16928,8574,11048,4784,11960,2530,14624,16958,16896,4660,12060,11146,8802,11812,4272,19788,3360,3630,16558,506,19288,6102,1242,1786,1426,16712,18116,19758,15848,2490,8148,13420,18512,12418,6526,7966,10498,19502,17754,19092,702,214,11098,4470,19960,9466,19164,616,4116,14648,8192,16782,13850,6986,8050,13308,17570,6262,15368,10670,10864,9162,16524,18650,7742,13712,13668,9658,3492,17342,892,16766,19608,19770,6626,4434,7420,2728,17774,7988,5026,3278,1064,4210,7992,9912,1860,11614,14722,17946,3802,16036,4796,10168,14898,12402,1166,17890,10124,9538,8238,2304,12416,16186,16960,5450,13108,19126,14598,4042,17406,12978,13980,6680,6398,2470,17840,3172,14346,17900,2184,12752,17714,4504,17992,1264]\n",
    "t1 = time.clock()\n",
    "print Solution().singleNumber(nums_1)\n",
    "time.clock() - t1"
   ]
  },
  {
   "cell_type": "markdown",
   "metadata": {},
   "source": [
    "From the above output, we can see the combination of **`remove`** and **`append`** is pretty slow. In order to improve this method, we can build a dictionary to store the visited number. If it is already visited, delete the key. Otherwise, add a key:value to it. The dictionary method is much faster than the **`list.remove`** and **`list.append`**. "
   ]
  },
  {
   "cell_type": "code",
   "execution_count": 35,
   "metadata": {
    "collapsed": false
   },
   "outputs": [
    {
     "name": "stdout",
     "output_type": "stream",
     "text": [
      "15888\n"
     ]
    },
    {
     "data": {
      "text/plain": [
       "0.009428360445758344"
      ]
     },
     "execution_count": 35,
     "metadata": {},
     "output_type": "execute_result"
    }
   ],
   "source": [
    "class Solution(object):\n",
    "    def singleNumber(self, nums):\n",
    "        d = {}\n",
    "        for n in nums:\n",
    "            if d.get(n, 0):\n",
    "                del d[n]\n",
    "            else:\n",
    "                d[n] = n\n",
    "        return sum(d.values())\n",
    "    \n",
    "t1 = time.clock()\n",
    "print Solution().singleNumber(nums_1)\n",
    "time.clock() - t1"
   ]
  },
  {
   "cell_type": "markdown",
   "metadata": {},
   "source": [
    "### Method 2: sort list\n",
    "The logic of this method is as follows:\n",
    "\n",
    "+ sort the list \n",
    "+ for each index **`i`** in 0, 2, 4, ... of the sorted list (**`nums`**), check whether **`nums[i]`** is equal to **`nums[i+1]`**.\n",
    "+ return the **`nums[i]`**, if **`nums[i] != nums[i+1]`**. "
   ]
  },
  {
   "cell_type": "code",
   "execution_count": 36,
   "metadata": {
    "collapsed": false,
    "scrolled": true
   },
   "outputs": [
    {
     "name": "stdout",
     "output_type": "stream",
     "text": [
      "15888\n",
      "0.0125740237657\n"
     ]
    }
   ],
   "source": [
    "class Solution(object):\n",
    "    def singleNumber(self, nums):\n",
    "        nums = nums[:]\n",
    "        nums.sort() \n",
    "        nums.append(None)\n",
    "        l = len(nums)\n",
    "        idx = range(l)[::2]\n",
    "        return next(nums[i] for i in idx if (nums[i] != nums[i + 1]))\n",
    "\n",
    "t1 = time.clock()\n",
    "print Solution().singleNumber(nums_1)\n",
    "print time.clock() - t1"
   ]
  },
  {
   "cell_type": "markdown",
   "metadata": {},
   "source": [
    "The above method can be even further polished using the following method:\n",
    "+ calculate the sum of the **`nums`** at the odd positions (index as 0, 2, 4, ...)\n",
    "+ calculate the sum of the **`nums`** at the even positions (index as 1, 3, 5, ...)\n",
    "+ calculate the difference between these two sums.\n",
    "\n",
    "Because the **`nums`** is already sorted, the paired numbers are next to each other. If one of the paired numbers is at the odd position, the other will be at the even position. As a result, the paired numbers will cancel each other in the two sums, leaving only the single number.\n"
   ]
  },
  {
   "cell_type": "code",
   "execution_count": 37,
   "metadata": {
    "collapsed": false,
    "scrolled": true
   },
   "outputs": [
    {
     "name": "stdout",
     "output_type": "stream",
     "text": [
      "15888\n",
      "0.0196917291039\n"
     ]
    }
   ],
   "source": [
    "class Solution(object):\n",
    "    def singleNumber(self, nums):\n",
    "        nums.sort() \n",
    "        return sum(nums[::2]) - sum(nums[1::2])\n",
    "        # return list(set(nums[::2]) - set(nums[1::2]))[0]  # the set method is a little slower\n",
    "        # return 2*sum(set(nums))-sum(nums)  # one-liner, still slower.\n",
    "t1 = time.clock()\n",
    "print Solution().singleNumber(nums_1)\n",
    "print time.clock() - t1"
   ]
  },
  {
   "cell_type": "markdown",
   "metadata": {},
   "source": [
    "### Method 3: bitwise XOR\n",
    "This idea is from https://discuss.leetcode.com/topic/19563/python-different-solutions.\n",
    "This method is not so straight-forward, but it works really well with O(n) complexity, without requiring extra memory. What it does is that:\n",
    "+ it keep adding 1s to **`res`**, which are in **`num`** but not in **`res`**.\n",
    "+ it keep removing 1s from **`res`**, which are in both **`num`** and **`res`**.\n",
    "+ As a result, the 1s in the paired numbers will be added, and then removed, leaving only the 1s from the single number.\n",
    "\n",
    "Below is an example how the 1s are added and removed for a simple list. "
   ]
  },
  {
   "cell_type": "code",
   "execution_count": 38,
   "metadata": {
    "collapsed": false
   },
   "outputs": [
    {
     "name": "stdout",
     "output_type": "stream",
     "text": [
      "input:  1^0 (bitwise: 1^0)\n",
      "output: 1 (bitwise: 1)\n",
      "\n",
      "input:  2^1 (bitwise: 10^1)\n",
      "output: 3 (bitwise: 11)\n",
      "\n",
      "input:  4^3 (bitwise: 100^11)\n",
      "output: 7 (bitwise: 111)\n",
      "\n",
      "input:  2^7 (bitwise: 10^111)\n",
      "output: 5 (bitwise: 101)\n",
      "\n",
      "input:  1^5 (bitwise: 1^101)\n",
      "output: 4 (bitwise: 100)\n",
      "\n"
     ]
    }
   ],
   "source": [
    "nums = [1,2,4,2,1]\n",
    "res = 0\n",
    "for num in nums:\n",
    "    print 'input:  %s^%s (bitwise: %s^%s)' % (num, res, bin(num).replace('0b', ''), bin(res).replace('0b', ''))\n",
    "    res ^= num\n",
    "    print 'output: %s (bitwise: %s)' % (res, bin(res).replace('0b', ''))\n",
    "    print ''"
   ]
  },
  {
   "cell_type": "code",
   "execution_count": 39,
   "metadata": {
    "collapsed": false,
    "scrolled": true
   },
   "outputs": [
    {
     "name": "stdout",
     "output_type": "stream",
     "text": [
      "15888\n",
      "0.00314689610764\n"
     ]
    }
   ],
   "source": [
    "# reference: https://discuss.leetcode.com/topic/19563/python-different-solutions\n",
    "class Solution(object):\n",
    "    def singleNumber(self, nums):\n",
    "        res = 0\n",
    "        for num in nums:\n",
    "            res ^= num\n",
    "        return res\n",
    "t1 = time.clock()\n",
    "print Solution().singleNumber(nums_1)\n",
    "print time.clock() - t1"
   ]
  },
  {
   "cell_type": "markdown",
   "metadata": {},
   "source": [
    "## 485. Max Consecutive Ones"
   ]
  },
  {
   "cell_type": "raw",
   "metadata": {},
   "source": [
    "Given a binary array, find the maximum number of consecutive 1s in this array.\n",
    "\n",
    "Example 1:\n",
    "Input: [1,1,0,1,1,1]\n",
    "Output: 3\n",
    "Explanation: The first two digits or the last three digits are consecutive 1s.\n",
    "    The maximum number of consecutive 1s is 3.\n",
    "\n",
    "Note:\n",
    "The input array will only contain 0 and 1.\n",
    "The length of input array is a positive integer and will not exceed 10,000"
   ]
  },
  {
   "cell_type": "markdown",
   "metadata": {},
   "source": [
    "### Method 1: accumulative sum and multiplication\n",
    "The idea of this method is that -- for each i, we sum up the value with its previous value, and then multiply it with i. The multiplication is important here, because it helps to stop the accumulation, once we reach zero. As a result, the consecutive 1s will be sum up, until it reach zero. "
   ]
  },
  {
   "cell_type": "code",
   "execution_count": 40,
   "metadata": {
    "collapsed": false,
    "scrolled": true
   },
   "outputs": [
    {
     "name": "stdout",
     "output_type": "stream",
     "text": [
      "1000 loops, best of 3: 3.2 µs per loop\n"
     ]
    }
   ],
   "source": [
    "class Solution(object):\n",
    "    def findMaxConsecutiveOnes(self, nums):\n",
    "        \"\"\"\n",
    "        :type nums: List[int]\n",
    "        :rtype: int\n",
    "        \"\"\"\n",
    "        nums = nums[:]\n",
    "        for i in range(1, len(nums)):\n",
    "            nums[i] = (nums[i] + nums[i-1]) * (nums[i])\n",
    "        return(max(nums))\n",
    "nums = [1,1,0,1,1,1]\n",
    "%timeit -n 1000 Solution().findMaxConsecutiveOnes(nums)"
   ]
  },
  {
   "cell_type": "markdown",
   "metadata": {},
   "source": [
    "### Method 2: find indexes for zero\n",
    "\n",
    "This method try to find the indexes for all zero, and then calculate the maximum difference between the neigboring indexes. "
   ]
  },
  {
   "cell_type": "code",
   "execution_count": 41,
   "metadata": {
    "collapsed": false
   },
   "outputs": [
    {
     "name": "stdout",
     "output_type": "stream",
     "text": [
      "1000 loops, best of 3: 3.84 µs per loop\n"
     ]
    }
   ],
   "source": [
    "class Solution(object):\n",
    "    def findMaxConsecutiveOnes(self, nums):\n",
    "        v0 = [i for i, v in enumerate([0] + nums + [0]) if v == 0]\n",
    "        return max([x - v0[i] for i, x in enumerate(v0[1:])]) - 1\n",
    "nums = [1,1,0,1,1,1]\n",
    "%timeit -n 1000 Solution().findMaxConsecutiveOnes(nums)"
   ]
  },
  {
   "cell_type": "markdown",
   "metadata": {},
   "source": [
    "## 520. Detect Capital"
   ]
  },
  {
   "cell_type": "raw",
   "metadata": {},
   "source": [
    "\n",
    "Given a word, you need to judge whether the usage of capitals in it is right or not.\n",
    "\n",
    "We define the usage of capitals in a word to be right when one of the following cases holds:\n",
    "All letters in this word are capitals, like \"USA\".\n",
    "All letters in this word are not capitals, like \"leetcode\".\n",
    "Only the first letter in this word is capital if it has more than one letter, like \"Google\".\n",
    "Otherwise, we define that this word doesn't use capitals in a right way.\n",
    "\n",
    "Example 1:\n",
    "Input: \"USA\"\n",
    "Output: True\n",
    "\n",
    "Example 2:\n",
    "Input: \"FlaG\"\n",
    "Output: False\n",
    "\n",
    "Note: The input will be a non-empty word consisting of uppercase and lowercase latin letters."
   ]
  },
  {
   "cell_type": "markdown",
   "metadata": {},
   "source": [
    "### Method 1: list, set, or dictionary\n",
    "\n",
    "Using this method, we split a word into characters, which are saved in a list, set, or dictionary. Then, we check  and record the positions of capital characters. If the position list is [ ], [0], or range(len(word)), the word matches the requirement.\n",
    "\n",
    "In this method, we need to construct the reference list/set/dictionary containing all capital characters. These three methods have different advantages/disvantages:\n",
    "\n",
    "+ It is fast to construct the list, but it takes longer to detect whether a character is in the list. \n",
    "+ In comparison, it takes longer to construct the dictionary, but it is fast to detect whether a character is in the dictionary. \n",
    "+ The set method is kind of in the middle. \n",
    "\n",
    "Thus, if the word is very long, which means the reference cases will be looped over a lot of times, it is worth while to construct the dicationary. Otherwise, we can just use the list.\n"
   ]
  },
  {
   "cell_type": "code",
   "execution_count": 42,
   "metadata": {
    "collapsed": false
   },
   "outputs": [
    {
     "name": "stdout",
     "output_type": "stream",
     "text": [
      "1000 loops, best of 3: 49.5 µs per loop\n",
      "1000 loops, best of 3: 66.1 µs per loop\n",
      "True\n",
      "False\n"
     ]
    }
   ],
   "source": [
    "class Solution(object):\n",
    "    def detectCapitalUse(self, word):\n",
    "        \"\"\"\n",
    "        :type word: str\n",
    "        :rtype: bool\n",
    "        \"\"\"\n",
    "        wlist = enumerate(list(word))\n",
    "        # cap_letter = [chr(i) for i in range(ord('A'),ord('Z')+1)]  # list method\n",
    "        # cap_idx = [i for i, v in wlist if v in cap_letter]\n",
    "        # cap_letter = set(chr(i) for i in range(ord('A'),ord('Z')+1))  # set method\n",
    "        # cap_idx = [i for i, v in wlist if cap_letter.intersection(v)]\n",
    "        cap_letter = dict(zip([chr(i) for i in range(ord('A'),ord('Z')+1)], [1] * 26)) # dictionary method\n",
    "        cap_idx = [i for i, v in wlist if cap_letter.get(v, 0)]\n",
    "        return True if (not cap_idx) or cap_idx == [0] or cap_idx == range(len(word)) else False\n",
    "\n",
    "%timeit -n 1000 Solution().detectCapitalUse('Sasadflkjsadfasdfasdfasdfasdasdfasdfasdfaasdfasdfasdfsadfasdfsadfsdfasdfsadfsadfsadfasdfsdfasdfsadfsaddasdfdfsdfasdfasdfsadfsadfsadfsafd')\n",
    "%timeit -n 1000 Solution().detectCapitalUse('SasadflkjsaAfasdfasdfasdfasdfsadfsadfasdfsadfasdasfdsadfsafdsadfsadfsdafsdfsdfsadfasdfasdfasdfsadfasfdfasdfsadfsadfsdafsafasdfasdfasdfsadfsaddasdfdfsdfasdfasdfsadfsadfsadfsafd')\n",
    "print Solution().detectCapitalUse('Sasadflkj')\n",
    "print Solution().detectCapitalUse('USAAaKJLJ')"
   ]
  },
  {
   "cell_type": "markdown",
   "metadata": {},
   "source": [
    "### Method 2: string slicing & built-in methods\n",
    "\n",
    "In stead of converting a word into list. We can also use the index on word (string) directly. The qualified words are:\n",
    "\n",
    "+ all lower cases: **`word.islower()`**\n",
    "+ all upper cases: **`word.isupper()`**\n",
    "+ only first character is upper case: **`word[0].isupper() and word[1:].islower()`**, or even simpler -- **`word.istitle()`**.\n",
    "\n",
    "In correspondence to the three functions used to detect whether a word is in lower, upper, or title cases. There are three functions used to convert them into these cases:\n",
    "**`word.upper()`**, **`word.lower()`**, and **`word.title()`**"
   ]
  },
  {
   "cell_type": "code",
   "execution_count": 43,
   "metadata": {
    "collapsed": false,
    "scrolled": true
   },
   "outputs": [
    {
     "name": "stdout",
     "output_type": "stream",
     "text": [
      "1000 loops, best of 3: 957 ns per loop\n",
      "1000 loops, best of 3: 593 ns per loop\n",
      "True\n",
      "True\n"
     ]
    }
   ],
   "source": [
    "class Solution(object):\n",
    "    def detectCapitalUse(self, word):\n",
    "        # return word.isupper() or word.islower() or (word[0].isupper() and word[1:].islower())\n",
    "        # return word in [word.lower(), word.upper(), word.title()]\n",
    "        return word.isupper() or word.islower() or word.istitle()\n",
    "        \n",
    "%timeit -n 1000 Solution().detectCapitalUse('Sasadflkj')\n",
    "%timeit -n 1000 Solution().detectCapitalUse('SasadflkjsaAfasdfasFfasdfasdfsadfsadfasdfsadfasdasfdsadfsafdsadfsadfsdafsdfsdfsadfasdfasdfasdfsadfasfdfasdfsadfsadfsdafsafasdfasdfasdfsadfsaddasdfdfsdfasdfasdfsadfsadfsadfsafH')\n",
    "print Solution().detectCapitalUse('Sasadflkj')\n",
    "print Solution().detectCapitalUse('USA')"
   ]
  },
  {
   "cell_type": "markdown",
   "metadata": {},
   "source": [
    "## 371. Sum of Two Integers\n"
   ]
  },
  {
   "cell_type": "raw",
   "metadata": {},
   "source": [
    "Calculate the sum of two integers a and b, but you are not allowed to use the operator + and -.\n",
    "\n",
    "Example:\n",
    "Given a = 1 and b = 2, return 3."
   ]
  },
  {
   "cell_type": "markdown",
   "metadata": {},
   "source": [
    "### Method 1: sum\n",
    "\n",
    "I'm not sure whether this question is designed to test the use of **`sum`** function."
   ]
  },
  {
   "cell_type": "code",
   "execution_count": 44,
   "metadata": {
    "collapsed": false
   },
   "outputs": [
    {
     "data": {
      "text/plain": [
       "3"
      ]
     },
     "execution_count": 44,
     "metadata": {},
     "output_type": "execute_result"
    }
   ],
   "source": [
    "class Solution(object):\n",
    "    def getSum(self, a, b):\n",
    "        \"\"\"\n",
    "        :type a: int\n",
    "        :type b: int\n",
    "        :rtype: int\n",
    "        \"\"\"\n",
    "        return sum([a, b])\n",
    "Solution().getSum(1, 2)"
   ]
  },
  {
   "cell_type": "markdown",
   "metadata": {},
   "source": [
    "### Method 2: bit operation\n",
    "\n",
    "It is more likely that it wants to test the use of bit operation. \n",
    "A typical solution is provided here: https://discuss.leetcode.com/topic/51999/python-solution-with-no-completely-bit-manipulation-guaranteed"
   ]
  },
  {
   "cell_type": "code",
   "execution_count": 45,
   "metadata": {
    "collapsed": false
   },
   "outputs": [
    {
     "data": {
      "text/plain": [
       "3L"
      ]
     },
     "execution_count": 45,
     "metadata": {},
     "output_type": "execute_result"
    }
   ],
   "source": [
    "# reference: https://discuss.leetcode.com/topic/51999/python-solution-with-no-completely-bit-manipulation-guaranteed\n",
    "class Solution(object):\n",
    "    def getSum(self, a, b):\n",
    "        \"\"\"\n",
    "        :type a: int\n",
    "        :type b: int\n",
    "        :rtype: int\n",
    "        \"\"\"\n",
    "        # 32 bits integer max\n",
    "        MAX = 0x7FFFFFFF\n",
    "        # 32 bits interger min\n",
    "        MIN = 0x80000000\n",
    "        # mask to get last 32 bits\n",
    "        mask = 0xFFFFFFFF\n",
    "        while b != 0:\n",
    "            # ^ get different bits and & gets double 1s, << moves carry\n",
    "            a, b = (a ^ b) & mask, ((a & b) << 1) & mask\n",
    "        # if a is negative, get a's 32 bits complement positive first\n",
    "        # then get 32-bit positive's Python complement negative\n",
    "        return a if a <= MAX else ~(a ^ mask)\n",
    "Solution().getSum(1, 2)"
   ]
  },
  {
   "cell_type": "markdown",
   "metadata": {},
   "source": [
    "## 258. Add Digits\n"
   ]
  },
  {
   "cell_type": "raw",
   "metadata": {},
   "source": [
    "Given a non-negative integer num, repeatedly add all its digits until the result has only one digit.\n",
    "\n",
    "For example:\n",
    "Given num = 38, the process is like: 3 + 8 = 11, 1 + 1 = 2. Since 2 has only one digit, return it.\n",
    "\n",
    "Follow up:\n",
    "Could you do it without any loop/recursion in O(1) runtime?"
   ]
  },
  {
   "cell_type": "markdown",
   "metadata": {},
   "source": [
    "### Method 1: while loop\n",
    "The idea of while loop is straight forward -- just keep adding the numbers together, until it reach one digit."
   ]
  },
  {
   "cell_type": "code",
   "execution_count": 46,
   "metadata": {
    "collapsed": false,
    "scrolled": true
   },
   "outputs": [
    {
     "name": "stdout",
     "output_type": "stream",
     "text": [
      "100 loops, best of 3: 105 µs per loop\n"
     ]
    },
    {
     "data": {
      "text/plain": [
       "9"
      ]
     },
     "execution_count": 46,
     "metadata": {},
     "output_type": "execute_result"
    }
   ],
   "source": [
    "class Solution(object):\n",
    "    def addDigits(self, num):\n",
    "        \"\"\"\n",
    "        :type num: int\n",
    "        :rtype: int\n",
    "        \"\"\"\n",
    "        res = str(num)\n",
    "        while len(res) != 1:\n",
    "            digits = [int(i) for i in res]\n",
    "            res = str(sum(digits))\n",
    "        return int(res)\n",
    "%timeit -n 100 Solution().addDigits(138123412341234114234467846574567536745673456345645634563456374567456754672341234)\n",
    "Solution().addDigits(138123412341234114234467846574567536745673456345645634563456374567456754672341234)"
   ]
  },
  {
   "cell_type": "markdown",
   "metadata": {},
   "source": [
    "### Method 2: num%9\n",
    "\n",
    "It is a brilliant idea to use the **`num%9`** to calculate the result. Because **n%9 = n, n\\*10%9 = n, n*100%9 = n**, and so on (where n is 0 to 8). Adding up the numbers abc is equivalent to **`a*100%9 + b*10%9 + c%9 = abcd%9`**. When n is 9, it is just a special case to set the output as 9, instead of 0."
   ]
  },
  {
   "cell_type": "code",
   "execution_count": 47,
   "metadata": {
    "collapsed": false
   },
   "outputs": [
    {
     "name": "stdout",
     "output_type": "stream",
     "text": [
      "100000 loops, best of 3: 992 ns per loop\n"
     ]
    },
    {
     "data": {
      "text/plain": [
       "0"
      ]
     },
     "execution_count": 47,
     "metadata": {},
     "output_type": "execute_result"
    }
   ],
   "source": [
    "class Solution(object):\n",
    "    def addDigits(self, num):\n",
    "        return num if num < 10 else(num-1)%9 + 1\n",
    "        # return ((num - 1) % 9 + 1) * (num != 0)\n",
    "%timeit -n 100000 Solution().addDigits(138123412341234114234467846574567536745673456345645634563456374567456754672341234)\n",
    "Solution().addDigits(0)"
   ]
  },
  {
   "cell_type": "markdown",
   "metadata": {},
   "source": [
    "\n",
    "## 653. Two Sum IV - Input is a BST\n"
   ]
  },
  {
   "cell_type": "raw",
   "metadata": {},
   "source": [
    "Given a Binary Search Tree and a target number, return true if there exist two elements in the BST such that their sum is equal to the given target.\n",
    "\n",
    "Example 1:\n",
    "Input: \n",
    "    5\n",
    "   / \\\n",
    "  3   6\n",
    " / \\   \\\n",
    "2   4   7\n",
    "\n",
    "Target = 9\n",
    "Output: True\n",
    "\n",
    "Example 2:\n",
    "Input: \n",
    "    5\n",
    "   / \\\n",
    "  3   6\n",
    " / \\   \\\n",
    "2   4   7\n",
    "Target = 28\n",
    "Output: False"
   ]
  },
  {
   "cell_type": "markdown",
   "metadata": {},
   "source": [
    "Before working on this problem, I would like to talk about the data structure/algorithms used to solve the BST problem."
   ]
  },
  {
   "cell_type": "markdown",
   "metadata": {},
   "source": [
    "### Recursive function\n",
    "Binary tree is a tree-shape data structure, and it has the following structure:\n",
    "\n",
    "+ left child < parent\n",
    "+ right child > parent\n",
    "+ no duplicate values\n",
    "\n",
    "The BST is usually implemented using the recursive function. This tutorial gives a simple illustration of how the recursion function works: http://www.python-course.eu/recursive_functions.php\n",
    "\n",
    "Here is a simple example to show how the recursive function can be used to calculate the factorial value:"
   ]
  },
  {
   "cell_type": "code",
   "execution_count": 48,
   "metadata": {
    "collapsed": false
   },
   "outputs": [
    {
     "name": "stdout",
     "output_type": "stream",
     "text": [
      "round 1: input n = 3\n",
      "round 2: input n = 2\n",
      "round 3: input n = 1\n",
      "round 3: return f(1) = 1\n",
      "round 3: return res = 2  * factorial(2 - 1) = 2\n",
      "round 3: return res = 3  * factorial(3 - 1) = 6\n"
     ]
    },
    {
     "data": {
      "text/plain": [
       "6"
      ]
     },
     "execution_count": 48,
     "metadata": {},
     "output_type": "execute_result"
    }
   ],
   "source": [
    "# reference: http://www.python-course.eu/recursive_functions.php\n",
    "round = 0\n",
    "def factorial(n):\n",
    "    global round\n",
    "    round += 1\n",
    "    print 'round %d: input n = %d' % (round, n)\n",
    "    if n == 1:\n",
    "        print 'round %d: return f(1) = 1' %round\n",
    "        return 1\n",
    "    else:\n",
    "        res = n * factorial(n-1)\n",
    "        print 'round %d: return res = %d  * factorial(%d - 1) = %d' % (round, n, n, res)\n",
    "        return res\n",
    "    round += 1\n",
    "factorial(3)"
   ]
  },
  {
   "cell_type": "markdown",
   "metadata": {},
   "source": [
    "The above **`factorial (f)`** function is run as follows:\n",
    "1. input n = 3. Since 3 != 1, it goes to the else statement, and gets res = 3 * f(2). Since the function doesn't know what f(2) is, it will go through the factorial function again.\n",
    "2. input n = 2. Since 2 != 1, it still goes to the else statment, and gets res = 2 * f(1). Again, it doesn't know what f(1) is. \n",
    "3. input n = 1. Since 1 == 1, it will return 1. \n",
    "4. since the value from f(1) is already return, it can calcualte the value for step 2, which is res = 2 * f(1) = 2. Then, it will continue to print the intermediate result, and return res.\n",
    "5. The returned f(2) value will be used to calculate 3 * f(2) in step 1, print the intermediate result, and return the final output of 6. \n",
    "\n",
    "from the above steps, we can see that the input goes from top to down, and the returned output (denoted as **`r()`**) go from bottom to up: \n",
    "\n",
    "+ **`f(3) -> f(2) -> f(1) -> r(1) -> r(2) -> r(3)`**. \n",
    "\n",
    "we call the function three times at round 1, 2, and 3 respectively. These functions are then saved in memory. Once the outputs are returned, they will be used to calculate the topmost output (**`f(3)`**). From the steps, we can see all outputs are returned at round 3, without further recrusion. "
   ]
  },
  {
   "cell_type": "markdown",
   "metadata": {},
   "source": [
    "### Binary serach tree (BST)\n",
    "Binary tree is a tree-shape data structure. Similar to the factorial function, the BST can be implemented using the recursive function. The BST has the following properties:\n",
    "\n",
    "+ left child < parent\n",
    "+ right child > parent\n",
    "+ no duplicate values\n",
    "\n",
    "The data points in a BST can be traversed using different algorithms:\n",
    "(reference: http://www.geeksforgeeks.org/tree-traversals-inorder-preorder-and-postorder/)\n",
    "+ Depth First: go all the way **down (depth)** on one branch, before moving to the next.\n",
    "    + preorder: `root -> left -> right`\n",
    "    + inorder: `left -> root -> right`\n",
    "    + postorder: `left -> right -> root`\n",
    "+ Breadth First: go all the way **across (breadth)** the same level, before moving down.\n",
    "\n",
    "Here is a simple implementation of the BST, mainly including data insertion and three traversal methods (**preorder, inorder, and postorder**). It also includes a method to show how the data is traversed step by step (**show_iteration**). This BST has the following properties/methods:\n",
    "\n",
    "+ each data is a **Node** object, which includes value, left child, and right child\n",
    "+ the **insert** method take a given data point, and insert it as an extended **Node** to the left/right child of a terminal node. \n",
    "+ the traversal methods (**preorder, inorder, and postorder**) traverse the whole tree using different algorithm, and return a list of data.\n",
    "+ the **show_iteration** method is used to show the traversal step by step. "
   ]
  },
  {
   "cell_type": "code",
   "execution_count": 49,
   "metadata": {
    "collapsed": false,
    "scrolled": false
   },
   "outputs": [],
   "source": [
    "# Detailed explanation of tree structure and methods: http://interactivepython.org/runestone/static/pythonds/Trees/SearchTreeImplementation.html\n",
    "# Binary Search Tree in Python: code from scratch: https://raw.githubusercontent.com/joeyajames/Python/master/BinarySearchTree.py\n",
    "# Recursive function:  http://www.python-course.eu/recursive_functions.php\n",
    "# Some good illustration of the steps: http://www.laurentluce.com/posts/binary-search-tree-library-in-python/comment-page-1/\n",
    "class Node:\n",
    "    def __init__(self, val):\n",
    "        self.val = val\n",
    "        self.left = None\n",
    "        self.right = None\n",
    "   \n",
    "    def insert(self, data):\n",
    "        if data < self.val:\n",
    "            if self.left:\n",
    "                self.left.insert(data)\n",
    "            else:\n",
    "                self.left = Node(data)\n",
    "        elif data > self.val:\n",
    "            if self.right:\n",
    "                self.right.insert(data)\n",
    "            else:\n",
    "                self.right = Node(data)\n",
    "    \n",
    "    '''\n",
    "    # this is more complicated function with the control on type. \n",
    "    def __show_iteration(self, step = 1):\n",
    "        Node.__round += 1\n",
    "        print ''\n",
    "        print 'round:', Node.__round  \n",
    "        if 'preorder' in Node.__type: print 'step', step, ', preorder:', self.val  # (1)\n",
    "        step += 1\n",
    "        if self.left:\n",
    "            if 'left' in Node.__type: print 'step', step, ', left:', self.left.val  # (2)\n",
    "            step += 1\n",
    "            self.left.__show_iteration()\n",
    "            # step += 1\n",
    "        if 'inorder' in Node.__type: print 'step', step, ', inorder:', self.val  # (3)\n",
    "        step += 1\n",
    "        if self.right:\n",
    "            if 'right' in Node.__type: print 'step', step, ', right:', self.right.val  # (4)\n",
    "            step += 1\n",
    "            self.right.__show_iteration()\n",
    "            # step += 1\n",
    "        if 'postorder' in Node.__type: print 'step', step, ', postorder:', self.val  # (5)    \n",
    "        \n",
    "        # round must be attached to Node, so that the round value will keep increasing. \n",
    "        # During the recursion, __show_iternation will go over the __init__ in every round, to pick up the original self.round value. \n",
    "        # If round is attached to self, it will always be original value (1). \n",
    "        def show_iteration(self, type): \n",
    "            Node.__type = type \n",
    "            Node.__round = 0\n",
    "            self.__show_iteration()\n",
    "        '''\n",
    "                \n",
    "    def __show_iteration(self):\n",
    "        Node.__round += 1\n",
    "        print '\\nround ' + str(Node.__round) + ':'\n",
    "        print 'L' + str(self.val)  \n",
    "        if self.left:\n",
    "            self.left.__show_iteration()\n",
    "        print 'R' + str(self.val)\n",
    "        if self.right:\n",
    "            self.right.__show_iteration()\n",
    "        print 'O' + str(self.val)\n",
    "            \n",
    "    # round must be attached to Node, so that the round value will keep increasing. \n",
    "    # During the recursion, __show_iternation will go over the __init__ in every round, to pick up the original self.round value. \n",
    "    # If round is attached to self, it will always be original value (1). \n",
    "    def show_iteration(self): \n",
    "        Node.__round = 0\n",
    "        self.__show_iteration()\n",
    "\n",
    "    def __preorder(self):\n",
    "        Node.__list.append(self.val)\n",
    "        if self.left:\n",
    "            self.left.__preorder()\n",
    "        if self.right:\n",
    "            self.right.__preorder()\n",
    "    \n",
    "    def preorder(self):\n",
    "        Node.__list = []\n",
    "        self.__preorder()\n",
    "        return Node.__list\n",
    "    \n",
    "    def __inorder(self):\n",
    "        if self.left:\n",
    "            self.left.__inorder()\n",
    "        Node.__list.append(self.val)\n",
    "        if self.right:\n",
    "            self.right.__inorder()\n",
    "            \n",
    "    def inorder(self):\n",
    "        Node.__list = []\n",
    "        self.__inorder()\n",
    "        return Node.__list\n",
    "    \n",
    "    def __postorder(self):\n",
    "        if self.left:\n",
    "            self.left.__postorder()\n",
    "        if self.right:\n",
    "            self.right.__postorder()\n",
    "        Node.__list.append(self.val)\n",
    "    \n",
    "    def postorder(self):\n",
    "        Node.__list = []\n",
    "        self.__postorder()\n",
    "        return Node.__list    "
   ]
  },
  {
   "cell_type": "markdown",
   "metadata": {},
   "source": [
    "Again, we use the input given in the problem example, to test how the functions work. "
   ]
  },
  {
   "cell_type": "raw",
   "metadata": {},
   "source": [
    "Input:\n",
    "    5\n",
    "   / \\\n",
    "  3   6\n",
    " / \\   \\\n",
    "2   4   7"
   ]
  },
  {
   "cell_type": "code",
   "execution_count": 50,
   "metadata": {
    "collapsed": false
   },
   "outputs": [
    {
     "name": "stdout",
     "output_type": "stream",
     "text": [
      "preorder: [5, 3, 2, 4, 6, 7]\n",
      "inorder:  [2, 3, 4, 5, 6, 7]\n",
      "postorder: [2, 4, 3, 7, 6, 5]\n"
     ]
    }
   ],
   "source": [
    "r = Node(5)\n",
    "for i in [3, 6, 2, 4, 7]:\n",
    "    r.insert(i)\n",
    "\n",
    "print 'preorder:', r.preorder()\n",
    "print 'inorder: ', r.inorder()\n",
    "print 'postorder:', r.postorder()"
   ]
  },
  {
   "cell_type": "markdown",
   "metadata": {},
   "source": [
    "In the above example, we input the data points in order: [5, 3, 6, 2, 4, 7]. The traversal outputs are different dependeing on the algorithm. How does the algorithm works? The **`show_iteration`** method may help us to understand this. The **`show_iteration`** function is a wrap-up of the private **`__show_iteration`** function, which really performs the recursion. The **`__show_iteration`** function include two major components\n",
    "\n",
    "+ the code that performs the recursion\n",
    "+ the code that print outputs at different locations. \n",
    "    + **L**: right before visiting the **left** child (corresponding to the **preorder** output sequence)\n",
    "    + **R**: right before visiting the **right** cild (corresponding to the **inorder** output sequence)\n",
    "    + **O**: after visiting **both** the left and right children. this can be considered as the returned **output** of the recursion. (corresponding to the **postorder** output sequence)"
   ]
  },
  {
   "cell_type": "code",
   "execution_count": 51,
   "metadata": {
    "collapsed": true
   },
   "outputs": [],
   "source": [
    "def __show_iteration(self):\n",
    "    Node.__round += 1\n",
    "    print '\\nround ' + str(Node.__round) + ':'\n",
    "    print 'L' + str(self.val)  \n",
    "    if self.left:\n",
    "        self.left.__show_iteration()\n",
    "    print 'R' + str(self.val)\n",
    "    if self.right:\n",
    "        self.right.__show_iteration()\n",
    "    print 'O' + str(self.val)"
   ]
  },
  {
   "cell_type": "markdown",
   "metadata": {},
   "source": [
    "The following output shows how the function traverse all left and right children, and return the outputs."
   ]
  },
  {
   "cell_type": "code",
   "execution_count": 52,
   "metadata": {
    "collapsed": false,
    "scrolled": false
   },
   "outputs": [
    {
     "name": "stdout",
     "output_type": "stream",
     "text": [
      "\n",
      "round 1:\n",
      "L5\n",
      "\n",
      "round 2:\n",
      "L3\n",
      "\n",
      "round 3:\n",
      "L2\n",
      "R2\n",
      "O2\n",
      "R3\n",
      "\n",
      "round 4:\n",
      "L4\n",
      "R4\n",
      "O4\n",
      "O3\n",
      "R5\n",
      "\n",
      "round 5:\n",
      "L6\n",
      "R6\n",
      "\n",
      "round 6:\n",
      "L7\n",
      "R7\n",
      "O7\n",
      "O6\n",
      "O5\n"
     ]
    }
   ],
   "source": [
    "r.show_iteration()"
   ]
  },
  {
   "cell_type": "markdown",
   "metadata": {},
   "source": [
    "Let's chain these steps together to see how the recursive traversal works: \n",
    "\n",
    "+ **`L5 -> L3 -> L2 -> R2 -> O2 -> R3 -> L4 -> R4 -> O4 -> O3 -> R5 -> L6 -> R6 -> L7 -> R7 -> O7 -> O6 -> O5`**\n",
    "+ **`1  ->  2 ->  3 ->  4 ->  5 ->  6 ->  7 ->  8 ->  9 -> 10 -> 11 -> 12 -> 13 -> 14 -> 15 -> 16 -> 17 -> 18`**\n",
    "\n",
    "From the above chain, we can see that:\n",
    "\n",
    "+ Because we put the **`self.left`** before **`self.righ`**, the algorithm always visits the left child first, then go to right child, and finally gives the output. That is, for each data point, `L -> R -> O` alwasy holds. For example, the L, R, and O positions for 5 is located at position 1, 11, and 18 respectively.\n",
    "+ Once an output is returned, the previous recursion will be picked up to continue. for example, when **O2** is returned at step 5, it will go back to the previous recursion, which is **f(3)**. The recursion for **f(3)** includes three parts -- **L3**, **R3**, and **O3**. Because **L3** is already visited, it will pick up **R3** at step 6. When **O4** is availalbe at step 9, it will go back to **f(3)**, and pick up **O3** again.\n",
    "+ if we only print the output at one of the three locations, we will get the following traversal outputs:\n",
    "    + preorder (**L**): [5, 3, 2, 4, 6, 7]\n",
    "    + inorder (**R**):  [2, 3, 4, 5, 6, 7]\n",
    "    + postorder (**O**): [2, 4, 3, 7, 6, 5]"
   ]
  },
  {
   "cell_type": "markdown",
   "metadata": {},
   "source": [
    "### Method 1: recursion\n",
    "\n",
    "After studying the BST structure, we now understand how the data in a tree can be traversed. This question is very similar to **1. Two Sum**, except that the data is stored in a BST. Thus we need to go over a BST, instead of a list. Similar to the Two Sum problem, we need to build an empty list to store the values already visit, and check whether **`k - value`** is in the list. "
   ]
  },
  {
   "cell_type": "code",
   "execution_count": 53,
   "metadata": {
    "collapsed": false
   },
   "outputs": [
    {
     "data": {
      "text/plain": [
       "True"
      ]
     },
     "execution_count": 53,
     "metadata": {},
     "output_type": "execute_result"
    }
   ],
   "source": [
    "class Solution(object):     \n",
    "    def __findTarget(self, root):\n",
    "        if self.k - root.val in self.l:\n",
    "            self.output = True\n",
    "        else:\n",
    "            self.l.append(root.val)\n",
    "            if root.left:\n",
    "                self.__findTarget(root.left)\n",
    "            if root.right:\n",
    "                self.__findTarget(root.right)\n",
    "    \n",
    "    def findTarget(self, root, k):\n",
    "        self.output = False\n",
    "        self.l = []\n",
    "        self.k = k\n",
    "        self.__findTarget(root)\n",
    "        return self.output\n",
    "    \n",
    "root = Node(5)\n",
    "for i in [3, 6, 2, 4, 7]:\n",
    "    root.insert(i)\n",
    "Solution().findTarget(root, 9)"
   ]
  },
  {
   "cell_type": "markdown",
   "metadata": {},
   "source": [
    "### Method 2: for loop\n",
    "\n",
    "Instead of using the recursion method, we can also use the for loop to traver a BST. The idea is to extend the iteration obejct (**`roots`**) by appending the left/right child node to the list. Here is the steps:\n",
    "\n",
    "+ build an empty list **`l`**, which will be used to store the visited values\n",
    "+ build a **`roots`** list, which will be used to store all **`Node`** object for iteration. At the beginning, the **`roots`** list includes the given **`root`** Node in the input.\n",
    "+ if **`k - root.val`** is in the **`l`** list, we can return **`True`**. Otherwise, we append the **`root.val`** to the **`l`** list, and append the left/right child to the **`roots`** list for further iteration.\n",
    "+ after all iteration (nothing found), we return **`False`**"
   ]
  },
  {
   "cell_type": "code",
   "execution_count": 78,
   "metadata": {
    "collapsed": false
   },
   "outputs": [
    {
     "name": "stdout",
     "output_type": "stream",
     "text": [
      "[<__main__.Node instance at 0x00000000065456C8>, <__main__.Node instance at 0x000000000483A048>, <__main__.Node instance at 0x000000000483A188>]\n",
      "[<__main__.Node instance at 0x00000000065456C8>, <__main__.Node instance at 0x000000000483A048>, <__main__.Node instance at 0x000000000483A188>, <__main__.Node instance at 0x000000000483AE88>, <__main__.Node instance at 0x000000000483A608>]\n",
      "[<__main__.Node instance at 0x00000000065456C8>, <__main__.Node instance at 0x000000000483A048>, <__main__.Node instance at 0x000000000483A188>, <__main__.Node instance at 0x000000000483AE88>, <__main__.Node instance at 0x000000000483A608>, <__main__.Node instance at 0x000000000483AC48>]\n",
      "[<__main__.Node instance at 0x00000000065456C8>, <__main__.Node instance at 0x000000000483A048>, <__main__.Node instance at 0x000000000483A188>, <__main__.Node instance at 0x000000000483AE88>, <__main__.Node instance at 0x000000000483A608>, <__main__.Node instance at 0x000000000483AC48>]\n",
      "[<__main__.Node instance at 0x00000000065456C8>, <__main__.Node instance at 0x000000000483A048>, <__main__.Node instance at 0x000000000483A188>, <__main__.Node instance at 0x000000000483AE88>, <__main__.Node instance at 0x000000000483A608>, <__main__.Node instance at 0x000000000483AC48>]\n"
     ]
    },
    {
     "data": {
      "text/plain": [
       "True"
      ]
     },
     "execution_count": 78,
     "metadata": {},
     "output_type": "execute_result"
    }
   ],
   "source": [
    "class Solution(object):\n",
    "    def findTarget(self, root, k):\n",
    "        l = []\n",
    "        roots = [root]\n",
    "        for r in roots:\n",
    "            if k - r.val in l:\n",
    "                return True\n",
    "            else: \n",
    "                l.append(r.val)\n",
    "                if r.left:\n",
    "                    roots.append(r.left)\n",
    "                if r.right:\n",
    "                    roots.append(r.right)\n",
    "        return False\n",
    "            \n",
    "root = Node(5)\n",
    "for i in [3, 6, 2, 4, 7]:\n",
    "    root.insert(i)\n",
    "Solution().findTarget(root, 13)"
   ]
  },
  {
   "cell_type": "markdown",
   "metadata": {},
   "source": [
    "## 538. Convert BST to Greater Tree\n"
   ]
  },
  {
   "cell_type": "raw",
   "metadata": {},
   "source": [
    "Given a Binary Search Tree (BST), convert it to a Greater Tree such that every key of the original BST is changed to the original key plus sum of all keys greater than the original key in BST.\n",
    "\n",
    "Example:\n",
    "\n",
    "Input: The root of a Binary Search Tree like this:\n",
    "              5\n",
    "            /   \\\n",
    "           2     13\n",
    "\n",
    "Output: The root of a Greater Tree like this:\n",
    "             18\n",
    "            /   \\\n",
    "          20     13\n",
    "\n",
    "Explanation:\n",
    "5 -> 5 + 13 = 18\n",
    "2 -> 2 + 5 + 13 = 20\n",
    "13 -> 13"
   ]
  },
  {
   "cell_type": "markdown",
   "metadata": {},
   "source": [
    "### Method 1: for loop\n",
    "\n",
    "The idea of this method is:\n",
    "\n",
    "+ collect all data into a list\n",
    "+ sort the list, calculate the cumulative sum, and make a dictionary to record the original number and the corresponding sum values\n",
    "+ replace the original value with the sum value.\n",
    "\n",
    "This method is time consuming, since it requires multiple for loops to collect values, sum values, and assign new values to nodes. "
   ]
  },
  {
   "cell_type": "code",
   "execution_count": 55,
   "metadata": {
    "collapsed": false
   },
   "outputs": [
    {
     "name": "stdout",
     "output_type": "stream",
     "text": [
      "[5, 2, 13]\n",
      "[18, 20, 13]\n"
     ]
    }
   ],
   "source": [
    "class Solution(object):\n",
    "    def convertBST(self, root):\n",
    "        \"\"\"\n",
    "        :type root: TreeNode\n",
    "        :rtype: TreeNode\n",
    "        \"\"\"\n",
    "        if root is None:\n",
    "            return None\n",
    "        \n",
    "        # collect values\n",
    "        l = []\n",
    "        roots = [root]\n",
    "        for r in roots:\n",
    "            l.append(r.val)\n",
    "            if r.left:\n",
    "                roots.append(r.left)\n",
    "            if r.right:\n",
    "                roots.append(r.right)\n",
    "                \n",
    "        # sum values        \n",
    "        l.sort()\n",
    "        lsum = [sum(l[i:]) for i in range(len(l))]\n",
    "        d = dict([(l[i], lsum[i]) for i in range(len(l))])\n",
    "        \n",
    "        # assign new values\n",
    "        for r in roots:\n",
    "            r.val = d[r.val]\n",
    "        return roots[0]\n",
    "        \n",
    "root = Node(5)\n",
    "for i in [2, 13]:\n",
    "    root.insert(i)\n",
    "# root = None\n",
    "print root.preorder()\n",
    "Solution().convertBST(root)\n",
    "print root.preorder()"
   ]
  },
  {
   "cell_type": "markdown",
   "metadata": {},
   "source": [
    "### Method 2: recursion\n",
    "This recursion method take advantage of the BST property -- the larger values are always at the right branches. Using the recursion method, we can visit and sum up the nodes using the reversed inorder algorithm (sorted numbers decreasingly, instead of increasingly).\n"
   ]
  },
  {
   "cell_type": "code",
   "execution_count": 56,
   "metadata": {
    "collapsed": false
   },
   "outputs": [
    {
     "name": "stdout",
     "output_type": "stream",
     "text": [
      "[5, 3, 2, 4, 6, 7]\n",
      "[18, 25, 27, 22, 13, 7]\n"
     ]
    }
   ],
   "source": [
    "class Solution(object):\n",
    "    def convertBST(self, root):\n",
    "        self.tempsum = 0\n",
    "        def decorder(root): \n",
    "            if not root: \n",
    "                return\n",
    "            decorder(root.right)\n",
    "            root.val += self.tempsum\n",
    "            self.tempsum = root.val\n",
    "            decorder(root.left)\n",
    "        decorder(root)\n",
    "        return root\n",
    "                \n",
    "root = Node(5)\n",
    "for i in [3, 6, 2, 4, 7]:\n",
    "    root.insert(i)\n",
    "# root = None\n",
    "print root.preorder()\n",
    "Solution().convertBST(root)\n",
    "print root.preorder()"
   ]
  },
  {
   "cell_type": "markdown",
   "metadata": {},
   "source": [
    "## 283. Move Zeroes"
   ]
  },
  {
   "cell_type": "raw",
   "metadata": {},
   "source": [
    "Given an array nums, write a function to move all 0's to the end of it while maintaining the relative order of the non-zero elements.\n",
    "\n",
    "For example, given nums = [0, 1, 0, 3, 12], after calling your function, nums should be [1, 3, 12, 0, 0].\n",
    "\n",
    "Note:\n",
    "You must do this in-place without making a copy of the array.\n",
    "Minimize the total number of operations."
   ]
  },
  {
   "cell_type": "markdown",
   "metadata": {},
   "source": [
    "### Method 1: remove and append\n",
    "\n",
    "This method is straight-forward, just go through the whole list. If a value is 0, remove in, and then append it to the end."
   ]
  },
  {
   "cell_type": "code",
   "execution_count": 57,
   "metadata": {
    "collapsed": false
   },
   "outputs": [
    {
     "name": "stdout",
     "output_type": "stream",
     "text": [
      "[1, 3, 12, 0, 0]\n"
     ]
    }
   ],
   "source": [
    "class Solution(object):\n",
    "    def moveZeroes(self, nums):\n",
    "        \"\"\"\n",
    "        :type nums: List[int]\n",
    "        :rtype: void Do not return anything, modify nums in-place instead.\n",
    "        \"\"\"\n",
    "        # [nums.append(0) or nums.remove(i) for i in nums if i == 0]  one liner, but not faster. since we don't need to generate a list\n",
    "        for i in nums:\n",
    "            if i == 0:\n",
    "                nums.remove(i)\n",
    "                nums.append(0)\n",
    "nums = [0, 1, 0, 3, 12]\n",
    "Solution().moveZeroes(nums)\n",
    "print nums"
   ]
  },
  {
   "cell_type": "markdown",
   "metadata": {
    "collapsed": true
   },
   "source": [
    "### Method 2: two pointers\n",
    "\n",
    "This method take advantage of the two pointers, one pointing to the first zero, and the other interating across the list. If the number is not zero, swap it with the first zero, and the pointer for zero move one position ahead. \n",
    "\n",
    "for example, in the list of [0, 0, 1, 2]. The swaps will happen in the following steps:\n",
    "`[0, 0, 1, 2] -> [1, 0, 0, 2] -> [1, 2, 0, 0]`\n",
    "\n",
    "It is important to note that: the non-zero numbers swap with the first zero, not the neighboring zero. If no zero found, the number will sawp with itself, because **`pzero`** is always equal to **`i`**. \n"
   ]
  },
  {
   "cell_type": "code",
   "execution_count": 58,
   "metadata": {
    "collapsed": false,
    "scrolled": true
   },
   "outputs": [
    {
     "name": "stdout",
     "output_type": "stream",
     "text": [
      "There is zero in the list:\n",
      "[1, 0, 2]\n",
      "[1, 2, 0]\n",
      "\n",
      "No zero in the list, it still swaps\n",
      "[1, 2, 3]\n",
      "[1, 2, 3]\n",
      "[1, 2, 3]\n",
      "[1, 2, 3]\n"
     ]
    }
   ],
   "source": [
    "# reference: https://discuss.leetcode.com/topic/24960/python-short-in-place-solution-with-comments\n",
    "class Solution(object):\n",
    "    def moveZeroes(self, nums):\n",
    "        pzero = 0 \n",
    "        for i in range(len(nums)):\n",
    "            if nums[i]:\n",
    "                # at the beginning, pzero = i, so it swap with itself. \n",
    "                # When 0 is found, pzero += 1 will be skipped. Thus pzero < i, nums[pzero] begins to swap with nums[i]\n",
    "                nums[pzero], nums[i] = nums[i], nums[pzero]  \n",
    "                pzero += 1\n",
    "                print nums\n",
    "\n",
    "print 'There is zero in the list:'                \n",
    "nums = [0, 1, 2]\n",
    "Solution().moveZeroes(nums)\n",
    "\n",
    "\n",
    "# no zero, it still swap\n",
    "print '\\nNo zero in the list, it still swaps'\n",
    "nums = [1, 2, 3]\n",
    "Solution().moveZeroes(nums)\n",
    "print nums"
   ]
  },
  {
   "cell_type": "markdown",
   "metadata": {},
   "source": [
    "In order to improve this method, we can identify the first zero position before hand, and start the iteration from there. It can reduce the iteration substantially, if the first zero appear very late, or it doesn't appear at all. "
   ]
  },
  {
   "cell_type": "code",
   "execution_count": 59,
   "metadata": {
    "collapsed": false
   },
   "outputs": [
    {
     "name": "stdout",
     "output_type": "stream",
     "text": [
      "[1, 2, 3, 4, 5, 6, 7, 8, 0, 9]\n",
      "[1, 2, 3, 4, 5, 6, 7, 8, 9, 0]\n"
     ]
    }
   ],
   "source": [
    "# reference: https://discuss.leetcode.com/topic/24960/python-short-in-place-solution-with-comments\n",
    "class Solution(object):\n",
    "    def moveZeroes(self, nums):\n",
    "        try:\n",
    "            pzero = nums.index(0)\n",
    "        except:\n",
    "            return\n",
    "        for i in range(pzero + 1, len(nums)):\n",
    "            if nums[i]:\n",
    "                nums[i], nums[pzero] = 0, nums[i]\n",
    "                pzero += 1\n",
    "                print nums\n",
    "# nums = [0, 1, 1, 3, 0, 34, 1, 0, 0, 0, 3, 12]\n",
    "nums = [1, 2, 3, 4, 5, 6, 7, 0, 8, 9]\n",
    "Solution().moveZeroes(nums)"
   ]
  },
  {
   "cell_type": "markdown",
   "metadata": {},
   "source": [
    "## 492. Construct the Rectangle\n"
   ]
  },
  {
   "cell_type": "raw",
   "metadata": {},
   "source": [
    "For a web developer, it is very important to know how to design a web page's size. So, given a specific rectangular web page’s area, your job by now is to design a rectangular web page, whose length L and width W satisfy the following requirements:\n",
    "\n",
    "1. The area of the rectangular web page you designed must equal to the given target area.\n",
    "2. The width W should not be larger than the length L, which means L >= W.\n",
    "3. The difference between length L and width W should be as small as possible.\n",
    "\n",
    "You need to output the length L and the width W of the web page you designed in sequence.\n",
    "Example:\n",
    "Input: 4\n",
    "Output: [2, 2]\n",
    "\n",
    "Explanation: The target area is 4, and all the possible ways to construct it are [1,4], [2,2], [4,1]. \n",
    "But according to requirement 2, [1,4] is illegal; according to requirement 3,  [4,1] is not optimal compared to [2,2]. So the length L is 2, and the width W is 2.\n",
    "\n",
    "Note:\n",
    "The given area won't exceed 10,000,000 and is a positive integer\n",
    "The web page's width and length you designed must be positive integers."
   ]
  },
  {
   "cell_type": "markdown",
   "metadata": {},
   "source": [
    "### Method 1: next qualified number\n",
    "\n",
    "The coding is simple for the problem. The key is to find out an appropriate number to start with, to cut down the computation time. Since W < L, and W * L = area. So, we can start with W = int(area^0.5), until W = 1. Using the next function, we can find the next qualified W and L. Besides next, we can also use the for loop and while loop. The advantage of using while is that we don't need to construct a list of W candidates beforehand. Thus it may save some time. "
   ]
  },
  {
   "cell_type": "code",
   "execution_count": 60,
   "metadata": {
    "collapsed": false
   },
   "outputs": [
    {
     "data": {
      "text/plain": [
       "[4, 3]"
      ]
     },
     "execution_count": 60,
     "metadata": {},
     "output_type": "execute_result"
    }
   ],
   "source": [
    "class Solution(object):\n",
    "    def constructRectangle(self, area):\n",
    "        \"\"\"\n",
    "        :type area: int\n",
    "        :rtype: List[int]\n",
    "        \"\"\"\n",
    "        '''\n",
    "        # using the for loop\n",
    "        wmax = int(area**.5)  # take the integer part, euivalent to round down (floor). \n",
    "        for w in range(wmax, 0, -1):\n",
    "            if not area % w:\n",
    "                return [area // w, w]\n",
    "        '''\n",
    "        return next([area//w, w] for w in range(int(area**.5), 0, -1) if not area % w)\n",
    "\n",
    "Solution().constructRectangle(12)"
   ]
  },
  {
   "cell_type": "markdown",
   "metadata": {},
   "source": [
    "## 598. Range Addition II"
   ]
  },
  {
   "cell_type": "raw",
   "metadata": {},
   "source": [
    "Given an m * n matrix M initialized with all 0's and several update operations.\n",
    "\n",
    "Operations are represented by a 2D array, and each operation is represented by an array with two positive integers a and b, which means M[i][j] should be added by one for all 0 <= i < a and 0 <= j < b.\n",
    "\n",
    "You need to count and return the number of maximum integers in the matrix after performing all the operations.\n",
    "\n",
    "Example 1:\n",
    "Input: \n",
    "m = 3, n = 3\n",
    "operations = [[2,2],[3,3]]\n",
    "Output: 4\n",
    "Explanation: \n",
    "Initially, M = \n",
    "[[0, 0, 0],\n",
    " [0, 0, 0],\n",
    " [0, 0, 0]]\n",
    "\n",
    "After performing [2,2], M = \n",
    "[[1, 1, 0],\n",
    " [1, 1, 0],\n",
    " [0, 0, 0]]\n",
    "\n",
    "After performing [3,3], M = \n",
    "[[2, 2, 1],\n",
    " [2, 2, 1],\n",
    " [1, 1, 1]]\n",
    "\n",
    "So the maximum integer in M is 2, and there are four of it in M. So return 4.\n",
    "Note:\n",
    "The range of m and n is [1,40000].\n",
    "The range of a is [1,m], and the range of b is [1,n].\n",
    "The range of operations size won't exceed 10,000."
   ]
  },
  {
   "cell_type": "markdown",
   "metadata": {},
   "source": [
    "### Method 1: minimum operations\n",
    "\n",
    "The question is long, but what it wants is really simple. What is the product of the minimum operations on dimensions x and y. "
   ]
  },
  {
   "cell_type": "code",
   "execution_count": 61,
   "metadata": {
    "collapsed": false
   },
   "outputs": [
    {
     "data": {
      "text/plain": [
       "2"
      ]
     },
     "execution_count": 61,
     "metadata": {},
     "output_type": "execute_result"
    }
   ],
   "source": [
    "class Solution(object):\n",
    "    def maxCount(self, m, n, ops):\n",
    "        \"\"\"\n",
    "        :type m: int\n",
    "        :type n: int\n",
    "        :type ops: List[List[int]]\n",
    "        :rtype: int\n",
    "        \"\"\"\n",
    "        if ops:\n",
    "            opst = map(list, zip(*ops))  # transpose the matrix, so that we can ge the minimum for x, and y dimension easily. \n",
    "            a, b = min(opst[0]), min(opst[1])\n",
    "            return a * b\n",
    "        return m * n\n",
    "m = 3\n",
    "n = 3\n",
    "ops = [[2,2],[3,3], [1, 2], [2, 2]]\n",
    "Solution().maxCount(m, n, ops)"
   ]
  },
  {
   "cell_type": "markdown",
   "metadata": {},
   "source": [
    "## 453. Minimum Moves to Equal Array Elements\n"
   ]
  },
  {
   "cell_type": "raw",
   "metadata": {},
   "source": [
    "Given a non-empty integer array of size n, find the minimum number of moves required to make all array elements equal, where a move is incrementing n - 1 elements by 1.\n",
    "\n",
    "Example:\n",
    "\n",
    "Input:\n",
    "[1,2,3]\n",
    "\n",
    "Output:\n",
    "3\n",
    "\n",
    "Explanation:\n",
    "Only three moves are needed (remember each move increments two elements):\n",
    "\n",
    "[1,2,3]  =>  [2,3,3]  =>  [3,4,3]  =>  [4,4,4]"
   ]
  },
  {
   "cell_type": "markdown",
   "metadata": {},
   "source": [
    "### Method 1: distance to minimum value\n",
    "\n",
    "This is a simple problem, once you figure out the mathematics. It is basically the same as deducting 1 from one of the n numbers at each iteration, until all numbers in the list are the same. In the given example, we need to change 2 to 1, and change 3 to 1. So, we need three steps in total. In other words, that is the sum of the distances between **n** (all numbers in the list) and the minimal number **minv**.\n"
   ]
  },
  {
   "cell_type": "code",
   "execution_count": 62,
   "metadata": {
    "collapsed": true
   },
   "outputs": [],
   "source": [
    "class Solution(object):\n",
    "    def minMoves(self, nums):\n",
    "        \"\"\"\n",
    "        :type nums: List[int]\n",
    "        :rtype: int\n",
    "        \"\"\"\n",
    "        # solution 1: using the for loop\n",
    "        # minv = min(nums)\n",
    "        # return sum([n-minv for n in nums])\n",
    "        \n",
    "        # solution 2: the for loop can be avoid, because sum(Xi - C) = sum(X) - len(X) * C\n",
    "        return sum(nums) - min(nums) * len(nums)"
   ]
  },
  {
   "cell_type": "markdown",
   "metadata": {},
   "source": [
    "## 349. Intersection of Two Arrays\n"
   ]
  },
  {
   "cell_type": "raw",
   "metadata": {},
   "source": [
    "Given two arrays, write a function to compute their intersection.\n",
    "\n",
    "Example:\n",
    "Given nums1 = [1, 2, 2, 1], nums2 = [2, 2], return [2].\n",
    "\n",
    "Note:\n",
    "Each element in the result must be unique.\n",
    "The result can be in any order."
   ]
  },
  {
   "cell_type": "markdown",
   "metadata": {},
   "source": [
    "### Method 1: set intersection\n",
    "\n",
    "This is not even a question. It is simply the set intersection in python."
   ]
  },
  {
   "cell_type": "code",
   "execution_count": 63,
   "metadata": {
    "collapsed": false
   },
   "outputs": [
    {
     "data": {
      "text/plain": [
       "[1]"
      ]
     },
     "execution_count": 63,
     "metadata": {},
     "output_type": "execute_result"
    }
   ],
   "source": [
    "class Solution(object):\n",
    "    def intersection(self, nums1, nums2):\n",
    "        \"\"\"\n",
    "        :type nums1: List[int]\n",
    "        :type nums2: List[int]\n",
    "        :rtype: List[int]\n",
    "        \"\"\"\n",
    "        return list(set(nums1).intersection(nums2))\n",
    "Solution().intersection([1, 2], [1])"
   ]
  },
  {
   "cell_type": "markdown",
   "metadata": {},
   "source": [
    "## 530. Minimum Absolute Difference in BST"
   ]
  },
  {
   "cell_type": "raw",
   "metadata": {},
   "source": [
    "Given a binary search tree with non-negative values, find the minimum absolute difference between values of any two nodes.\n",
    "\n",
    "Example:\n",
    "\n",
    "Input:\n",
    "\n",
    "   1\n",
    "    \\\n",
    "     3\n",
    "    /\n",
    "   2\n",
    "\n",
    "Output:\n",
    "1\n",
    "\n",
    "Explanation:\n",
    "The minimum absolute difference is 1, which is the difference between 2 and 1 (or between 2 and 3)."
   ]
  },
  {
   "cell_type": "markdown",
   "metadata": {},
   "source": [
    "### Method 1: BST recursion\n",
    "\n",
    "This is again a BST problem. Using the similar method as **538. Convert BST to Greater Tree**, we can iterate through the nodes, and get the minimal difference. The key idea is to traverse the nodes with the inorder method, so that we can calculate the difference between the neighboring nodes, which are already sorted. "
   ]
  },
  {
   "cell_type": "code",
   "execution_count": 64,
   "metadata": {
    "collapsed": false
   },
   "outputs": [
    {
     "data": {
      "text/plain": [
       "519"
      ]
     },
     "execution_count": 64,
     "metadata": {},
     "output_type": "execute_result"
    }
   ],
   "source": [
    "# Definition for a binary tree node.\n",
    "# class TreeNode(object):\n",
    "#     def __init__(self, x):\n",
    "#         self.val = x\n",
    "#         self.left = None\n",
    "#         self.right = None\n",
    "\n",
    "class Solution(object):\n",
    "    def getMinimumDifference(self, root):\n",
    "        \"\"\"\n",
    "        :type root: TreeNode\n",
    "        :rtype: int\n",
    "        \"\"\"\n",
    "        self.minv = None\n",
    "        self.prev = None\n",
    "        def getMinDif(root):\n",
    "            if not root:\n",
    "                return \n",
    "            getMinDif(root.left)\n",
    "            if not self.prev is None: \n",
    "                dif = abs(root.val - self.prev)\n",
    "                self.minv = min(self.minv, dif) if self.minv else dif\n",
    "            self.prev = root.val\n",
    "            getMinDif(root.right)\n",
    "        getMinDif(root)\n",
    "        return self.minv\n",
    "[0,2236,1277,2776,519]\n",
    "root = Node(0)\n",
    "for r in [0,2236,1277,2776,519]:\n",
    "    root.insert(r)\n",
    "Solution().getMinimumDifference(root)"
   ]
  },
  {
   "cell_type": "markdown",
   "metadata": {},
   "source": [
    "## 383. Ransom Note\n"
   ]
  },
  {
   "cell_type": "raw",
   "metadata": {},
   "source": [
    "Given an arbitrary ransom note string and another string containing letters from all the magazines, write a function that will return true if the ransom note can be constructed from the magazines ; otherwise, it will return false.\n",
    "\n",
    "Each letter in the magazine string can only be used once in your ransom note.\n",
    "\n",
    "Note:\n",
    "You may assume that both strings contain only lowercase letters.\n",
    "\n",
    "canConstruct(\"a\", \"b\") -> false\n",
    "canConstruct(\"aa\", \"ab\") -> false\n",
    "canConstruct(\"aa\", \"aab\") -> true"
   ]
  },
  {
   "cell_type": "markdown",
   "metadata": {},
   "source": [
    "### Method 1: dictionary\n",
    "\n",
    "This question is not very clear. It basically asks whether all ransom note characters are included in the magazine characters, considering that each character count once. for example, 'aaa' is not in 'aa', because there is another 'a' left. In order to solve this problem we just need to count the number of each character in the two strings. Using the dictionary method, we can build up the character/count pairs for each character in the magazine. Then, we check whether all characters from the ransom note string is included in the dictionary."
   ]
  },
  {
   "cell_type": "code",
   "execution_count": 65,
   "metadata": {
    "collapsed": false
   },
   "outputs": [
    {
     "data": {
      "text/plain": [
       "False"
      ]
     },
     "execution_count": 65,
     "metadata": {},
     "output_type": "execute_result"
    }
   ],
   "source": [
    "class Solution(object):\n",
    "    def canConstruct(self, ransomNote, magazine):\n",
    "        \"\"\"\n",
    "        :type ransomNote: str\n",
    "        :type magazine: str\n",
    "        :rtype: bool\n",
    "        \"\"\"\n",
    "        # d = dict((m, 0) for m in magazine) # another way to create dictionary from list with default 0 values\n",
    "        d = dict.fromkeys(magazine, 0)\n",
    "        for s in magazine:\n",
    "            d[s] += 1\n",
    "        for s in ransomNote:\n",
    "            if s in d:\n",
    "                d[s] -= 1\n",
    "                if d[s] < 0:\n",
    "                    return False\n",
    "            else:\n",
    "                return False\n",
    "        return True\n",
    "        \n",
    "ransomNote = 'baz'\n",
    "magazine = 'aabcdefgasdfasd'\n",
    "Solution().canConstruct(ransomNote, magazine)"
   ]
  },
  {
   "cell_type": "markdown",
   "metadata": {},
   "source": [
    "### Method 2: built-in count function\n",
    "\n",
    "This method takes advantage of the built-in **count** function for string object. If there is any character with more count in ransomNote than in magazine, then it return False. Otherwise, it returns true. The algorithm can be written as one-liner, using the **next** function."
   ]
  },
  {
   "cell_type": "code",
   "execution_count": 66,
   "metadata": {
    "collapsed": false
   },
   "outputs": [
    {
     "data": {
      "text/plain": [
       "True"
      ]
     },
     "execution_count": 66,
     "metadata": {},
     "output_type": "execute_result"
    }
   ],
   "source": [
    "class Solution(object):\n",
    "    def canConstruct(self, ransomNote, magazine):\n",
    "        '''\n",
    "        rn = set(ransomNote)\n",
    "        for r in rn:\n",
    "            if ransomNote.count(r) > magazine.count(r):\n",
    "                return False\n",
    "        return True\n",
    "        '''\n",
    "        return False if next((r for r in set(ransomNote) if ransomNote.count(r) > magazine.count(r)), 0) else True \n",
    "        \n",
    "ransomNote = 'a'\n",
    "magazine = 'aabcdefgasdfasdb'\n",
    "Solution().canConstruct(ransomNote, magazine)"
   ]
  },
  {
   "cell_type": "markdown",
   "metadata": {},
   "source": [
    "## 171. Excel Sheet Column Number\n",
    "\n"
   ]
  },
  {
   "cell_type": "raw",
   "metadata": {},
   "source": [
    "Related to question Excel Sheet Column Title\n",
    "\n",
    "Given a column title as appear in an Excel sheet, return its corresponding column number.\n",
    "\n",
    "For example:\n",
    "\n",
    "    A -> 1\n",
    "    B -> 2\n",
    "    C -> 3\n",
    "    ...\n",
    "    Z -> 26\n",
    "    AA -> 27\n",
    "    AB -> 28 "
   ]
  },
  {
   "cell_type": "markdown",
   "metadata": {},
   "source": [
    "### Method 1: dictionary mapping\n",
    "\n",
    "Create a dictionary to store the characters and the corresponding numbers for A-Z. Then calculate the value for each character as:\n",
    "\n",
    "**`d[v] * 26^(len(s)-1-i) for i, v in enumerate(s)`**"
   ]
  },
  {
   "cell_type": "code",
   "execution_count": 67,
   "metadata": {
    "collapsed": false
   },
   "outputs": [
    {
     "data": {
      "text/plain": [
       "677"
      ]
     },
     "execution_count": 67,
     "metadata": {},
     "output_type": "execute_result"
    }
   ],
   "source": [
    "class Solution(object):\n",
    "    def titleToNumber(self, s):\n",
    "        \"\"\"\n",
    "        :type s: str\n",
    "        :rtype: int\n",
    "        \"\"\"\n",
    "        char = map(chr, range(ord('A'), ord('Z') + 1))\n",
    "        d = dict(zip(char, range(1, 27)))\n",
    "        return sum([d[v] * 26**(len(s)-1-i) for i, v in enumerate(s)])\n",
    "Solution().titleToNumber('ZA')"
   ]
  },
  {
   "cell_type": "markdown",
   "metadata": {
    "collapsed": true
   },
   "source": [
    "### Method 2: ord of character"
   ]
  },
  {
   "cell_type": "markdown",
   "metadata": {},
   "source": [
    "using the **ord** of character, we can convert character to number direclty. \n",
    "e.g., `column Z : ord('Z') - ord('A') + 1 = 26`. \n",
    "\n",
    "Instead of collecting the positions of all characters in a list, we can sum up the number accumulatively. For example, in a decimal system how can you get 123 from a three digit string \"123\". \n",
    "\n",
    "+ set **`num`** to zero\n",
    "+ for each digit in the string, enter them one by one. Every time when a new digit is entered, the new number is added to **`num`**, and the old numbers are moved one position to the left, which means that it is multiplied by 10. so we have:\n",
    "**`num = num * 10 + i`**, where **`i`** is just the digits 1, 2, and 3. \n",
    "+　entering 1, 2, 3 one by one: we have:\n",
    "    + num = num x 10 + 1 = 0 x 10 + 1 = 1\n",
    "    + num = num x 10 + 2 = 1 x 10 + 2 = 12\n",
    "    + num = num x 10 + 3 = 12 x 10 + 3 = 123\n",
    "    \n",
    "Similar to the decimal system, we can use a multiplier of **26** to calculate the column number."
   ]
  },
  {
   "cell_type": "code",
   "execution_count": 68,
   "metadata": {
    "collapsed": false
   },
   "outputs": [
    {
     "data": {
      "text/plain": [
       "28"
      ]
     },
     "execution_count": 68,
     "metadata": {},
     "output_type": "execute_result"
    }
   ],
   "source": [
    "class Solution(object):\n",
    "    def titleToNumber(self, s):\n",
    "        res = 0\n",
    "        p0 = ord('A') - 1  # reference position, ord('A') - p0 = 1, ord('B') - p0 = 2, and so on\n",
    "        for i in s:\n",
    "            res = res * 26 + (ord(i) - p0)\n",
    "        return res\n",
    "Solution().titleToNumber('AB')"
   ]
  },
  {
   "cell_type": "markdown",
   "metadata": {},
   "source": [
    "## 455. Assign Cookies\n"
   ]
  },
  {
   "cell_type": "raw",
   "metadata": {},
   "source": [
    "Assume you are an awesome parent and want to give your children some cookies. But, you should give each child at most one cookie. Each child i has a greed factor gi, which is the minimum size of a cookie that the child will be content with; and each cookie j has a size sj. If sj >= gi, we can assign the cookie j to the child i, and the child i will be content. Your goal is to maximize the number of your content children and output the maximum number.\n",
    "\n",
    "Note:\n",
    "You may assume the greed factor is always positive. \n",
    "You cannot assign more than one cookie to one child.\n",
    "\n",
    "Example 1:\n",
    "Input: [1,2,3], [1,1]\n",
    "\n",
    "Output: 1\n",
    "\n",
    "Explanation: You have 3 children and 2 cookies. The greed factors of 3 children are 1, 2, 3. \n",
    "And even though you have 2 cookies, since their size is both 1, you could only make the child whose greed factor is 1 content.\n",
    "You need to output 1.\n",
    "\n",
    "\n",
    "Example 2:\n",
    "Input: [1,2], [1,2,3]\n",
    "\n",
    "Output: 2\n",
    "\n",
    "Explanation: You have 2 children and 3 cookies. The greed factors of 2 children are 1, 2. \n",
    "You have 3 cookies and their sizes are big enough to gratify all of the children, \n",
    "You need to output 2."
   ]
  },
  {
   "cell_type": "markdown",
   "metadata": {},
   "source": [
    "### Method 1: sort lists & list slicing\n",
    "\n",
    "The key to solve this kind of problems is to sort the lists first, so that the numbers in the two list can be matched one by one from small to large. The idea of this method is:\n",
    "\n",
    "+ sort the lists of **g** (children greed factor) and **s** (cooky sizes)\n",
    "+ for each **gi** in g, search for the next cooky **sj** that the child is satisfied with.\n",
    "+ assign the cooky **sj** to child **gi**, and start the next search from **sj + 1** in the cooky list (The cookies before **sj** are too small to distribute to any child, thus they are discarded). "
   ]
  },
  {
   "cell_type": "code",
   "execution_count": 69,
   "metadata": {
    "collapsed": false
   },
   "outputs": [
    {
     "name": "stdout",
     "output_type": "stream",
     "text": [
      "1\n"
     ]
    }
   ],
   "source": [
    "class Solution(object):\n",
    "    def findContentChildren(self, g, s):\n",
    "        \"\"\"\n",
    "        :type g: List[int]\n",
    "        :type s: List[int]\n",
    "        :rtype: int\n",
    "        \"\"\"\n",
    "        g.sort()\n",
    "        s.sort()\n",
    "        res = 0\n",
    "        for gi in g:\n",
    "            sj = next((y for y in s if y >= gi), None)  # find the sj >= gi\n",
    "            if sj is not None:\n",
    "                res += 1\n",
    "                s = s[s.index(sj)+1:]  # keep the larger cookies\n",
    "            else:\n",
    "                return res\n",
    "        return res\n",
    "g = [1, 2, 3]\n",
    "s = [1, 1]\n",
    "print Solution().findContentChildren(g, s)"
   ]
  },
  {
   "cell_type": "markdown",
   "metadata": {},
   "source": [
    "### Method 2: sort lists & two pointers\n",
    "\n",
    "The second method improves the computation by using two pointers. The idea is similar to the first method. However, itstead of slicing the **s** list, we use a pointer **sj** to record the current cooky, and another pointer **gi** to record the current child in the iteration. The **sj** keep moving forward, when it can satisfy a child, **gi** move to the next children. So, we don't need to slice the list every time. "
   ]
  },
  {
   "cell_type": "code",
   "execution_count": 70,
   "metadata": {
    "collapsed": false
   },
   "outputs": [
    {
     "name": "stdout",
     "output_type": "stream",
     "text": [
      "2\n"
     ]
    }
   ],
   "source": [
    "class Solution(object):\n",
    "    def findContentChildren(self, g, s):\n",
    "        \"\"\"\n",
    "        :type g: List[int]\n",
    "        :type s: List[int]\n",
    "        :rtype: int\n",
    "        \"\"\"\n",
    "        g.sort()\n",
    "        s.sort()\n",
    "        gi = 0\n",
    "        for sj in s:\n",
    "            if g[gi] <= sj:\n",
    "                gi += 1\n",
    "                if gi == len(g):\n",
    "                    return gi\n",
    "        return gi\n",
    "g = [1, 6, 3]\n",
    "s = [1, 2, 5]\n",
    "print Solution().findContentChildren(g, s)"
   ]
  },
  {
   "cell_type": "markdown",
   "metadata": {},
   "source": [
    "## 122. Best Time to Buy and Sell Stock II\n"
   ]
  },
  {
   "cell_type": "raw",
   "metadata": {},
   "source": [
    "Say you have an array for which the ith element is the price of a given stock on day i.\n",
    "\n",
    "Design an algorithm to find the maximum profit. You may complete as many transactions as you like (ie, buy one and sell one share of the stock multiple times). However, you may not engage in multiple transactions at the same time (ie, you must sell the stock before you buy again)."
   ]
  },
  {
   "cell_type": "markdown",
   "metadata": {},
   "source": [
    "### Method 1: List Comprehension\n",
    "\n",
    "The question is not quite clear, without giving any example. Basically, what it want is the maximum profit, if you know the stock price beforehand. In other words, it is just the sum of price difference between neighboring days, when the price increase (make profit). For example, if the prices list is [1, 3, 2, 8], the maximum profit is just (3-1) + (8-2) = 8. In this method, we use the list comprehension to generate a list of the profits, and then sum them up."
   ]
  },
  {
   "cell_type": "code",
   "execution_count": 71,
   "metadata": {
    "collapsed": false
   },
   "outputs": [
    {
     "data": {
      "text/plain": [
       "8"
      ]
     },
     "execution_count": 71,
     "metadata": {},
     "output_type": "execute_result"
    }
   ],
   "source": [
    "class Solution(object):\n",
    "    def maxProfit(self, prices):\n",
    "        \"\"\"\n",
    "        :type prices: List[int]\n",
    "        :rtype: int\n",
    "        \"\"\"\n",
    "        return sum([prices[i] - prices[i-1] for i in range(1, len(prices)) if prices[i] > prices[i-1]])\n",
    "        # return sum([max(prices[i] - prices[i-1], 0) for i in range(1, len(prices))])  # this is slower, because it need to run max everytime\n",
    "prices = [1, 7, 3, 5, 1]\n",
    "Solution().maxProfit(prices)"
   ]
  },
  {
   "cell_type": "markdown",
   "metadata": {},
   "source": [
    "### Method 2: accumulative sum\n",
    "\n",
    "For this kind of problem, we can also use the accumulative sum of the profits, instead of generating a list first followed by a sum. It may save some time, since we avoid building up the list."
   ]
  },
  {
   "cell_type": "code",
   "execution_count": 72,
   "metadata": {
    "collapsed": false
   },
   "outputs": [
    {
     "data": {
      "text/plain": [
       "8"
      ]
     },
     "execution_count": 72,
     "metadata": {},
     "output_type": "execute_result"
    }
   ],
   "source": [
    "class Solution(object):\n",
    "    def maxProfit(self, prices):\n",
    "        profit = 0\n",
    "        for i in range(len(prices) -1):\n",
    "            if prices[i+1] > prices[i]:\n",
    "                profit += prices[i+1] - prices[i]\n",
    "        return profit\n",
    "prices = [1, 7, 3, 5, 1]\n",
    "Solution().maxProfit(prices)"
   ]
  },
  {
   "cell_type": "markdown",
   "metadata": {},
   "source": [
    "## 404. Sum of Left Leaves\n"
   ]
  },
  {
   "cell_type": "raw",
   "metadata": {},
   "source": [
    "Find the sum of all left leaves in a given binary tree.\n",
    "\n",
    "Example:\n",
    "\n",
    "    3\n",
    "   / \\\n",
    "  9  20\n",
    "    /  \\\n",
    "   15   7\n",
    "\n",
    "There are two left leaves in the binary tree, with values 9 and 15 respectively. Return 24."
   ]
  },
  {
   "cell_type": "markdown",
   "metadata": {},
   "source": [
    "### Method 1: for loop\n",
    "\n",
    "This problem is clear, and two things are important:\n",
    "+ detect the left node\n",
    "+ detect the leaf\n",
    "Then we only add up the values qualified for these two criterias."
   ]
  },
  {
   "cell_type": "code",
   "execution_count": 73,
   "metadata": {
    "collapsed": false
   },
   "outputs": [
    {
     "name": "stdout",
     "output_type": "stream",
     "text": [
      "22\n"
     ]
    }
   ],
   "source": [
    "# Definition for a binary tree node.\n",
    "# class TreeNode(object):\n",
    "#     def __init__(self, x):\n",
    "#         self.val = x\n",
    "#         self.left = None\n",
    "#         self.right = None\n",
    "\n",
    "class Solution(object):\n",
    "    def sumOfLeftLeaves(self, root):\n",
    "        \"\"\"\n",
    "        :type root: TreeNode\n",
    "        :rtype: int\n",
    "        \"\"\"\n",
    "        if root is None:\n",
    "            return 0\n",
    "        res = 0\n",
    "        roots = [root]\n",
    "        for r in roots:\n",
    "            if r.left:  # left\n",
    "                if r.left.left is None and r.left.right is None:  # terminal leaf\n",
    "                    res += r.left.val\n",
    "                else: \n",
    "                    roots.append(r.left)\n",
    "            if r.right:\n",
    "                roots.append(r.right)\n",
    "        return res\n",
    "root = Node(3)\n",
    "for r in [3, 9, 20, 15, 7]:\n",
    "    root.insert(r)\n",
    "# root = None\n",
    "print Solution().sumOfLeftLeaves(root)"
   ]
  },
  {
   "cell_type": "markdown",
   "metadata": {},
   "source": [
    "### Method 2: recursion\n",
    "\n",
    "Simliar to method 1, we can use the recursion method to traverse the tree, instead of a for loop. "
   ]
  },
  {
   "cell_type": "code",
   "execution_count": 74,
   "metadata": {
    "collapsed": false
   },
   "outputs": [
    {
     "name": "stdout",
     "output_type": "stream",
     "text": [
      "0\n"
     ]
    }
   ],
   "source": [
    "class Solution(object):\n",
    "    def sumOfLeftLeaves(self, root):\n",
    "        self.res = 0\n",
    "        def sumleft(root):\n",
    "            if root is not None:\n",
    "                if root.left:\n",
    "                    if root.left.left is None and root.left.right is None:\n",
    "                        self.res += root.left.val\n",
    "                    else: \n",
    "                        sumleft(root.left)\n",
    "                if root.right:\n",
    "                    sumleft(root.right)\n",
    "        sumleft(root)\n",
    "        return self.res\n",
    "    \n",
    "root = Node(3)\n",
    "for r in [3, 9, 20, 15, 7]:\n",
    "    root.insert(r)\n",
    "root = None\n",
    "print Solution().sumOfLeftLeaves(root)"
   ]
  },
  {
   "cell_type": "markdown",
   "metadata": {},
   "source": [
    "## 599. Minimum Index Sum of Two Lists\n"
   ]
  },
  {
   "cell_type": "raw",
   "metadata": {},
   "source": [
    "Suppose Andy and Doris want to choose a restaurant for dinner, and they both have a list of favorite restaurants represented by strings.\n",
    "\n",
    "You need to help them find out their common interest with the least list index sum. If there is a choice tie between answers, output all of them with no order requirement. You could assume there always exists an answer.\n",
    "\n",
    "Example 1:\n",
    "Input:\n",
    "[\"Shogun\", \"Tapioca Express\", \"Burger King\", \"KFC\"]\n",
    "[\"Piatti\", \"The Grill at Torrey Pines\", \"Hungry Hunter Steakhouse\", \"Shogun\"]\n",
    "Output: [\"Shogun\"]\n",
    "Explanation: The only restaurant they both like is \"Shogun\".\n",
    "\n",
    "Example 2:\n",
    "Input:\n",
    "[\"Shogun\", \"Tapioca Express\", \"Burger King\", \"KFC\"]\n",
    "[\"KFC\", \"Shogun\", \"Burger King\"]\n",
    "Output: [\"Shogun\"]\n",
    "Explanation: The restaurant they both like and have the least index sum is \"Shogun\" with index sum 1 (0+1).\n",
    "\n",
    "Note:\n",
    "The length of both lists will be in the range of [1, 1000].\n",
    "The length of strings in both lists will be in the range of [1, 30].\n",
    "The index is starting from 0 to the list length minus 1.\n",
    "No duplicates in both lists."
   ]
  },
  {
   "cell_type": "markdown",
   "metadata": {},
   "source": [
    "### Method 1: set operation\n",
    "\n",
    "Using the set operation, this problem becomes pretty straight-forword to solve:\n",
    "\n",
    "+ get the common interest set\n",
    "+ for each common interest, find out its indexes in both lists\n",
    "+ find out the interests with the least sum of indexes."
   ]
  },
  {
   "cell_type": "code",
   "execution_count": 75,
   "metadata": {
    "collapsed": false
   },
   "outputs": [
    {
     "data": {
      "text/plain": [
       "['dixyp', 'uq']"
      ]
     },
     "execution_count": 75,
     "metadata": {},
     "output_type": "execute_result"
    }
   ],
   "source": [
    "class Solution(object):\n",
    "    def findRestaurant(self, list1, list2):\n",
    "        \"\"\"\n",
    "        :type list1: List[str]\n",
    "        :type list2: List[str]\n",
    "        :rtype: List[str]\n",
    "        \"\"\"\n",
    "        com = set(list1).intersection(list2)\n",
    "        output = []\n",
    "        minsum = None\n",
    "        for c in com:\n",
    "            csum = list1.index(c) + list2.index(c)\n",
    "            if csum < minsum or minsum is None:\n",
    "                output = [c]\n",
    "                minsum = csum\n",
    "            elif csum == minsum: \n",
    "                output.append(c)\n",
    "                minsum = csum\n",
    "        return output\n",
    "list1 = [\"dixyp\",\"uq\",\"q\",\"KFC\"]\n",
    "list2 = [\"yl\",\"fjugc\",\"rlni\",\"uq\",\"dixyp\",\"q\",\"KFC\"]\n",
    "Solution().findRestaurant(list1, list2)"
   ]
  },
  {
   "cell_type": "markdown",
   "metadata": {},
   "source": [
    "the above code can be further simplified using the list comprehension."
   ]
  },
  {
   "cell_type": "code",
   "execution_count": 76,
   "metadata": {
    "collapsed": false
   },
   "outputs": [
    {
     "data": {
      "text/plain": [
       "['dixyp', 'uq']"
      ]
     },
     "execution_count": 76,
     "metadata": {},
     "output_type": "execute_result"
    }
   ],
   "source": [
    "class Solution(object):\n",
    "    def findRestaurant(self, list1, list2):\n",
    "        com = list(set(list1).intersection(list2))\n",
    "        idsum = [list1.index(c) + list2.index(c) for c in com]\n",
    "        return [com[i] for i, v in enumerate(idsum) if v == min(idsum)]\n",
    "\n",
    "list1 = [\"dixyp\",\"uq\",\"q\",\"KFC\"]\n",
    "list2 = [\"yl\",\"fjugc\",\"rlni\",\"uq\",\"dixyp\",\"q\",\"KFC\"]\n",
    "Solution().findRestaurant(list1, list2)"
   ]
  },
  {
   "cell_type": "markdown",
   "metadata": {},
   "source": [
    "### Method 2: dictionary"
   ]
  },
  {
   "cell_type": "markdown",
   "metadata": {},
   "source": [
    "using the set operations, we need to find out the common set first, then use the common set to find out the indexes in list 1 and 2. Some of the steps are kind of redundant, although the code looks simple. We can use the dictionary to serach for the common interest, and return the indexes in the same time.\n",
    "\n",
    "+ construct a dicationary **d** for list1.  \n",
    "+ for each element in list2, find whether it is **d**. This is O(1) complexity, since dictionary is hashable. \n",
    "+ if the element is in **d** and the sum of indexes is smaller than the recorded minimum sum (**minsum**), update the output.\n",
    "\n",
    "It is important to note that it is time consuming to construct a list, compared with running a for loop. From the following examples, we can see that **constructing a dictionary takes about several times longer than running a simple for loop**. Thus, if the operations in the for loop is not complicated, it is best to convert the shorter list to dictionary, and keep the longer list for iteration. In this example, for most element, we just need to judge whether the element is in the dictionary, which is pretty simple operation. It is best to convert the shorter list to a dictionary.\n"
   ]
  },
  {
   "cell_type": "code",
   "execution_count": 77,
   "metadata": {
    "collapsed": false
   },
   "outputs": [
    {
     "name": "stdout",
     "output_type": "stream",
     "text": [
      "1000 loops, best of 3: 3.14 µs per loop\n",
      "1000 loops, best of 3: 2.13 µs per loop\n"
     ]
    },
    {
     "ename": "NameError",
     "evalue": "global name 'd' is not defined",
     "output_type": "error",
     "traceback": [
      "\u001b[0;31m---------------------------------------------------------------------------\u001b[0m",
      "\u001b[0;31mNameError\u001b[0m                                 Traceback (most recent call last)",
      "\u001b[0;32m<ipython-input-77-d99f16c6957d>\u001b[0m in \u001b[0;36m<module>\u001b[0;34m()\u001b[0m\n\u001b[1;32m      3\u001b[0m \u001b[0mget_ipython\u001b[0m\u001b[1;33m(\u001b[0m\u001b[1;33m)\u001b[0m\u001b[1;33m.\u001b[0m\u001b[0mmagic\u001b[0m\u001b[1;33m(\u001b[0m\u001b[1;34mu'timeit -n 1000 d = dict(enumerate(nums))'\u001b[0m\u001b[1;33m)\u001b[0m\u001b[1;33m\u001b[0m\u001b[0m\n\u001b[1;32m      4\u001b[0m \u001b[0mget_ipython\u001b[0m\u001b[1;33m(\u001b[0m\u001b[1;33m)\u001b[0m\u001b[1;33m.\u001b[0m\u001b[0mmagic\u001b[0m\u001b[1;33m(\u001b[0m\u001b[1;34mu'timeit -n 1000 d = {i:v for i, v in enumerate(nums)}'\u001b[0m\u001b[1;33m)\u001b[0m\u001b[1;33m\u001b[0m\u001b[0m\n\u001b[0;32m----> 5\u001b[0;31m \u001b[0mget_ipython\u001b[0m\u001b[1;33m(\u001b[0m\u001b[1;33m)\u001b[0m\u001b[1;33m.\u001b[0m\u001b[0mmagic\u001b[0m\u001b[1;33m(\u001b[0m\u001b[1;34mu'timeit -n 1000 for i in nums: i in d'\u001b[0m\u001b[1;33m)\u001b[0m\u001b[1;33m\u001b[0m\u001b[0m\n\u001b[0m\u001b[1;32m      6\u001b[0m \u001b[0mget_ipython\u001b[0m\u001b[1;33m(\u001b[0m\u001b[1;33m)\u001b[0m\u001b[1;33m.\u001b[0m\u001b[0mmagic\u001b[0m\u001b[1;33m(\u001b[0m\u001b[1;34mu'timeit -n 1000 for i in nums: i'\u001b[0m\u001b[1;33m)\u001b[0m\u001b[1;33m\u001b[0m\u001b[0m\n",
      "\u001b[0;32mC:\\Users\\Jianhua\\Anaconda2\\lib\\site-packages\\IPython\\core\\interactiveshell.pyc\u001b[0m in \u001b[0;36mmagic\u001b[0;34m(self, arg_s)\u001b[0m\n\u001b[1;32m   2156\u001b[0m         \u001b[0mmagic_name\u001b[0m\u001b[1;33m,\u001b[0m \u001b[0m_\u001b[0m\u001b[1;33m,\u001b[0m \u001b[0mmagic_arg_s\u001b[0m \u001b[1;33m=\u001b[0m \u001b[0marg_s\u001b[0m\u001b[1;33m.\u001b[0m\u001b[0mpartition\u001b[0m\u001b[1;33m(\u001b[0m\u001b[1;34m' '\u001b[0m\u001b[1;33m)\u001b[0m\u001b[1;33m\u001b[0m\u001b[0m\n\u001b[1;32m   2157\u001b[0m         \u001b[0mmagic_name\u001b[0m \u001b[1;33m=\u001b[0m \u001b[0mmagic_name\u001b[0m\u001b[1;33m.\u001b[0m\u001b[0mlstrip\u001b[0m\u001b[1;33m(\u001b[0m\u001b[0mprefilter\u001b[0m\u001b[1;33m.\u001b[0m\u001b[0mESC_MAGIC\u001b[0m\u001b[1;33m)\u001b[0m\u001b[1;33m\u001b[0m\u001b[0m\n\u001b[0;32m-> 2158\u001b[0;31m         \u001b[1;32mreturn\u001b[0m \u001b[0mself\u001b[0m\u001b[1;33m.\u001b[0m\u001b[0mrun_line_magic\u001b[0m\u001b[1;33m(\u001b[0m\u001b[0mmagic_name\u001b[0m\u001b[1;33m,\u001b[0m \u001b[0mmagic_arg_s\u001b[0m\u001b[1;33m)\u001b[0m\u001b[1;33m\u001b[0m\u001b[0m\n\u001b[0m\u001b[1;32m   2159\u001b[0m \u001b[1;33m\u001b[0m\u001b[0m\n\u001b[1;32m   2160\u001b[0m     \u001b[1;31m#-------------------------------------------------------------------------\u001b[0m\u001b[1;33m\u001b[0m\u001b[1;33m\u001b[0m\u001b[0m\n",
      "\u001b[0;32mC:\\Users\\Jianhua\\Anaconda2\\lib\\site-packages\\IPython\\core\\interactiveshell.pyc\u001b[0m in \u001b[0;36mrun_line_magic\u001b[0;34m(self, magic_name, line)\u001b[0m\n\u001b[1;32m   2077\u001b[0m                 \u001b[0mkwargs\u001b[0m\u001b[1;33m[\u001b[0m\u001b[1;34m'local_ns'\u001b[0m\u001b[1;33m]\u001b[0m \u001b[1;33m=\u001b[0m \u001b[0msys\u001b[0m\u001b[1;33m.\u001b[0m\u001b[0m_getframe\u001b[0m\u001b[1;33m(\u001b[0m\u001b[0mstack_depth\u001b[0m\u001b[1;33m)\u001b[0m\u001b[1;33m.\u001b[0m\u001b[0mf_locals\u001b[0m\u001b[1;33m\u001b[0m\u001b[0m\n\u001b[1;32m   2078\u001b[0m             \u001b[1;32mwith\u001b[0m \u001b[0mself\u001b[0m\u001b[1;33m.\u001b[0m\u001b[0mbuiltin_trap\u001b[0m\u001b[1;33m:\u001b[0m\u001b[1;33m\u001b[0m\u001b[0m\n\u001b[0;32m-> 2079\u001b[0;31m                 \u001b[0mresult\u001b[0m \u001b[1;33m=\u001b[0m \u001b[0mfn\u001b[0m\u001b[1;33m(\u001b[0m\u001b[1;33m*\u001b[0m\u001b[0margs\u001b[0m\u001b[1;33m,\u001b[0m\u001b[1;33m**\u001b[0m\u001b[0mkwargs\u001b[0m\u001b[1;33m)\u001b[0m\u001b[1;33m\u001b[0m\u001b[0m\n\u001b[0m\u001b[1;32m   2080\u001b[0m             \u001b[1;32mreturn\u001b[0m \u001b[0mresult\u001b[0m\u001b[1;33m\u001b[0m\u001b[0m\n\u001b[1;32m   2081\u001b[0m \u001b[1;33m\u001b[0m\u001b[0m\n",
      "\u001b[0;32m<decorator-gen-59>\u001b[0m in \u001b[0;36mtimeit\u001b[0;34m(self, line, cell)\u001b[0m\n",
      "\u001b[0;32mC:\\Users\\Jianhua\\Anaconda2\\lib\\site-packages\\IPython\\core\\magic.pyc\u001b[0m in \u001b[0;36m<lambda>\u001b[0;34m(f, *a, **k)\u001b[0m\n\u001b[1;32m    186\u001b[0m     \u001b[1;31m# but it's overkill for just that one bit of state.\u001b[0m\u001b[1;33m\u001b[0m\u001b[1;33m\u001b[0m\u001b[0m\n\u001b[1;32m    187\u001b[0m     \u001b[1;32mdef\u001b[0m \u001b[0mmagic_deco\u001b[0m\u001b[1;33m(\u001b[0m\u001b[0marg\u001b[0m\u001b[1;33m)\u001b[0m\u001b[1;33m:\u001b[0m\u001b[1;33m\u001b[0m\u001b[0m\n\u001b[0;32m--> 188\u001b[0;31m         \u001b[0mcall\u001b[0m \u001b[1;33m=\u001b[0m \u001b[1;32mlambda\u001b[0m \u001b[0mf\u001b[0m\u001b[1;33m,\u001b[0m \u001b[1;33m*\u001b[0m\u001b[0ma\u001b[0m\u001b[1;33m,\u001b[0m \u001b[1;33m**\u001b[0m\u001b[0mk\u001b[0m\u001b[1;33m:\u001b[0m \u001b[0mf\u001b[0m\u001b[1;33m(\u001b[0m\u001b[1;33m*\u001b[0m\u001b[0ma\u001b[0m\u001b[1;33m,\u001b[0m \u001b[1;33m**\u001b[0m\u001b[0mk\u001b[0m\u001b[1;33m)\u001b[0m\u001b[1;33m\u001b[0m\u001b[0m\n\u001b[0m\u001b[1;32m    189\u001b[0m \u001b[1;33m\u001b[0m\u001b[0m\n\u001b[1;32m    190\u001b[0m         \u001b[1;32mif\u001b[0m \u001b[0mcallable\u001b[0m\u001b[1;33m(\u001b[0m\u001b[0marg\u001b[0m\u001b[1;33m)\u001b[0m\u001b[1;33m:\u001b[0m\u001b[1;33m\u001b[0m\u001b[0m\n",
      "\u001b[0;32mC:\\Users\\Jianhua\\Anaconda2\\lib\\site-packages\\IPython\\core\\magics\\execution.pyc\u001b[0m in \u001b[0;36mtimeit\u001b[0;34m(self, line, cell)\u001b[0m\n\u001b[1;32m   1047\u001b[0m                     \u001b[1;32mbreak\u001b[0m\u001b[1;33m\u001b[0m\u001b[0m\n\u001b[1;32m   1048\u001b[0m                 \u001b[0mnumber\u001b[0m \u001b[1;33m*=\u001b[0m \u001b[1;36m10\u001b[0m\u001b[1;33m\u001b[0m\u001b[0m\n\u001b[0;32m-> 1049\u001b[0;31m         \u001b[0mall_runs\u001b[0m \u001b[1;33m=\u001b[0m \u001b[0mtimer\u001b[0m\u001b[1;33m.\u001b[0m\u001b[0mrepeat\u001b[0m\u001b[1;33m(\u001b[0m\u001b[0mrepeat\u001b[0m\u001b[1;33m,\u001b[0m \u001b[0mnumber\u001b[0m\u001b[1;33m)\u001b[0m\u001b[1;33m\u001b[0m\u001b[0m\n\u001b[0m\u001b[1;32m   1050\u001b[0m         \u001b[0mbest\u001b[0m \u001b[1;33m=\u001b[0m \u001b[0mmin\u001b[0m\u001b[1;33m(\u001b[0m\u001b[0mall_runs\u001b[0m\u001b[1;33m)\u001b[0m \u001b[1;33m/\u001b[0m \u001b[0mnumber\u001b[0m\u001b[1;33m\u001b[0m\u001b[0m\n\u001b[1;32m   1051\u001b[0m \u001b[1;33m\u001b[0m\u001b[0m\n",
      "\u001b[0;32mC:\\Users\\Jianhua\\Anaconda2\\lib\\timeit.pyc\u001b[0m in \u001b[0;36mrepeat\u001b[0;34m(self, repeat, number)\u001b[0m\n\u001b[1;32m    228\u001b[0m         \u001b[0mr\u001b[0m \u001b[1;33m=\u001b[0m \u001b[1;33m[\u001b[0m\u001b[1;33m]\u001b[0m\u001b[1;33m\u001b[0m\u001b[0m\n\u001b[1;32m    229\u001b[0m         \u001b[1;32mfor\u001b[0m \u001b[0mi\u001b[0m \u001b[1;32min\u001b[0m \u001b[0mrange\u001b[0m\u001b[1;33m(\u001b[0m\u001b[0mrepeat\u001b[0m\u001b[1;33m)\u001b[0m\u001b[1;33m:\u001b[0m\u001b[1;33m\u001b[0m\u001b[0m\n\u001b[0;32m--> 230\u001b[0;31m             \u001b[0mt\u001b[0m \u001b[1;33m=\u001b[0m \u001b[0mself\u001b[0m\u001b[1;33m.\u001b[0m\u001b[0mtimeit\u001b[0m\u001b[1;33m(\u001b[0m\u001b[0mnumber\u001b[0m\u001b[1;33m)\u001b[0m\u001b[1;33m\u001b[0m\u001b[0m\n\u001b[0m\u001b[1;32m    231\u001b[0m             \u001b[0mr\u001b[0m\u001b[1;33m.\u001b[0m\u001b[0mappend\u001b[0m\u001b[1;33m(\u001b[0m\u001b[0mt\u001b[0m\u001b[1;33m)\u001b[0m\u001b[1;33m\u001b[0m\u001b[0m\n\u001b[1;32m    232\u001b[0m         \u001b[1;32mreturn\u001b[0m \u001b[0mr\u001b[0m\u001b[1;33m\u001b[0m\u001b[0m\n",
      "\u001b[0;32mC:\\Users\\Jianhua\\Anaconda2\\lib\\site-packages\\IPython\\core\\magics\\execution.pyc\u001b[0m in \u001b[0;36mtimeit\u001b[0;34m(self, number)\u001b[0m\n\u001b[1;32m    137\u001b[0m         \u001b[0mgc\u001b[0m\u001b[1;33m.\u001b[0m\u001b[0mdisable\u001b[0m\u001b[1;33m(\u001b[0m\u001b[1;33m)\u001b[0m\u001b[1;33m\u001b[0m\u001b[0m\n\u001b[1;32m    138\u001b[0m         \u001b[1;32mtry\u001b[0m\u001b[1;33m:\u001b[0m\u001b[1;33m\u001b[0m\u001b[0m\n\u001b[0;32m--> 139\u001b[0;31m             \u001b[0mtiming\u001b[0m \u001b[1;33m=\u001b[0m \u001b[0mself\u001b[0m\u001b[1;33m.\u001b[0m\u001b[0minner\u001b[0m\u001b[1;33m(\u001b[0m\u001b[0mit\u001b[0m\u001b[1;33m,\u001b[0m \u001b[0mself\u001b[0m\u001b[1;33m.\u001b[0m\u001b[0mtimer\u001b[0m\u001b[1;33m)\u001b[0m\u001b[1;33m\u001b[0m\u001b[0m\n\u001b[0m\u001b[1;32m    140\u001b[0m         \u001b[1;32mfinally\u001b[0m\u001b[1;33m:\u001b[0m\u001b[1;33m\u001b[0m\u001b[0m\n\u001b[1;32m    141\u001b[0m             \u001b[1;32mif\u001b[0m \u001b[0mgcold\u001b[0m\u001b[1;33m:\u001b[0m\u001b[1;33m\u001b[0m\u001b[0m\n",
      "\u001b[0;32m<magic-timeit>\u001b[0m in \u001b[0;36minner\u001b[0;34m(_it, _timer)\u001b[0m\n",
      "\u001b[0;31mNameError\u001b[0m: global name 'd' is not defined"
     ]
    }
   ],
   "source": [
    "# comparing time to construct a dictionary with simple for loop\n",
    "nums = list('abcdefghijklmn')\n",
    "%timeit -n 1000 d = dict(enumerate(nums))\n",
    "%timeit -n 1000 d = {i:v for i, v in enumerate(nums)}\n",
    "%timeit -n 1000 for i in nums: i in d\n",
    "%timeit -n 1000 for i in nums: i"
   ]
  },
  {
   "cell_type": "code",
   "execution_count": null,
   "metadata": {
    "collapsed": false
   },
   "outputs": [],
   "source": [
    "class Solution(object):\n",
    "    def findRestaurant(self, list1, list2):\n",
    "        # convert the longer/shorter one into dictionary, and leave the other one as list for iteration\n",
    "        if len(list1) < len(list2):\n",
    "            d, l = {v:i for i, v in enumerate(list1)}, list2 \n",
    "        else: \n",
    "            d, l = {v:i for i, v in enumerate(list2)}, list1\n",
    "        output = []\n",
    "        minsum = 2000 # maximum length of the list is 1000\n",
    "        for i in range(len(l)):\n",
    "            if l[i] in d:\n",
    "                csum = i + d[l[i]]\n",
    "                if not output or csum < minsum:\n",
    "                    output = [l[i]]\n",
    "                    minsum = csum\n",
    "                elif csum == minsum:\n",
    "                    output.append(l[i])\n",
    "        return output\n",
    "                \n",
    "list1 = [\"dixyp\",\"uq\",\"q\",\"KFC\"]\n",
    "list2 = [\"yl\",\"fjugc\",\"rlni\",\"uq\",\"dixyp\",\"q\",\"KFC\"]\n",
    "Solution().findRestaurant(list1, list2)"
   ]
  },
  {
   "cell_type": "code",
   "execution_count": null,
   "metadata": {
    "collapsed": false
   },
   "outputs": [],
   "source": [
    "dict(enumerate(nums))"
   ]
  },
  {
   "cell_type": "markdown",
   "metadata": {
    "collapsed": true
   },
   "source": [
    "## 169. Majority Element\n"
   ]
  },
  {
   "cell_type": "raw",
   "metadata": {},
   "source": [
    "Given an array of size n, find the majority element. The majority element is the element that appears more than ⌊ n/2 ⌋ times.\n",
    "\n",
    "You may assume that the array is non-empty and the majority element always exist in the array."
   ]
  },
  {
   "cell_type": "markdown",
   "metadata": {},
   "source": [
    "### Method 1: math\n",
    "\n",
    "This is a mathematic question, more than a programming question. Since the element appeears more than n/2 times, it must conver the median value. Thus, we can simply sort the data, and return the median. "
   ]
  },
  {
   "cell_type": "code",
   "execution_count": null,
   "metadata": {
    "collapsed": false
   },
   "outputs": [],
   "source": [
    "class Solution(object):\n",
    "    def majorityElement(self, nums):\n",
    "        \"\"\"\n",
    "        :type nums: List[int]\n",
    "        :rtype: int\n",
    "        \"\"\"\n",
    "        return (sorted(nums)[len(nums) / 2])\n",
    "    \n",
    "nums = [1, 1, 2, 9, 9, 3, 1, 1, 1]\n",
    "Solution().majorityElement(nums)"
   ]
  },
  {
   "cell_type": "markdown",
   "metadata": {},
   "source": [
    "## 387. First Unique Character in a String\n"
   ]
  },
  {
   "cell_type": "raw",
   "metadata": {},
   "source": [
    "Given a string, find the first non-repeating character in it and return it's index. If it doesn't exist, return -1.\n",
    "\n",
    "Examples:\n",
    "\n",
    "s = \"leetcode\"\n",
    "return 0.\n",
    "\n",
    "s = \"loveleetcode\",\n",
    "return 2.\n",
    "Note: You may assume the string contain only lowercase letters."
   ]
  },
  {
   "cell_type": "markdown",
   "metadata": {},
   "source": [
    "### Method 1: built-in string count\n",
    "\n",
    "Using the **`count`** method for string object, we can find out the non-duplicated character fast. For this kind of problem, a trick is to save the letters we already visited, so that we don't need to iterate it again."
   ]
  },
  {
   "cell_type": "code",
   "execution_count": null,
   "metadata": {
    "collapsed": false
   },
   "outputs": [],
   "source": [
    "class Solution(object):\n",
    "    def firstUniqChar(self, s):\n",
    "        \"\"\"\n",
    "        :type s: str\n",
    "        :rtype: int\n",
    "        \"\"\"\n",
    "        visited = set()\n",
    "        for i in range(len(s)):\n",
    "            if not s[i] in visited:\n",
    "                if s.count(s[i]) == 1:\n",
    "                    return i\n",
    "                else:\n",
    "                    visited.add(s[i])\n",
    "        return -1\n",
    "s = \"loveleetcode\"\n",
    "s = \"leetcode\"\n",
    "Solution().firstUniqChar(s)"
   ]
  },
  {
   "cell_type": "markdown",
   "metadata": {},
   "source": [
    "Another way to avoid iterating the ducplicated words multiple times, is to get the set of the letters first, and then iterate on the set. Since set doesn't keep the original order of the list/string, we need to collect all results, and then find out the minimal index. we can use the following methods to find a sub-string/character in the string:\n",
    "+ `str.find(s)`: it will return -1, if s not found.\n",
    "+ `str.index(s)`: it will raise error, if s not found"
   ]
  },
  {
   "cell_type": "code",
   "execution_count": null,
   "metadata": {
    "collapsed": false
   },
   "outputs": [],
   "source": [
    "class Solution(object):\n",
    "    def firstUniqChar(self, s):\n",
    "        \"\"\"\n",
    "        :type s: str\n",
    "        :rtype: int\n",
    "        \"\"\"\n",
    "        ss = set(s)  \n",
    "        res = [s.find(v) for v in ss if s.count(v) == 1]\n",
    "        return min(res) if res else -1\n",
    "            \n",
    "s = \"loveleetcode\"\n",
    "# s = \"leetcode\"\n",
    "%timeit -n 1000 Solution().firstUniqChar(s)"
   ]
  },
  {
   "cell_type": "markdown",
   "metadata": {},
   "source": [
    "since the string only contains lower letters, we could skip the step of generate the set, and `count` all lower-case characters instead. However, we may count a lot of unnecessary letters in this way."
   ]
  },
  {
   "cell_type": "code",
   "execution_count": null,
   "metadata": {
    "collapsed": false
   },
   "outputs": [],
   "source": [
    "class Solution(object):\n",
    "    def firstUniqChar(self, s):\n",
    "        \"\"\"\n",
    "        :type s: str\n",
    "        :rtype: int\n",
    "        \"\"\"\n",
    "        ss = 'abcdefghijklmnopqrstuvwxyz' \n",
    "        res = [s.find(v) for v in ss if s.count(v) == 1]\n",
    "        return min(res) if res else -1\n",
    "            \n",
    "s = \"loveleetcode\"\n",
    "# s = \"leetcode\"\n",
    "%timeit -n 1000 Solution().firstUniqChar(s)"
   ]
  },
  {
   "cell_type": "markdown",
   "metadata": {},
   "source": [
    "## 506. Relative Ranks\n"
   ]
  },
  {
   "cell_type": "raw",
   "metadata": {},
   "source": [
    "Given scores of N athletes, find their relative ranks and the people with the top three highest scores, who will be awarded medals: \"Gold Medal\", \"Silver Medal\" and \"Bronze Medal\".\n",
    "\n",
    "Example 1:\n",
    "Input: [5, 4, 3, 2, 1]\n",
    "\n",
    "Output: [\"Gold Medal\", \"Silver Medal\", \"Bronze Medal\", \"4\", \"5\"]\n",
    "Explanation: The first three athletes got the top three highest scores, so they got \"Gold Medal\", \"Silver Medal\" and \"Bronze Medal\". \n",
    "For the left two athletes, you just need to output their relative ranks according to their scores.\n",
    "\n",
    "Note:\n",
    "N is a positive integer and won't exceed 10,000.\n",
    "All the scores of athletes are guaranteed to be unique."
   ]
  },
  {
   "cell_type": "markdown",
   "metadata": {},
   "source": [
    "### Method 1: sort and rank\n",
    "\n",
    "Sor the data, and get the rank of each number, then replace 1, 2, 3 with medals. There is no built-in rank function in base python, thus it is necessary to sort first, and then get the index of each value in the sorted nums, which is just the rank."
   ]
  },
  {
   "cell_type": "code",
   "execution_count": null,
   "metadata": {
    "collapsed": false
   },
   "outputs": [],
   "source": [
    "class Solution(object):\n",
    "    def findRelativeRanks(self, nums):\n",
    "        \"\"\"\n",
    "        :type nums: List[int]\n",
    "        :rtype: List[str]\n",
    "        \"\"\"\n",
    "        n_sorted = sorted(nums, reverse = True)\n",
    "        n_rank = [str(n_sorted.index(v)+1) for v in nums]\n",
    "        if '1' in n_rank: n_rank[n_rank.index('1')] = 'Gold Medal'\n",
    "        if '2' in n_rank: n_rank[n_rank.index('2')] = 'Silver Medal'\n",
    "        if '3' in n_rank: n_rank[n_rank.index('3')] = 'Bronze Medal'\n",
    "        return n_rank  \n",
    "nums = [4, 2, 0, 3, 7, 1, 8, 19, 10, 9, 11, 12, 13, 14, 16, 15, 17]\n",
    "print Solution().findRelativeRanks(nums)\n",
    "%timeit -n 1000 Solution().findRelativeRanks(nums)"
   ]
  },
  {
   "cell_type": "markdown",
   "metadata": {},
   "source": [
    "### Method 2: sort & dictionary map"
   ]
  },
  {
   "cell_type": "markdown",
   "metadata": {},
   "source": [
    "The **`list.index()`** function is quite time consuming. If this function needs to be called a lot of times, we can go around it by building a dictionary before hand, and then use the **`dict.get()`** function to get the index directly with **O(1)** complexity. However, it needs to keep in mind that it is time-consuming to build up the dictionary. "
   ]
  },
  {
   "cell_type": "code",
   "execution_count": null,
   "metadata": {
    "collapsed": false
   },
   "outputs": [],
   "source": [
    "class Solution(object):\n",
    "    def findRelativeRanks(self, nums):\n",
    "        n_sorted = sorted(nums, reverse=True)\n",
    "        n_map = ['Gold Medal', 'Silver Medal', 'Bronze Medal'] + [str(i+1) for i in range(3, len(nums))]\n",
    "        d = dict(zip(n_sorted, n_map))\n",
    "        return [d.get(v) for v in nums]  # because the nums are in original order, the output will keep the order\n",
    "\n",
    "nums = [4, 2, 0, 3, 7, 1, 8, 19, 10, 9, 11, 12, 13, 14, 16, 15, 17]\n",
    "print Solution().findRelativeRanks(nums)\n",
    "%timeit -n 1000 Solution().findRelativeRanks(nums)"
   ]
  },
  {
   "cell_type": "markdown",
   "metadata": {},
   "source": [
    "## 242. Valid Anagram\n"
   ]
  },
  {
   "cell_type": "raw",
   "metadata": {},
   "source": [
    "Given two strings s and t, write a function to determine if t is an anagram of s.\n",
    "\n",
    "For example,\n",
    "s = \"anagram\", t = \"nagaram\", return true.\n",
    "s = \"rat\", t = \"car\", return false.\n",
    "\n",
    "Note:\n",
    "You may assume the string contains only lowercase alphabets.\n",
    "\n",
    "Follow up:\n",
    "What if the inputs contain unicode characters? How would you adapt your solution to such case?"
   ]
  },
  {
   "cell_type": "markdown",
   "metadata": {},
   "source": [
    "### Method 1: sorted\n",
    "\n",
    "Using the built-in sorted function, we can sort the string and reture a sorted list. If two list are the same, then they are anagram"
   ]
  },
  {
   "cell_type": "code",
   "execution_count": null,
   "metadata": {
    "collapsed": false
   },
   "outputs": [],
   "source": [
    "class Solution(object):\n",
    "    def isAnagram(self, s, t):\n",
    "        \"\"\"\n",
    "        :type s: str\n",
    "        :type t: str\n",
    "        :rtype: bool\n",
    "        \"\"\"\n",
    "        if len(s) != len(t):\n",
    "            return False\n",
    "        return sorted(s) == sorted(t)\n",
    "s = \"anagram\"\n",
    "t = \"nagarama\"\n",
    "Solution().isAnagram(s, t)"
   ]
  },
  {
   "cell_type": "markdown",
   "metadata": {},
   "source": [
    "## 217. Contains Duplicate\n"
   ]
  },
  {
   "cell_type": "raw",
   "metadata": {},
   "source": [
    "Given an array of integers, find if the array contains any duplicates. Your function should return true if any value appears at least twice in the array, and it should return false if every element is distinct."
   ]
  },
  {
   "cell_type": "markdown",
   "metadata": {},
   "source": [
    "### Method 1: sort \n",
    "\n",
    "Sort the data first, and then find the next v = v + 1"
   ]
  },
  {
   "cell_type": "code",
   "execution_count": null,
   "metadata": {
    "collapsed": false
   },
   "outputs": [],
   "source": [
    "class Solution(object):\n",
    "    def containsDuplicate(self, nums):\n",
    "        \"\"\"\n",
    "        :type nums: List[int]\n",
    "        :rtype: bool\n",
    "        \"\"\"\n",
    "        nums.sort()\n",
    "        res = next((i for i in range(len(nums) - 1) if nums[i] == nums[i+1]), None)\n",
    "        return True if res is not None else False\n",
    "nums = [1, 2, 3, 2]\n",
    "Solution().containsDuplicate(nums)"
   ]
  },
  {
   "cell_type": "markdown",
   "metadata": {},
   "source": [
    "### Method 2: set operation\n",
    "\n",
    "Because the **`set`** function removes duplicates automatically. We can see whether there is any duplicate by comparing the length of the list with the lenght of set."
   ]
  },
  {
   "cell_type": "code",
   "execution_count": null,
   "metadata": {
    "collapsed": false
   },
   "outputs": [],
   "source": [
    "class Solution(object):\n",
    "    def containsDuplicate(self, nums):\n",
    "        \"\"\"\n",
    "        :type nums: List[int]\n",
    "        :rtype: bool\n",
    "        \"\"\"\n",
    "        return len(nums) > len(set(nums))\n",
    "nums = [1, 2, 3, 2]\n",
    "Solution().containsDuplicate(nums)"
   ]
  },
  {
   "cell_type": "markdown",
   "metadata": {},
   "source": [
    "## 13. Roman to Integer\n"
   ]
  },
  {
   "cell_type": "raw",
   "metadata": {},
   "source": [
    "Given a roman numeral, convert it to an integer.\n",
    "\n",
    "Input is guaranteed to be within the range from 1 to 3999.\n",
    "\n",
    "Note:\n",
    "Symbol\tI\tV\tX\tL\tC\tD\tM\n",
    "Value\t1\t5\t10\t50\t100\t500\t1,000\n",
    "\n",
    "Rule: if left hand side is less than right hand side, we minus it, otherwise, plus it\n",
    "IX = 10 - 1 = 9\n",
    "XI = 10 + 1 = 11"
   ]
  },
  {
   "cell_type": "markdown",
   "metadata": {},
   "source": [
    "### Method 1: dictionary map & cumulative sum\n",
    "\n",
    "This problem is kind of similar to the **171. Excel Sheet Column Number**. An additional step is to check whether the left number is larger than the right number or not, so that we can decide whether we should add or deduct it from the result. "
   ]
  },
  {
   "cell_type": "code",
   "execution_count": null,
   "metadata": {
    "collapsed": false
   },
   "outputs": [],
   "source": [
    "class Solution(object):\n",
    "    def romanToInt(self, s):\n",
    "        \"\"\"\n",
    "        :type s: str\n",
    "        :rtype: int\n",
    "        \"\"\"\n",
    "        d = dict(zip('IVXLCDM', [1, 5, 10, 50, 100, 500, 1000]))\n",
    "        res = 0\n",
    "        prev = 0\n",
    "        for v in s[::-1]:\n",
    "            if d[v] >= prev:\n",
    "                res += d[v]\n",
    "            else:\n",
    "                res -= d[v]\n",
    "            prev = d[v]\n",
    "        return res\n",
    "        \n",
    "s = 'MCMXCVI'  # 1996\n",
    "s = 'DCXXI'\n",
    "Solution().romanToInt(s)"
   ]
  },
  {
   "cell_type": "markdown",
   "metadata": {},
   "source": [
    "## 409. Longest Palindrome\n"
   ]
  },
  {
   "cell_type": "raw",
   "metadata": {},
   "source": [
    "Given a string which consists of lowercase or uppercase letters, find the length of the longest palindromes that can be built with those letters.\n",
    "\n",
    "This is case sensitive, for example \"Aa\" is not considered a palindrome here.\n",
    "\n",
    "Note:\n",
    "Assume the length of given string will not exceed 1,010.\n",
    "\n",
    "Example:\n",
    "\n",
    "Input:\n",
    "\"abccccdd\"\n",
    "\n",
    "Output:\n",
    "7\n",
    "\n",
    "Explanation:\n",
    "One longest palindrome that can be built is \"dccaccd\", whose length is 7."
   ]
  },
  {
   "cell_type": "markdown",
   "metadata": {},
   "source": [
    "### Method 1: str.count\n",
    "\n",
    "This problem is simple, once we figure out what is palindrome. A word is palindrome, if it is the same as its reversed version. So, all characters are symmetric except the middle one. We need to find out all of the characters appear more than twice. If a word appears 3 times, 2 of them can be used to contruct the palindrome. "
   ]
  },
  {
   "cell_type": "code",
   "execution_count": null,
   "metadata": {
    "collapsed": false,
    "scrolled": true
   },
   "outputs": [],
   "source": [
    "class Solution(object):\n",
    "    def longestPalindrome(self, s):\n",
    "        \"\"\"\n",
    "        :type s: str\n",
    "        :rtype: int\n",
    "        \"\"\"\n",
    "        ss = set(s)\n",
    "        res = 0\n",
    "        add1 = False\n",
    "        for v in ss:\n",
    "            c = s.count(v)\n",
    "            if c%2:\n",
    "                res += c - 1\n",
    "                add1 = True\n",
    "            else:\n",
    "                res += c\n",
    "        return res + add1\n",
    "\n",
    "s = 'aabbcccdd'\n",
    "print Solution().longestPalindrome(s)\n",
    "%timeit -n 10000 Solution().longestPalindrome(s)"
   ]
  },
  {
   "cell_type": "markdown",
   "metadata": {},
   "source": [
    "## 447. Number of Boomerangs\n"
   ]
  },
  {
   "cell_type": "raw",
   "metadata": {},
   "source": [
    "Given n points in the plane that are all pairwise distinct, a \"boomerang\" is a tuple of points (i, j, k) such that the distance between i and j equals the distance between i and k (the order of the tuple matters).\n",
    "\n",
    "Find the number of boomerangs. You may assume that n will be at most 500 and coordinates of points are all in the range [-10000, 10000] (inclusive).\n",
    "\n",
    "Example:\n",
    "Input:\n",
    "[[0,0],[1,0],[2,0]]\n",
    "\n",
    "Output:\n",
    "2\n",
    "\n",
    "Explanation:\n",
    "The two boomerangs are [[1,0],[0,0],[2,0]] and [[1,0],[2,0],[0,0]]"
   ]
  },
  {
   "cell_type": "markdown",
   "metadata": {},
   "source": [
    "### Method 1: calculate distance for lower-triangle\n",
    "\n",
    "There is no much trick for this question, we must loop over the points one by one to do the following things:\n",
    "+ for each point i, calculate the distance to all other points\n",
    "+ count the frequencies for different distance values\n",
    "+ calculate the number of boomerange for each value as: **`n * (n-1)`**\n",
    "+ sum up the boomerange for point i\n",
    "\n",
    "The method used to calcualte the distances may vary a little, for example, we can have two different approaches:\n",
    "+ calculate the lower-triangle part of the distance matrix. (because the distance between i and j, is the same as distance between j and i, so we can reuse the distance already calculated. However, using this way, we have store all distance in a list looks like lower triangle. \n",
    "+ calculate distance for the whole matrix. Using this method, we duplicate the distance calculation, but we don't need to save the distance matrix.\n"
   ]
  },
  {
   "cell_type": "code",
   "execution_count": null,
   "metadata": {
    "collapsed": false
   },
   "outputs": [],
   "source": [
    "# lower triangle\n",
    "class Solution(object):\n",
    "    def numberOfBoomerangs(self, points):\n",
    "        \"\"\"\n",
    "        :type points: List[List[int]]\n",
    "        :rtype: int\n",
    "        \"\"\"\n",
    "        np = len(points)\n",
    "        dists = []\n",
    "        res = 0\n",
    "        for i in range(np):\n",
    "            dist = [d[i-1] for d in dists] + [((points[i][0] - p[0])**2 + (points[i][1] - p[1])**2) for p in points[i+1:]]\n",
    "            d = {}\n",
    "            for v in dist:\n",
    "                d[v] = d.get(v, 0) + 1\n",
    "            for v in d.values():\n",
    "                res += v * (v-1)\n",
    "            dists.append(dist)\n",
    "        return res\n",
    "                        \n",
    "points = [[0,0],[1,0],[-1,0],[0,1],[0,-1]]\n",
    "print Solution().numberOfBoomerangs(points)\n",
    "%timeit -n 100000 Solution().numberOfBoomerangs(points)"
   ]
  },
  {
   "cell_type": "markdown",
   "metadata": {},
   "source": [
    "### Method 2: calculate all distances"
   ]
  },
  {
   "cell_type": "code",
   "execution_count": null,
   "metadata": {
    "collapsed": false
   },
   "outputs": [],
   "source": [
    "# calculate all distance\n",
    "class Solution(object):\n",
    "    def numberOfBoomerangs(self, points):\n",
    "        np = len(points)\n",
    "        res = 0\n",
    "        for v1 in points:\n",
    "            dist = [(v1[0] - v2[0])**2 + (v1[1] - v2[1])**2 for v2 in points]\n",
    "            d = {}\n",
    "            for v in dist:\n",
    "                d[v] = d.get(v, 0) + 1\n",
    "            for v in d.values():\n",
    "                res += v * (v-1)\n",
    "        return res\n",
    "points = [[0,0],[1,0],[-1,0],[0,1],[0,-1]]\n",
    "print Solution().numberOfBoomerangs(points)\n",
    "%timeit -n 100000 Solution().numberOfBoomerangs(points)            "
   ]
  },
  {
   "cell_type": "code",
   "execution_count": null,
   "metadata": {
    "collapsed": false
   },
   "outputs": [],
   "source": [
    "# Count the distance values within the for loop directly, without saving the distance list.\n",
    "class Solution(object):\n",
    "    def numberOfBoomerangs(self, points):\n",
    "        np = len(points)\n",
    "        res = 0\n",
    "        for v1 in points:\n",
    "            d = {}\n",
    "            for v2 in points: \n",
    "                dist = (v1[0] - v2[0])**2 + (v1[1] - v2[1])**2\n",
    "                d[dist] = d.get(dist, 0) + 1\n",
    "            for v in d.values():\n",
    "                res += v * (v-1)\n",
    "        return res\n",
    "points = [[0,0],[1,0],[-1,0],[0,1],[0,-1]]\n",
    "print Solution().numberOfBoomerangs(points)\n",
    "%timeit -n 100000 Solution().numberOfBoomerangs(points)  "
   ]
  },
  {
   "cell_type": "markdown",
   "metadata": {},
   "source": [
    "## 20. Valid Parentheses (AC 33.4%)"
   ]
  },
  {
   "cell_type": "markdown",
   "metadata": {},
   "source": [
    "### Method 1: replace\n",
    "\n",
    "This method is straight-forward. If (), [], or {} in the string, replace them. If all parentheses are valid, the s will be empty at the end. Otherwise it will contains some strings. "
   ]
  },
  {
   "cell_type": "code",
   "execution_count": null,
   "metadata": {
    "collapsed": false
   },
   "outputs": [],
   "source": [
    "class Solution(object):\n",
    "    def isValid(self, s):\n",
    "        \"\"\"\n",
    "        :type s: str\n",
    "        :rtype: bool\n",
    "        \"\"\"\n",
    "        if len(s) % 2:\n",
    "            return False\n",
    "        while '()' in s or '[]' in s or '{}' in s: \n",
    "            s = s.replace('()', '').replace('[]', '').replace('{}', '')\n",
    "        return not s\n",
    "s = '(([]{}))' \n",
    "print Solution().isValid(s)                            \n",
    "%timeit -n 1000 Solution().isValid(s)"
   ]
  },
  {
   "cell_type": "markdown",
   "metadata": {},
   "source": [
    "### Method 2: append & pop"
   ]
  },
  {
   "cell_type": "markdown",
   "metadata": {},
   "source": [
    "The above method is simple and easy to understand. However, the time complexity is O(n^2), because every time we can only replace the (), [], and {} contained in the **s** string. After the replacement, new matches will appear. For example, if **s** is **`{[()]}`**, we need to iterate three times to replace all matches.\n",
    "\n",
    "Another method to reduce the time complexity is to use the append and pop together. \n",
    "+ append the character to the **`stack`**, if it belongs to the left parentheses, **`([{`**.\n",
    "+ otherwise, check whether the character is the right hand side of the last character in the **`stack`**. If no, return false. Otherwise, **`pop`** the last element from **`stack`**. \n",
    "\n",
    "This method is O(n) complexity, because it only contains one for loop. It mimic the rule of parentheses (from inside to output), by matching the characters to the last element of the **`stack`** first. "
   ]
  },
  {
   "cell_type": "code",
   "execution_count": null,
   "metadata": {
    "collapsed": false
   },
   "outputs": [],
   "source": [
    " class Solution:\n",
    "        # @param {string} s\n",
    "        # @return {boolean}\n",
    "        def isValid(self, s):\n",
    "            stack=[]\n",
    "            d = {')':'(', ']':'[', '}':'{'}\n",
    "            for v in s:\n",
    "                if v in '([{':\n",
    "                    stack.append(v)\n",
    "                else:\n",
    "                    if not stack or not stack.pop() == d[v]:\n",
    "                        return False\n",
    "            return not stack\n",
    "                \n",
    "s = '(([]{}))' \n",
    "# s = ']'\n",
    "print Solution().isValid(s)                            \n",
    "%timeit -n 1000 Solution().isValid(s)    "
   ]
  },
  {
   "cell_type": "code",
   "execution_count": null,
   "metadata": {
    "collapsed": false,
    "scrolled": true
   },
   "outputs": [],
   "source": [
    "full = {'()', '[]', '{}'}\n",
    "d =  {'()':0, '[]':0, '{}':0}\n",
    "left = '([{'\n",
    "dleft =  {'(':0, '[':0, '{':0}\n",
    "s = '(([]{}))' \n",
    "%timeit -n 10000 [v in left for v in s]\n",
    "%timeit -n 10000 [v in dleft for v in s]\n"
   ]
  },
  {
   "cell_type": "markdown",
   "metadata": {},
   "source": [
    "## 350. Intersection of Two Arrays II\n"
   ]
  },
  {
   "cell_type": "raw",
   "metadata": {},
   "source": [
    "Given two arrays, write a function to compute their intersection.\n",
    "\n",
    "Example:\n",
    "Given nums1 = [1, 2, 2, 1], nums2 = [2, 2], return [2, 2].\n",
    "\n",
    "Note:\n",
    "Each element in the result should appear as many times as it shows in both arrays.\n",
    "The result can be in any order.\n",
    "\n",
    "Follow up:\n",
    "What if the given array is already sorted? How would you optimize your algorithm?\n",
    "What if nums1's size is small compared to nums2's size? Which algorithm is better?\n",
    "What if elements of nums2 are stored on disk, and the memory is limited such that you cannot load all elements into the memory at once?"
   ]
  },
  {
   "cell_type": "markdown",
   "metadata": {},
   "source": [
    "### Method 1: dictionary counting\n",
    "\n",
    "In this problem, we can use the dictionary to count the values for one of the list, and then see whether the element in another list is within the dictionary. We can count the numbers in either **`nums1`** or **`nums2`** list, and iterate the numbers in another list. However, it is best to select the shorter list to build up the count, because building up the count dictionary is time consuming. In the following exemples, we compare the performances of two approaches:\n",
    "\n",
    "+ counts for the longer list, and iterate with the shorter list\n",
    "+ counts for the shorter list, and iterate witht he longer list\n",
    "\n",
    "From the output, we can see the second approach is several times faster than the first approach."
   ]
  },
  {
   "cell_type": "code",
   "execution_count": null,
   "metadata": {
    "collapsed": false
   },
   "outputs": [],
   "source": [
    "class Solution(object):\n",
    "    def intersect(self, nums1, nums2):\n",
    "        \"\"\"\n",
    "        :type nums1: List[int]\n",
    "        :type nums2: List[int]\n",
    "        :rtype: List[int]\n",
    "        \"\"\"\n",
    "        d = {}\n",
    "        res = []\n",
    "        # count the longer list, and iterate the shorter one\n",
    "        if len(nums1) > len(nums2):\n",
    "            countL, findL = nums1, nums2\n",
    "        else:\n",
    "            countL, findL = nums2, nums1\n",
    "        for v1 in countL:\n",
    "            d[v1] = d.get(v1, 0) + 1\n",
    "        for v2 in findL:\n",
    "            if v2 in d and d.get(v2) > 0:\n",
    "                res.append(v2)\n",
    "                d[v2] -= 1\n",
    "        return res\n",
    "nums1 = range(10000)[::1000]\n",
    "nums2 = range(10000)\n",
    "print Solution().intersect(nums1, nums2)\n",
    "%timeit -n 100 Solution().intersect(nums1, nums2)  # several times slower "
   ]
  },
  {
   "cell_type": "code",
   "execution_count": null,
   "metadata": {
    "collapsed": false
   },
   "outputs": [],
   "source": [
    "class Solution(object):\n",
    "    def intersect(self, nums1, nums2):\n",
    "        d = {}\n",
    "        res = []\n",
    "        # count the shorter list, and iterate the longer one\n",
    "        if len(nums1) < len(nums2):\n",
    "            countL, findL = nums1, nums2\n",
    "        else:\n",
    "            countL, findL = nums2, nums1\n",
    "        for v1 in countL:\n",
    "            d[v1] = d.get(v1, 0) + 1\n",
    "        for v2 in findL:\n",
    "            if v2 in d and d.get(v2) > 0:\n",
    "                res.append(v2)\n",
    "                d[v2] -= 1\n",
    "        return res\n",
    "nums1 = range(10000)[::1000]\n",
    "nums2 = range(10000)\n",
    "print Solution().intersect(nums1, nums2)\n",
    "%timeit -n 100 Solution().intersect(nums1, nums2)"
   ]
  },
  {
   "cell_type": "markdown",
   "metadata": {},
   "source": [
    "### Method 2: two pointers\n",
    "\n",
    "Since this question involves the comparison of two lists. It is also possible to use the two pointers method. There are two ways to write the two-pointers algorithm:\n",
    "\n",
    "+ use two pointers inside a while loop, move the pointers ahead according to their comparsion.\n",
    "+ use one pointer in a for loop, and another pionter within the while loop. This method is simiar to the **455. Assign Cookies** we used. Different from the **Assign Cookies** problem (which compare whether a < b), this problem compares a == b. There is no while loop in the **Assign Cookies** problem, because we don't need to increase the greedy factor to match the cooky size.  \n",
    "\n",
    "According to the following output, the second approach is a little faster, since the for loop take care of one pointer already. So we don't need to add 1 to the first pointer explicitly. \n",
    "\n",
    "With this method, we need to make sure that the two lists are already sorted. "
   ]
  },
  {
   "cell_type": "code",
   "execution_count": null,
   "metadata": {
    "collapsed": false
   },
   "outputs": [],
   "source": [
    "# reference: https://discuss.leetcode.com/topic/46484/three-python-solutions\n",
    "class Solution(object):\n",
    "    def intersect(self, nums1, nums2):\n",
    "        p1, p2, n1, n2 = 0, 0, len(nums1), len(nums2)\n",
    "        res = []\n",
    "        while p1 < n1 and p2 < n2:\n",
    "            if nums1[p1] > nums2[p2]:\n",
    "                p2 += 1\n",
    "            elif nums1[p1] < nums2[p2]:\n",
    "                p1 += 1\n",
    "            else:\n",
    "                res.append(nums1[p1])\n",
    "                p1 += 1\n",
    "                p2 += 1\n",
    "        return res\n",
    "    \n",
    "nums1 = range(10000)[::1000]\n",
    "nums2 = range(10000)\n",
    "print Solution().intersect(nums1, nums2)\n",
    "%timeit -n 100 Solution().intersect(nums1, nums2)  "
   ]
  },
  {
   "cell_type": "code",
   "execution_count": null,
   "metadata": {
    "collapsed": false
   },
   "outputs": [],
   "source": [
    "class Solution(object):\n",
    "    def intersect(self, nums1, nums2):\n",
    "        p2, n2 = 0, len(nums2)\n",
    "        res = []\n",
    "        for p1 in range(len(nums1)):\n",
    "            while nums1[p1] > nums2[p2]:\n",
    "                p2 += 1\n",
    "                if p2 >= n2:\n",
    "                    return res\n",
    "            if nums1[p1] == nums2[p2]:\n",
    "                res.append(nums1[p1])\n",
    "                p2 += 1\n",
    "                if p2 >= n2:\n",
    "                    return res\n",
    "        return res\n",
    "nums1 = range(10000)[::1000]\n",
    "nums2 = range(10000)\n",
    "print Solution().intersect(nums1, nums2)\n",
    "%timeit -n 100 Solution().intersect(nums1, nums2) "
   ]
  },
  {
   "cell_type": "markdown",
   "metadata": {},
   "source": [
    "## 504. Base 7"
   ]
  },
  {
   "cell_type": "raw",
   "metadata": {},
   "source": [
    "Given an integer, return its base 7 string representation.\n",
    "\n",
    "Example 1:\n",
    "Input: 100\n",
    "Output: \"202\"\n",
    "\n",
    "Example 2:\n",
    "Input: -7\n",
    "Output: \"-10\"\n",
    "\n",
    "Note: The input will be in range of [-1e7, 1e7]."
   ]
  },
  {
   "cell_type": "markdown",
   "metadata": {},
   "source": [
    "### Method 1: Math\n",
    "\n",
    "This is a mathematic problem. Once you figure out how to convert between bases, the coding part is straight-forward.\n",
    "\n",
    "Here is an example that shows the steps of converting between the base 10 to base 5. \n",
    "http://www.oxfordmathcenter.com/drupal7/node/18\n",
    "\n",
    "At every step, we just divide the quotient at the previous step by 5, and collect the remainders."
   ]
  },
  {
   "cell_type": "raw",
   "metadata": {},
   "source": [
    "1073 = 214 * 5 + 3\n",
    " 214 = 42 * 5 + 4\n",
    "  42 = 8 * 5 + 2\n",
    "   8 = 1 * 5 + 3\n",
    "   1 = 0 * 5 + 1\n",
    "   \n",
    "1073 -> 13243"
   ]
  },
  {
   "cell_type": "code",
   "execution_count": null,
   "metadata": {
    "collapsed": false
   },
   "outputs": [],
   "source": [
    "class Solution(object):\n",
    "    def convertToBase7(self, num):\n",
    "        \"\"\"\n",
    "        :type num: int\n",
    "        :rtype: str\n",
    "        \"\"\"\n",
    "        res = ''\n",
    "        anum = abs(num)\n",
    "        while anum >= 7:\n",
    "            res = str(anum % 7) + res\n",
    "            anum /= 7\n",
    "        return str(anum) + res if num > 0 else '-' + str(anum) + res\n",
    "print Solution().convertToBase7(-8)"
   ]
  },
  {
   "cell_type": "markdown",
   "metadata": {},
   "source": [
    "## 268. Missing Number\n",
    "\n"
   ]
  },
  {
   "cell_type": "raw",
   "metadata": {},
   "source": [
    "Given an array containing n distinct numbers taken from 0, 1, 2, ..., n, find the one that is missing from the array.\n",
    "\n",
    "For example,\n",
    "Given nums = [0, 1, 3] return 2.\n",
    "\n",
    "Note:\n",
    "Your algorithm should run in linear runtime complexity. Could you implement it using only constant extra space complexity?"
   ]
  },
  {
   "cell_type": "markdown",
   "metadata": {},
   "source": [
    "### Method 1: for loop\n",
    "\n",
    "+ sort the data\n",
    "+ find the number that is not equal to its index. If nothing found, then the last number is missing."
   ]
  },
  {
   "cell_type": "code",
   "execution_count": null,
   "metadata": {
    "collapsed": false
   },
   "outputs": [],
   "source": [
    "class Solution(object):\n",
    "    def missingNumber(self, nums):\n",
    "        \"\"\"\n",
    "        :type nums: List[int]\n",
    "        :rtype: int\n",
    "        \"\"\"\n",
    "        nums.sort()\n",
    "        return next((i for i, v in enumerate(nums) if i != v), len(nums))\n",
    "nums = range(100)\n",
    "print Solution().missingNumber(nums)\n",
    "%timeit -n 10000 Solution().missingNumber(nums)"
   ]
  },
  {
   "cell_type": "markdown",
   "metadata": {},
   "source": [
    "### Method 2: set operation"
   ]
  },
  {
   "cell_type": "code",
   "execution_count": null,
   "metadata": {
    "collapsed": false
   },
   "outputs": [],
   "source": [
    "class Solution(object):\n",
    "    def missingNumber(self, nums):\n",
    "        return list(set(range(len(nums) + 1)) - set(nums))[0]\n",
    "nums = range(100)\n",
    "print Solution().missingNumber(nums)\n",
    "%timeit -n 10000 Solution().missingNumber(nums)"
   ]
  },
  {
   "cell_type": "markdown",
   "metadata": {},
   "source": [
    "### Method 3: math\n",
    "\n",
    "If nothing is missed, then the sum is `sum_full = (X1 + Xn) * N / 2`. Then the missing number is just `sum_full - sum(nums)`. If a question can be fomulated into mathematic problem, the solution is usually fast. "
   ]
  },
  {
   "cell_type": "code",
   "execution_count": null,
   "metadata": {
    "collapsed": false
   },
   "outputs": [],
   "source": [
    "class Solution(object):\n",
    "    def missingNumber(self, nums):\n",
    "        return len(nums) * (len(nums) + 1) / 2 - sum(nums)\n",
    "nums = range(100)\n",
    "print Solution().missingNumber(nums)\n",
    "%timeit -n 10000 Solution().missingNumber(nums)"
   ]
  },
  {
   "cell_type": "markdown",
   "metadata": {},
   "source": [
    "## 541. Reverse String II\n"
   ]
  },
  {
   "cell_type": "raw",
   "metadata": {},
   "source": [
    "Given a string and an integer k, you need to reverse the first k characters for every 2k characters counting from the start of the string. If there are less than k characters left, reverse all of them. If there are less than 2k but greater than or equal to k characters, then reverse the first k characters and left the other as original.\n",
    "\n",
    "Example:\n",
    "Input: s = \"abcdefg\", k = 2\n",
    "Output: \"bacdfeg\"\n",
    "\n",
    "Restrictions:\n",
    "The string consists of lower English letters only.\n",
    "Length of the given string and k will in the range [1, 10000]"
   ]
  },
  {
   "cell_type": "markdown",
   "metadata": {},
   "source": [
    "### Method 1: extending empty string"
   ]
  },
  {
   "cell_type": "code",
   "execution_count": null,
   "metadata": {
    "collapsed": false
   },
   "outputs": [],
   "source": [
    "class Solution(object):\n",
    "    def reverseStr(self, s, k):\n",
    "        \"\"\"\n",
    "        :type s: str\n",
    "        :type k: int\n",
    "        :rtype: str\n",
    "        \"\"\"\n",
    "        nk = -(-len(s) // k)  # ceiling of len(s) / k\n",
    "        res = ''\n",
    "        for i in range(nk):\n",
    "            if i % 2:\n",
    "                res += s[i*k: (i+1)*k]\n",
    "            else:\n",
    "                res += s[i*k: (i+1)*k][::-1]\n",
    "        return res\n",
    "s = 'abcdefghijklmnabcdefghijklmnabcdefghijklmnabcdefghijklmnabcdefghijklmnabcdefghijklmnabcdefghijklmnabcdefghijklmnabcdefghijklmnabcdefghijklmnabcdefghijklmnabcdefghijklmnabcdefghijklmnabcdefghijklmnabcdefghijklmnabcdefghijklmnabcdefghijklmnabcdefghijklmn'\n",
    "k = 2\n",
    "%timeit -n 10000 Solution().reverseStr(s, k)"
   ]
  },
  {
   "cell_type": "markdown",
   "metadata": {},
   "source": [
    "### Method 2: replace "
   ]
  },
  {
   "cell_type": "code",
   "execution_count": null,
   "metadata": {
    "collapsed": false
   },
   "outputs": [],
   "source": [
    "class Solution(object):\n",
    "    def reverseStr(self, s, k):\n",
    "        for i in range(0, len(s), 2*k):\n",
    "            sub = s[i: (i + k)]\n",
    "            s = s.replace(sub, sub[::-1])  # string is immutable, the same as tuple. Need to assign it to another value\n",
    "        return s\n",
    "s = 'abcdefghijklmnabcdefghijklmnabcdefghijklmnabcdefghijklmnabcdefghijklmnabcdefghijklmnabcdefghijklmnabcdefghijklmnabcdefghijklmnabcdefghijklmnabcdefghijklmnabcdefghijklmnabcdefghijklmnabcdefghijklmnabcdefghijklmnabcdefghijklmnabcdefghijklmnabcdefghijklmn'\n",
    "k = 2\n",
    "%timeit -n 10000 Solution().reverseStr(s, k)"
   ]
  },
  {
   "cell_type": "markdown",
   "metadata": {},
   "source": [
    "## 121. Best Time to Buy and Sell Stock\n"
   ]
  },
  {
   "cell_type": "raw",
   "metadata": {},
   "source": [
    "Say you have an array for which the ith element is the price of a given stock on day i.\n",
    "\n",
    "If you were only permitted to complete at most one transaction (ie, buy one and sell one share of the stock), design an algorithm to find the maximum profit.\n",
    "\n",
    "Example 1:\n",
    "Input: [7, 1, 5, 3, 6, 4]\n",
    "Output: 5\n",
    "\n",
    "max. difference = 6-1 = 5 (not 7-1 = 6, as selling price needs to be larger than buying price)\n",
    "Example 2:\n",
    "Input: [7, 6, 4, 3, 1]\n",
    "Output: 0\n",
    "\n",
    "In this case, no transaction is done, i.e. max profit = 0."
   ]
  },
  {
   "cell_type": "markdown",
   "metadata": {},
   "source": [
    "### Method 1: temp output\n",
    "\n",
    "+ record the minimal value **`minv`** visited, and the maximum profit **`profit`**\n",
    "+ if the current value **`v`** is less than the **`minv`**, set **`minv = v`**. Otherwise, calculate the profit as **`v - minv`**, and it with the recorded maximum profit. Set the maximum profit as **`max(profit, v - minv)`**."
   ]
  },
  {
   "cell_type": "code",
   "execution_count": null,
   "metadata": {
    "collapsed": false
   },
   "outputs": [],
   "source": [
    "class Solution(object):\n",
    "    def maxProfit(self, prices):\n",
    "        \"\"\"\n",
    "        :type prices: List[int]\n",
    "        :rtype: int\n",
    "        \"\"\"\n",
    "        minv = float('inf')  # initialize the minv with infinity value\n",
    "        profit = 0\n",
    "        for v in prices:\n",
    "            dif = v - minv\n",
    "            if dif > 0:\n",
    "                profit = max(profit, dif)\n",
    "            else:\n",
    "                minv = v\n",
    "        return profit\n",
    "prices = []\n",
    "# prices = [7, 5, 3, 6, 4, 8, 1, 7]\n",
    "print Solution().maxProfit(prices)"
   ]
  },
  {
   "cell_type": "markdown",
   "metadata": {},
   "source": [
    "## 405. Convert a Number to Hexadecimal\n"
   ]
  },
  {
   "cell_type": "raw",
   "metadata": {},
   "source": [
    "Given an integer, write an algorithm to convert it to hexadecimal. For negative integer, two’s complement method is used.\n",
    "\n",
    "Note:\n",
    "\n",
    "All letters in hexadecimal (a-f) must be in lowercase.\n",
    "The hexadecimal string must not contain extra leading 0s. If the number is zero, it is represented by a single zero character '0'; otherwise, the first character in the hexadecimal string will not be the zero character.\n",
    "The given number is guaranteed to fit within the range of a 32-bit signed integer.\n",
    "You must not use any method provided by the library which converts/formats the number to hex directly.\n",
    "\n",
    "Example 1:\n",
    "Input:\n",
    "26\n",
    "Output:\n",
    "\"1a\"\n",
    "\n",
    "Example 2:\n",
    "\n",
    "Input:\n",
    "-1\n",
    "Output:\n",
    "\"ffffffff\""
   ]
  },
  {
   "cell_type": "markdown",
   "metadata": {},
   "source": [
    "### Method 1: math\n",
    "\n",
    "This problem is very similar to **504. Base 7**, just collecting the remainder step by step. The only diffrence is to calculate the negative number as two's complement (2^32 - n)"
   ]
  },
  {
   "cell_type": "code",
   "execution_count": null,
   "metadata": {
    "collapsed": false
   },
   "outputs": [],
   "source": [
    "class Solution(object):\n",
    "    def toHex(self, num):\n",
    "        \"\"\"\n",
    "        :type num: int\n",
    "        :rtype: str\n",
    "        \"\"\"\n",
    "        if num < 0:\n",
    "            num = 2**32 + num\n",
    "        res = ''\n",
    "        d = dict(zip(range(16), '0123456789abcdef'))\n",
    "        while num:\n",
    "            res = str(d[num%16]) + res\n",
    "            num /= 16\n",
    "        return res\n",
    "num = 256\n",
    "Solution().toHex(num)"
   ]
  },
  {
   "cell_type": "markdown",
   "metadata": {},
   "source": [
    "## 594. Longest Harmonious Subsequence\n"
   ]
  },
  {
   "cell_type": "raw",
   "metadata": {},
   "source": [
    "We define a harmonious array is an array where the difference between its maximum value and its minimum value is exactly 1.\n",
    "\n",
    "Now, given an integer array, you need to find the length of its longest harmonious subsequence among all its possible subsequences.\n",
    "\n",
    "Example 1:\n",
    "Input: [1,3,2,2,5,2,3,7]\n",
    "Output: 5\n",
    "Explanation: The longest harmonious subsequence is [3,2,2,2,3].\n",
    "\n",
    "Note: The length of the input array will not exceed 20,000."
   ]
  },
  {
   "cell_type": "markdown",
   "metadata": {},
   "source": [
    "### Method 1: dictionary counting\n",
    "\n",
    "+ count the frequencies of each value, and save them in a dictionary\n",
    "+ sort the dictionary keys\n",
    "+ check whether the difference between neighbouring keys is 1. \n",
    "+ If yes, sum up the frequencies for the two neighborning keys, and compare it with the recorded maximum result. If it is larger than the recorded value, replace the result with it. "
   ]
  },
  {
   "cell_type": "code",
   "execution_count": null,
   "metadata": {
    "collapsed": false
   },
   "outputs": [],
   "source": [
    "class Solution(object):\n",
    "    def findLHS(self, nums):\n",
    "        \"\"\"\n",
    "        :type nums: List[int]\n",
    "        :rtype: int\n",
    "        \"\"\"\n",
    "        d = {}\n",
    "        res = 0\n",
    "        for v in nums:\n",
    "            d[v] = d.get(v, 0) + 1\n",
    "        dk = (d.keys())\n",
    "        for i in range(len(dk) -1):\n",
    "            if dk[i+1] - dk[i] == 1:\n",
    "                res = max(res, d[dk[i+1]] + d[dk[i]])\n",
    "        return res\n",
    "nums = [1,3,2,2,5,2,3,7]\n",
    "print Solution().findLHS(nums)\n",
    "%timeit -n 1000 Solution().findLHS(nums)"
   ]
  },
  {
   "cell_type": "markdown",
   "metadata": {
    "collapsed": true
   },
   "source": [
    "## 202. Happy Number\n"
   ]
  },
  {
   "cell_type": "raw",
   "metadata": {
    "collapsed": true
   },
   "source": [
    "Write an algorithm to determine if a number is \"happy\".\n",
    "\n",
    "A happy number is a number defined by the following process: Starting with any positive integer, replace the number by the sum of the squares of its digits, and repeat the process until the number equals 1 (where it will stay), or it loops endlessly in a cycle which does not include 1. Those numbers for which this process ends in 1 are happy numbers.\n",
    "\n",
    "Example: 19 is a happy number\n",
    "\n",
    "1^2 + 9^2 = 82\n",
    "8^2 + 2^2 = 68\n",
    "6^2 + 8^2 = 100\n",
    "1^2 + 0^2 + 0^2 = 1"
   ]
  },
  {
   "cell_type": "markdown",
   "metadata": {},
   "source": [
    "### Method 1: while loop\n",
    "\n",
    "The key to solve this problem is to find out when to terminate the while loop. Otherwise, it will keep running forever. There is one obvious condition we should terminate the while loop -- sum of the digits equal to 1. There is another condition, which is not obvious -- when the number already visited appear again, which means that the loop will never stop. For example, if we have a number 16, how will the sum changes step by step?\n",
    "\n",
    "`16 -> 1^2 + 6^2 -> 37 -> 3^2 + 7^2 -> 58 ... -> 89 -> 145 -> 42 -> 20 -> 4 -> 16`\n",
    "\n",
    "We can see, the number 16 appears again at the end. In this condition, this loop will never end, because it will go through the loop again and again. As a result, we can create a list to store the number already visited. If these number appear again, we can stop the loop, and return a False output."
   ]
  },
  {
   "cell_type": "code",
   "execution_count": null,
   "metadata": {
    "collapsed": false,
    "scrolled": true
   },
   "outputs": [],
   "source": [
    "class Solution(object):\n",
    "    def isHappy(self, n):\n",
    "        \"\"\"\n",
    "        :type n: int\n",
    "        :rtype: bool\n",
    "        \"\"\"\n",
    "        l = []\n",
    "        while n not in l:\n",
    "            print n\n",
    "            l.append(n)\n",
    "            n = sum([int(v)**2 for v in str(n)])\n",
    "            if n == 1:\n",
    "                return True\n",
    "        return False\n",
    "n = 16\n",
    "Solution().isHappy(n)"
   ]
  },
  {
   "cell_type": "markdown",
   "metadata": {},
   "source": [
    "## 326. Power of Three\n"
   ]
  },
  {
   "cell_type": "raw",
   "metadata": {},
   "source": [
    "Given an integer, write a function to determine if it is a power of three.\n",
    "\n",
    "Follow up:\n",
    "Could you do it without using any loop / recursion?"
   ]
  },
  {
   "cell_type": "markdown",
   "metadata": {},
   "source": [
    "### Method 1: while loop\n",
    "\n",
    "+ dividie n by 3, and check whether the remainder is 0. If not zero, return False\n",
    "+ Otherwise, update n as n/3, and repeat step one again, until n < 3.\n",
    "+ if the final n is 1, return True"
   ]
  },
  {
   "cell_type": "code",
   "execution_count": null,
   "metadata": {
    "collapsed": false
   },
   "outputs": [],
   "source": [
    "class Solution(object):\n",
    "    def isPowerOfThree(self, n):\n",
    "        \"\"\"\n",
    "        :type n: int\n",
    "        :rtype: bool\n",
    "        \"\"\"\n",
    "        while n >= 3:\n",
    "            if n%3:\n",
    "                return False\n",
    "            n /= 3\n",
    "        return n == 1\n",
    "Solution().isPowerOfThree(243)"
   ]
  },
  {
   "cell_type": "markdown",
   "metadata": {},
   "source": [
    "### Method 2: Math\n",
    "\n",
    "This method needs to find out the maximal number that is a power of three first, which is `maxv = 3**19 (1162261467)`. Because `maxv` is a product of a series of 3s, it is only divisible by other numbers that are also a product of 3s. Thus, if `maxv % n == 0`, the number `n` is power of three. "
   ]
  },
  {
   "cell_type": "code",
   "execution_count": null,
   "metadata": {
    "collapsed": false
   },
   "outputs": [],
   "source": [
    "i = next(i for i in range(100) if 3**i > 2**31) - 1\n",
    "print i, 3**i"
   ]
  },
  {
   "cell_type": "code",
   "execution_count": null,
   "metadata": {
    "collapsed": false
   },
   "outputs": [],
   "source": [
    "class Solution(object):\n",
    "    def isPowerOfThree(self, n):\n",
    "        return not 1162261467%n\n",
    "Solution().isPowerOfThree(243)"
   ]
  },
  {
   "cell_type": "markdown",
   "metadata": {},
   "source": [
    "## 70. Climbing Stairs\n"
   ]
  },
  {
   "cell_type": "raw",
   "metadata": {},
   "source": [
    "You are climbing a stair case. It takes n steps to reach to the top.\n",
    "\n",
    "Each time you can either climb 1 or 2 steps. In how many distinct ways can you climb to the top?\n",
    "\n",
    "Note: Given n will be a positive integer."
   ]
  },
  {
   "cell_type": "markdown",
   "metadata": {},
   "source": [
    "### Method 1: for loop\n",
    "\n",
    "This is a mathematic problem. In order to reach step n, you need to either reach n-1 or n-2, because you can climb 1 or 2 steps at a time. So,\n",
    "\n",
    "**`f(n) = f(n-1) + f(n-2)`**\n",
    "\n",
    "when n = 1, we have one ways to finish it. When n = 2, we have two ways to finish it, which are (1, 1) or (2). So, this problem can be formulated into a recursive problem."
   ]
  },
  {
   "cell_type": "code",
   "execution_count": null,
   "metadata": {
    "collapsed": false
   },
   "outputs": [],
   "source": [
    "class Solution(object):\n",
    "    def climbStairs(self, n):\n",
    "        \"\"\"\n",
    "        :type n: int\n",
    "        :rtype: int\n",
    "        \"\"\"\n",
    "        if n == 1:\n",
    "            return 1\n",
    "        if n == 2:\n",
    "            return 2\n",
    "        prev, res = 1, 2\n",
    "        for i in range(3, n+1):\n",
    "            prev, res = res, prev+res\n",
    "        return res\n",
    "Solution().climbStairs(6)"
   ]
  },
  {
   "cell_type": "markdown",
   "metadata": {},
   "source": [
    "There are more solutions for this problem, using different methods: \n",
    "+ http://sahandsaba.com/five-ways-to-calculate-fibonacci-numbers-with-python-code.html.\n",
    "+ http://blog.richardkiss.com/?p=398\n",
    "\n",
    "For example, calculating the value directly using the approximate golder-ratio\n",
    "\\begin{equation*}\n",
    "F_n = \\lfloor \\frac{\\phi^n}{\\sqrt{5}} + \\frac{1}{2} \\rfloor.\n",
    "\\end{equation*}"
   ]
  },
  {
   "cell_type": "markdown",
   "metadata": {},
   "source": [
    "## 35. Search Insert Position\n"
   ]
  },
  {
   "cell_type": "raw",
   "metadata": {},
   "source": [
    "Given a sorted array and a target value, return the index if the target is found. If not, return the index where it would be if it were inserted in order.\n",
    "\n",
    "You may assume no duplicates in the array.\n",
    "\n",
    "Here are few examples.\n",
    "[1,3,5,6], 5 → 2\n",
    "[1,3,5,6], 2 → 1\n",
    "[1,3,5,6], 7 → 4\n",
    "[1,3,5,6], 0 → 0"
   ]
  },
  {
   "cell_type": "markdown",
   "metadata": {},
   "source": [
    "### Method 1: next & for\n",
    "\n",
    "This solution is straight forward, by finding the next number that is larger or equal to target."
   ]
  },
  {
   "cell_type": "code",
   "execution_count": null,
   "metadata": {
    "collapsed": false
   },
   "outputs": [],
   "source": [
    "class Solution(object):\n",
    "    def searchInsert(self, nums, target):\n",
    "        \"\"\"\n",
    "        :type nums: List[int]\n",
    "        :type target: int\n",
    "        :rtype: int\n",
    "        \"\"\"\n",
    "        return next((i for i in range(len(nums)) if nums[i] >= target), len(nums))\n",
    "nums = range(1000)\n",
    "target = 900.1\n",
    "print Solution().searchInsert(nums, target)\n",
    "%timeit -n 1000 Solution().searchInsert(nums, target)"
   ]
  },
  {
   "cell_type": "markdown",
   "metadata": {},
   "source": [
    "### Mehtod 2: middle point\n",
    "\n",
    "The complexity for the above method is O(n/2) becuase it need to go through the numbers one by one. One method to improve the above algorithm is to start from the mid-point, and then cut half every time, depending on whether target is larger or smaller than the mid-point. The time complexity for this method is O(logN).\n",
    "\n",
    "+ start from the **`mid`** point, which is calculated as **`(start + end) / 2`**\n",
    "+ update **`start and end`** according to the mid-point value:\n",
    "    + if target > mid-point: update **`start`** to **`mid + 1`**. \n",
    "    + If target < mid-point: update **`end`** to **`mid - 1`**\n",
    "    + if target == mid-point: return the **`mid`** position\n",
    "+ when **`start > end`**, stop the iternation, and return the **`start`** position. "
   ]
  },
  {
   "cell_type": "code",
   "execution_count": null,
   "metadata": {
    "collapsed": false
   },
   "outputs": [],
   "source": [
    "class Solution(object):\n",
    "    def searchInsert(self, nums, target):\n",
    "        start = 0\n",
    "        end = len(nums) -1\n",
    "        while start <= end:\n",
    "            mid = (start + end) / 2\n",
    "            print start, mid, end\n",
    "            if target > nums[mid]:\n",
    "                start = mid + 1\n",
    "            elif target < nums[mid]:\n",
    "                end = mid - 1\n",
    "            else: \n",
    "                print 'Exact match found. Last start, mid, end values:', start, mid, end\n",
    "                return mid\n",
    "        print 'In-between value found. Last start, mid, end values:', start, mid, end\n",
    "        return start\n",
    "    \n",
    "nums = range(1001)\n",
    "print 'target: 50'\n",
    "print Solution().searchInsert(nums, 50)\n",
    "print \n",
    "print 'target: 20.1'\n",
    "print Solution().searchInsert(nums, 20.1)"
   ]
  },
  {
   "cell_type": "markdown",
   "metadata": {},
   "source": [
    "## 53. Maximum Subarray\n"
   ]
  },
  {
   "cell_type": "raw",
   "metadata": {},
   "source": [
    "Find the contiguous subarray within an array (containing at least one number) which has the largest sum.\n",
    "\n",
    "For example, given the array [-2,1,-3,4,-1,2,1,-5,4],\n",
    "the contiguous subarray [4,-1,2,1] has the largest sum = 6.\n",
    "\n",
    "click to show more practice.\n",
    "\n",
    "More practice:\n",
    "If you have figured out the O(n) solution, try coding another solution using the divide and conquer approach, which is more subtle."
   ]
  },
  {
   "cell_type": "markdown",
   "metadata": {},
   "source": [
    "### Method 1: two temporal values\n",
    "\n",
    "The solution for this problem is not straight-forward. we need to set two temporal values to store the cumulative sum, and the maximum sum respectively. The idea behind this problem is that:\n",
    "\n",
    "+ initialize the cumulative sum **`cumsum`** and maximum sum **`maxsum`** values with the smallest possible value **`float('-inf')`**\n",
    "+ for each value **`v`** in the **`nums`** list, if **`cumsum > 0`**, we add **`v`** to it. Otherwise, we reset **`cumsum`** to **`v`**. The logic behind this is that we only want to carry on the previous values that can make positive contribution to the future sums. If the **`cumsum`** is already less than 0, it will only make the future sum smaller, if we carry it on.\n",
    "+ if **`cumsum`** is larger than the recorded **`maxsum`**, we replace **`maxsum`** with **`cumsum`**. \n",
    "\n",
    "By using two temporal values,we can keep the cumulative sume rolling, and record the new maximum sum, when the old record is broken. "
   ]
  },
  {
   "cell_type": "raw",
   "metadata": {
    "collapsed": false
   },
   "source": [
    "class Solution(object):\n",
    "    def maxSubArray(self, nums):\n",
    "        \"\"\"\n",
    "        :type nums: List[int]\n",
    "        :rtype: int\n",
    "        \"\"\"\n",
    "        cumsum = maxsum = float('-inf')\n",
    "        for v in nums:\n",
    "            cumsum = cumsum + v if cumsum > 0 else v\n",
    "            if cumsum > maxsum:\n",
    "                maxsum = cumsum\n",
    "            print cumsum, maxsum\n",
    "        return maxsum\n",
    "    \n",
    "nums = [-2,1,-1,2,1,-5, -6, 1]\n",
    "# nums = [8,-19,5,-4,20]\n",
    "# nums = [-1, -2]\n",
    "Solution().maxSubArray(nums)"
   ]
  },
  {
   "cell_type": "markdown",
   "metadata": {},
   "source": [
    "## 263. Ugly Number\n"
   ]
  },
  {
   "cell_type": "markdown",
   "metadata": {},
   "source": [
    "Write a program to check whether a given number is an ugly number.\n",
    "\n",
    "Ugly numbers are positive numbers whose prime factors only include 2, 3, 5. For example, 6, 8 are ugly while 14 is not ugly since it includes another prime factor 7.\n",
    "\n",
    "Note that 1 is typically treated as an ugly numbe"
   ]
  },
  {
   "cell_type": "markdown",
   "metadata": {},
   "source": [
    "### Method 1: if ... else\n",
    "\n",
    "This is straigh-forward, but potentially we may have a lot of if ... elif...else statements, if the factor include more numbers"
   ]
  },
  {
   "cell_type": "code",
   "execution_count": null,
   "metadata": {
    "collapsed": false
   },
   "outputs": [],
   "source": [
    "class Solution(object):\n",
    "    def isUgly(self, num):\n",
    "        \"\"\"\n",
    "        :type num: int\n",
    "        :rtype: bool\n",
    "        \"\"\"\n",
    "        if num <= 0:\n",
    "            return False\n",
    "        while num > 5:\n",
    "            if num%2 == 0:\n",
    "                num /= 2\n",
    "            elif num%3 == 0:\n",
    "                num /= 3\n",
    "            elif num%5 == 0:\n",
    "                num /=5 \n",
    "            else:\n",
    "                return False\n",
    "        return True\n",
    "Solution().isUgly(128*3*5)"
   ]
  },
  {
   "cell_type": "markdown",
   "metadata": {},
   "source": [
    "### Method 2: for & while"
   ]
  },
  {
   "cell_type": "code",
   "execution_count": null,
   "metadata": {
    "collapsed": false
   },
   "outputs": [],
   "source": [
    "class Solution(object):\n",
    "    def isUgly(self, num):\n",
    "        if num <= 0:\n",
    "            return False\n",
    "        for v in [2, 3, 5]:\n",
    "            while num%v == 0:\n",
    "                num /= v\n",
    "        return num == 1\n",
    "Solution().isUgly(128*3*5)"
   ]
  },
  {
   "cell_type": "markdown",
   "metadata": {},
   "source": [
    "## 27. Remove Element\n"
   ]
  },
  {
   "cell_type": "raw",
   "metadata": {},
   "source": [
    "Given an array and a value, remove all instances of that value in place and return the new length.\n",
    "\n",
    "Do not allocate extra space for another array, you must do this in place with constant memory.\n",
    "\n",
    "The order of elements can be changed. It doesn't matter what you leave beyond the new length.\n",
    "\n",
    "Example:\n",
    "Given input array nums = [3,2,2,3], val = 3\n",
    "\n",
    "Your function should return length = 2, with the first two elements of nums being 2."
   ]
  },
  {
   "cell_type": "markdown",
   "metadata": {},
   "source": [
    "### Mehtod 1: pointer & while\n",
    "\n",
    "This problem is tricky, because it will fail if you use the for loop. Because the values in the list will move ahead, when some target values are removed. As a result, some of the values will be skipped, when the iterator keep moving forward. Thus, we need to use a pointer to record where the current position is, so that we don't skip any number. "
   ]
  },
  {
   "cell_type": "code",
   "execution_count": null,
   "metadata": {
    "collapsed": false
   },
   "outputs": [],
   "source": [
    "class Solution(object):\n",
    "    def removeElement(self, nums, val):\n",
    "        \"\"\"\n",
    "        :type nums: List[int]\n",
    "        :type val: int\n",
    "        :rtype: int\n",
    "        \"\"\"\n",
    "        p = 0\n",
    "        removed = 0\n",
    "        ln = len(nums)\n",
    "        while p + removed != ln:\n",
    "            if nums[p] == val:\n",
    "                nums.remove(val)\n",
    "                removed += 1\n",
    "            else:\n",
    "                p += 1\n",
    "nums = [3, 2, 2, 3]\n",
    "Solution().removeElement(nums, 3)\n",
    "nums"
   ]
  },
  {
   "cell_type": "markdown",
   "metadata": {
    "collapsed": false
   },
   "source": [
    "## 198. House Robber\n"
   ]
  },
  {
   "cell_type": "raw",
   "metadata": {},
   "source": [
    "You are a professional robber planning to rob houses along a street. Each house has a certain amount of money stashed, the only constraint stopping you from robbing each of them is that adjacent houses have security system connected and it will automatically contact the police if two adjacent houses were broken into on the same night.\n",
    "\n",
    "Given a list of non-negative integers representing the amount of money of each house, determine the maximum amount of money you can rob tonight without alerting the police."
   ]
  },
  {
   "cell_type": "markdown",
   "metadata": {},
   "source": [
    "### Method 1: recursion with memory\n",
    "\n",
    "This solution for this problem is not straight forward. Basically, it is based on the following recursion: \n",
    "https://discuss.leetcode.com/topic/17199/python-solution-3-lines \n",
    "\n",
    "+ `f(0) = nums[0]`\n",
    "+ `f(1) = max(num[0], num[1])`\n",
    "+ `f(k) = max(f(k-2) + nums[k], f(k-1))`\n",
    "\n",
    "It is important to understand why `f(k) = max(f(k-2) + nums[k], f(k-1))`.\n",
    "+ Let's begin with three numbers: [1, 3, 4]. It is easy to find the maximum sum for f(0), f(1),and f(2), when the list only include 1, 2, and 3 numbers:\n",
    "    + `f(0) = 1`\n",
    "    + `f(1) = max(1, 3) = 3`\n",
    "    + `f(2) = max(1 + 4, 3) = 5`\n",
    "+ If we add another number **2** to the list (ending up with [1, 3, 4, 2]), we have two ways to recalculate the maximum sum:\n",
    "    + if we ignore **2**, then the maximum sum is just **`f(2)`**\n",
    "    + if we include **2**, we must exclude the value before **2**, because we can't rob two consecutive houses. The list is then broken into two parts: [1, 4] and [2]. Because [1, 4] is not consecutive with [2], we can sum up **2** and the maximum value from [1, 4], whcih is **`2 + f(1)`**\n",
    "    \n",
    "Now, let's have a look at the complete steps how we get the maximum sum for the list [1, 3, 4, 2, 5]\n",
    "+ `f(0) = 1`\n",
    "+ `f(1) = max(1, 3) = 3`\n",
    "+ `f(2) = max(f(0) + 4, f(1)) = max(5, 1) = 5`\n",
    "+ `f(3) = max(f(1) + 2, f(2)) = max(5, 5) = 5`\n",
    "+ `f(4) = max(f(2) + 5, f(3)) = max(10, 5) = 10`\n",
    "\n",
    "If we use the recursion method directly, the algorithm is very slow, because the functions will be repeated a lot of time without memory. A small trick here is to remember the f(x) we already run into using a dictionary, so that we don't need to repeat the runs again and again. This trick can help to reduce the computation time substantially."
   ]
  },
  {
   "cell_type": "code",
   "execution_count": null,
   "metadata": {
    "collapsed": false
   },
   "outputs": [],
   "source": [
    "class Solution(object):\n",
    "    def rob(self, nums):\n",
    "        ln = len(nums) - 1\n",
    "        if ln < 2:\n",
    "            return max(nums)\n",
    "        memory = {0: nums[0], 1: max(nums[0], nums[1])}\n",
    "        def _rob(i):\n",
    "            # print memory\n",
    "            if i not in memory:\n",
    "                memory[i] = max(_rob(i-2) + nums[i], _rob(i-1))\n",
    "            return memory[i]  # This is very important. If nothing return, the recursion won't work\n",
    "        return _rob(ln)\n",
    "nums = range(100)\n",
    "print Solution().rob(nums)\n",
    "%timeit -n 1000 Solution().rob(nums)"
   ]
  },
  {
   "cell_type": "markdown",
   "metadata": {},
   "source": [
    "### Method 2: for loop\n",
    "\n",
    "Based on the iteration steps, the algorithm can also be easily written as a for loop, which runs even faster."
   ]
  },
  {
   "cell_type": "code",
   "execution_count": null,
   "metadata": {
    "collapsed": false
   },
   "outputs": [],
   "source": [
    "class Solution(object):\n",
    "    def rob(self, nums):\n",
    "        \"\"\"\n",
    "        :type nums: List[int]\n",
    "        :rtype: int\n",
    "        \"\"\"\n",
    "        last, now = 0, 0\n",
    "        for i in nums: \n",
    "            last, now = now, max(last + i, now)\n",
    "            # print last, i, now\n",
    "        return now\n",
    "nums = range(100)\n",
    "print Solution().rob(nums)\n",
    "%timeit -n 1000 Solution().rob(nums)"
   ]
  },
  {
   "cell_type": "markdown",
   "metadata": {
    "collapsed": true
   },
   "source": [
    "## 5. Longest Palindromic Substring\n"
   ]
  },
  {
   "cell_type": "raw",
   "metadata": {},
   "source": [
    "Given a string s, find the longest palindromic substring in s. You may assume that the maximum length of s is 1000.\n",
    "\n",
    "Example:\n",
    "\n",
    "Input: \"babad\"\n",
    "\n",
    "Output: \"bab\"\n",
    "\n",
    "Note: \"aba\" is also a valid answer.\n",
    "Example:\n",
    "\n",
    "Input: \"cbbd\"\n",
    "\n",
    "Output: \"bb\""
   ]
  },
  {
   "cell_type": "markdown",
   "metadata": {},
   "source": [
    "### Method 1: for & two pointers\n",
    "\n",
    "There is no trick about this problem. We have to go through the letters one by one, and look for the palindrome centered around each letter. Using method 1, we go through all letters in the for rule, and then use two pointers (pr representing right end of the palindrome, and pl representing the left end) to explore the longest palindrome surrounding the center letter. "
   ]
  },
  {
   "cell_type": "code",
   "execution_count": null,
   "metadata": {
    "collapsed": false
   },
   "outputs": [],
   "source": [
    "class Solution(object):\n",
    "    def longestPalindrome(self, s):\n",
    "        \"\"\"\n",
    "        :type s: str\n",
    "        :rtype: str\n",
    "        \"\"\"\n",
    "        ls = len(s)\n",
    "        maxs = s[0] if s else ''\n",
    "        for i in range(ls-1):\n",
    "            pl = pr = i\n",
    "            while pr < ls-1 and s[pr] == s[pr+1]:\n",
    "                pr +=1\n",
    "            while pl > 0 and pr < ls-1:\n",
    "                if s[pr+1] == s[pl-1]:\n",
    "                    pr += 1\n",
    "                    pl -= 1\n",
    "                else:\n",
    "                    break\n",
    "            if pr - pl + 1 > len(maxs):\n",
    "                maxs = s[pl:pr+1]\n",
    "            print i, s[i], maxs\n",
    "        return maxs\n",
    "s = 'abcddddcbaefg'\n",
    "print Solution().longestPalindrome(s)\n",
    "# %timeit -n 1000 Solution().longestPalindrome(s)"
   ]
  },
  {
   "cell_type": "markdown",
   "metadata": {},
   "source": [
    "### Method 2: three pointers\n",
    "\n",
    "In method 2, we remove the for loop, and add another pointer to point to the center of the letter, and add several subtle constrols to make the program runs faster:\n",
    "\n",
    "+ stop the iteration, if the (number of left characters * 2 - 1, which represents the longest possible palindrome) is shorter than maxs\n",
    "+ if the consecutive letters are the same, we keep moving **`i`** ahead, so that we don't need to repeat the search for the same letters multiple times. This is because we can treat the same consecutive letters (e.g., **aaaa**) in a palindrome (e.g., **baaaab**) as a whole. \n",
    "+ for each character, we start the searching position based on the recorded longest palindrome. For example, if the longest recorded palindrome is 11 characters, then in the next round, we check whether **`s[i-6: i+6]`** is palindrome. By doing this, we don't need to start from **`s[i-1: i+1]`**, thus it can save a lot of time.\n"
   ]
  },
  {
   "cell_type": "code",
   "execution_count": null,
   "metadata": {
    "collapsed": false
   },
   "outputs": [],
   "source": [
    "class Solution(object):\n",
    "    def longestPalindrome(self, s):\n",
    "        \"\"\"\n",
    "        :type s: str\n",
    "        :rtype: str\n",
    "        \"\"\"\n",
    "        ls = len(s)\n",
    "        maxs = ''\n",
    "        i = 0\n",
    "        while 2 * (ls - i) - 1 > len(maxs): # stop the iteration, if the (left character * 2 - 1) is shorter than maxs\n",
    "            pl = pr = i\n",
    "            # move the current index (i) and the right pointer (pr), if the consecutive letters are the same\n",
    "            while pr < ls - 1 and s[pr] == s[pr + 1]:\n",
    "                i += 1\n",
    "                pr += 1\n",
    "            \n",
    "            # move left and right pointers, so that the substring between them is longer than maxs\n",
    "            dif = len(maxs) - (pr - pl)\n",
    "            if dif > 0: \n",
    "                dif += dif%2\n",
    "                pl, pr = pl - dif/2, pr + dif/2\n",
    "                \n",
    "            # check whether the substring is palindrome. \n",
    "            # If yes, try to further extend it, and then replace maxs with the new palindrome\n",
    "            if s[pl:pr+1] == s[pr:(pl-1 if pl > 0 else None):-1]:\n",
    "                while pl > 0 and pr < ls -1 and s[pl-1] == s[pr+1]:\n",
    "                    pl -= 1\n",
    "                    pr += 1\n",
    "                maxs = s[pl:pr+1]\n",
    "            print i, maxs\n",
    "            i += 1\n",
    "        return maxs\n",
    "s = 'abcddddcbaefg'\n",
    "print Solution().longestPalindrome(s)  # see how it jumps from 2 to 6 when dddd appear, and how it stop at i = 7, even though there are still several letters left."
   ]
  },
  {
   "cell_type": "markdown",
   "metadata": {
    "collapsed": false
   },
   "source": [
    "## 4. Median of Two Sorted Arrays"
   ]
  },
  {
   "cell_type": "raw",
   "metadata": {},
   "source": [
    "There are two sorted arrays nums1 and nums2 of size m and n respectively.\n",
    "\n",
    "Find the median of the two sorted arrays. The overall run time complexity should be O(log (m+n)).\n",
    "\n",
    "Example 1:\n",
    "nums1 = [1, 3]\n",
    "nums2 = [2]\n",
    "\n",
    "The median is 2.0\n",
    "Example 2:\n",
    "nums1 = [1, 2]\n",
    "nums2 = [3, 4]\n",
    "\n",
    "The median is (2 + 3)/2 = 2.5"
   ]
  },
  {
   "cell_type": "code",
   "execution_count": null,
   "metadata": {
    "collapsed": true
   },
   "outputs": [],
   "source": [
    "class Solution(object):\n",
    "    def findMedianSortedArrays(self, nums1, nums2):\n",
    "        \"\"\"\n",
    "        :type nums1: List[int]\n",
    "        :type nums2: List[int]\n",
    "        :rtype: float\n",
    "        \"\"\"\n",
    "        def findMed(nums1, nums2):\n",
    "            med = nums1[ln1/2] if ln1%2 else (nums1[ln1/2-1] + nums1[ln1/2])/2\n",
    "            start = 0\n",
    "            end = length(nums1)\n",
    "            while start <= end:\n",
    "                mid = (start + end) / 2\n",
    "                if nums"
   ]
  },
  {
   "cell_type": "code",
   "execution_count": null,
   "metadata": {
    "collapsed": false
   },
   "outputs": [],
   "source": [
    "nums1 = [1, 3, 5, 27, 29]\n",
    "nums2= [16, 18, 20]\n",
    "[1, 2, 3, 3, 4, 5, 7, 9]\n",
    "\n",
    "ln1 = len(nums1)\n",
    "ln2 = len(nums2)\n",
    "med1 = nums1[ln1/2] if ln1%2 else (nums1[ln1/2-1] + nums1[ln1/2])/2\n",
    "med2 = nums2[ln2/2] if ln2%2 else (nums2[ln2/2-1] + nums2[ln2/2])/2\n",
    "print med1, med2\n",
    "\n"
   ]
  },
  {
   "cell_type": "code",
   "execution_count": null,
   "metadata": {
    "collapsed": true
   },
   "outputs": [],
   "source": []
  },
  {
   "cell_type": "code",
   "execution_count": null,
   "metadata": {
    "collapsed": false
   },
   "outputs": [],
   "source": [
    "class Solution(object):\n",
    "    def longestCommonPrefix(self, strs):\n",
    "        \"\"\"\n",
    "        :type strs: List[str]\n",
    "        :rtype: str\n",
    "        \"\"\"\n",
    "        i, res = 0, ''\n",
    "        while len(strs) > 0:\n",
    "            for v in strs:\n",
    "                if len(v) < i + 1 or v[i] != strs[0][i]:\n",
    "                    return res\n",
    "            res += strs[0][i]\n",
    "            i += 1\n",
    "        return res\n",
    "    \n",
    "print Solution().longestCommonPrefix(['abc', 'ab', 'a'])\n",
    "Solution().longestCommonPrefix(['aa'])"
   ]
  },
  {
   "cell_type": "markdown",
   "metadata": {},
   "source": [
    "## 15. 3Sum\n"
   ]
  },
  {
   "cell_type": "raw",
   "metadata": {},
   "source": [
    "Given an array S of n integers, are there elements a, b, c in S such that a + b + c = 0? Find all unique triplets in the array which gives the sum of zero.\n",
    "\n",
    "Note: The solution set must not contain duplicate triplets.\n",
    "\n",
    "For example, given array S = [-1, 0, 1, 2, -1, -4],\n",
    "\n",
    "A solution set is:\n",
    "[\n",
    "  [-1, 0, 1],\n",
    "  [-1, -1, 2]\n",
    "]"
   ]
  },
  {
   "cell_type": "code",
   "execution_count": null,
   "metadata": {
    "collapsed": false,
    "scrolled": true
   },
   "outputs": [],
   "source": [
    "class Solution(object):\n",
    "    def threeSum(self, nums):\n",
    "        \"\"\"\n",
    "        :type nums: List[int]\n",
    "        :rtype: List[List[int]]\n",
    "        \"\"\"\n",
    "        ln = len(nums)\n",
    "        if ln < 3:\n",
    "            return []\n",
    "        nums.sort()\n",
    "        a, b, c = 0, 1, 2\n",
    "        res = set()\n",
    "        d = {}\n",
    "        for i, v in enumerate(nums):\n",
    "            d[v] = d.get(v, []) + [i]\n",
    "        for i in range(ln - 2):\n",
    "            for j in range(i + 1, ln - 1):\n",
    "                two_sum = nums[i] + nums[j]\n",
    "                if two_sum > 0:\n",
    "                    break\n",
    "                k = d.get(-two_sum, [0])[-1]\n",
    "                if k > j:\n",
    "                    res.add((nums[i], nums[j], nums[k]))\n",
    "        return [list(v) for v in res]\n",
    "nums = [-1, 0, 1, 2, -1, -4]\n",
    "nums = [-2, -1, -1, 0, 0, 0, 0, 0, 0,  0, 0, 0, 0, 0, 0, 0, 0, 0, 0, 0, 0, 0, 0, 0, 0, 0, 0, 0, 0, 0, 0, 0, 0, 1, 2, 3, 4]\n",
    "Solution().threeSum(nums)\n",
    "%timeit -n 1000 Solution().threeSum(nums)"
   ]
  },
  {
   "cell_type": "code",
   "execution_count": null,
   "metadata": {
    "collapsed": false
   },
   "outputs": [],
   "source": [
    "class Solution(object):\n",
    "    def threeSum(self, nums):\n",
    "        ln = len(nums)\n",
    "        if ln < 3:\n",
    "            return []\n",
    "        nums.sort()\n",
    "        res = set()\n",
    "        d = {}\n",
    "        for i, v in enumerate(nums):\n",
    "            d[v] = i  # save the maximum index of each i\n",
    "        i = 0\n",
    "        while i < ln - 2 and nums[i] <= 0:\n",
    "            j = i + 1\n",
    "            while j < ln-2 and nums[j] == nums[j+2]:\n",
    "                j += 1\n",
    "            while j < ln-1 and nums[i] + nums[j] <= 0:\n",
    "                k = d.get(-(nums[i] + nums[j]), 0)\n",
    "                if k > j:\n",
    "                    res.add((nums[i], nums[j], nums[k]))\n",
    "                j += 1\n",
    "            while i < ln-2 and nums[i] == nums[i+2]:\n",
    "                i += 1\n",
    "            i += 1\n",
    "        return [list(v) for v in res]\n",
    "nums = [-1, 0, 1, 2, -1, -4]\n",
    "nums = [-2, -1, -1, 0, 0, 0, 1, 2, 3, 4]\n",
    "nums = [-2, -1, -1, 0, 0, 0, 0, 0, 0,  0, 0, 0, 0, 0, 0, 0, 0, 0, 0, 0, 0, 0, 0, 0, 0, 0, 0, 0, 0, 0, 0, 0, 0, 1, 2, 3, 4]\n",
    "print Solution().threeSum(nums)\n",
    "%timeit -n 1000 Solution().threeSum(nums)"
   ]
  },
  {
   "cell_type": "code",
   "execution_count": null,
   "metadata": {
    "collapsed": false
   },
   "outputs": [],
   "source": [
    "class Solution(object):\n",
    "    def threeSum(self, nums):\n",
    "        ln = len(nums)\n",
    "        if ln < 3:\n",
    "            return []\n",
    "        nums.sort()\n",
    "        res = []\n",
    "        d = {}\n",
    "        for i, v in enumerate(nums):\n",
    "            d[v] = i  # save the maximum index of each i\n",
    "        for i in range(ln-2):\n",
    "            if nums[i] > 0:\n",
    "                return res\n",
    "            if i > 0 and nums[i] == nums[i-1]:\n",
    "                continue\n",
    "            j = i + 1\n",
    "            while j < ln-1 and nums[i] + nums[j] <= 0:\n",
    "                k = d.get(-(nums[i] + nums[j]), 0)\n",
    "                if k > j:\n",
    "                    res.append([nums[i], nums[j], nums[k]])\n",
    "                # int i, j, nums[i], nums[j], res\n",
    "                while j < ln-1 and nums[j] == nums[j+1]:\n",
    "                    j += 1\n",
    "                j += 1\n",
    "        return res\n",
    "nums = [-1, 0, 1, 2, -1, -4]\n",
    "nums = [-2, -1, -1, 0, 0, 0, 1, 2, 3, 4]\n",
    "nums = [-2, -1, -1, 0, 0, 0, 0, 0, 0,  0, 0, 0, 0, 0, 0, 0, 0, 0, 0, 0, 0, 0, 0, 0, 0, 0, 0, 0, 0, 0, 0, 0, 0, 1, 2, 3, 4]\n",
    "print Solution().threeSum(nums)\n",
    "%timeit -n 1000 Solution().threeSum(nums)"
   ]
  }
 ],
 "metadata": {
  "anaconda-cloud": {},
  "kernelspec": {
   "display_name": "Python [default]",
   "language": "python",
   "name": "python2"
  },
  "language_info": {
   "codemirror_mode": {
    "name": "ipython",
    "version": 2
   },
   "file_extension": ".py",
   "mimetype": "text/x-python",
   "name": "python",
   "nbconvert_exporter": "python",
   "pygments_lexer": "ipython2",
   "version": "2.7.12"
  },
  "toc": {
   "colors": {
    "hover_highlight": "#DAA520",
    "navigate_num": "#000000",
    "navigate_text": "#333333",
    "running_highlight": "#FF0000",
    "selected_highlight": "#FFD700",
    "sidebar_border": "#EEEEEE",
    "wrapper_background": "#FFFFFF"
   },
   "moveMenuLeft": true,
   "nav_menu": {
    "height": "758px",
    "width": "239px"
   },
   "navigate_menu": true,
   "number_sections": false,
   "sideBar": true,
   "threshold": 4,
   "toc_cell": false,
   "toc_position": {
    "height": "838px",
    "left": "0px",
    "right": "1468px",
    "top": "106px",
    "width": "285px"
   },
   "toc_section_display": "block",
   "toc_window_display": true,
   "widenNotebook": false
  }
 },
 "nbformat": 4,
 "nbformat_minor": 1
}
